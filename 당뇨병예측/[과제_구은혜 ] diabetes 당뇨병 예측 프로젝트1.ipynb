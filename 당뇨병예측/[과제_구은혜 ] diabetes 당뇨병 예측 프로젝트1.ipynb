{
 "cells": [
  {
   "cell_type": "markdown",
   "id": "09b6fe59",
   "metadata": {},
   "source": [
    "# 데이터 가져오기"
   ]
  },
  {
   "cell_type": "code",
   "execution_count": 1,
   "id": "92cba5f5",
   "metadata": {},
   "outputs": [],
   "source": [
    "import numpy as np\n",
    "import pandas as pd\n",
    "import tensorflow as tf\n"
   ]
  },
  {
   "cell_type": "code",
   "execution_count": 8,
   "id": "f886677f",
   "metadata": {},
   "outputs": [
    {
     "data": {
      "text/html": [
       "<div>\n",
       "<style scoped>\n",
       "    .dataframe tbody tr th:only-of-type {\n",
       "        vertical-align: middle;\n",
       "    }\n",
       "\n",
       "    .dataframe tbody tr th {\n",
       "        vertical-align: top;\n",
       "    }\n",
       "\n",
       "    .dataframe thead th {\n",
       "        text-align: right;\n",
       "    }\n",
       "</style>\n",
       "<table border=\"1\" class=\"dataframe\">\n",
       "  <thead>\n",
       "    <tr style=\"text-align: right;\">\n",
       "      <th></th>\n",
       "      <th>Pregnancies</th>\n",
       "      <th>Glucose</th>\n",
       "      <th>BloodPressure</th>\n",
       "      <th>SkinThickness</th>\n",
       "      <th>Insulin</th>\n",
       "      <th>BMI</th>\n",
       "      <th>DiabetesPedigreeFunction</th>\n",
       "      <th>Age</th>\n",
       "      <th>Outcome</th>\n",
       "    </tr>\n",
       "  </thead>\n",
       "  <tbody>\n",
       "    <tr>\n",
       "      <th>0</th>\n",
       "      <td>6</td>\n",
       "      <td>148</td>\n",
       "      <td>72</td>\n",
       "      <td>35</td>\n",
       "      <td>0</td>\n",
       "      <td>33.6</td>\n",
       "      <td>0.627</td>\n",
       "      <td>50</td>\n",
       "      <td>1</td>\n",
       "    </tr>\n",
       "    <tr>\n",
       "      <th>1</th>\n",
       "      <td>1</td>\n",
       "      <td>85</td>\n",
       "      <td>66</td>\n",
       "      <td>29</td>\n",
       "      <td>0</td>\n",
       "      <td>26.6</td>\n",
       "      <td>0.351</td>\n",
       "      <td>31</td>\n",
       "      <td>0</td>\n",
       "    </tr>\n",
       "    <tr>\n",
       "      <th>2</th>\n",
       "      <td>8</td>\n",
       "      <td>183</td>\n",
       "      <td>64</td>\n",
       "      <td>0</td>\n",
       "      <td>0</td>\n",
       "      <td>23.3</td>\n",
       "      <td>0.672</td>\n",
       "      <td>32</td>\n",
       "      <td>1</td>\n",
       "    </tr>\n",
       "    <tr>\n",
       "      <th>3</th>\n",
       "      <td>1</td>\n",
       "      <td>89</td>\n",
       "      <td>66</td>\n",
       "      <td>23</td>\n",
       "      <td>94</td>\n",
       "      <td>28.1</td>\n",
       "      <td>0.167</td>\n",
       "      <td>21</td>\n",
       "      <td>0</td>\n",
       "    </tr>\n",
       "    <tr>\n",
       "      <th>4</th>\n",
       "      <td>0</td>\n",
       "      <td>137</td>\n",
       "      <td>40</td>\n",
       "      <td>35</td>\n",
       "      <td>168</td>\n",
       "      <td>43.1</td>\n",
       "      <td>2.288</td>\n",
       "      <td>33</td>\n",
       "      <td>1</td>\n",
       "    </tr>\n",
       "  </tbody>\n",
       "</table>\n",
       "</div>"
      ],
      "text/plain": [
       "   Pregnancies  Glucose  BloodPressure  SkinThickness  Insulin   BMI  \\\n",
       "0            6      148             72             35        0  33.6   \n",
       "1            1       85             66             29        0  26.6   \n",
       "2            8      183             64              0        0  23.3   \n",
       "3            1       89             66             23       94  28.1   \n",
       "4            0      137             40             35      168  43.1   \n",
       "\n",
       "   DiabetesPedigreeFunction  Age  Outcome  \n",
       "0                     0.627   50        1  \n",
       "1                     0.351   31        0  \n",
       "2                     0.672   32        1  \n",
       "3                     0.167   21        0  \n",
       "4                     2.288   33        1  "
      ]
     },
     "execution_count": 8,
     "metadata": {},
     "output_type": "execute_result"
    }
   ],
   "source": [
    "data = pd.read_csv('diabetes.csv')\n",
    "data.head()"
   ]
  },
  {
   "cell_type": "markdown",
   "id": "497c6723",
   "metadata": {},
   "source": [
    "# 데이터 전처리"
   ]
  },
  {
   "cell_type": "markdown",
   "id": "2961f607",
   "metadata": {},
   "source": [
    "## null값 제거"
   ]
  },
  {
   "cell_type": "code",
   "execution_count": 9,
   "id": "19c3546f",
   "metadata": {},
   "outputs": [],
   "source": [
    "data = data.dropna()  # null 값 제거"
   ]
  },
  {
   "cell_type": "markdown",
   "id": "c73a8c03",
   "metadata": {},
   "source": [
    "## X,Y 데이터 설정"
   ]
  },
  {
   "cell_type": "code",
   "execution_count": 10,
   "id": "da9d1902",
   "metadata": {},
   "outputs": [
    {
     "name": "stdout",
     "output_type": "stream",
     "text": [
      "[[  6.    148.     72.    ...  33.6     0.627  50.   ]\n",
      " [  1.     85.     66.    ...  26.6     0.351  31.   ]\n",
      " [  8.    183.     64.    ...  23.3     0.672  32.   ]\n",
      " ...\n",
      " [  5.    121.     72.    ...  26.2     0.245  30.   ]\n",
      " [  1.    126.     60.    ...  30.1     0.349  47.   ]\n",
      " [  1.     93.     70.    ...  30.4     0.315  23.   ]]\n"
     ]
    }
   ],
   "source": [
    "X = data.drop(['Outcome'],axis = 1)\n",
    "X.head()\n",
    "X = np.asarray(X)\n",
    "print(X)"
   ]
  },
  {
   "cell_type": "code",
   "execution_count": 11,
   "id": "7ed0f911",
   "metadata": {},
   "outputs": [
    {
     "data": {
      "text/plain": [
       "768"
      ]
     },
     "execution_count": 11,
     "metadata": {},
     "output_type": "execute_result"
    }
   ],
   "source": [
    "len(X)"
   ]
  },
  {
   "cell_type": "code",
   "execution_count": 13,
   "id": "c770e3d3",
   "metadata": {},
   "outputs": [
    {
     "data": {
      "text/plain": [
       "1"
      ]
     },
     "execution_count": 13,
     "metadata": {},
     "output_type": "execute_result"
    }
   ],
   "source": [
    "Y = data['Outcome'].values\n",
    "Y = np.asarray(Y)\n",
    "np.min(X,axis =0)\n",
    "np.max(Y,axis = 0)"
   ]
  },
  {
   "cell_type": "markdown",
   "id": "41ed3e10",
   "metadata": {},
   "source": [
    "## 데이터 노멀라이즈\n"
   ]
  },
  {
   "cell_type": "code",
   "execution_count": 14,
   "id": "94e2a147",
   "metadata": {},
   "outputs": [
    {
     "data": {
      "text/plain": [
       "array([[0.35294118, 0.74371859, 0.59016393, ..., 0.50074516, 0.23441503,\n",
       "        0.48333333],\n",
       "       [0.05882353, 0.42713568, 0.54098361, ..., 0.39642325, 0.11656704,\n",
       "        0.16666667],\n",
       "       [0.47058824, 0.91959799, 0.52459016, ..., 0.34724292, 0.25362938,\n",
       "        0.18333333],\n",
       "       ...,\n",
       "       [0.29411765, 0.6080402 , 0.59016393, ..., 0.390462  , 0.07130658,\n",
       "        0.15      ],\n",
       "       [0.05882353, 0.63316583, 0.49180328, ..., 0.4485842 , 0.11571307,\n",
       "        0.43333333],\n",
       "       [0.05882353, 0.46733668, 0.57377049, ..., 0.45305514, 0.10119556,\n",
       "        0.03333333]])"
      ]
     },
     "execution_count": 14,
     "metadata": {},
     "output_type": "execute_result"
    }
   ],
   "source": [
    "# 데이터 노멀라이즈\n",
    "X = ((X - np.min(X, axis = 0)) / (np.max(X, axis = 0) - np.min(X, axis = 0)))\n",
    "X"
   ]
  },
  {
   "cell_type": "markdown",
   "id": "43a41c59",
   "metadata": {},
   "source": [
    "## 훈련용 테스트용 데이터 분리"
   ]
  },
  {
   "cell_type": "code",
   "execution_count": 15,
   "id": "f8d6886e",
   "metadata": {},
   "outputs": [],
   "source": [
    "train_x = X[:int(len(X) * 0.8)]\n",
    "train_y = Y[:int(len(X) * 0.8)]\n",
    "test_x = X[int(len(X) * 0.8):]\n",
    "test_y = Y[int(len(X) * 0.8):]"
   ]
  },
  {
   "cell_type": "code",
   "execution_count": 17,
   "id": "175c905e",
   "metadata": {},
   "outputs": [
    {
     "name": "stdout",
     "output_type": "stream",
     "text": [
      "train x 데이터 : (614, 8)\n",
      "train y 데이터 : (614,)\n",
      "validation x 데이터 : (154, 8)\n",
      "validation \by 데이터 : (154,)\n"
     ]
    }
   ],
   "source": [
    "print(\"train x 데이터 :\" , train_x.shape)\n",
    "print(\"train y 데이터 :\" , train_y.shape)\n",
    "print(\"validation x 데이터 :\" , test_x.shape)\n",
    "print(\"validation \by 데이터 :\" , test_y.shape)"
   ]
  },
  {
   "cell_type": "code",
   "execution_count": 10,
   "id": "0325cfc1",
   "metadata": {},
   "outputs": [],
   "source": [
    "# 훈련용,테스트용 데이터 분리2\n",
    "#from sklearn.model_selection import train_test_split\n",
    "\n",
    "#train_x,test_x, train_y, test_y = \\\n",
    "#    train_test_split(X,Y,test_size = 0.2)"
   ]
  },
  {
   "cell_type": "code",
   "execution_count": 11,
   "id": "f1e7252f",
   "metadata": {},
   "outputs": [],
   "source": [
    "#print(train_x.shape, test_x.shape)"
   ]
  },
  {
   "cell_type": "markdown",
   "id": "c94287c6",
   "metadata": {},
   "source": [
    "# 신경망 구축"
   ]
  },
  {
   "cell_type": "code",
   "execution_count": 12,
   "id": "459a1187",
   "metadata": {},
   "outputs": [],
   "source": [
    "from tensorflow import keras\n",
    "EPOCHS = 100\n"
   ]
  },
  {
   "cell_type": "code",
   "execution_count": 13,
   "id": "e5f34bc0",
   "metadata": {},
   "outputs": [],
   "source": [
    "model = keras.Sequential([\n",
    "    keras.layers.Dense(8), #입력층\n",
    "    keras.layers.Dense(16,activation = \"tanh\"),\n",
    "    keras.layers.Dense(64,activation = \"tanh\"),\n",
    "    keras.layers.Dense(256,activation = \"tanh\"),\n",
    "    keras.layers.Dense(256,activation = \"relu\"),\n",
    "    keras.layers.Dropout(rate = 0.3),\n",
    "    keras.layers.Dense(1,activation = \"sigmoid\")\n",
    "])"
   ]
  },
  {
   "cell_type": "code",
   "execution_count": 14,
   "id": "74828c85",
   "metadata": {},
   "outputs": [],
   "source": [
    "#  0,1에서는 binary_crossentropy\n",
    "model.compile(optimizer= \"adam\", loss = \"binary_crossentropy\",metrics = ['accuracy'])"
   ]
  },
  {
   "cell_type": "code",
   "execution_count": 15,
   "id": "6b11bf52",
   "metadata": {},
   "outputs": [],
   "source": [
    "early_stop = keras.callbacks.EarlyStopping(monitor = 'val_loss',patience = 20)"
   ]
  },
  {
   "cell_type": "code",
   "execution_count": 16,
   "id": "c1b91fb0",
   "metadata": {
    "scrolled": false
   },
   "outputs": [
    {
     "name": "stderr",
     "output_type": "stream",
     "text": [
      "2022-01-07 09:42:30.198163: I tensorflow/core/platform/cpu_feature_guard.cc:145] This TensorFlow binary is optimized with Intel(R) MKL-DNN to use the following CPU instructions in performance critical operations:  SSE4.1 SSE4.2\n",
      "To enable them in non-MKL-DNN operations, rebuild TensorFlow with the appropriate compiler flags.\n",
      "2022-01-07 09:42:30.199571: I tensorflow/core/common_runtime/process_util.cc:115] Creating new thread pool with default inter op setting: 8. Tune using inter_op_parallelism_threads for best performance.\n"
     ]
    },
    {
     "name": "stdout",
     "output_type": "stream",
     "text": [
      "Train on 614 samples, validate on 154 samples\n",
      "Epoch 1/100\n",
      "614/614 [==============================] - 1s 2ms/sample - loss: 0.6645 - accuracy: 0.6564 - val_loss: 0.6267 - val_accuracy: 0.6494\n",
      "Epoch 2/100\n",
      "614/614 [==============================] - 0s 253us/sample - loss: 0.6173 - accuracy: 0.6645 - val_loss: 0.5838 - val_accuracy: 0.7403\n",
      "Epoch 3/100\n",
      "614/614 [==============================] - 0s 247us/sample - loss: 0.5815 - accuracy: 0.6987 - val_loss: 0.5413 - val_accuracy: 0.7338\n",
      "Epoch 4/100\n",
      "614/614 [==============================] - 0s 249us/sample - loss: 0.5593 - accuracy: 0.7280 - val_loss: 0.5368 - val_accuracy: 0.7597\n",
      "Epoch 5/100\n",
      "614/614 [==============================] - 0s 246us/sample - loss: 0.5479 - accuracy: 0.7280 - val_loss: 0.5167 - val_accuracy: 0.7273\n",
      "Epoch 6/100\n",
      "614/614 [==============================] - 0s 253us/sample - loss: 0.5277 - accuracy: 0.7362 - val_loss: 0.4883 - val_accuracy: 0.7857\n",
      "Epoch 7/100\n",
      "614/614 [==============================] - 0s 277us/sample - loss: 0.5108 - accuracy: 0.7590 - val_loss: 0.4787 - val_accuracy: 0.7727\n",
      "Epoch 8/100\n",
      "614/614 [==============================] - 0s 249us/sample - loss: 0.5091 - accuracy: 0.7394 - val_loss: 0.4805 - val_accuracy: 0.7727\n",
      "Epoch 9/100\n",
      "614/614 [==============================] - 0s 254us/sample - loss: 0.5000 - accuracy: 0.7655 - val_loss: 0.5027 - val_accuracy: 0.7273\n",
      "Epoch 10/100\n",
      "614/614 [==============================] - 0s 244us/sample - loss: 0.4913 - accuracy: 0.7590 - val_loss: 0.5146 - val_accuracy: 0.7208\n",
      "Epoch 11/100\n",
      "614/614 [==============================] - 0s 246us/sample - loss: 0.4991 - accuracy: 0.7671 - val_loss: 0.4706 - val_accuracy: 0.7662\n",
      "Epoch 12/100\n",
      "614/614 [==============================] - 0s 255us/sample - loss: 0.4757 - accuracy: 0.7752 - val_loss: 0.4646 - val_accuracy: 0.7922\n",
      "Epoch 13/100\n",
      "614/614 [==============================] - 0s 329us/sample - loss: 0.4659 - accuracy: 0.7866 - val_loss: 0.4676 - val_accuracy: 0.7792\n",
      "Epoch 14/100\n",
      "614/614 [==============================] - 0s 253us/sample - loss: 0.4716 - accuracy: 0.7818 - val_loss: 0.4710 - val_accuracy: 0.7857\n",
      "Epoch 15/100\n",
      "614/614 [==============================] - 0s 253us/sample - loss: 0.4667 - accuracy: 0.7801 - val_loss: 0.4757 - val_accuracy: 0.7792\n",
      "Epoch 16/100\n",
      "614/614 [==============================] - 0s 259us/sample - loss: 0.4745 - accuracy: 0.7655 - val_loss: 0.4709 - val_accuracy: 0.7597\n",
      "Epoch 17/100\n",
      "614/614 [==============================] - 0s 254us/sample - loss: 0.4678 - accuracy: 0.7834 - val_loss: 0.5141 - val_accuracy: 0.7662\n",
      "Epoch 18/100\n",
      "614/614 [==============================] - 0s 251us/sample - loss: 0.4718 - accuracy: 0.7866 - val_loss: 0.4719 - val_accuracy: 0.7922\n",
      "Epoch 19/100\n",
      "614/614 [==============================] - 0s 248us/sample - loss: 0.4864 - accuracy: 0.7801 - val_loss: 0.4968 - val_accuracy: 0.7727\n",
      "Epoch 20/100\n",
      "614/614 [==============================] - 0s 247us/sample - loss: 0.4723 - accuracy: 0.7671 - val_loss: 0.4704 - val_accuracy: 0.8117\n",
      "Epoch 21/100\n",
      "614/614 [==============================] - 0s 259us/sample - loss: 0.4629 - accuracy: 0.7834 - val_loss: 0.4822 - val_accuracy: 0.7727\n",
      "Epoch 22/100\n",
      "614/614 [==============================] - 0s 252us/sample - loss: 0.4518 - accuracy: 0.7850 - val_loss: 0.4746 - val_accuracy: 0.7468\n",
      "Epoch 23/100\n",
      "614/614 [==============================] - 0s 261us/sample - loss: 0.4693 - accuracy: 0.7818 - val_loss: 0.4941 - val_accuracy: 0.7468\n",
      "Epoch 24/100\n",
      "614/614 [==============================] - 0s 250us/sample - loss: 0.4600 - accuracy: 0.7769 - val_loss: 0.4766 - val_accuracy: 0.7792\n",
      "Epoch 25/100\n",
      "614/614 [==============================] - 0s 249us/sample - loss: 0.4633 - accuracy: 0.7785 - val_loss: 0.4808 - val_accuracy: 0.7597\n",
      "Epoch 26/100\n",
      "614/614 [==============================] - 0s 256us/sample - loss: 0.4655 - accuracy: 0.7948 - val_loss: 0.4799 - val_accuracy: 0.7338\n",
      "Epoch 27/100\n",
      "614/614 [==============================] - 0s 251us/sample - loss: 0.4616 - accuracy: 0.7850 - val_loss: 0.4635 - val_accuracy: 0.7922\n",
      "Epoch 28/100\n",
      "614/614 [==============================] - 0s 243us/sample - loss: 0.4460 - accuracy: 0.7736 - val_loss: 0.4619 - val_accuracy: 0.7922\n",
      "Epoch 29/100\n",
      "614/614 [==============================] - 0s 243us/sample - loss: 0.4647 - accuracy: 0.7883 - val_loss: 0.4685 - val_accuracy: 0.7987\n",
      "Epoch 30/100\n",
      "614/614 [==============================] - 0s 254us/sample - loss: 0.4817 - accuracy: 0.7638 - val_loss: 0.4727 - val_accuracy: 0.7987\n",
      "Epoch 31/100\n",
      "614/614 [==============================] - 0s 243us/sample - loss: 0.4535 - accuracy: 0.7948 - val_loss: 0.4766 - val_accuracy: 0.7468\n",
      "Epoch 32/100\n",
      "614/614 [==============================] - 0s 267us/sample - loss: 0.4484 - accuracy: 0.7818 - val_loss: 0.4647 - val_accuracy: 0.7727\n",
      "Epoch 33/100\n",
      "614/614 [==============================] - 0s 258us/sample - loss: 0.4590 - accuracy: 0.7785 - val_loss: 0.5057 - val_accuracy: 0.7273\n",
      "Epoch 34/100\n",
      "614/614 [==============================] - 0s 249us/sample - loss: 0.4491 - accuracy: 0.7899 - val_loss: 0.5091 - val_accuracy: 0.7468\n",
      "Epoch 35/100\n",
      "614/614 [==============================] - 0s 252us/sample - loss: 0.4421 - accuracy: 0.7899 - val_loss: 0.4751 - val_accuracy: 0.7857\n",
      "Epoch 36/100\n",
      "614/614 [==============================] - 0s 259us/sample - loss: 0.4428 - accuracy: 0.7785 - val_loss: 0.4470 - val_accuracy: 0.7922\n",
      "Epoch 37/100\n",
      "614/614 [==============================] - 0s 254us/sample - loss: 0.4443 - accuracy: 0.7915 - val_loss: 0.4633 - val_accuracy: 0.7922\n",
      "Epoch 38/100\n",
      "614/614 [==============================] - 0s 253us/sample - loss: 0.4383 - accuracy: 0.7850 - val_loss: 0.4613 - val_accuracy: 0.7857\n",
      "Epoch 39/100\n",
      "614/614 [==============================] - 0s 255us/sample - loss: 0.4376 - accuracy: 0.7883 - val_loss: 0.4725 - val_accuracy: 0.7857\n",
      "Epoch 40/100\n",
      "614/614 [==============================] - 0s 255us/sample - loss: 0.4367 - accuracy: 0.7883 - val_loss: 0.4802 - val_accuracy: 0.7857\n",
      "Epoch 41/100\n",
      "614/614 [==============================] - 0s 254us/sample - loss: 0.4481 - accuracy: 0.7980 - val_loss: 0.4637 - val_accuracy: 0.7727\n",
      "Epoch 42/100\n",
      "614/614 [==============================] - 0s 240us/sample - loss: 0.4412 - accuracy: 0.7801 - val_loss: 0.4661 - val_accuracy: 0.8052\n",
      "Epoch 43/100\n",
      "614/614 [==============================] - 0s 259us/sample - loss: 0.4342 - accuracy: 0.7818 - val_loss: 0.4603 - val_accuracy: 0.7662\n",
      "Epoch 44/100\n",
      "614/614 [==============================] - 0s 250us/sample - loss: 0.4512 - accuracy: 0.7720 - val_loss: 0.4731 - val_accuracy: 0.7662\n",
      "Epoch 45/100\n",
      "614/614 [==============================] - 0s 255us/sample - loss: 0.4354 - accuracy: 0.7883 - val_loss: 0.4774 - val_accuracy: 0.7987\n",
      "Epoch 46/100\n",
      "614/614 [==============================] - 0s 252us/sample - loss: 0.4311 - accuracy: 0.7883 - val_loss: 0.4759 - val_accuracy: 0.7922\n",
      "Epoch 47/100\n",
      "614/614 [==============================] - 0s 251us/sample - loss: 0.4416 - accuracy: 0.7785 - val_loss: 0.4721 - val_accuracy: 0.7857\n",
      "Epoch 48/100\n",
      "614/614 [==============================] - 0s 240us/sample - loss: 0.4414 - accuracy: 0.7866 - val_loss: 0.4806 - val_accuracy: 0.7792\n",
      "Epoch 49/100\n",
      "614/614 [==============================] - 0s 251us/sample - loss: 0.4337 - accuracy: 0.7866 - val_loss: 0.4524 - val_accuracy: 0.7987\n",
      "Epoch 50/100\n",
      "614/614 [==============================] - 0s 240us/sample - loss: 0.4508 - accuracy: 0.7915 - val_loss: 0.5212 - val_accuracy: 0.7532\n",
      "Epoch 51/100\n",
      "614/614 [==============================] - 0s 256us/sample - loss: 0.4408 - accuracy: 0.7752 - val_loss: 0.4804 - val_accuracy: 0.7987\n",
      "Epoch 52/100\n",
      "614/614 [==============================] - 0s 251us/sample - loss: 0.4216 - accuracy: 0.7915 - val_loss: 0.4680 - val_accuracy: 0.7597\n",
      "Epoch 53/100\n",
      "614/614 [==============================] - 0s 249us/sample - loss: 0.4273 - accuracy: 0.7899 - val_loss: 0.4590 - val_accuracy: 0.8052\n",
      "Epoch 54/100\n",
      "614/614 [==============================] - 0s 253us/sample - loss: 0.4331 - accuracy: 0.7948 - val_loss: 0.4691 - val_accuracy: 0.8117\n",
      "Epoch 55/100\n",
      "614/614 [==============================] - 0s 254us/sample - loss: 0.4442 - accuracy: 0.8029 - val_loss: 0.4674 - val_accuracy: 0.7987\n",
      "Epoch 56/100\n",
      "614/614 [==============================] - 0s 244us/sample - loss: 0.4382 - accuracy: 0.7915 - val_loss: 0.4520 - val_accuracy: 0.7987\n"
     ]
    }
   ],
   "source": [
    "history = model.fit(train_x,train_y, epochs = EPOCHS,\n",
    "                    validation_data = (test_x, test_y),\n",
    "                    callbacks = [early_stop])\n",
    "    "
   ]
  },
  {
   "cell_type": "markdown",
   "id": "a7c2a53a",
   "metadata": {},
   "source": [
    "# 모델의 정확도 81%"
   ]
  },
  {
   "cell_type": "code",
   "execution_count": 17,
   "id": "39dc3492",
   "metadata": {},
   "outputs": [
    {
     "data": {
      "text/plain": [
       "0.8116883"
      ]
     },
     "execution_count": 17,
     "metadata": {},
     "output_type": "execute_result"
    }
   ],
   "source": [
    "np.max(history.history[\"val_accuracy\"])"
   ]
  },
  {
   "cell_type": "code",
   "execution_count": 18,
   "id": "e5d97e48",
   "metadata": {},
   "outputs": [
    {
     "data": {
      "text/plain": [
       "array([[0.49149513],\n",
       "       [0.0331609 ],\n",
       "       [0.8320242 ],\n",
       "       [0.00425655],\n",
       "       [0.9576676 ]], dtype=float32)"
      ]
     },
     "execution_count": 18,
     "metadata": {},
     "output_type": "execute_result"
    }
   ],
   "source": [
    "# 예측값 비교해보기\n",
    "pred = model.predict(train_x[:5])\n",
    "pred\n"
   ]
  },
  {
   "cell_type": "code",
   "execution_count": 19,
   "id": "85d1c6a1",
   "metadata": {},
   "outputs": [
    {
     "data": {
      "text/plain": [
       "array([1, 0, 1, 0, 1])"
      ]
     },
     "execution_count": 19,
     "metadata": {},
     "output_type": "execute_result"
    }
   ],
   "source": [
    "train_y[:5]"
   ]
  },
  {
   "cell_type": "markdown",
   "id": "9d4e2fc7",
   "metadata": {},
   "source": [
    "# 모델 시각화"
   ]
  },
  {
   "cell_type": "code",
   "execution_count": 20,
   "id": "0b1b14ad",
   "metadata": {},
   "outputs": [],
   "source": [
    "import matplotlib.pyplot as plt"
   ]
  },
  {
   "cell_type": "code",
   "execution_count": 21,
   "id": "3cdbe35f",
   "metadata": {},
   "outputs": [
    {
     "data": {
      "image/png": "[encoded data removed]",
      "text/plain": [
       "<Figure size 576x576 with 1 Axes>"
      ]
     },
     "metadata": {
      "needs_background": "light"
     },
     "output_type": "display_data"
    }
   ],
   "source": [
    "train_history = history.history[\"loss\"]\n",
    "validate_history = history.history[\"val_loss\"]\n",
    "\n",
    "fig = plt.figure(figsize = (8,8))\n",
    "plt.title(\"loss history\")\n",
    "plt.xlabel(\"EPOCH\")\n",
    "plt.ylabel(\"LOSS Function\")\n",
    "plt.plot(train_history, \"red\")\n",
    "plt.plot(validate_history,\"blue\")\n",
    "plt.show()"
   ]
  },
  {
   "cell_type": "code",
   "execution_count": 22,
   "id": "8a0d4638",
   "metadata": {},
   "outputs": [
    {
     "data": {
      "image/png": "[encoded data removed]",
      "text/plain": [
       "<Figure size 576x576 with 1 Axes>"
      ]
     },
     "metadata": {
      "needs_background": "light"
     },
     "output_type": "display_data"
    }
   ],
   "source": [
    "train_history = history.history['accuracy']\n",
    "validate_history = history.history['val_accuracy']\n",
    "\n",
    "fig = plt.figure(figsize = (8,8))\n",
    "plt.title(\"accuracy history\")\n",
    "plt.xlabel(\"EPOCH\")\n",
    "plt.ylabel(\"accuracy Function\")\n",
    "plt.plot(train_history, \"red\")\n",
    "plt.plot(validate_history,\"blue\")\n",
    "\n",
    "plt.show()"
   ]
  },
  {
   "cell_type": "code",
   "execution_count": null,
   "id": "e5dfec8b",
   "metadata": {},
   "outputs": [],
   "source": [
    "# 감사합니다."
   ]
  },
  {
   "cell_type": "code",
   "execution_count": null,
   "id": "442ac915",
   "metadata": {},
   "outputs": [],
   "source": []
  }
 ],
 "metadata": {
  "kernelspec": {
   "display_name": "Python 3 (ipykernel)",
   "language": "python",
   "name": "python3"
  },
  "language_info": {
   "codemirror_mode": {
    "name": "ipython",
    "version": 3
   },
   "file_extension": ".py",
   "mimetype": "text/x-python",
   "name": "python",
   "nbconvert_exporter": "python",
   "pygments_lexer": "ipython3",
   "version": "3.7.11"
  },
  "toc": {
   "base_numbering": 1,
   "nav_menu": {},
   "number_sections": true,
   "sideBar": true,
   "skip_h1_title": false,
   "title_cell": "Table of Contents",
   "title_sidebar": "Contents",
   "toc_cell": false,
   "toc_position": {},
   "toc_section_display": true,
   "toc_window_display": false
  }
 },
 "nbformat": 4,
 "nbformat_minor": 5
}
