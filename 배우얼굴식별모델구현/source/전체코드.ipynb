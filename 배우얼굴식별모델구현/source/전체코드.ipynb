{
 "cells": [
  {
   "cell_type": "code",
   "execution_count": 1,
   "id": "b3ebe0cf",
   "metadata": {
    "ExecuteTime": {
     "end_time": "2022-01-04T10:06:46.952164Z",
     "start_time": "2022-01-04T10:06:44.999250Z"
    }
   },
   "outputs": [],
   "source": [
    "import os\n",
    "import numpy as np\n",
    "from PIL import Image\n",
    "import random\n",
    "from matplotlib import pyplot as plt\n",
    "from tensorflow import keras"
   ]
  },
  {
   "cell_type": "code",
   "execution_count": 2,
   "id": "c29637c0",
   "metadata": {
    "ExecuteTime": {
     "end_time": "2022-01-04T10:06:46.994761Z",
     "start_time": "2022-01-04T10:06:46.955011Z"
    }
   },
   "outputs": [],
   "source": [
    "import cv2\n",
    "import numpy as np"
   ]
  },
  {
   "cell_type": "code",
   "execution_count": 11,
   "id": "b2a448b2",
   "metadata": {
    "ExecuteTime": {
     "end_time": "2022-01-04T02:13:09.115102Z",
     "start_time": "2022-01-04T02:13:09.060214Z"
    }
   },
   "outputs": [],
   "source": [
    "# 이미지 불러오기(한번만)\n",
    "path = 'data/류승룡/'\n",
    "file_list = os.listdir(path)\n",
    "\n",
    "for A in file_list:\n",
    "    if A == \".DS_Store\":\n",
    "        continue\n",
    "    img = cv2.imread(path + A)\n",
    "    res = cv2.resize(img, dsize=(60, 90), interpolation=cv2.INTER_CUBIC)\n",
    "    cv2.imwrite('data/류승룡/'+ A, res)"
   ]
  },
  {
   "cell_type": "code",
   "execution_count": 12,
   "id": "b78cacba",
   "metadata": {
    "ExecuteTime": {
     "end_time": "2022-01-04T02:13:16.044906Z",
     "start_time": "2022-01-04T02:13:15.988079Z"
    }
   },
   "outputs": [],
   "source": [
    "# 이미지 불러오기2(한번만)\n",
    "path = 'data/오달수/'\n",
    "file_list = os.listdir(path)\n",
    "\n",
    "for A in file_list:\n",
    "    if A == \".DS_Store\":\n",
    "        continue\n",
    "    img = cv2.imread(path + A)\n",
    "    res2 = cv2.resize(img, dsize=(60, 90), interpolation=cv2.INTER_CUBIC)\n",
    "    cv2.imwrite('data/오달수/'+ A, res)"
   ]
  },
  {
   "cell_type": "code",
   "execution_count": 5,
   "id": "853149ca",
   "metadata": {
    "ExecuteTime": {
     "end_time": "2022-01-04T03:17:09.317048Z",
     "start_time": "2022-01-04T03:17:09.205121Z"
    }
   },
   "outputs": [],
   "source": [
    "# 이미지 불러오기3(한번만)\n",
    "path = 'data/이정재/'\n",
    "file_list = os.listdir(path)\n",
    "\n",
    "for A in file_list:\n",
    "    if A == \".DS_Store\":\n",
    "        continue\n",
    "    img = cv2.imread(path + A)\n",
    "    res3 = cv2.resize(img, dsize=(60, 90), interpolation=cv2.INTER_CUBIC)\n",
    "    cv2.imwrite('data/이정재/'+ A, res3)"
   ]
  },
  {
   "cell_type": "code",
   "execution_count": 28,
   "id": "6130b86d",
   "metadata": {
    "ExecuteTime": {
     "end_time": "2022-01-04T05:31:02.199075Z",
     "start_time": "2022-01-04T05:31:02.188219Z"
    }
   },
   "outputs": [],
   "source": [
    "# 이미지 불러오기3(한번만_포스터)\n",
    "path = 'data/poster/'\n",
    "file_list = os.listdir(path)\n",
    "\n",
    "for A in file_list:\n",
    "    if A == \".DS_Store\":\n",
    "        continue\n",
    "    img = cv2.imread(path + A)\n",
    "    res3 = cv2.resize(img, dsize=(60, 90), interpolation=cv2.INTER_CUBIC)\n",
    "    cv2.imwrite('data/poster/'+ A, res3)"
   ]
  },
  {
   "cell_type": "code",
   "execution_count": 3,
   "id": "709b127f",
   "metadata": {
    "ExecuteTime": {
     "end_time": "2022-01-04T07:20:26.590445Z",
     "start_time": "2022-01-04T07:20:25.974285Z"
    }
   },
   "outputs": [],
   "source": [
    "## 이미지 불러와서 이미지 크기를 60*90 으로 이미지 조절\n",
    "# 위 함수들 자동화함\n",
    "# data_after 전체파일들을 그대로 data에 잘라 붙여넣기\n",
    "all_files = os.listdir(\"data/\")\n",
    "all_files.remove(\".DS_Store\")\n",
    "\n",
    "#people = [\"오달수\",\"류승룡\",\"송강호\",\"정진영\",\"유해진\",\"하정우\",\"설경구\",\"이정재\",\"전지현\",\"황정민\",\"김향기\",\"마동석\"]\n",
    "\n",
    "for x in all_files:\n",
    "    path = 'data/'+x+'/'\n",
    "    file_list = os.listdir(path)\n",
    "\n",
    "    for A in file_list:\n",
    "        if A == \".DS_Store\":\n",
    "            continue\n",
    "        img = cv2.imread(path + A)\n",
    "        res = cv2.resize(img, dsize=(60, 90), interpolation=cv2.INTER_CUBIC)\n",
    "        cv2.imwrite(path + A, res)"
   ]
  },
  {
   "cell_type": "code",
   "execution_count": 3,
   "id": "8107cab2",
   "metadata": {
    "ExecuteTime": {
     "end_time": "2022-01-04T10:06:49.533420Z",
     "start_time": "2022-01-04T10:06:49.529201Z"
    }
   },
   "outputs": [
    {
     "name": "stdout",
     "output_type": "stream",
     "text": [
      "['이정재', '정진영', '마동석', '유해진', '황정민', '류승룡', '설경구', '오달수', '김향기', '하정우', '송강호', '전지현']\n"
     ]
    }
   ],
   "source": [
    "## classes 순서를 잘 봐야 한다 \n",
    "c = os.listdir(\"data\")\n",
    "c.remove(\".DS_Store\") #['.DS_Store', '류승룡', '오달수']\n",
    "c.remove(\"poster\") #포스터는 실제 예측데이터로 쓸거야!\n",
    "print(c)"
   ]
  },
  {
   "cell_type": "code",
   "execution_count": 4,
   "id": "7bd260be",
   "metadata": {
    "ExecuteTime": {
     "end_time": "2022-01-04T10:06:52.402568Z",
     "start_time": "2022-01-04T10:06:52.383998Z"
    }
   },
   "outputs": [],
   "source": [
    "# 데이터를 떠먹여 줄 클래스를 제작합니다.\n",
    "class DataReader():\n",
    "    def __init__(self):\n",
    "        self.label = ['이정재', '정진영', '마동석', '유해진', '황정민', '류승룡', '설경구', '오달수', '김향기', '하정우', '송강호', '전지현']\n",
    "        \n",
    "        self.train_X = []\n",
    "        self.train_Y = []\n",
    "        self.test_X = []\n",
    "        self.test_Y = []\n",
    "        \n",
    "        self.read_images()\n",
    "\n",
    "    def read_images(self):\n",
    "        data = []\n",
    "        print(\"Reading Data...\")\n",
    "        classes = os.listdir(\"data\") # 순서에 따라 0~ 부여해야하므로 중요\n",
    "        classes.remove(\".DS_Store\") #['.DS_Store', '류승룡', '오달수']\n",
    "        classes.remove(\"poster\") #포스터는 실제 예측데이터로 쓸거야!\n",
    "        for i, cls in enumerate(classes):\n",
    "            print(\"Opening \" + cls + \"/\")\n",
    "            Path = os.listdir(\"data/\" + cls)\n",
    "            if \".DS_Store\" in Path:\n",
    "                Path.remove(\".DS_Store\")\n",
    "            for el in Path:\n",
    "                img = Image.open(\"data/\" + cls + \"/\" + el)\n",
    "                data.append((np.asarray(img), i))\n",
    "                img.close()\n",
    "\n",
    "        random.shuffle(data)\n",
    "\n",
    "        for i in range(len(data)):\n",
    "            if i < 0.8*len(data):\n",
    "                self.train_X.append(data[i][0])\n",
    "                self.train_Y.append(data[i][1])\n",
    "            else:\n",
    "                self.test_X.append(data[i][0])\n",
    "                self.test_Y.append(data[i][1])\n",
    "\n",
    "        self.train_X = np.asarray(self.train_X) / 255.0\n",
    "        self.train_Y = np.asarray(self.train_Y)\n",
    "        self.test_X = np.asarray(self.test_X) / 255.0\n",
    "        self.test_Y = np.asarray(self.test_Y)\n",
    "\n",
    "        # 데이터 읽기가 완료되었습니다.\n",
    "        # 읽어온 데이터의 정보를 출력합니다.\n",
    "        print(\"\\n\\nData Read Done!\")\n",
    "        print(\"Training X Size : \" + str(self.train_X.shape))\n",
    "        print(\"Training Y Size : \" + str(self.train_Y.shape))\n",
    "        print(\"Test X Size : \" + str(self.test_X.shape))\n",
    "        print(\"Test Y Size : \" + str(self.test_Y.shape) + '\\n\\n')\n",
    "\n",
    "    def show_processed_images(self):\n",
    "        plt.figure(figsize=(10, 10))\n",
    "        for i in range(25):\n",
    "            plt.subplot(5, 5, i + 1)\n",
    "            plt.xticks([])\n",
    "            plt.yticks([])\n",
    "            plt.grid(False)\n",
    "            plt.imshow(self.train_X[i], cmap=plt.cm.binary)\n",
    "            plt.xlabel(self.label[int(self.train_Y[i])])\n",
    "        plt.show()"
   ]
  },
  {
   "cell_type": "code",
   "execution_count": 5,
   "id": "a209a30b",
   "metadata": {
    "ExecuteTime": {
     "end_time": "2022-01-04T10:06:58.294479Z",
     "start_time": "2022-01-04T10:06:58.288487Z"
    }
   },
   "outputs": [],
   "source": [
    "def draw_graph(history):\n",
    "    train_history = history.history[\"loss\"]\n",
    "    validation_history = history.history[\"val_loss\"]\n",
    "    fig = plt.figure(figsize=(8, 8))\n",
    "    plt.title(\"Loss History\")\n",
    "    plt.xlabel(\"EPOCH\")\n",
    "    plt.ylabel(\"LOSS Function\")\n",
    "    plt.plot(train_history, \"red\")\n",
    "    plt.plot(validation_history, 'blue')\n",
    "    fig.savefig(\"train_history.png\")\n",
    "\n",
    "    train_history = history.history[\"accuracy\"]\n",
    "    validation_history = history.history[\"val_accuracy\"]\n",
    "    fig = plt.figure(figsize=(8, 8))\n",
    "    plt.title(\"Accuracy History\")\n",
    "    plt.xlabel(\"EPOCH\")\n",
    "    plt.ylabel(\"Accuracy\")\n",
    "    plt.plot(train_history, \"red\")\n",
    "    plt.plot(validation_history, 'blue')\n",
    "    fig.savefig(\"accuracy_history.png\")"
   ]
  },
  {
   "cell_type": "code",
   "execution_count": 6,
   "id": "b2b2ba24",
   "metadata": {
    "ExecuteTime": {
     "end_time": "2022-01-04T10:06:59.604172Z",
     "start_time": "2022-01-04T10:06:59.251169Z"
    },
    "scrolled": true
   },
   "outputs": [
    {
     "name": "stdout",
     "output_type": "stream",
     "text": [
      "Reading Data...\n",
      "Opening 이정재/\n",
      "Opening 정진영/\n",
      "Opening 마동석/\n",
      "Opening 유해진/\n",
      "Opening 황정민/\n",
      "Opening 류승룡/\n",
      "Opening 설경구/\n",
      "Opening 오달수/\n",
      "Opening 김향기/\n",
      "Opening 하정우/\n",
      "Opening 송강호/\n",
      "Opening 전지현/\n",
      "\n",
      "\n",
      "Data Read Done!\n",
      "Training X Size : (1375, 90, 60, 3)\n",
      "Training Y Size : (1375,)\n",
      "Test X Size : (343, 90, 60, 3)\n",
      "Test Y Size : (343,)\n",
      "\n",
      "\n"
     ]
    }
   ],
   "source": [
    "# 데이터를 읽어옵니다.\n",
    "dr = DataReader()"
   ]
  },
  {
   "cell_type": "code",
   "execution_count": 7,
   "id": "078b50c8",
   "metadata": {
    "ExecuteTime": {
     "end_time": "2022-01-04T10:07:07.420306Z",
     "start_time": "2022-01-04T10:07:07.381818Z"
    }
   },
   "outputs": [
    {
     "name": "stdout",
     "output_type": "stream",
     "text": [
      "Metal device set to: Apple M1\n"
     ]
    },
    {
     "name": "stderr",
     "output_type": "stream",
     "text": [
      "2022-01-04 19:07:07.409601: I tensorflow/core/common_runtime/pluggable_device/pluggable_device_factory.cc:305] Could not identify NUMA node of platform GPU ID 0, defaulting to 0. Your kernel may not have been built with NUMA support.\n",
      "2022-01-04 19:07:07.409795: I tensorflow/core/common_runtime/pluggable_device/pluggable_device_factory.cc:271] Created TensorFlow device (/job:localhost/replica:0/task:0/device:GPU:0 with 0 MB memory) -> physical PluggableDevice (device: 0, name: METAL, pci bus id: <undefined>)\n"
     ]
    },
    {
     "data": {
      "text/plain": [
       "\" keras.layers.Conv2D(64, (3, 3), activation='relu'),\\n    keras.layers.MaxPooling2D((2, 2)),\\n    keras.layers.Conv2D(64, (3, 3), activation='relu'),\\n    keras.layers.MaxPooling2D((2, 2)),\""
      ]
     },
     "execution_count": 7,
     "metadata": {},
     "output_type": "execute_result"
    }
   ],
   "source": [
    "# 인공신경망을 제작합니다.\n",
    "model = keras.Sequential([\n",
    "    keras.layers.Conv2D(16, (3, 3), activation=\"relu\"),\n",
    "    keras.layers.MaxPooling2D((2, 2)),\n",
    "    keras.layers.Conv2D(32, (3, 3), activation='relu'),\n",
    "    keras.layers.MaxPooling2D((2, 2)),\n",
    "    keras.layers.Conv2D(64, (3, 3), activation='relu'),\n",
    "    keras.layers.MaxPooling2D((2, 2)),\n",
    "    keras.layers.Conv2D(128, (3, 3), activation='relu'),\n",
    "    keras.layers.MaxPooling2D((2, 2)),\n",
    "    keras.layers.Flatten(),\n",
    "    keras.layers.Dense(128, activation='relu'),\n",
    "    keras.layers.Dense(12, activation=\"softmax\")\n",
    "])\n",
    "''' keras.layers.Conv2D(64, (3, 3), activation='relu'),\n",
    "    keras.layers.MaxPooling2D((2, 2)),\n",
    "    keras.layers.Conv2D(64, (3, 3), activation='relu'),\n",
    "    keras.layers.MaxPooling2D((2, 2)),'''"
   ]
  },
  {
   "cell_type": "code",
   "execution_count": 8,
   "id": "7b49d4cc",
   "metadata": {
    "ExecuteTime": {
     "end_time": "2022-01-04T10:07:10.340328Z",
     "start_time": "2022-01-04T10:07:10.303449Z"
    }
   },
   "outputs": [],
   "source": [
    "# 인공신경망을 컴파일합니다.\n",
    "model.compile(optimizer='adam', metrics=['accuracy'],\n",
    "              loss='sparse_categorical_crossentropy')"
   ]
  },
  {
   "cell_type": "code",
   "execution_count": 9,
   "id": "393b835d",
   "metadata": {
    "ExecuteTime": {
     "end_time": "2022-01-04T10:07:11.304256Z",
     "start_time": "2022-01-04T10:07:11.301342Z"
    }
   },
   "outputs": [],
   "source": [
    "# 몇 에포크 만큼 학습을 시킬 것인지 결정합니다.\n",
    "EPOCHS = 50  # 예제 기본값은 30입니다."
   ]
  },
  {
   "cell_type": "code",
   "execution_count": 10,
   "id": "93275dbc",
   "metadata": {
    "ExecuteTime": {
     "end_time": "2022-01-04T10:07:47.514264Z",
     "start_time": "2022-01-04T10:07:12.094893Z"
    }
   },
   "outputs": [
    {
     "name": "stdout",
     "output_type": "stream",
     "text": [
      "\n",
      "\n",
      "************ TRAINING START ************ \n",
      "Epoch 1/50\n"
     ]
    },
    {
     "name": "stderr",
     "output_type": "stream",
     "text": [
      "2022-01-04 19:07:12.167146: W tensorflow/core/platform/profile_utils/cpu_utils.cc:128] Failed to get CPU frequency: 0 Hz\n",
      "2022-01-04 19:07:12.347955: I tensorflow/core/grappler/optimizers/custom_graph_optimizer_registry.cc:112] Plugin optimizer for device_type GPU is enabled.\n"
     ]
    },
    {
     "name": "stdout",
     "output_type": "stream",
     "text": [
      "43/43 [==============================] - 1s 24ms/step - loss: 2.4755 - accuracy: 0.0996 - val_loss: 2.4700 - val_accuracy: 0.1166\n"
     ]
    },
    {
     "name": "stderr",
     "output_type": "stream",
     "text": [
      "2022-01-04 19:07:13.493125: I tensorflow/core/grappler/optimizers/custom_graph_optimizer_registry.cc:112] Plugin optimizer for device_type GPU is enabled.\n"
     ]
    },
    {
     "name": "stdout",
     "output_type": "stream",
     "text": [
      "Epoch 2/50\n",
      "43/43 [==============================] - 1s 15ms/step - loss: 2.4378 - accuracy: 0.1440 - val_loss: 2.3183 - val_accuracy: 0.1545\n",
      "Epoch 3/50\n",
      "43/43 [==============================] - 1s 16ms/step - loss: 2.1434 - accuracy: 0.2676 - val_loss: 1.9725 - val_accuracy: 0.3207\n",
      "Epoch 4/50\n",
      "43/43 [==============================] - 1s 16ms/step - loss: 1.9004 - accuracy: 0.3695 - val_loss: 1.8288 - val_accuracy: 0.3732\n",
      "Epoch 5/50\n",
      "43/43 [==============================] - 1s 16ms/step - loss: 1.6330 - accuracy: 0.4305 - val_loss: 1.5057 - val_accuracy: 0.5160\n",
      "Epoch 6/50\n",
      "43/43 [==============================] - 1s 16ms/step - loss: 1.3033 - accuracy: 0.5687 - val_loss: 1.1836 - val_accuracy: 0.6472\n",
      "Epoch 7/50\n",
      "43/43 [==============================] - 1s 17ms/step - loss: 1.0219 - accuracy: 0.6713 - val_loss: 1.0440 - val_accuracy: 0.6793\n",
      "Epoch 8/50\n",
      "43/43 [==============================] - 1s 16ms/step - loss: 0.7990 - accuracy: 0.7345 - val_loss: 1.0118 - val_accuracy: 0.7055\n",
      "Epoch 9/50\n",
      "43/43 [==============================] - 1s 16ms/step - loss: 0.6690 - accuracy: 0.7920 - val_loss: 0.8624 - val_accuracy: 0.7230\n",
      "Epoch 10/50\n",
      "43/43 [==============================] - 1s 16ms/step - loss: 0.5658 - accuracy: 0.8167 - val_loss: 0.8441 - val_accuracy: 0.7201\n",
      "Epoch 11/50\n",
      "43/43 [==============================] - 1s 16ms/step - loss: 0.4397 - accuracy: 0.8582 - val_loss: 0.8360 - val_accuracy: 0.7434\n",
      "Epoch 12/50\n",
      "43/43 [==============================] - 1s 17ms/step - loss: 0.3356 - accuracy: 0.8822 - val_loss: 0.6735 - val_accuracy: 0.7726\n",
      "Epoch 13/50\n",
      "43/43 [==============================] - 1s 15ms/step - loss: 0.2716 - accuracy: 0.9076 - val_loss: 0.6982 - val_accuracy: 0.7726\n",
      "Epoch 14/50\n",
      "43/43 [==============================] - 1s 16ms/step - loss: 0.2422 - accuracy: 0.9164 - val_loss: 0.7638 - val_accuracy: 0.7755\n",
      "Epoch 15/50\n",
      "43/43 [==============================] - 1s 16ms/step - loss: 0.1629 - accuracy: 0.9491 - val_loss: 0.6879 - val_accuracy: 0.7959\n",
      "Epoch 16/50\n",
      "43/43 [==============================] - 1s 16ms/step - loss: 0.1387 - accuracy: 0.9600 - val_loss: 0.7420 - val_accuracy: 0.8047\n",
      "Epoch 17/50\n",
      "43/43 [==============================] - 1s 16ms/step - loss: 0.0865 - accuracy: 0.9760 - val_loss: 0.6697 - val_accuracy: 0.8222\n",
      "Epoch 18/50\n",
      "43/43 [==============================] - 1s 16ms/step - loss: 0.0769 - accuracy: 0.9825 - val_loss: 0.8929 - val_accuracy: 0.7726\n",
      "Epoch 19/50\n",
      "43/43 [==============================] - 1s 16ms/step - loss: 0.0973 - accuracy: 0.9673 - val_loss: 0.7646 - val_accuracy: 0.7901\n",
      "Epoch 20/50\n",
      "43/43 [==============================] - 1s 16ms/step - loss: 0.0449 - accuracy: 0.9927 - val_loss: 0.8275 - val_accuracy: 0.8251\n",
      "Epoch 21/50\n",
      "43/43 [==============================] - 1s 16ms/step - loss: 0.0755 - accuracy: 0.9782 - val_loss: 0.7784 - val_accuracy: 0.8192\n",
      "Epoch 22/50\n",
      "43/43 [==============================] - 1s 17ms/step - loss: 0.0463 - accuracy: 0.9862 - val_loss: 0.7611 - val_accuracy: 0.8105\n",
      "Epoch 23/50\n",
      "43/43 [==============================] - 1s 17ms/step - loss: 0.0170 - accuracy: 0.9993 - val_loss: 0.7424 - val_accuracy: 0.8338\n",
      "Epoch 24/50\n",
      "43/43 [==============================] - 1s 16ms/step - loss: 0.0082 - accuracy: 1.0000 - val_loss: 0.7561 - val_accuracy: 0.8426\n",
      "Epoch 25/50\n",
      "43/43 [==============================] - 1s 16ms/step - loss: 0.0039 - accuracy: 1.0000 - val_loss: 0.7502 - val_accuracy: 0.8484\n",
      "Epoch 26/50\n",
      "43/43 [==============================] - 1s 16ms/step - loss: 0.0023 - accuracy: 1.0000 - val_loss: 0.7690 - val_accuracy: 0.8484\n",
      "Epoch 27/50\n",
      "43/43 [==============================] - 1s 16ms/step - loss: 0.0018 - accuracy: 1.0000 - val_loss: 0.7695 - val_accuracy: 0.8542\n",
      "Epoch 28/50\n",
      "43/43 [==============================] - 1s 16ms/step - loss: 0.0016 - accuracy: 1.0000 - val_loss: 0.7863 - val_accuracy: 0.8542\n",
      "Epoch 29/50\n",
      "43/43 [==============================] - 1s 16ms/step - loss: 0.0014 - accuracy: 1.0000 - val_loss: 0.7984 - val_accuracy: 0.8571\n",
      "Epoch 30/50\n",
      "43/43 [==============================] - 1s 16ms/step - loss: 0.0012 - accuracy: 1.0000 - val_loss: 0.8248 - val_accuracy: 0.8571\n",
      "Epoch 31/50\n",
      "43/43 [==============================] - 1s 17ms/step - loss: 0.0011 - accuracy: 1.0000 - val_loss: 0.8226 - val_accuracy: 0.8542\n",
      "Epoch 32/50\n",
      "43/43 [==============================] - 1s 16ms/step - loss: 9.8719e-04 - accuracy: 1.0000 - val_loss: 0.8184 - val_accuracy: 0.8542\n",
      "Epoch 33/50\n",
      "43/43 [==============================] - 1s 16ms/step - loss: 8.9893e-04 - accuracy: 1.0000 - val_loss: 0.8395 - val_accuracy: 0.8571\n",
      "Epoch 34/50\n",
      "43/43 [==============================] - 1s 17ms/step - loss: 8.1953e-04 - accuracy: 1.0000 - val_loss: 0.8489 - val_accuracy: 0.8542\n",
      "Epoch 35/50\n",
      "43/43 [==============================] - 1s 16ms/step - loss: 7.6020e-04 - accuracy: 1.0000 - val_loss: 0.8554 - val_accuracy: 0.8513\n",
      "Epoch 36/50\n",
      "43/43 [==============================] - 1s 16ms/step - loss: 7.0490e-04 - accuracy: 1.0000 - val_loss: 0.8574 - val_accuracy: 0.8542\n",
      "Epoch 37/50\n",
      "43/43 [==============================] - 1s 16ms/step - loss: 6.6253e-04 - accuracy: 1.0000 - val_loss: 0.8613 - val_accuracy: 0.8542\n",
      "Epoch 38/50\n",
      "43/43 [==============================] - 1s 16ms/step - loss: 6.1183e-04 - accuracy: 1.0000 - val_loss: 0.8669 - val_accuracy: 0.8542\n",
      "Epoch 39/50\n",
      "43/43 [==============================] - 1s 16ms/step - loss: 5.6291e-04 - accuracy: 1.0000 - val_loss: 0.8772 - val_accuracy: 0.8571\n",
      "Epoch 40/50\n",
      "43/43 [==============================] - 1s 16ms/step - loss: 5.2910e-04 - accuracy: 1.0000 - val_loss: 0.8860 - val_accuracy: 0.8542\n",
      "Epoch 41/50\n",
      "43/43 [==============================] - 1s 16ms/step - loss: 5.0082e-04 - accuracy: 1.0000 - val_loss: 0.8852 - val_accuracy: 0.8542\n",
      "Epoch 42/50\n",
      "43/43 [==============================] - 1s 16ms/step - loss: 4.7288e-04 - accuracy: 1.0000 - val_loss: 0.8935 - val_accuracy: 0.8571\n",
      "Epoch 43/50\n",
      "43/43 [==============================] - 1s 16ms/step - loss: 4.4703e-04 - accuracy: 1.0000 - val_loss: 0.8991 - val_accuracy: 0.8513\n",
      "Epoch 44/50\n",
      "43/43 [==============================] - 1s 16ms/step - loss: 4.1972e-04 - accuracy: 1.0000 - val_loss: 0.8996 - val_accuracy: 0.8571\n",
      "Epoch 45/50\n",
      "43/43 [==============================] - 1s 16ms/step - loss: 3.9723e-04 - accuracy: 1.0000 - val_loss: 0.9144 - val_accuracy: 0.8571\n",
      "Epoch 46/50\n",
      "43/43 [==============================] - 1s 16ms/step - loss: 3.7636e-04 - accuracy: 1.0000 - val_loss: 0.9133 - val_accuracy: 0.8513\n",
      "Epoch 47/50\n",
      "43/43 [==============================] - 1s 15ms/step - loss: 3.5573e-04 - accuracy: 1.0000 - val_loss: 0.9128 - val_accuracy: 0.8484\n",
      "Epoch 48/50\n",
      "43/43 [==============================] - 1s 16ms/step - loss: 3.4156e-04 - accuracy: 1.0000 - val_loss: 0.9243 - val_accuracy: 0.8484\n",
      "Epoch 49/50\n",
      "43/43 [==============================] - 1s 16ms/step - loss: 3.2183e-04 - accuracy: 1.0000 - val_loss: 0.9303 - val_accuracy: 0.8542\n",
      "Epoch 50/50\n",
      "43/43 [==============================] - 1s 16ms/step - loss: 3.0718e-04 - accuracy: 1.0000 - val_loss: 0.9258 - val_accuracy: 0.8542\n"
     ]
    }
   ],
   "source": [
    "# 인공신경망을 학습시킵니다.\n",
    "print(\"\\n\\n************ TRAINING START ************ \")\n",
    "history = model.fit(dr.train_X, dr.train_Y, epochs=EPOCHS,\n",
    "                    validation_data=(dr.test_X, dr.test_Y))"
   ]
  },
  {
   "cell_type": "code",
   "execution_count": 11,
   "id": "c78ab46f",
   "metadata": {
    "ExecuteTime": {
     "end_time": "2022-01-04T10:07:47.660413Z",
     "start_time": "2022-01-04T10:07:47.517115Z"
    }
   },
   "outputs": [
    {
     "data": {
      "image/png": "[encoded data removed]",
      "text/plain": [
       "<Figure size 576x576 with 1 Axes>"
      ]
     },
     "metadata": {
      "needs_background": "light"
     },
     "output_type": "display_data"
    },
    {
     "data": {
      "image/png": "[encoded data removed]",
      "text/plain": [
       "<Figure size 576x576 with 1 Axes>"
      ]
     },
     "metadata": {
      "needs_background": "light"
     },
     "output_type": "display_data"
    }
   ],
   "source": [
    "# 학습 결과를 그래프로 출력합니다.\n",
    "draw_graph(history)"
   ]
  },
  {
   "cell_type": "code",
   "execution_count": 20,
   "id": "dddf1332",
   "metadata": {
    "ExecuteTime": {
     "end_time": "2022-01-04T10:28:15.125280Z",
     "start_time": "2022-01-04T10:28:15.056006Z"
    }
   },
   "outputs": [],
   "source": [
    "model.save('poster.h5')"
   ]
  },
  {
   "cell_type": "code",
   "execution_count": 20,
   "id": "8673555b",
   "metadata": {
    "ExecuteTime": {
     "end_time": "2022-01-04T03:17:54.796434Z",
     "start_time": "2022-01-04T03:17:54.790110Z"
    }
   },
   "outputs": [
    {
     "name": "stdout",
     "output_type": "stream",
     "text": [
      "(90, 60, 3)\n",
      "(195, 90, 60, 3)\n",
      "(90, 60, 3)\n"
     ]
    }
   ],
   "source": [
    "imgg = cv2.imread(\"오달수_1.jpg\")\n",
    "imgg = cv2.resize(imgg, dsize=(60, 90), interpolation=cv2.INTER_CUBIC)\n",
    "print(imgg.shape)\n",
    "print(dr.train_X.shape)\n",
    "print(dr.train_X[0].shape)"
   ]
  },
  {
   "cell_type": "code",
   "execution_count": 13,
   "id": "e086786a",
   "metadata": {
    "ExecuteTime": {
     "end_time": "2022-01-04T10:08:15.574208Z",
     "start_time": "2022-01-04T10:08:15.559031Z"
    }
   },
   "outputs": [],
   "source": [
    "## 예측용 데이터 불러오기\n",
    "path2 = 'data/poster/'\n",
    "file_list = os.listdir(path2)\n",
    "data2 = []\n",
    "count = 1\n",
    "for A in file_list:\n",
    "    if A == \".DS_Store\":\n",
    "        continue\n",
    "    poster = Image.open(path2+A)\n",
    "    data2.append((np.asarray(poster)))\n",
    "    poster.close()"
   ]
  },
  {
   "cell_type": "code",
   "execution_count": 14,
   "id": "c605aafa",
   "metadata": {
    "ExecuteTime": {
     "end_time": "2022-01-04T10:08:17.867199Z",
     "start_time": "2022-01-04T10:08:17.863256Z"
    }
   },
   "outputs": [],
   "source": [
    "data2 = np.asarray(data2)/255.0"
   ]
  },
  {
   "cell_type": "code",
   "execution_count": 15,
   "id": "32df54e5",
   "metadata": {
    "ExecuteTime": {
     "end_time": "2022-01-04T10:08:18.526996Z",
     "start_time": "2022-01-04T10:08:18.523084Z"
    }
   },
   "outputs": [
    {
     "data": {
      "text/plain": [
       "(10, 90, 60, 3)"
      ]
     },
     "execution_count": 15,
     "metadata": {},
     "output_type": "execute_result"
    }
   ],
   "source": [
    "data2.shape"
   ]
  },
  {
   "cell_type": "code",
   "execution_count": 16,
   "id": "f5998f7c",
   "metadata": {
    "ExecuteTime": {
     "end_time": "2022-01-04T10:08:19.433701Z",
     "start_time": "2022-01-04T10:08:19.429615Z"
    }
   },
   "outputs": [
    {
     "data": {
      "text/plain": [
       "['극한직업_2.jpg',\n",
       " '극한직업_3.jpg',\n",
       " '극한직업_1.jpg',\n",
       " '극한직업_4.jpg',\n",
       " '7번방_2.jpg',\n",
       " '7번방_3.jpg',\n",
       " '7번방_1.jpg',\n",
       " '7번방_4.jpg',\n",
       " '변호인_2.jpg',\n",
       " '변호인_1.jpg']"
      ]
     },
     "execution_count": 16,
     "metadata": {},
     "output_type": "execute_result"
    }
   ],
   "source": [
    "file_list"
   ]
  },
  {
   "cell_type": "code",
   "execution_count": 17,
   "id": "025587fe",
   "metadata": {
    "ExecuteTime": {
     "end_time": "2022-01-04T10:08:22.485488Z",
     "start_time": "2022-01-04T10:08:22.372205Z"
    }
   },
   "outputs": [
    {
     "name": "stderr",
     "output_type": "stream",
     "text": [
      "2022-01-04 19:08:22.450541: I tensorflow/core/grappler/optimizers/custom_graph_optimizer_registry.cc:112] Plugin optimizer for device_type GPU is enabled.\n"
     ]
    }
   ],
   "source": [
    "predictions2 = model.predict(data2)"
   ]
  },
  {
   "cell_type": "code",
   "execution_count": 18,
   "id": "66f22482",
   "metadata": {
    "ExecuteTime": {
     "end_time": "2022-01-04T10:08:25.705854Z",
     "start_time": "2022-01-04T10:08:25.702159Z"
    }
   },
   "outputs": [
    {
     "name": "stdout",
     "output_type": "stream",
     "text": [
      "6\n",
      "1\n",
      "5\n",
      "0\n",
      "10\n",
      "3\n",
      "9\n",
      "4\n",
      "10\n",
      "1\n"
     ]
    }
   ],
   "source": [
    "# 리스트 순서\n",
    "#['이정재', '정진영', '마동석', '유해진', '황정민', '류승룡', '설경구', '오달수', '김향기', '하정우', '송강호', '전지현']\n",
    "for x in predictions2:\n",
    "    print(np.argmax(x))"
   ]
  },
  {
   "cell_type": "code",
   "execution_count": 19,
   "id": "85766fa2",
   "metadata": {
    "ExecuteTime": {
     "end_time": "2022-01-04T10:08:30.448352Z",
     "start_time": "2022-01-04T10:08:30.440982Z"
    }
   },
   "outputs": [
    {
     "data": {
      "text/plain": [
       "array([[3.10701464e-04, 2.37756030e-05, 5.99728210e-12, 3.95207508e-06,\n",
       "        4.82884025e-06, 2.57446300e-13, 9.99019146e-01, 1.73537543e-07,\n",
       "        3.42179497e-04, 2.18529266e-07, 2.94821104e-04, 1.47480080e-07],\n",
       "       [2.26716296e-07, 9.76743460e-01, 7.99349280e-08, 7.99137059e-12,\n",
       "        2.52496022e-07, 3.14164163e-06, 1.81058203e-04, 1.90030676e-08,\n",
       "        8.31381138e-03, 1.47579024e-02, 5.05616029e-08, 4.03807343e-09],\n",
       "       [4.67561949e-06, 2.48689753e-06, 1.20573933e-03, 2.00262428e-17,\n",
       "        1.81896542e-08, 9.89618123e-01, 1.40069300e-04, 1.93181360e-09,\n",
       "        1.55678928e-10, 9.02887248e-03, 1.18781905e-12, 5.95701670e-14],\n",
       "       [4.73615617e-01, 8.28247219e-02, 1.34038327e-11, 6.48524529e-16,\n",
       "        4.42839622e-01, 7.18280731e-04, 1.49505638e-06, 6.53940082e-18,\n",
       "        2.12443581e-07, 4.98363262e-09, 1.48458448e-14, 7.37934798e-08],\n",
       "       [3.24150982e-25, 2.66982283e-06, 2.43294409e-07, 6.98988935e-13,\n",
       "        1.68088094e-29, 4.52950741e-15, 6.63410900e-15, 3.85074389e-10,\n",
       "        1.12688071e-11, 6.27041743e-08, 9.99997020e-01, 2.74171985e-25],\n",
       "       [7.89418308e-14, 2.81591728e-08, 1.34514523e-16, 9.42271650e-01,\n",
       "        5.76173551e-02, 6.14596392e-15, 1.22632244e-07, 1.41817011e-08,\n",
       "        2.01541220e-16, 5.75084996e-05, 5.33780440e-05, 3.00517469e-16],\n",
       "       [8.32454589e-06, 2.70883054e-01, 1.68165178e-13, 3.38914674e-07,\n",
       "        1.04947743e-04, 1.53960206e-10, 9.40656383e-03, 1.02106847e-08,\n",
       "        2.64524570e-04, 7.18715668e-01, 6.16404694e-04, 1.58970280e-07],\n",
       "       [3.16443504e-03, 9.83253401e-03, 5.24653465e-17, 9.20903832e-02,\n",
       "        8.93065810e-01, 1.32564610e-11, 9.56199993e-15, 2.39066311e-32,\n",
       "        5.16588851e-18, 1.39492300e-07, 4.01611795e-13, 1.84674375e-03],\n",
       "       [1.11392483e-26, 5.75342540e-07, 5.66174821e-16, 3.39074568e-17,\n",
       "        2.64358778e-28, 4.55212320e-28, 7.40181375e-20, 1.75776707e-18,\n",
       "        6.45540665e-15, 1.27468251e-17, 9.99999404e-01, 2.88946239e-32],\n",
       "       [5.95598961e-12, 8.69220436e-01, 6.68858847e-15, 6.04367756e-08,\n",
       "        1.28470331e-01, 1.68076369e-07, 1.62728911e-03, 9.22256277e-06,\n",
       "        7.12397139e-07, 6.60845777e-04, 1.06843345e-05, 1.13125125e-07]],\n",
       "      dtype=float32)"
      ]
     },
     "execution_count": 19,
     "metadata": {},
     "output_type": "execute_result"
    }
   ],
   "source": [
    "predictions2"
   ]
  },
  {
   "cell_type": "code",
   "execution_count": null,
   "id": "832abd19",
   "metadata": {},
   "outputs": [],
   "source": []
  }
 ],
 "metadata": {
  "kernelspec": {
   "display_name": "Python 3 (ipykernel)",
   "language": "python",
   "name": "python3"
  },
  "language_info": {
   "codemirror_mode": {
    "name": "ipython",
    "version": 3
   },
   "file_extension": ".py",
   "mimetype": "text/x-python",
   "name": "python",
   "nbconvert_exporter": "python",
   "pygments_lexer": "ipython3",
   "version": "3.7.11"
  },
  "toc": {
   "base_numbering": 1,
   "nav_menu": {},
   "number_sections": true,
   "sideBar": true,
   "skip_h1_title": false,
   "title_cell": "Table of Contents",
   "title_sidebar": "Contents",
   "toc_cell": false,
   "toc_position": {},
   "toc_section_display": true,
   "toc_window_display": false
  },
  "varInspector": {
   "cols": {
    "lenName": 16,
    "lenType": 16,
    "lenVar": 40
   },
   "kernels_config": {
    "python": {
     "delete_cmd_postfix": "",
     "delete_cmd_prefix": "del ",
     "library": "var_list.py",
     "varRefreshCmd": "print(var_dic_list())"
    },
    "r": {
     "delete_cmd_postfix": ") ",
     "delete_cmd_prefix": "rm(",
     "library": "var_list.r",
     "varRefreshCmd": "cat(var_dic_list()) "
    }
   },
   "types_to_exclude": [
    "module",
    "function",
    "builtin_function_or_method",
    "instance",
    "_Feature"
   ],
   "window_display": false
  }
 },
 "nbformat": 4,
 "nbformat_minor": 5
}
