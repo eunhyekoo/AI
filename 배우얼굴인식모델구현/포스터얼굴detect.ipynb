{
 "cells": [
  {
   "cell_type": "code",
   "execution_count": 31,
   "id": "fedd7345",
   "metadata": {
    "ExecuteTime": {
     "end_time": "2022-01-04T07:12:22.060853Z",
     "start_time": "2022-01-04T07:12:22.052823Z"
    }
   },
   "outputs": [],
   "source": [
    "import cv2\n",
    "import os"
   ]
  },
  {
   "cell_type": "code",
   "execution_count": 32,
   "id": "62ef5fba",
   "metadata": {
    "ExecuteTime": {
     "end_time": "2022-01-04T07:12:24.532400Z",
     "start_time": "2022-01-04T07:12:24.408212Z"
    }
   },
   "outputs": [],
   "source": [
    "import cv2\n",
    "\n",
    "# haarcascade 불러오기\n",
    "face_cascade = cv2.CascadeClassifier(cv2.data.haarcascades + 'haarcascade_frontalface_default.xml')\n",
    "#eye_cascade = cv2.CascadeClassifier(cv2.data.haarcascades + 'haarcascade_eye.xml')\n",
    "\n",
    "# 이미지 불러오기\n",
    "path = 'poster/'\n",
    "file_list = os.listdir(path)\n",
    "\n",
    "for X in file_list:\n",
    "    if X == \".DS_Store\":\n",
    "        continue\n",
    "        \n",
    "    img = cv2.imread(path+X)\n",
    "    gray = cv2.cvtColor(img, cv2.COLOR_BGR2GRAY)\n",
    "\n",
    "    # 얼굴 찾기\n",
    "    count = 1\n",
    "    faces = face_cascade.detectMultiScale(gray, 1.3, 5)\n",
    "    for (x, y, w, h) in faces:\n",
    "        img3 = img[y:y+h,x:x+w]\n",
    "        cv2.imwrite('poster_a/'+X[:-5] + '_' + str(count) + \".jpg\"  , img3)\n",
    "        count += 1\n"
   ]
  },
  {
   "cell_type": "code",
   "execution_count": 26,
   "id": "43f9ff99",
   "metadata": {
    "ExecuteTime": {
     "end_time": "2022-01-04T04:40:30.650029Z",
     "start_time": "2022-01-04T04:40:30.646194Z"
    }
   },
   "outputs": [
    {
     "data": {
      "text/plain": [
       "'7번방'"
      ]
     },
     "execution_count": 26,
     "metadata": {},
     "output_type": "execute_result"
    }
   ],
   "source": [
    "X[:-5]"
   ]
  },
  {
   "cell_type": "code",
   "execution_count": 14,
   "id": "ce35aca9",
   "metadata": {
    "ExecuteTime": {
     "end_time": "2022-01-04T03:39:16.819125Z",
     "start_time": "2022-01-04T03:39:16.815157Z"
    }
   },
   "outputs": [
    {
     "name": "stdout",
     "output_type": "stream",
     "text": [
      "96 90 79 79\n",
      "161 147 113 113\n",
      "8 237 89 89\n",
      "288 291 99 99\n"
     ]
    }
   ],
   "source": [
    "for (x, y, w, h) in faces:\n",
    "    print(x,y,w,h)"
   ]
  },
  {
   "cell_type": "code",
   "execution_count": 6,
   "id": "7ecb1ad5",
   "metadata": {
    "ExecuteTime": {
     "end_time": "2022-01-04T00:24:06.635373Z",
     "start_time": "2022-01-04T00:24:06.631592Z"
    }
   },
   "outputs": [
    {
     "data": {
      "text/plain": [
       "91"
      ]
     },
     "execution_count": 6,
     "metadata": {},
     "output_type": "execute_result"
    }
   ],
   "source": [
    "len(file_list)"
   ]
  },
  {
   "cell_type": "code",
   "execution_count": 3,
   "id": "69b4d718",
   "metadata": {
    "ExecuteTime": {
     "end_time": "2022-01-04T00:21:11.772188Z",
     "start_time": "2022-01-04T00:21:11.765659Z"
    }
   },
   "outputs": [
    {
     "name": "stdout",
     "output_type": "stream",
     "text": [
      "오달수_77.jpg\n",
      "오달수_88.jpg\n",
      "오달수_89.jpg\n",
      "오달수_62.jpg\n",
      "오달수_48.jpg\n",
      "오달수_60.jpg\n",
      "오달수_9.jpg\n",
      "오달수_74.jpg\n",
      "오달수_8.jpg\n",
      "오달수_49.jpg\n",
      "오달수_65.jpg\n",
      "오달수_71.jpg\n",
      ".DS_Store\n",
      "오달수_58.jpg\n",
      "오달수_64.jpg\n",
      "오달수_66.jpg\n",
      "오달수_99.jpg\n",
      "오달수_98.jpg\n",
      "오달수_73.jpg\n",
      "오달수_28.jpg\n",
      "오달수_14.jpg\n",
      "오달수_122.jpg\n",
      "오달수_15.jpg\n",
      "오달수_29.jpg\n",
      "오달수_17.jpg\n",
      "오달수_109.jpg\n",
      "오달수_121.jpg\n",
      "오달수_108.jpg\n",
      "오달수_16.jpg\n",
      "오달수_12.jpg\n",
      "오달수_118.jpg\n",
      "오달수_119.jpg\n",
      "오달수_13.jpg\n",
      "오달수_11.jpg\n",
      "오달수_38.jpg\n",
      "오달수_10.jpg\n",
      "오달수_35.jpg\n",
      "오달수_21.jpg\n",
      "오달수_102.jpg\n",
      "오달수_116.jpg\n",
      "오달수_20.jpg\n",
      "오달수_34.jpg\n",
      "오달수_115.jpg\n",
      "오달수_37.jpg\n",
      "오달수_23.jpg\n",
      "오달수_27.jpg\n",
      "오달수_33.jpg\n",
      "오달수_105.jpg\n",
      "오달수_104.jpg\n",
      "오달수_32.jpg\n",
      "오달수_26.jpg\n",
      "오달수_18.jpg\n",
      "오달수_112.jpg\n",
      "오달수_113.jpg\n",
      "오달수_19.jpg\n",
      "오달수_25.jpg\n",
      "오달수_31.jpg\n",
      "오달수_3.jpg\n",
      "오달수_56.jpg\n",
      "오달수_42.jpg\n",
      "오달수_95.jpg\n",
      "오달수_81.jpg\n",
      "오달수_43.jpg\n",
      "오달수_57.jpg\n",
      "오달수_2.jpg\n",
      "오달수_41.jpg\n",
      "오달수_55.jpg\n",
      "오달수_96.jpg\n",
      "오달수_97.jpg\n",
      "오달수_83.jpg\n",
      "오달수_68.jpg\n",
      "오달수_1.jpg\n",
      "오달수_44.jpg\n",
      "오달수_50.jpg\n",
      "오달수_78.jpg\n",
      "오달수_5.jpg\n",
      "오달수_87.jpg\n",
      "오달수_93.jpg\n",
      "오달수_92.jpg\n",
      "오달수_86.jpg\n",
      "오달수_4.jpg\n",
      "오달수_79.jpg\n",
      "오달수_45.jpg\n",
      "오달수_53.jpg\n",
      "오달수_47.jpg\n",
      "오달수_6.jpg\n",
      "오달수_90.jpg\n",
      "오달수_85.jpg\n",
      "오달수_7.jpg\n",
      "오달수_46.jpg\n",
      "오달수_52.jpg\n"
     ]
    }
   ],
   "source": [
    "path = 'actor/'\n",
    "file_list = os.listdir(path)\n",
    "for x in file_list:\n",
    "    print(x)"
   ]
  },
  {
   "cell_type": "code",
   "execution_count": null,
   "id": "67983ce8",
   "metadata": {},
   "outputs": [],
   "source": [
    "# 예시 얼굴\n",
    "'''# haarcascade 불러오기\n",
    "face_cascade = cv2.CascadeClassifier(cv2.data.haarcascades + 'haarcascade_frontalface_default.xml')\n",
    "eye_cascade = cv2.CascadeClassifier(cv2.data.haarcascades + 'haarcascade_eye.xml')\n",
    "\n",
    "# 이미지 불러오기\n",
    "img = cv2.imread('sample.png')\n",
    "gray = cv2.cvtColor(img, cv2.COLOR_BGR2GRAY)\n",
    "\n",
    "# 얼굴 찾기\n",
    "faces = face_cascade.detectMultiScale(gray, 1.3, 5)\n",
    "for (x, y, w, h) in faces:\n",
    "    cv2.rectangle(img, (x, y), (x + w, y + h), (255, 0, 0), 2)\n",
    "\n",
    "    # 눈 찾기\n",
    "    roi_color = img[y:y + h, x:x + w]\n",
    "    roi_gray = gray[y:y + h, x:x + w]\n",
    "    eyes = eye_cascade.detectMultiScale(roi_gray)\n",
    "    for (ex, ey, ew, eh) in eyes:\n",
    "        cv2.rectangle(roi_color, (ex, ey), (ex+ew, ey+eh), (0, 255, 0), 2)\n",
    "\n",
    "# 영상 출력\n",
    "cv2.imshow('image', img)\n",
    "\n",
    "key = cv2.waitKey(0)\n",
    "cv2.destroyAllWindows()'''"
   ]
  }
 ],
 "metadata": {
  "kernelspec": {
   "display_name": "Python 3 (ipykernel)",
   "language": "python",
   "name": "python3"
  },
  "language_info": {
   "codemirror_mode": {
    "name": "ipython",
    "version": 3
   },
   "file_extension": ".py",
   "mimetype": "text/x-python",
   "name": "python",
   "nbconvert_exporter": "python",
   "pygments_lexer": "ipython3",
   "version": "3.9.9"
  },
  "toc": {
   "base_numbering": 1,
   "nav_menu": {},
   "number_sections": true,
   "sideBar": true,
   "skip_h1_title": false,
   "title_cell": "Table of Contents",
   "title_sidebar": "Contents",
   "toc_cell": false,
   "toc_position": {},
   "toc_section_display": true,
   "toc_window_display": false
  },
  "varInspector": {
   "cols": {
    "lenName": 16,
    "lenType": 16,
    "lenVar": 40
   },
   "kernels_config": {
    "python": {
     "delete_cmd_postfix": "",
     "delete_cmd_prefix": "del ",
     "library": "var_list.py",
     "varRefreshCmd": "print(var_dic_list())"
    },
    "r": {
     "delete_cmd_postfix": ") ",
     "delete_cmd_prefix": "rm(",
     "library": "var_list.r",
     "varRefreshCmd": "cat(var_dic_list()) "
    }
   },
   "types_to_exclude": [
    "module",
    "function",
    "builtin_function_or_method",
    "instance",
    "_Feature"
   ],
   "window_display": false
  }
 },
 "nbformat": 4,
 "nbformat_minor": 5
}
