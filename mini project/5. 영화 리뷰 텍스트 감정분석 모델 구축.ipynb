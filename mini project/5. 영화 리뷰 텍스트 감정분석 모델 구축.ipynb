{
 "cells": [
  {
   "cell_type": "markdown",
   "id": "afc544d3",
   "metadata": {},
   "source": [
    "## 01. 데이터셋 준비하기"
   ]
  },
  {
   "cell_type": "markdown",
   "id": "f2647a8e",
   "metadata": {},
   "source": [
    "IMDB 리뷰 데이터셋은 텍스트로부터 감정을 분석하고, 학습 및 분류하기 위한 데이터셋입니다.\n",
    "\n",
    "긍정적 (positive) 또는 부정적 (negative)로 분류된 50,000개의 영화 리뷰 텍스트를 포함하며, 25,000개는 훈련에 사용되고, 25,000개는 테스트에 사용합니다."
   ]
  },
  {
   "cell_type": "raw",
   "id": "5d8678c9",
   "metadata": {},
   "source": [
    "!pip install -q tensorflow-datasets"
   ]
  },
  {
   "cell_type": "markdown",
   "id": "3b3c84d4",
   "metadata": {},
   "source": [
    "Google Colab을 사용하는 경우 TensorFlow Datasets이 이미 설치되어 있습니다. 자신의 환경에서 TensorFlow Datasets이 설치되어 있지 않다면 명령 프롬프트에서 아래의 명령어를 통해 TensorFlow Datasets를 설치합니다."
   ]
  },
  {
   "cell_type": "code",
   "execution_count": 2,
   "id": "c63a2785",
   "metadata": {},
   "outputs": [
    {
     "name": "stderr",
     "output_type": "stream",
     "text": [
      "2022-01-01 12:30:02.554722: I tensorflow/core/platform/cpu_feature_guard.cc:145] This TensorFlow binary is optimized with Intel(R) MKL-DNN to use the following CPU instructions in performance critical operations:  SSE4.1 SSE4.2\n",
      "To enable them in non-MKL-DNN operations, rebuild TensorFlow with the appropriate compiler flags.\n",
      "2022-01-01 12:30:02.557092: I tensorflow/core/common_runtime/process_util.cc:115] Creating new thread pool with default inter op setting: 8. Tune using inter_op_parallelism_threads for best performance.\n"
     ]
    }
   ],
   "source": [
    "import tensorflow_datasets as tfds\n",
    "imdb, info = tfds.load('imdb_reviews', with_info=True, as_supervised=True)"
   ]
  },
  {
   "cell_type": "markdown",
   "id": "d38e917d",
   "metadata": {},
   "source": [
    "TensorFlow Datasets의 설치가 완료되었다면, 아래와 같이 tensorflow_datasets 모듈을 불러옵니다.\n",
    "\n",
    "Google Colab 환경에서 처음으로 모듈을 불러와서 코드셀을 실행했을 때, 아래와 같이 출력된다면 데이터셋이 준비된 것입니다"
   ]
  },
  {
   "cell_type": "markdown",
   "id": "8098492c",
   "metadata": {},
   "source": [
    "<img src=\"./figure/natural_language_processing_in_tensorflow_07.png\" width=\"400\">"
   ]
  },
  {
   "cell_type": "markdown",
   "id": "747e22f9",
   "metadata": {},
   "source": [
    "## 02. 데이터셋 살펴보기"
   ]
  },
  {
   "cell_type": "markdown",
   "id": "c748db2d",
   "metadata": {},
   "source": [
    "이제 준비한 영화 리뷰 데이터셋을 훈련과 테스트에 적절한 형태로 처리하고, 첫번째 데이터를 출력해 보겠습니다."
   ]
  },
  {
   "cell_type": "code",
   "execution_count": 11,
   "id": "3d195a16",
   "metadata": {},
   "outputs": [
    {
     "name": "stdout",
     "output_type": "stream",
     "text": [
      "b\"This was an absolutely terrible movie. Don't be lured in by Christopher Walken or Michael Ironside. Both are great actors, but this must simply be their worst role in history. Even their great acting could not redeem this movie's ridiculous storyline. This movie is an early nineties US propaganda piece. The most pathetic scenes were those when the Columbian rebels were making their cases for revolutions. Maria Conchita Alonso appeared phony, and her pseudo-love affair with Walken was nothing but a pathetic emotional plug in a movie that was devoid of any real meaning. I am disappointed that there are movies like this, ruining actor's like Christopher Walken's good name. I could barely sit through it.\"\n",
      "0\n",
      "b\"There are films that make careers. For George Romero, it was NIGHT OF THE LIVING DEAD; for Kevin Smith, CLERKS; for Robert Rodriguez, EL MARIACHI. Add to that list Onur Tukel's absolutely amazing DING-A-LING-LESS. Flawless film-making, and as assured and as professional as any of the aforementioned movies. I haven't laughed this hard since I saw THE FULL MONTY. (And, even then, I don't think I laughed quite this hard... So to speak.) Tukel's talent is considerable: DING-A-LING-LESS is so chock full of double entendres that one would have to sit down with a copy of this script and do a line-by-line examination of it to fully appreciate the, uh, breadth and width of it. Every shot is beautifully composed (a clear sign of a sure-handed director), and the performances all around are solid (there's none of the over-the-top scenery chewing one might've expected from a film like this). DING-A-LING-LESS is a film whose time has come.\"\n",
      "1\n"
     ]
    }
   ],
   "source": [
    "import numpy as np\n",
    "\n",
    "train_data, test_data = imdb['train'], imdb['test']\n",
    "train_sentences = []\n",
    "train_labels = []\n",
    "test_sentences = []\n",
    "test_labels = []\n",
    "\n",
    "for s, l in train_data:\n",
    "  train_sentences.append(str(s.numpy()))\n",
    "  train_labels.append(l.numpy())\n",
    "\n",
    "for s, l in test_data:\n",
    "  test_sentences.append(str(s.numpy()))\n",
    "  test_labels.append(l.numpy())\n",
    "\n",
    "print(train_sentences[0])\n",
    "print(train_labels[0])\n",
    "print(test_sentences[0])\n",
    "print(test_labels[0])"
   ]
  },
  {
   "cell_type": "markdown",
   "id": "d462dbbf",
   "metadata": {},
   "source": [
    "리스트 train_sentences, train_labels, test_sentences, test_labels는 각각 훈련과 테스트에 사용할 리뷰 텍스트 문장과 레이블입니다.\n",
    "\n",
    "리뷰가 긍정적이라면 1, 부정적이라면 0으로 레이블되어 있습니다."
   ]
  },
  {
   "cell_type": "code",
   "execution_count": 12,
   "id": "b1cbdb00",
   "metadata": {},
   "outputs": [],
   "source": [
    "train_labels = np.array(train_labels)\n",
    "test_labels = np.array(test_labels)"
   ]
  },
  {
   "cell_type": "markdown",
   "id": "e08a0770",
   "metadata": {},
   "source": [
    "np.array()를 사용해서 레이블을 NumPy 어레이로 변환해줍니다."
   ]
  },
  {
   "cell_type": "markdown",
   "id": "61531256",
   "metadata": {},
   "source": [
    "## 03. 리뷰 문장 토큰화하기"
   ]
  },
  {
   "cell_type": "code",
   "execution_count": 13,
   "id": "cd9f012e",
   "metadata": {},
   "outputs": [
    {
     "name": "stdout",
     "output_type": "stream",
     "text": [
      "[59, 12, 14, 35, 439, 400, 18, 174, 29, 1, 9, 33, 1378, 3401, 42, 496, 1, 197, 25, 88, 156, 19, 12, 211, 340, 29, 70, 248, 213, 9, 486, 62, 70, 88, 116, 99, 24, 5740, 12, 3317, 657, 777, 12, 18, 7, 35, 406, 8228, 178, 2477, 426, 2, 92, 1253, 140, 72, 149, 55, 2, 1, 7525, 72, 229, 70, 2962, 16, 1, 2880, 1, 1, 1506, 4998, 3, 40, 3947, 119, 1608, 17, 3401, 14, 163, 19, 4, 1253, 927, 7986, 9, 4, 18, 13, 14, 4200, 5, 102, 148, 1237, 11, 240, 692, 13, 44, 25, 101, 39, 12, 7232, 1, 39, 1378, 1, 52, 409, 11, 99, 1214, 874, 145, 10]\n",
      "[   0    0   59   12   14   35  439  400   18  174   29    1    9   33\n",
      " 1378 3401   42  496    1  197   25   88  156   19   12  211  340   29\n",
      "   70  248  213    9  486   62   70   88  116   99   24 5740   12 3317\n",
      "  657  777   12   18    7   35  406 8228  178 2477  426    2   92 1253\n",
      "  140   72  149   55    2    1 7525   72  229   70 2962   16    1 2880\n",
      "    1    1 1506 4998    3   40 3947  119 1608   17 3401   14  163   19\n",
      "    4 1253  927 7986    9    4   18   13   14 4200    5  102  148 1237\n",
      "   11  240  692   13   44   25  101   39   12 7232    1   39 1378    1\n",
      "   52  409   11   99 1214  874  145   10]\n",
      "[59, 44, 25, 109, 13, 97, 4115, 16, 742, 4370, 10, 14, 316, 5, 2, 593, 354, 16, 1864, 1212, 1, 16, 680, 7499, 5595, 1, 773, 6, 13, 1037, 1, 1, 439, 491, 1, 4, 1, 334, 3610, 20, 229, 3, 15, 5796, 3, 15, 1646, 15, 102, 5, 2, 3597, 101, 11, 1450, 1528, 12, 251, 235, 11, 216, 2, 377, 6429, 3, 62, 95, 11, 174, 105, 11, 1528, 180, 12, 251, 37, 6, 1144, 1, 682, 7, 4452, 1, 4, 1, 334, 7, 37, 8367, 377, 5, 1420, 1, 13, 30, 64, 28, 6, 874, 181, 17, 4, 1050, 5, 12, 224, 3, 83, 4, 353, 33, 353, 5229, 5, 10, 6, 1340, 1160, 2, 5738, 1, 3, 1, 5, 10, 175, 328, 7, 1319, 3989, 4, 798, 1946, 5, 4, 250, 2710, 158, 3, 2, 361, 31, 187, 25, 1170, 499, 610, 5, 2, 122, 2, 356, 1398, 7725, 30, 1, 881, 38, 4, 20, 39, 12, 1, 4, 1, 334, 7, 4, 20, 634, 60, 48, 214]\n",
      "[  11 1450 1528   12  251  235   11  216    2  377 6429    3   62   95\n",
      "   11  174  105   11 1528  180   12  251   37    6 1144    1  682    7\n",
      " 4452    1    4    1  334    7   37 8367  377    5 1420    1   13   30\n",
      "   64   28    6  874  181   17    4 1050    5   12  224    3   83    4\n",
      "  353   33  353 5229    5   10    6 1340 1160    2 5738    1    3    1\n",
      "    5   10  175  328    7 1319 3989    4  798 1946    5    4  250 2710\n",
      "  158    3    2  361   31  187   25 1170  499  610    5    2  122    2\n",
      "  356 1398 7725   30    1  881   38    4   20   39   12    1    4    1\n",
      "  334    7    4   20  634   60   48  214]\n"
     ]
    }
   ],
   "source": [
    "vocab_size = 10000\n",
    "embedding_dim = 16\n",
    "max_length = 120\n",
    "trunc_type = 'post'\n",
    "oov_tok = \"<OOV>\"\n",
    "\n",
    "from tensorflow.keras.preprocessing.text import Tokenizer\n",
    "from tensorflow.keras.preprocessing.sequence import pad_sequences\n",
    "\n",
    "tokenizer = Tokenizer(num_words=vocab_size, oov_token=oov_tok)\n",
    "tokenizer.fit_on_texts(train_sentences)\n",
    "word_index = tokenizer.word_index\n",
    "\n",
    "sequences = tokenizer.texts_to_sequences(train_sentences)\n",
    "padded = pad_sequences(sequences, maxlen=max_length, truncating=trunc_type)\n",
    "\n",
    "test_sequences = tokenizer.texts_to_sequences(test_sentences)\n",
    "test_padded = pad_sequences(test_sequences, maxlen=max_length)\n",
    "\n",
    "print(sequences[0])\n",
    "print(padded[0])\n",
    "\n",
    "print(test_sequences[0])\n",
    "print(test_padded[0])"
   ]
  },
  {
   "cell_type": "markdown",
   "id": "01b5e031",
   "metadata": {},
   "source": [
    "우선 토큰화할 단어의 수, 최대 길이와 같은 하이퍼 파라미터들을 먼저 지정하고,\n",
    "\n",
    "Tokenizer와 pad_sequences() 함수를 불러옵니다.\n",
    "\n",
    "fit_on_texts를 이용해서 단어를 토큰화하고, texts_to_sequences를 이용해서 숫자의 시퀀스로 다시 변환합니다.\n",
    "\n",
    "pad_sequences는 Neural Network의 훈련에 적합하도록 이 시퀀스의 길이를 일정하게 만들어줍니다."
   ]
  },
  {
   "cell_type": "markdown",
   "id": "c82c6454",
   "metadata": {},
   "source": [
    "## 04. 모델 구성하기"
   ]
  },
  {
   "cell_type": "code",
   "execution_count": 14,
   "id": "e3d446f6",
   "metadata": {},
   "outputs": [
    {
     "name": "stdout",
     "output_type": "stream",
     "text": [
      "Model: \"sequential_2\"\n",
      "_________________________________________________________________\n",
      "Layer (type)                 Output Shape              Param #   \n",
      "=================================================================\n",
      "embedding_2 (Embedding)      (None, 120, 16)           160000    \n",
      "_________________________________________________________________\n",
      "flatten_1 (Flatten)          (None, 1920)              0         \n",
      "_________________________________________________________________\n",
      "dense_4 (Dense)              (None, 6)                 11526     \n",
      "_________________________________________________________________\n",
      "dense_5 (Dense)              (None, 1)                 7         \n",
      "=================================================================\n",
      "Total params: 171,533\n",
      "Trainable params: 171,533\n",
      "Non-trainable params: 0\n",
      "_________________________________________________________________\n"
     ]
    }
   ],
   "source": [
    "import tensorflow as tf\n",
    "\n",
    "model = tf.keras.Sequential([\n",
    "  tf.keras.layers.Embedding(vocab_size, embedding_dim, input_length=max_length),\n",
    "  tf.keras.layers.Flatten(),\n",
    "  tf.keras.layers.Dense(6, activation='relu'),\n",
    "  tf.keras.layers.Dense(1, activation='sigmoid')\n",
    "])\n",
    "\n",
    "model.summary()"
   ]
  },
  {
   "cell_type": "markdown",
   "id": "39fa70d6",
   "metadata": {},
   "source": [
    "Embedding 레어이는 텍스트의 감정 분석에 있어서 핵심적인 부분입니다.\n",
    "\n",
    "임베딩의 결과는 (vocab_size, embedding_dim)의 형태를 갖는 2차원 어레이가 되고,\n",
    "\n",
    "이미지 분류 문제에서와 마찬가지로 Flatten 레이어를 사용해서 이 2차원 어레이를 1차원으로 변환합니다."
   ]
  },
  {
   "cell_type": "markdown",
   "id": "d7c05da6",
   "metadata": {},
   "source": [
    "## 05. 모델 컴파일하기"
   ]
  },
  {
   "cell_type": "code",
   "execution_count": 15,
   "id": "845caea7",
   "metadata": {},
   "outputs": [],
   "source": [
    "model.compile(loss='binary_crossentropy', optimizer='adam', metrics=['accuracy'])"
   ]
  },
  {
   "cell_type": "markdown",
   "id": "0203f8a7",
   "metadata": {},
   "source": [
    "compile() 메서드를 이용해서 손실 함수와 옵티마이저를 지정해줍니다."
   ]
  },
  {
   "cell_type": "markdown",
   "id": "bc5640e7",
   "metadata": {},
   "source": [
    "## 06. 모델 훈련하기"
   ]
  },
  {
   "cell_type": "code",
   "execution_count": 16,
   "id": "e53364d8",
   "metadata": {},
   "outputs": [
    {
     "name": "stdout",
     "output_type": "stream",
     "text": [
      "Train on 25000 samples, validate on 25000 samples\n",
      "Epoch 1/10\n",
      "25000/25000 [==============================] - 6s 225us/sample - loss: 0.5018 - accuracy: 0.7308 - val_loss: 0.3556 - val_accuracy: 0.8431\n",
      "Epoch 2/10\n",
      "25000/25000 [==============================] - 5s 201us/sample - loss: 0.2454 - accuracy: 0.9036 - val_loss: 0.3618 - val_accuracy: 0.8426\n",
      "Epoch 3/10\n",
      "25000/25000 [==============================] - 5s 199us/sample - loss: 0.0983 - accuracy: 0.9736 - val_loss: 0.4416 - val_accuracy: 0.8283\n",
      "Epoch 4/10\n",
      "25000/25000 [==============================] - 5s 197us/sample - loss: 0.0255 - accuracy: 0.9966 - val_loss: 0.5405 - val_accuracy: 0.8231\n",
      "Epoch 5/10\n",
      "25000/25000 [==============================] - 5s 199us/sample - loss: 0.0064 - accuracy: 0.9994 - val_loss: 0.5986 - val_accuracy: 0.8234\n",
      "Epoch 6/10\n",
      "25000/25000 [==============================] - 5s 199us/sample - loss: 0.0019 - accuracy: 1.0000 - val_loss: 0.6473 - val_accuracy: 0.8260\n",
      "Epoch 7/10\n",
      "25000/25000 [==============================] - 5s 200us/sample - loss: 8.6919e-04 - accuracy: 1.0000 - val_loss: 0.6891 - val_accuracy: 0.8269\n",
      "Epoch 8/10\n",
      "25000/25000 [==============================] - 5s 203us/sample - loss: 4.8632e-04 - accuracy: 1.0000 - val_loss: 0.7337 - val_accuracy: 0.8248\n",
      "Epoch 9/10\n",
      "25000/25000 [==============================] - 5s 200us/sample - loss: 2.7953e-04 - accuracy: 1.0000 - val_loss: 0.7681 - val_accuracy: 0.8264\n",
      "Epoch 10/10\n",
      "25000/25000 [==============================] - 5s 212us/sample - loss: 1.6582e-04 - accuracy: 1.0000 - val_loss: 0.8053 - val_accuracy: 0.8262\n"
     ]
    }
   ],
   "source": [
    "num_epochs = 10\n",
    "hist = model.fit(padded, train_labels, epochs=num_epochs,\n",
    "        validation_data=(test_padded, test_labels))"
   ]
  },
  {
   "cell_type": "markdown",
   "id": "eea4116f",
   "metadata": {},
   "source": [
    "10회의 에포크 (epoch) 동안 훈련을 거치고 나면,\n",
    "\n",
    "훈련 데이터에 대해 1.0의 정확도, 테스트 데이터에 대해 0.8293의 정확도를 보이는 것을 알 수 있습니다."
   ]
  },
  {
   "cell_type": "markdown",
   "id": "366a6fd5",
   "metadata": {},
   "source": [
    "# 시각화 해보기"
   ]
  },
  {
   "cell_type": "code",
   "execution_count": 18,
   "id": "8e1331b7",
   "metadata": {},
   "outputs": [],
   "source": [
    "import matplotlib.pyplot as plt"
   ]
  },
  {
   "cell_type": "code",
   "execution_count": 23,
   "id": "6d878f89",
   "metadata": {},
   "outputs": [
    {
     "data": {
      "image/png": "[encoded data removed]",
      "text/plain": [
       "<Figure size 432x288 with 1 Axes>"
      ]
     },
     "metadata": {
      "needs_background": "light"
     },
     "output_type": "display_data"
    }
   ],
   "source": [
    "plt.plot(hist.history['accuracy'],label = 'acc')\n",
    "plt.plot(hist.history['loss'],label = 'loss')\n",
    "plt.plot(hist.history['val_accuracy'],label = 'val_acc')\n",
    "plt.plot(hist.history['val_loss'],label = 'val_loss')\n",
    "plt.legend(loc = 'upper right')\n",
    "plt.show()"
   ]
  },
  {
   "cell_type": "markdown",
   "id": "ca496d28",
   "metadata": {},
   "source": [
    "# GlobaAveragePooling1D 레이어 사용해서 다시 신경망 구축해보기"
   ]
  },
  {
   "cell_type": "code",
   "execution_count": 24,
   "id": "034a338e",
   "metadata": {
    "scrolled": true
   },
   "outputs": [
    {
     "name": "stdout",
     "output_type": "stream",
     "text": [
      "Model: \"sequential_3\"\n",
      "_________________________________________________________________\n",
      "Layer (type)                 Output Shape              Param #   \n",
      "=================================================================\n",
      "embedding_3 (Embedding)      (None, 120, 16)           160000    \n",
      "_________________________________________________________________\n",
      "global_average_pooling1d_1 ( (None, 16)                0         \n",
      "_________________________________________________________________\n",
      "dense_6 (Dense)              (None, 6)                 102       \n",
      "_________________________________________________________________\n",
      "dense_7 (Dense)              (None, 1)                 7         \n",
      "=================================================================\n",
      "Total params: 160,109\n",
      "Trainable params: 160,109\n",
      "Non-trainable params: 0\n",
      "_________________________________________________________________\n"
     ]
    }
   ],
   "source": [
    "import tensorflow as tf\n",
    "\n",
    "model1 = tf.keras.Sequential([\n",
    "  tf.keras.layers.Embedding(vocab_size, embedding_dim, input_length=max_length),\n",
    "  # tf.keras.layers.Flatten(),\n",
    "  tf.keras.layers.GlobalAveragePooling1D(),\n",
    "  tf.keras.layers.Dense(6, activation='relu'),\n",
    "  tf.keras.layers.Dense(1, activation='sigmoid')\n",
    "])\n",
    "\n",
    "model.summary()"
   ]
  },
  {
   "cell_type": "markdown",
   "id": "b5b75c10",
   "metadata": {},
   "source": [
    "Flatten 레이어 대신, GlobaAveragePooling1D 레이어를 사용할 수 있습니다.\n",
    "\n",
    "훈련 과정이 조금 더 빨라지는 대신, 정확도가 조금 감소합니다."
   ]
  },
  {
   "cell_type": "code",
   "execution_count": 26,
   "id": "f1141ba5",
   "metadata": {},
   "outputs": [],
   "source": [
    "model1.compile(loss='binary_crossentropy', optimizer='adam', metrics=['accuracy'])"
   ]
  },
  {
   "cell_type": "code",
   "execution_count": 27,
   "id": "f28dec51",
   "metadata": {},
   "outputs": [
    {
     "name": "stdout",
     "output_type": "stream",
     "text": [
      "Train on 25000 samples, validate on 25000 samples\n",
      "Epoch 1/10\n",
      "25000/25000 [==============================] - 5s 210us/sample - loss: 0.5572 - accuracy: 0.7507 - val_loss: 0.3994 - val_accuracy: 0.8384\n",
      "Epoch 2/10\n",
      "25000/25000 [==============================] - 5s 188us/sample - loss: 0.3413 - accuracy: 0.8599 - val_loss: 0.3345 - val_accuracy: 0.8574\n",
      "Epoch 3/10\n",
      "25000/25000 [==============================] - 5s 188us/sample - loss: 0.2765 - accuracy: 0.8892 - val_loss: 0.3327 - val_accuracy: 0.8561\n",
      "Epoch 4/10\n",
      "25000/25000 [==============================] - 5s 184us/sample - loss: 0.2399 - accuracy: 0.9078 - val_loss: 0.3400 - val_accuracy: 0.8552\n",
      "Epoch 5/10\n",
      "25000/25000 [==============================] - 5s 186us/sample - loss: 0.2128 - accuracy: 0.9200 - val_loss: 0.3594 - val_accuracy: 0.8491\n",
      "Epoch 6/10\n",
      "25000/25000 [==============================] - 5s 187us/sample - loss: 0.1926 - accuracy: 0.9301 - val_loss: 0.3837 - val_accuracy: 0.8431\n",
      "Epoch 7/10\n",
      "25000/25000 [==============================] - 5s 183us/sample - loss: 0.1743 - accuracy: 0.9377 - val_loss: 0.4289 - val_accuracy: 0.8318\n",
      "Epoch 8/10\n",
      "25000/25000 [==============================] - 5s 183us/sample - loss: 0.1597 - accuracy: 0.9449 - val_loss: 0.4362 - val_accuracy: 0.8342\n",
      "Epoch 9/10\n",
      "25000/25000 [==============================] - 5s 182us/sample - loss: 0.1466 - accuracy: 0.9505 - val_loss: 0.4706 - val_accuracy: 0.8300\n",
      "Epoch 10/10\n",
      "25000/25000 [==============================] - 5s 181us/sample - loss: 0.1355 - accuracy: 0.9552 - val_loss: 0.5169 - val_accuracy: 0.8255\n"
     ]
    }
   ],
   "source": [
    "num_epochs = 10\n",
    "hist = model1.fit(padded, train_labels, epochs=num_epochs,\n",
    "        validation_data=(test_padded, test_labels))"
   ]
  },
  {
   "cell_type": "code",
   "execution_count": 28,
   "id": "a2d5cc06",
   "metadata": {},
   "outputs": [
    {
     "data": {
      "image/png": "[encoded data removed]",
      "text/plain": [
       "<Figure size 432x288 with 1 Axes>"
      ]
     },
     "metadata": {
      "needs_background": "light"
     },
     "output_type": "display_data"
    }
   ],
   "source": [
    "plt.plot(hist.history['accuracy'],label = 'acc')\n",
    "plt.plot(hist.history['loss'],label = 'loss')\n",
    "plt.plot(hist.history['val_accuracy'],label = 'val_acc')\n",
    "plt.plot(hist.history['val_loss'],label = 'val_loss')\n",
    "plt.legend(loc = 'upper right')\n",
    "plt.show()"
   ]
  },
  {
   "cell_type": "code",
   "execution_count": null,
   "id": "14528dd0",
   "metadata": {},
   "outputs": [],
   "source": []
  }
 ],
 "metadata": {
  "kernelspec": {
   "display_name": "Python 3 (ipykernel)",
   "language": "python",
   "name": "python3"
  },
  "language_info": {
   "codemirror_mode": {
    "name": "ipython",
    "version": 3
   },
   "file_extension": ".py",
   "mimetype": "text/x-python",
   "name": "python",
   "nbconvert_exporter": "python",
   "pygments_lexer": "ipython3",
   "version": "3.7.11"
  },
  "nbTranslate": {
   "displayLangs": [
    "*"
   ],
   "hotkey": "",
   "langInMainMenu": true,
   "sourceLang": "en",
   "targetLang": "fr",
   "useGoogleTranslate": true
  },
  "toc": {
   "base_numbering": 1,
   "nav_menu": {},
   "number_sections": false,
   "sideBar": true,
   "skip_h1_title": false,
   "title_cell": "Table of Contents",
   "title_sidebar": "Contents",
   "toc_cell": false,
   "toc_position": {},
   "toc_section_display": true,
   "toc_window_display": false
  },
  "varInspector": {
   "cols": {
    "lenName": 16,
    "lenType": 16,
    "lenVar": 40
   },
   "kernels_config": {
    "python": {
     "delete_cmd_postfix": "",
     "delete_cmd_prefix": "del ",
     "library": "var_list.py",
     "varRefreshCmd": "print(var_dic_list())"
    },
    "r": {
     "delete_cmd_postfix": ") ",
     "delete_cmd_prefix": "rm(",
     "library": "var_list.r",
     "varRefreshCmd": "cat(var_dic_list()) "
    }
   },
   "types_to_exclude": [
    "module",
    "function",
    "builtin_function_or_method",
    "instance",
    "_Feature"
   ],
   "window_display": false
  }
 },
 "nbformat": 4,
 "nbformat_minor": 5
}
