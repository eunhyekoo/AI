{
 "cells": [
  {
   "cell_type": "markdown",
   "id": "09b6fe59",
   "metadata": {},
   "source": [
    "# 데이터 가져오기"
   ]
  },
  {
   "cell_type": "code",
   "execution_count": 84,
   "id": "92cba5f5",
   "metadata": {},
   "outputs": [],
   "source": [
    "import numpy as np\n",
    "import pandas as pd\n",
    "import tensorflow as tf\n"
   ]
  },
  {
   "cell_type": "code",
   "execution_count": 85,
   "id": "f886677f",
   "metadata": {},
   "outputs": [
    {
     "data": {
      "text/html": [
       "<div>\n",
       "<style scoped>\n",
       "    .dataframe tbody tr th:only-of-type {\n",
       "        vertical-align: middle;\n",
       "    }\n",
       "\n",
       "    .dataframe tbody tr th {\n",
       "        vertical-align: top;\n",
       "    }\n",
       "\n",
       "    .dataframe thead th {\n",
       "        text-align: right;\n",
       "    }\n",
       "</style>\n",
       "<table border=\"1\" class=\"dataframe\">\n",
       "  <thead>\n",
       "    <tr style=\"text-align: right;\">\n",
       "      <th></th>\n",
       "      <th>Pregnancies</th>\n",
       "      <th>Glucose</th>\n",
       "      <th>BloodPressure</th>\n",
       "      <th>SkinThickness</th>\n",
       "      <th>Insulin</th>\n",
       "      <th>BMI</th>\n",
       "      <th>DiabetesPedigreeFunction</th>\n",
       "      <th>Age</th>\n",
       "      <th>Outcome</th>\n",
       "    </tr>\n",
       "  </thead>\n",
       "  <tbody>\n",
       "    <tr>\n",
       "      <th>0</th>\n",
       "      <td>6</td>\n",
       "      <td>148</td>\n",
       "      <td>72</td>\n",
       "      <td>35</td>\n",
       "      <td>0</td>\n",
       "      <td>33.6</td>\n",
       "      <td>0.627</td>\n",
       "      <td>50</td>\n",
       "      <td>1</td>\n",
       "    </tr>\n",
       "    <tr>\n",
       "      <th>1</th>\n",
       "      <td>1</td>\n",
       "      <td>85</td>\n",
       "      <td>66</td>\n",
       "      <td>29</td>\n",
       "      <td>0</td>\n",
       "      <td>26.6</td>\n",
       "      <td>0.351</td>\n",
       "      <td>31</td>\n",
       "      <td>0</td>\n",
       "    </tr>\n",
       "    <tr>\n",
       "      <th>2</th>\n",
       "      <td>8</td>\n",
       "      <td>183</td>\n",
       "      <td>64</td>\n",
       "      <td>0</td>\n",
       "      <td>0</td>\n",
       "      <td>23.3</td>\n",
       "      <td>0.672</td>\n",
       "      <td>32</td>\n",
       "      <td>1</td>\n",
       "    </tr>\n",
       "    <tr>\n",
       "      <th>3</th>\n",
       "      <td>1</td>\n",
       "      <td>89</td>\n",
       "      <td>66</td>\n",
       "      <td>23</td>\n",
       "      <td>94</td>\n",
       "      <td>28.1</td>\n",
       "      <td>0.167</td>\n",
       "      <td>21</td>\n",
       "      <td>0</td>\n",
       "    </tr>\n",
       "    <tr>\n",
       "      <th>4</th>\n",
       "      <td>0</td>\n",
       "      <td>137</td>\n",
       "      <td>40</td>\n",
       "      <td>35</td>\n",
       "      <td>168</td>\n",
       "      <td>43.1</td>\n",
       "      <td>2.288</td>\n",
       "      <td>33</td>\n",
       "      <td>1</td>\n",
       "    </tr>\n",
       "  </tbody>\n",
       "</table>\n",
       "</div>"
      ],
      "text/plain": [
       "   Pregnancies  Glucose  BloodPressure  SkinThickness  Insulin   BMI  \\\n",
       "0            6      148             72             35        0  33.6   \n",
       "1            1       85             66             29        0  26.6   \n",
       "2            8      183             64              0        0  23.3   \n",
       "3            1       89             66             23       94  28.1   \n",
       "4            0      137             40             35      168  43.1   \n",
       "\n",
       "   DiabetesPedigreeFunction  Age  Outcome  \n",
       "0                     0.627   50        1  \n",
       "1                     0.351   31        0  \n",
       "2                     0.672   32        1  \n",
       "3                     0.167   21        0  \n",
       "4                     2.288   33        1  "
      ]
     },
     "execution_count": 85,
     "metadata": {},
     "output_type": "execute_result"
    }
   ],
   "source": [
    "data = pd.read_csv('diabetes.csv')\n",
    "data.head()"
   ]
  },
  {
   "cell_type": "markdown",
   "id": "497c6723",
   "metadata": {},
   "source": [
    "# 데이터 전처리"
   ]
  },
  {
   "cell_type": "code",
   "execution_count": 119,
   "id": "da9d1902",
   "metadata": {},
   "outputs": [
    {
     "name": "stdout",
     "output_type": "stream",
     "text": [
      "[[  6.    148.     72.    ...  33.6     0.627  50.   ]\n",
      " [  1.     85.     66.    ...  26.6     0.351  31.   ]\n",
      " [  8.    183.     64.    ...  23.3     0.672  32.   ]\n",
      " ...\n",
      " [  5.    121.     72.    ...  26.2     0.245  30.   ]\n",
      " [  1.    126.     60.    ...  30.1     0.349  47.   ]\n",
      " [  1.     93.     70.    ...  30.4     0.315  23.   ]]\n"
     ]
    }
   ],
   "source": [
    "X = data.drop(['Outcome'],axis = 1)\n",
    "X.head()\n",
    "X = np.asarray(X)\n",
    "print(X)"
   ]
  },
  {
   "cell_type": "code",
   "execution_count": 135,
   "id": "c770e3d3",
   "metadata": {},
   "outputs": [
    {
     "data": {
      "text/plain": [
       "array([0., 0., 0., 0., 0., 0., 0., 0.])"
      ]
     },
     "execution_count": 135,
     "metadata": {},
     "output_type": "execute_result"
    }
   ],
   "source": [
    "Y = data['Outcome'].values\n",
    "Y = np.asarray(Y)\n",
    "np.min(X,axis =0)"
   ]
  },
  {
   "cell_type": "code",
   "execution_count": 121,
   "id": "94e2a147",
   "metadata": {},
   "outputs": [
    {
     "data": {
      "text/plain": [
       "array([[0.35294118, 0.74371859, 0.59016393, ..., 0.50074516, 0.23441503,\n",
       "        0.48333333],\n",
       "       [0.05882353, 0.42713568, 0.54098361, ..., 0.39642325, 0.11656704,\n",
       "        0.16666667],\n",
       "       [0.47058824, 0.91959799, 0.52459016, ..., 0.34724292, 0.25362938,\n",
       "        0.18333333],\n",
       "       ...,\n",
       "       [0.29411765, 0.6080402 , 0.59016393, ..., 0.390462  , 0.07130658,\n",
       "        0.15      ],\n",
       "       [0.05882353, 0.63316583, 0.49180328, ..., 0.4485842 , 0.11571307,\n",
       "        0.43333333],\n",
       "       [0.05882353, 0.46733668, 0.57377049, ..., 0.45305514, 0.10119556,\n",
       "        0.03333333]])"
      ]
     },
     "execution_count": 121,
     "metadata": {},
     "output_type": "execute_result"
    }
   ],
   "source": [
    "# 데이터 노멀라이즈\n",
    "X = ((X - np.min(X, axis = 0)) / (np.max(X, axis = 0) - np.min(X, axis = 0)))\n",
    "X"
   ]
  },
  {
   "cell_type": "code",
   "execution_count": 122,
   "id": "0325cfc1",
   "metadata": {},
   "outputs": [],
   "source": [
    "# 훈련용,테스트용 데이터 분리\n",
    "from sklearn.model_selection import train_test_split\n",
    "\n",
    "train_x,test_x, train_y, test_y = \\\n",
    "    train_test_split(X,Y,test_size = 0.2)"
   ]
  },
  {
   "cell_type": "code",
   "execution_count": 123,
   "id": "f1e7252f",
   "metadata": {},
   "outputs": [
    {
     "name": "stdout",
     "output_type": "stream",
     "text": [
      "(614, 8) (154, 8)\n"
     ]
    }
   ],
   "source": [
    "print(train_x.shape, test_x.shape)"
   ]
  },
  {
   "cell_type": "markdown",
   "id": "c94287c6",
   "metadata": {},
   "source": [
    "# 신경망 구축"
   ]
  },
  {
   "cell_type": "code",
   "execution_count": 124,
   "id": "459a1187",
   "metadata": {},
   "outputs": [],
   "source": [
    "from tensorflow import keras\n",
    "EPOCHS = 50\n"
   ]
  },
  {
   "cell_type": "code",
   "execution_count": 130,
   "id": "e5f34bc0",
   "metadata": {},
   "outputs": [],
   "source": [
    "model = keras.Sequential([\n",
    "    keras.layers.Dense(8), #입력층\n",
    "    keras.layers.Dense(256,activation = \"relu\"),\n",
    "    keras.layers.Dropout(rate = 0.5),\n",
    "    keras.layers.Dense(1,activation = \"sigmoid\")\n",
    "])"
   ]
  },
  {
   "cell_type": "code",
   "execution_count": 131,
   "id": "74828c85",
   "metadata": {},
   "outputs": [],
   "source": [
    "#  0,1에서는 binary_crossentropy\n",
    "model.compile(optimizer= \"adam\", loss = \"binary_crossentropy\",metrics = ['accuracy'])"
   ]
  },
  {
   "cell_type": "code",
   "execution_count": 132,
   "id": "6b11bf52",
   "metadata": {},
   "outputs": [],
   "source": [
    "early_stop = keras.callbacks.EarlyStopping(monitor = 'val_loss',patience = 10)"
   ]
  },
  {
   "cell_type": "code",
   "execution_count": 133,
   "id": "c1b91fb0",
   "metadata": {},
   "outputs": [
    {
     "name": "stdout",
     "output_type": "stream",
     "text": [
      "Train on 614 samples, validate on 154 samples\n",
      "Epoch 1/50\n",
      "614/614 [==============================] - 1s 1ms/sample - loss: 0.6671 - accuracy: 0.6221 - val_loss: 0.6805 - val_accuracy: 0.6169\n",
      "Epoch 2/50\n",
      "614/614 [==============================] - 0s 114us/sample - loss: 0.6446 - accuracy: 0.6612 - val_loss: 0.6813 - val_accuracy: 0.6169\n",
      "Epoch 3/50\n",
      "614/614 [==============================] - 0s 111us/sample - loss: 0.6332 - accuracy: 0.6612 - val_loss: 0.6717 - val_accuracy: 0.6104\n",
      "Epoch 4/50\n",
      "614/614 [==============================] - 0s 122us/sample - loss: 0.6252 - accuracy: 0.6661 - val_loss: 0.6649 - val_accuracy: 0.6169\n",
      "Epoch 5/50\n",
      "614/614 [==============================] - 0s 129us/sample - loss: 0.6216 - accuracy: 0.6596 - val_loss: 0.6540 - val_accuracy: 0.6104\n",
      "Epoch 6/50\n",
      "614/614 [==============================] - 0s 114us/sample - loss: 0.6093 - accuracy: 0.6726 - val_loss: 0.6545 - val_accuracy: 0.6169\n",
      "Epoch 7/50\n",
      "614/614 [==============================] - 0s 117us/sample - loss: 0.6036 - accuracy: 0.6743 - val_loss: 0.6390 - val_accuracy: 0.5974\n",
      "Epoch 8/50\n",
      "614/614 [==============================] - 0s 113us/sample - loss: 0.5859 - accuracy: 0.6971 - val_loss: 0.6357 - val_accuracy: 0.5909\n",
      "Epoch 9/50\n",
      "614/614 [==============================] - 0s 112us/sample - loss: 0.5777 - accuracy: 0.6889 - val_loss: 0.6253 - val_accuracy: 0.6104\n",
      "Epoch 10/50\n",
      "614/614 [==============================] - 0s 109us/sample - loss: 0.5767 - accuracy: 0.6759 - val_loss: 0.6238 - val_accuracy: 0.6104\n",
      "Epoch 11/50\n",
      "614/614 [==============================] - 0s 110us/sample - loss: 0.5647 - accuracy: 0.7117 - val_loss: 0.6159 - val_accuracy: 0.6299\n",
      "Epoch 12/50\n",
      "614/614 [==============================] - 0s 112us/sample - loss: 0.5567 - accuracy: 0.7085 - val_loss: 0.6068 - val_accuracy: 0.6364\n",
      "Epoch 13/50\n",
      "614/614 [==============================] - 0s 117us/sample - loss: 0.5529 - accuracy: 0.7182 - val_loss: 0.6021 - val_accuracy: 0.6558\n",
      "Epoch 14/50\n",
      "614/614 [==============================] - 0s 113us/sample - loss: 0.5468 - accuracy: 0.7182 - val_loss: 0.5925 - val_accuracy: 0.6623\n",
      "Epoch 15/50\n",
      "614/614 [==============================] - 0s 111us/sample - loss: 0.5403 - accuracy: 0.7296 - val_loss: 0.5903 - val_accuracy: 0.6558\n",
      "Epoch 16/50\n",
      "614/614 [==============================] - 0s 116us/sample - loss: 0.5387 - accuracy: 0.7215 - val_loss: 0.5857 - val_accuracy: 0.6623\n",
      "Epoch 17/50\n",
      "614/614 [==============================] - 0s 116us/sample - loss: 0.5361 - accuracy: 0.7199 - val_loss: 0.5807 - val_accuracy: 0.6623\n",
      "Epoch 18/50\n",
      "614/614 [==============================] - 0s 112us/sample - loss: 0.5349 - accuracy: 0.7199 - val_loss: 0.5756 - val_accuracy: 0.6688\n",
      "Epoch 19/50\n",
      "614/614 [==============================] - 0s 108us/sample - loss: 0.5313 - accuracy: 0.7248 - val_loss: 0.5745 - val_accuracy: 0.6623\n",
      "Epoch 20/50\n",
      "614/614 [==============================] - 0s 109us/sample - loss: 0.5239 - accuracy: 0.7199 - val_loss: 0.5692 - val_accuracy: 0.6753\n",
      "Epoch 21/50\n",
      "614/614 [==============================] - 0s 117us/sample - loss: 0.5158 - accuracy: 0.7427 - val_loss: 0.5710 - val_accuracy: 0.6753\n",
      "Epoch 22/50\n",
      "614/614 [==============================] - 0s 112us/sample - loss: 0.5126 - accuracy: 0.7410 - val_loss: 0.5654 - val_accuracy: 0.6883\n",
      "Epoch 23/50\n",
      "614/614 [==============================] - 0s 113us/sample - loss: 0.5077 - accuracy: 0.7476 - val_loss: 0.5606 - val_accuracy: 0.6883\n",
      "Epoch 24/50\n",
      "614/614 [==============================] - 0s 111us/sample - loss: 0.5115 - accuracy: 0.7410 - val_loss: 0.5604 - val_accuracy: 0.6818\n",
      "Epoch 25/50\n",
      "614/614 [==============================] - 0s 109us/sample - loss: 0.5055 - accuracy: 0.7508 - val_loss: 0.5495 - val_accuracy: 0.6883\n",
      "Epoch 26/50\n",
      "614/614 [==============================] - 0s 156us/sample - loss: 0.5002 - accuracy: 0.7557 - val_loss: 0.5470 - val_accuracy: 0.6883\n",
      "Epoch 27/50\n",
      "614/614 [==============================] - 0s 132us/sample - loss: 0.4950 - accuracy: 0.7443 - val_loss: 0.5470 - val_accuracy: 0.6883\n",
      "Epoch 28/50\n",
      "614/614 [==============================] - 0s 123us/sample - loss: 0.4962 - accuracy: 0.7541 - val_loss: 0.5424 - val_accuracy: 0.6948\n",
      "Epoch 29/50\n",
      "614/614 [==============================] - 0s 116us/sample - loss: 0.4892 - accuracy: 0.7622 - val_loss: 0.5359 - val_accuracy: 0.7013\n",
      "Epoch 30/50\n",
      "614/614 [==============================] - 0s 111us/sample - loss: 0.4924 - accuracy: 0.7590 - val_loss: 0.5433 - val_accuracy: 0.6948\n",
      "Epoch 31/50\n",
      "614/614 [==============================] - 0s 109us/sample - loss: 0.4831 - accuracy: 0.7736 - val_loss: 0.5263 - val_accuracy: 0.7013\n",
      "Epoch 32/50\n",
      "614/614 [==============================] - 0s 113us/sample - loss: 0.4863 - accuracy: 0.7655 - val_loss: 0.5353 - val_accuracy: 0.7013\n",
      "Epoch 33/50\n",
      "614/614 [==============================] - 0s 115us/sample - loss: 0.4824 - accuracy: 0.7638 - val_loss: 0.5171 - val_accuracy: 0.7143\n",
      "Epoch 34/50\n",
      "614/614 [==============================] - 0s 111us/sample - loss: 0.4789 - accuracy: 0.7557 - val_loss: 0.5425 - val_accuracy: 0.7013\n",
      "Epoch 35/50\n",
      "614/614 [==============================] - 0s 110us/sample - loss: 0.4950 - accuracy: 0.7671 - val_loss: 0.5165 - val_accuracy: 0.7013\n",
      "Epoch 36/50\n",
      "614/614 [==============================] - 0s 110us/sample - loss: 0.4845 - accuracy: 0.7557 - val_loss: 0.5202 - val_accuracy: 0.7013\n",
      "Epoch 37/50\n",
      "614/614 [==============================] - 0s 110us/sample - loss: 0.4891 - accuracy: 0.7541 - val_loss: 0.5091 - val_accuracy: 0.7273\n",
      "Epoch 38/50\n",
      "614/614 [==============================] - 0s 110us/sample - loss: 0.4720 - accuracy: 0.7736 - val_loss: 0.5146 - val_accuracy: 0.7013\n",
      "Epoch 39/50\n",
      "614/614 [==============================] - 0s 110us/sample - loss: 0.4817 - accuracy: 0.7687 - val_loss: 0.5081 - val_accuracy: 0.7338\n",
      "Epoch 40/50\n",
      "614/614 [==============================] - 0s 112us/sample - loss: 0.4673 - accuracy: 0.7932 - val_loss: 0.5061 - val_accuracy: 0.7273\n",
      "Epoch 41/50\n",
      "614/614 [==============================] - 0s 110us/sample - loss: 0.4628 - accuracy: 0.7883 - val_loss: 0.4936 - val_accuracy: 0.7403\n",
      "Epoch 42/50\n",
      "614/614 [==============================] - 0s 108us/sample - loss: 0.4795 - accuracy: 0.7720 - val_loss: 0.5091 - val_accuracy: 0.7013\n",
      "Epoch 43/50\n",
      "614/614 [==============================] - 0s 110us/sample - loss: 0.4708 - accuracy: 0.7752 - val_loss: 0.4950 - val_accuracy: 0.7597\n",
      "Epoch 44/50\n",
      "614/614 [==============================] - 0s 108us/sample - loss: 0.4648 - accuracy: 0.7866 - val_loss: 0.4990 - val_accuracy: 0.7338\n",
      "Epoch 45/50\n",
      "614/614 [==============================] - 0s 110us/sample - loss: 0.4669 - accuracy: 0.7899 - val_loss: 0.4924 - val_accuracy: 0.7468\n",
      "Epoch 46/50\n",
      "614/614 [==============================] - 0s 110us/sample - loss: 0.4700 - accuracy: 0.7899 - val_loss: 0.4912 - val_accuracy: 0.7403\n",
      "Epoch 47/50\n",
      "614/614 [==============================] - 0s 110us/sample - loss: 0.4640 - accuracy: 0.7883 - val_loss: 0.4902 - val_accuracy: 0.7662\n",
      "Epoch 48/50\n",
      "614/614 [==============================] - 0s 111us/sample - loss: 0.4569 - accuracy: 0.7883 - val_loss: 0.4901 - val_accuracy: 0.7273\n",
      "Epoch 49/50\n",
      "614/614 [==============================] - 0s 109us/sample - loss: 0.4648 - accuracy: 0.7818 - val_loss: 0.4856 - val_accuracy: 0.7597\n",
      "Epoch 50/50\n",
      "614/614 [==============================] - 0s 111us/sample - loss: 0.4576 - accuracy: 0.7834 - val_loss: 0.4901 - val_accuracy: 0.7338\n"
     ]
    }
   ],
   "source": [
    "history = model.fit(train_x,train_y, epochs = EPOCHS,\n",
    "                   validation_data = (test_x, test_y),\n",
    "                    callbacks = [early_stop])\n",
    "    "
   ]
  },
  {
   "cell_type": "code",
   "execution_count": 136,
   "id": "e5d97e48",
   "metadata": {},
   "outputs": [
    {
     "data": {
      "text/plain": [
       "array([[0.78787965],\n",
       "       [0.7909967 ],\n",
       "       [0.10328174],\n",
       "       [0.16521606],\n",
       "       [0.8038505 ]], dtype=float32)"
      ]
     },
     "execution_count": 136,
     "metadata": {},
     "output_type": "execute_result"
    }
   ],
   "source": [
    "# 예측값 비교해보기\n",
    "pred = model.predict(train_x[:5])\n",
    "pred\n"
   ]
  },
  {
   "cell_type": "code",
   "execution_count": 137,
   "id": "85d1c6a1",
   "metadata": {},
   "outputs": [
    {
     "data": {
      "text/plain": [
       "array([1, 1, 0, 0, 1])"
      ]
     },
     "execution_count": 137,
     "metadata": {},
     "output_type": "execute_result"
    }
   ],
   "source": [
    "train_y[:5]"
   ]
  },
  {
   "cell_type": "code",
   "execution_count": 138,
   "id": "0b1b14ad",
   "metadata": {},
   "outputs": [],
   "source": [
    "import matplotlib.pyplot as plt"
   ]
  },
  {
   "cell_type": "code",
   "execution_count": 139,
   "id": "3cdbe35f",
   "metadata": {},
   "outputs": [
    {
     "data": {
      "image/png": "[encoded data removed]",
      "text/plain": [
       "<Figure size 576x576 with 1 Axes>"
      ]
     },
     "metadata": {
      "needs_background": "light"
     },
     "output_type": "display_data"
    }
   ],
   "source": [
    "train_history = history.history[\"loss\"]\n",
    "validate_history = history.history[\"val_loss\"]\n",
    "\n",
    "fig = plt.figure(figsize = (8,8))\n",
    "plt.title(\"loss history\")\n",
    "plt.xlabel(\"EPOCH\")\n",
    "plt.ylabel(\"LOSS Function\")\n",
    "plt.plot(train_history, \"red\")\n",
    "plt.plot(validate_history,\"blue\")\n",
    "plt.show()"
   ]
  },
  {
   "cell_type": "code",
   "execution_count": 140,
   "id": "8a0d4638",
   "metadata": {},
   "outputs": [
    {
     "data": {
      "image/png": "[encoded data removed]",
      "text/plain": [
       "<Figure size 576x576 with 1 Axes>"
      ]
     },
     "metadata": {
      "needs_background": "light"
     },
     "output_type": "display_data"
    }
   ],
   "source": [
    "train_history = history.history['accuracy']\n",
    "validate_history = history.history['val_accuracy']\n",
    "\n",
    "fig = plt.figure(figsize = (8,8))\n",
    "plt.title(\"accuracy history\")\n",
    "plt.xlabel(\"EPOCH\")\n",
    "plt.ylabel(\"accuracy Function\")\n",
    "plt.plot(train_history, \"red\")\n",
    "plt.plot(validate_history,\"blue\")\n",
    "\n",
    "plt.show()"
   ]
  },
  {
   "cell_type": "code",
   "execution_count": 141,
   "id": "cb537493",
   "metadata": {},
   "outputs": [],
   "source": [
    "from tensorflow.keras.utils import plot_model"
   ]
  },
  {
   "cell_type": "code",
   "execution_count": 142,
   "id": "3634cf0a",
   "metadata": {},
   "outputs": [
    {
     "data": {
      "image/png": "[encoded data removed]",
      "text/plain": [
       "<IPython.core.display.Image object>"
      ]
     },
     "execution_count": 142,
     "metadata": {},
     "output_type": "execute_result"
    }
   ],
   "source": [
    "plot_model(model, 'input_and_output_model.png', show_shapes = True)"
   ]
  },
  {
   "cell_type": "code",
   "execution_count": null,
   "id": "e5dfec8b",
   "metadata": {},
   "outputs": [],
   "source": []
  }
 ],
 "metadata": {
  "kernelspec": {
   "display_name": "Python 3 (ipykernel)",
   "language": "python",
   "name": "python3"
  },
  "language_info": {
   "codemirror_mode": {
    "name": "ipython",
    "version": 3
   },
   "file_extension": ".py",
   "mimetype": "text/x-python",
   "name": "python",
   "nbconvert_exporter": "python",
   "pygments_lexer": "ipython3",
   "version": "3.7.7"
  },
  "toc": {
   "base_numbering": 1,
   "nav_menu": {},
   "number_sections": true,
   "sideBar": true,
   "skip_h1_title": false,
   "title_cell": "Table of Contents",
   "title_sidebar": "Contents",
   "toc_cell": false,
   "toc_position": {},
   "toc_section_display": true,
   "toc_window_display": false
  }
 },
 "nbformat": 4,
 "nbformat_minor": 5
}
