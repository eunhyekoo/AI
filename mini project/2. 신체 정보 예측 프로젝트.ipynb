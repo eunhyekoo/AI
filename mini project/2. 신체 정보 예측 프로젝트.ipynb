{
 "cells": [
  {
   "cell_type": "code",
   "execution_count": 1,
   "id": "d891fdc5",
   "metadata": {},
   "outputs": [],
   "source": [
    "import numpy as np\n",
    "import matplotlib.pyplot as plt\n",
    "import pandas as pd\n",
    "# 훈련/검증용 데이터 분리\n",
    "from sklearn.model_selection import train_test_split"
   ]
  },
  {
   "cell_type": "code",
   "execution_count": 2,
   "id": "6d053bd8",
   "metadata": {},
   "outputs": [
    {
     "name": "stderr",
     "output_type": "stream",
     "text": [
      "/Users/gueunhye/opt/anaconda3/envs/tf/lib/python3.7/site-packages/IPython/core/interactiveshell.py:3444: DtypeWarning: Columns (5) have mixed types.Specify dtype option on import or set low_memory=False.\n",
      "  exec(code_obj, self.user_global_ns, self.user_ns)\n"
     ]
    }
   ],
   "source": [
    "info = pd.read_csv('육군신체측정정보.csv',encoding = 'cp949')\n"
   ]
  },
  {
   "cell_type": "code",
   "execution_count": 3,
   "id": "fce563f9",
   "metadata": {},
   "outputs": [
    {
     "data": {
      "text/html": [
       "<div>\n",
       "<style scoped>\n",
       "    .dataframe tbody tr th:only-of-type {\n",
       "        vertical-align: middle;\n",
       "    }\n",
       "\n",
       "    .dataframe tbody tr th {\n",
       "        vertical-align: top;\n",
       "    }\n",
       "\n",
       "    .dataframe thead th {\n",
       "        text-align: right;\n",
       "    }\n",
       "</style>\n",
       "<table border=\"1\" class=\"dataframe\">\n",
       "  <thead>\n",
       "    <tr style=\"text-align: right;\">\n",
       "      <th></th>\n",
       "      <th>순번</th>\n",
       "      <th>측정 일자</th>\n",
       "      <th>가슴 둘레 센티미터</th>\n",
       "      <th>소매길이 센티미터</th>\n",
       "      <th>신장 센티미터</th>\n",
       "      <th>허리 둘레 센티미터</th>\n",
       "      <th>샅높이 센티미터</th>\n",
       "      <th>머리 둘레 센티미터</th>\n",
       "      <th>발 길이 센티미터</th>\n",
       "      <th>몸무게 킬로그램</th>\n",
       "    </tr>\n",
       "  </thead>\n",
       "  <tbody>\n",
       "    <tr>\n",
       "      <th>0</th>\n",
       "      <td>1</td>\n",
       "      <td>20140106</td>\n",
       "      <td>96.3</td>\n",
       "      <td>92.6</td>\n",
       "      <td>185.5</td>\n",
       "      <td>82.5</td>\n",
       "      <td>83.8</td>\n",
       "      <td>57.1</td>\n",
       "      <td>28.5</td>\n",
       "      <td>73.2</td>\n",
       "    </tr>\n",
       "    <tr>\n",
       "      <th>1</th>\n",
       "      <td>2</td>\n",
       "      <td>2013</td>\n",
       "      <td>101.9</td>\n",
       "      <td>83.8</td>\n",
       "      <td>167.2</td>\n",
       "      <td>81.2</td>\n",
       "      <td>74.4</td>\n",
       "      <td>55.0</td>\n",
       "      <td>24.2</td>\n",
       "      <td>65.1</td>\n",
       "    </tr>\n",
       "    <tr>\n",
       "      <th>2</th>\n",
       "      <td>3</td>\n",
       "      <td>20140106</td>\n",
       "      <td>99.5</td>\n",
       "      <td>89.6</td>\n",
       "      <td>179.9</td>\n",
       "      <td>99.2</td>\n",
       "      <td>84.2</td>\n",
       "      <td>56.3</td>\n",
       "      <td>28.1</td>\n",
       "      <td>93.2</td>\n",
       "    </tr>\n",
       "    <tr>\n",
       "      <th>3</th>\n",
       "      <td>4</td>\n",
       "      <td>2013</td>\n",
       "      <td>98.6</td>\n",
       "      <td>85.5</td>\n",
       "      <td>171.4</td>\n",
       "      <td>85.9</td>\n",
       "      <td>76.4</td>\n",
       "      <td>54.5</td>\n",
       "      <td>27.4</td>\n",
       "      <td>71.6</td>\n",
       "    </tr>\n",
       "    <tr>\n",
       "      <th>4</th>\n",
       "      <td>5</td>\n",
       "      <td>20140106</td>\n",
       "      <td>94.7</td>\n",
       "      <td>88.1</td>\n",
       "      <td>176.9</td>\n",
       "      <td>78.3</td>\n",
       "      <td>79.7</td>\n",
       "      <td>58.5</td>\n",
       "      <td>26.5</td>\n",
       "      <td>67.1</td>\n",
       "    </tr>\n",
       "  </tbody>\n",
       "</table>\n",
       "</div>"
      ],
      "text/plain": [
       "   순번     측정 일자  가슴 둘레 센티미터  소매길이 센티미터  신장 센티미터 허리 둘레 센티미터  샅높이 센티미터  \\\n",
       "0   1  20140106        96.3       92.6    185.5       82.5      83.8   \n",
       "1   2      2013       101.9       83.8    167.2       81.2      74.4   \n",
       "2   3  20140106        99.5       89.6    179.9       99.2      84.2   \n",
       "3   4      2013        98.6       85.5    171.4       85.9      76.4   \n",
       "4   5  20140106        94.7       88.1    176.9       78.3      79.7   \n",
       "\n",
       "   머리 둘레 센티미터  발 길이 센티미터  몸무게 킬로그램  \n",
       "0        57.1       28.5      73.2  \n",
       "1        55.0       24.2      65.1  \n",
       "2        56.3       28.1      93.2  \n",
       "3        54.5       27.4      71.6  \n",
       "4        58.5       26.5      67.1  "
      ]
     },
     "execution_count": 3,
     "metadata": {},
     "output_type": "execute_result"
    }
   ],
   "source": [
    "info.head()"
   ]
  },
  {
   "cell_type": "code",
   "execution_count": 4,
   "id": "bc7a2832",
   "metadata": {},
   "outputs": [
    {
     "data": {
      "text/html": [
       "<div>\n",
       "<style scoped>\n",
       "    .dataframe tbody tr th:only-of-type {\n",
       "        vertical-align: middle;\n",
       "    }\n",
       "\n",
       "    .dataframe tbody tr th {\n",
       "        vertical-align: top;\n",
       "    }\n",
       "\n",
       "    .dataframe thead th {\n",
       "        text-align: right;\n",
       "    }\n",
       "</style>\n",
       "<table border=\"1\" class=\"dataframe\">\n",
       "  <thead>\n",
       "    <tr style=\"text-align: right;\">\n",
       "      <th></th>\n",
       "      <th>순번</th>\n",
       "      <th>측정 일자</th>\n",
       "      <th>가슴 둘레 센티미터</th>\n",
       "      <th>소매길이 센티미터</th>\n",
       "      <th>신장 센티미터</th>\n",
       "      <th>허리 둘레 센티미터</th>\n",
       "      <th>샅높이 센티미터</th>\n",
       "      <th>머리 둘레 센티미터</th>\n",
       "      <th>발 길이 센티미터</th>\n",
       "      <th>몸무게 킬로그램</th>\n",
       "    </tr>\n",
       "  </thead>\n",
       "  <tbody>\n",
       "    <tr>\n",
       "      <th>0</th>\n",
       "      <td>1</td>\n",
       "      <td>20140106</td>\n",
       "      <td>96.3</td>\n",
       "      <td>92.6</td>\n",
       "      <td>185.5</td>\n",
       "      <td>82.5</td>\n",
       "      <td>83.8</td>\n",
       "      <td>57.1</td>\n",
       "      <td>28.5</td>\n",
       "      <td>73.2</td>\n",
       "    </tr>\n",
       "    <tr>\n",
       "      <th>1</th>\n",
       "      <td>2</td>\n",
       "      <td>2013</td>\n",
       "      <td>101.9</td>\n",
       "      <td>83.8</td>\n",
       "      <td>167.2</td>\n",
       "      <td>81.2</td>\n",
       "      <td>74.4</td>\n",
       "      <td>55.0</td>\n",
       "      <td>24.2</td>\n",
       "      <td>65.1</td>\n",
       "    </tr>\n",
       "    <tr>\n",
       "      <th>2</th>\n",
       "      <td>3</td>\n",
       "      <td>20140106</td>\n",
       "      <td>99.5</td>\n",
       "      <td>89.6</td>\n",
       "      <td>179.9</td>\n",
       "      <td>99.2</td>\n",
       "      <td>84.2</td>\n",
       "      <td>56.3</td>\n",
       "      <td>28.1</td>\n",
       "      <td>93.2</td>\n",
       "    </tr>\n",
       "    <tr>\n",
       "      <th>3</th>\n",
       "      <td>4</td>\n",
       "      <td>2013</td>\n",
       "      <td>98.6</td>\n",
       "      <td>85.5</td>\n",
       "      <td>171.4</td>\n",
       "      <td>85.9</td>\n",
       "      <td>76.4</td>\n",
       "      <td>54.5</td>\n",
       "      <td>27.4</td>\n",
       "      <td>71.6</td>\n",
       "    </tr>\n",
       "    <tr>\n",
       "      <th>4</th>\n",
       "      <td>5</td>\n",
       "      <td>20140106</td>\n",
       "      <td>94.7</td>\n",
       "      <td>88.1</td>\n",
       "      <td>176.9</td>\n",
       "      <td>78.3</td>\n",
       "      <td>79.7</td>\n",
       "      <td>58.5</td>\n",
       "      <td>26.5</td>\n",
       "      <td>67.1</td>\n",
       "    </tr>\n",
       "  </tbody>\n",
       "</table>\n",
       "</div>"
      ],
      "text/plain": [
       "   순번     측정 일자  가슴 둘레 센티미터  소매길이 센티미터  신장 센티미터 허리 둘레 센티미터  샅높이 센티미터  \\\n",
       "0   1  20140106        96.3       92.6    185.5       82.5      83.8   \n",
       "1   2      2013       101.9       83.8    167.2       81.2      74.4   \n",
       "2   3  20140106        99.5       89.6    179.9       99.2      84.2   \n",
       "3   4      2013        98.6       85.5    171.4       85.9      76.4   \n",
       "4   5  20140106        94.7       88.1    176.9       78.3      79.7   \n",
       "\n",
       "   머리 둘레 센티미터  발 길이 센티미터  몸무게 킬로그램  \n",
       "0        57.1       28.5      73.2  \n",
       "1        55.0       24.2      65.1  \n",
       "2        56.3       28.1      93.2  \n",
       "3        54.5       27.4      71.6  \n",
       "4        58.5       26.5      67.1  "
      ]
     },
     "execution_count": 4,
     "metadata": {},
     "output_type": "execute_result"
    }
   ],
   "source": [
    "info[:5]"
   ]
  },
  {
   "cell_type": "code",
   "execution_count": 5,
   "id": "01c873fe",
   "metadata": {},
   "outputs": [
    {
     "data": {
      "text/html": [
       "<div>\n",
       "<style scoped>\n",
       "    .dataframe tbody tr th:only-of-type {\n",
       "        vertical-align: middle;\n",
       "    }\n",
       "\n",
       "    .dataframe tbody tr th {\n",
       "        vertical-align: top;\n",
       "    }\n",
       "\n",
       "    .dataframe thead th {\n",
       "        text-align: right;\n",
       "    }\n",
       "</style>\n",
       "<table border=\"1\" class=\"dataframe\">\n",
       "  <thead>\n",
       "    <tr style=\"text-align: right;\">\n",
       "      <th></th>\n",
       "      <th>순번</th>\n",
       "      <th>측정 일자</th>\n",
       "      <th>가슴 둘레 센티미터</th>\n",
       "      <th>소매길이 센티미터</th>\n",
       "      <th>신장 센티미터</th>\n",
       "      <th>허리 둘레 센티미터</th>\n",
       "      <th>샅높이 센티미터</th>\n",
       "      <th>머리 둘레 센티미터</th>\n",
       "      <th>발 길이 센티미터</th>\n",
       "      <th>몸무게 킬로그램</th>\n",
       "    </tr>\n",
       "  </thead>\n",
       "  <tbody>\n",
       "    <tr>\n",
       "      <th>167975</th>\n",
       "      <td>167979</td>\n",
       "      <td>20170131</td>\n",
       "      <td>100.6</td>\n",
       "      <td>86.4</td>\n",
       "      <td>173.2</td>\n",
       "      <td>86.7 (34.1 in)</td>\n",
       "      <td>77.1</td>\n",
       "      <td>56.9</td>\n",
       "      <td>27.1</td>\n",
       "      <td>73.7</td>\n",
       "    </tr>\n",
       "    <tr>\n",
       "      <th>167976</th>\n",
       "      <td>167980</td>\n",
       "      <td>20170131</td>\n",
       "      <td>97.9</td>\n",
       "      <td>82.7</td>\n",
       "      <td>166.3</td>\n",
       "      <td>90.5 (35.6 in)</td>\n",
       "      <td>73.4</td>\n",
       "      <td>61.5</td>\n",
       "      <td>28.8</td>\n",
       "      <td>70.7</td>\n",
       "    </tr>\n",
       "    <tr>\n",
       "      <th>167977</th>\n",
       "      <td>167981</td>\n",
       "      <td>20170131</td>\n",
       "      <td>97.9</td>\n",
       "      <td>87.2</td>\n",
       "      <td>175.2</td>\n",
       "      <td>94.3 (37.1 in)</td>\n",
       "      <td>83.1</td>\n",
       "      <td>57.1</td>\n",
       "      <td>27.6</td>\n",
       "      <td>78.7</td>\n",
       "    </tr>\n",
       "    <tr>\n",
       "      <th>167978</th>\n",
       "      <td>167982</td>\n",
       "      <td>20170131</td>\n",
       "      <td>85.3</td>\n",
       "      <td>86.8</td>\n",
       "      <td>173.6</td>\n",
       "      <td>75.9 (29.9 in)</td>\n",
       "      <td>76.6</td>\n",
       "      <td>57.6</td>\n",
       "      <td>24.3</td>\n",
       "      <td>57.4</td>\n",
       "    </tr>\n",
       "    <tr>\n",
       "      <th>167979</th>\n",
       "      <td>167983</td>\n",
       "      <td>20170131</td>\n",
       "      <td>86.6</td>\n",
       "      <td>88.3</td>\n",
       "      <td>175.8</td>\n",
       "      <td>73.0 (28.7 in)</td>\n",
       "      <td>77.8</td>\n",
       "      <td>56.3</td>\n",
       "      <td>26.1</td>\n",
       "      <td>51.7</td>\n",
       "    </tr>\n",
       "  </tbody>\n",
       "</table>\n",
       "</div>"
      ],
      "text/plain": [
       "            순번     측정 일자  가슴 둘레 센티미터  소매길이 센티미터  신장 센티미터      허리 둘레 센티미터  \\\n",
       "167975  167979  20170131       100.6       86.4    173.2  86.7 (34.1 in)   \n",
       "167976  167980  20170131        97.9       82.7    166.3  90.5 (35.6 in)   \n",
       "167977  167981  20170131        97.9       87.2    175.2  94.3 (37.1 in)   \n",
       "167978  167982  20170131        85.3       86.8    173.6  75.9 (29.9 in)   \n",
       "167979  167983  20170131        86.6       88.3    175.8  73.0 (28.7 in)   \n",
       "\n",
       "        샅높이 센티미터  머리 둘레 센티미터  발 길이 센티미터  몸무게 킬로그램  \n",
       "167975      77.1        56.9       27.1      73.7  \n",
       "167976      73.4        61.5       28.8      70.7  \n",
       "167977      83.1        57.1       27.6      78.7  \n",
       "167978      76.6        57.6       24.3      57.4  \n",
       "167979      77.8        56.3       26.1      51.7  "
      ]
     },
     "execution_count": 5,
     "metadata": {},
     "output_type": "execute_result"
    }
   ],
   "source": [
    "info.tail()"
   ]
  },
  {
   "cell_type": "code",
   "execution_count": 6,
   "id": "2133da6d",
   "metadata": {},
   "outputs": [
    {
     "data": {
      "text/html": [
       "<div>\n",
       "<style scoped>\n",
       "    .dataframe tbody tr th:only-of-type {\n",
       "        vertical-align: middle;\n",
       "    }\n",
       "\n",
       "    .dataframe tbody tr th {\n",
       "        vertical-align: top;\n",
       "    }\n",
       "\n",
       "    .dataframe thead th {\n",
       "        text-align: right;\n",
       "    }\n",
       "</style>\n",
       "<table border=\"1\" class=\"dataframe\">\n",
       "  <thead>\n",
       "    <tr style=\"text-align: right;\">\n",
       "      <th></th>\n",
       "      <th>측정 일자</th>\n",
       "      <th>가슴 둘레 센티미터</th>\n",
       "      <th>소매길이 센티미터</th>\n",
       "      <th>신장 센티미터</th>\n",
       "      <th>허리 둘레 센티미터</th>\n",
       "      <th>샅높이 센티미터</th>\n",
       "      <th>머리 둘레 센티미터</th>\n",
       "      <th>발 길이 센티미터</th>\n",
       "      <th>몸무게 킬로그램</th>\n",
       "    </tr>\n",
       "  </thead>\n",
       "  <tbody>\n",
       "    <tr>\n",
       "      <th>0</th>\n",
       "      <td>20140106</td>\n",
       "      <td>96.3</td>\n",
       "      <td>92.6</td>\n",
       "      <td>185.5</td>\n",
       "      <td>82.5</td>\n",
       "      <td>83.8</td>\n",
       "      <td>57.1</td>\n",
       "      <td>28.5</td>\n",
       "      <td>73.2</td>\n",
       "    </tr>\n",
       "    <tr>\n",
       "      <th>1</th>\n",
       "      <td>2013</td>\n",
       "      <td>101.9</td>\n",
       "      <td>83.8</td>\n",
       "      <td>167.2</td>\n",
       "      <td>81.2</td>\n",
       "      <td>74.4</td>\n",
       "      <td>55.0</td>\n",
       "      <td>24.2</td>\n",
       "      <td>65.1</td>\n",
       "    </tr>\n",
       "    <tr>\n",
       "      <th>2</th>\n",
       "      <td>20140106</td>\n",
       "      <td>99.5</td>\n",
       "      <td>89.6</td>\n",
       "      <td>179.9</td>\n",
       "      <td>99.2</td>\n",
       "      <td>84.2</td>\n",
       "      <td>56.3</td>\n",
       "      <td>28.1</td>\n",
       "      <td>93.2</td>\n",
       "    </tr>\n",
       "    <tr>\n",
       "      <th>3</th>\n",
       "      <td>2013</td>\n",
       "      <td>98.6</td>\n",
       "      <td>85.5</td>\n",
       "      <td>171.4</td>\n",
       "      <td>85.9</td>\n",
       "      <td>76.4</td>\n",
       "      <td>54.5</td>\n",
       "      <td>27.4</td>\n",
       "      <td>71.6</td>\n",
       "    </tr>\n",
       "    <tr>\n",
       "      <th>4</th>\n",
       "      <td>20140106</td>\n",
       "      <td>94.7</td>\n",
       "      <td>88.1</td>\n",
       "      <td>176.9</td>\n",
       "      <td>78.3</td>\n",
       "      <td>79.7</td>\n",
       "      <td>58.5</td>\n",
       "      <td>26.5</td>\n",
       "      <td>67.1</td>\n",
       "    </tr>\n",
       "  </tbody>\n",
       "</table>\n",
       "</div>"
      ],
      "text/plain": [
       "      측정 일자  가슴 둘레 센티미터  소매길이 센티미터  신장 센티미터 허리 둘레 센티미터  샅높이 센티미터  머리 둘레 센티미터  \\\n",
       "0  20140106        96.3       92.6    185.5       82.5      83.8        57.1   \n",
       "1      2013       101.9       83.8    167.2       81.2      74.4        55.0   \n",
       "2  20140106        99.5       89.6    179.9       99.2      84.2        56.3   \n",
       "3      2013        98.6       85.5    171.4       85.9      76.4        54.5   \n",
       "4  20140106        94.7       88.1    176.9       78.3      79.7        58.5   \n",
       "\n",
       "   발 길이 센티미터  몸무게 킬로그램  \n",
       "0       28.5      73.2  \n",
       "1       24.2      65.1  \n",
       "2       28.1      93.2  \n",
       "3       27.4      71.6  \n",
       "4       26.5      67.1  "
      ]
     },
     "execution_count": 6,
     "metadata": {},
     "output_type": "execute_result"
    }
   ],
   "source": [
    "X = info.drop(['순번'],axis = 1)\n",
    "X.head()"
   ]
  },
  {
   "cell_type": "code",
   "execution_count": 7,
   "id": "f816b733",
   "metadata": {},
   "outputs": [],
   "source": [
    "X1 = X.rename(columns = {'측정 일자':'splt','가슴 둘레 센티미터':'chest','소매길이 센티미터':'arm','신장 센티미터':'height','허리 둘레 센티미터':'waist','샅높이 센티미터':'sat','머리 둘레 센티미터':'head','발 길이 센티미터':'feet','몸무게 킬로그램':'weight'})"
   ]
  },
  {
   "cell_type": "code",
   "execution_count": 8,
   "id": "56135c20",
   "metadata": {
    "scrolled": false
   },
   "outputs": [
    {
     "data": {
      "text/html": [
       "<div>\n",
       "<style scoped>\n",
       "    .dataframe tbody tr th:only-of-type {\n",
       "        vertical-align: middle;\n",
       "    }\n",
       "\n",
       "    .dataframe tbody tr th {\n",
       "        vertical-align: top;\n",
       "    }\n",
       "\n",
       "    .dataframe thead th {\n",
       "        text-align: right;\n",
       "    }\n",
       "</style>\n",
       "<table border=\"1\" class=\"dataframe\">\n",
       "  <thead>\n",
       "    <tr style=\"text-align: right;\">\n",
       "      <th></th>\n",
       "      <th>splt</th>\n",
       "      <th>chest</th>\n",
       "      <th>arm</th>\n",
       "      <th>height</th>\n",
       "      <th>waist</th>\n",
       "      <th>sat</th>\n",
       "      <th>head</th>\n",
       "      <th>feet</th>\n",
       "      <th>weight</th>\n",
       "    </tr>\n",
       "  </thead>\n",
       "  <tbody>\n",
       "    <tr>\n",
       "      <th>0</th>\n",
       "      <td>20140106</td>\n",
       "      <td>96.3</td>\n",
       "      <td>92.6</td>\n",
       "      <td>185.5</td>\n",
       "      <td>82.5</td>\n",
       "      <td>83.8</td>\n",
       "      <td>57.1</td>\n",
       "      <td>28.5</td>\n",
       "      <td>73.2</td>\n",
       "    </tr>\n",
       "    <tr>\n",
       "      <th>1</th>\n",
       "      <td>2013</td>\n",
       "      <td>101.9</td>\n",
       "      <td>83.8</td>\n",
       "      <td>167.2</td>\n",
       "      <td>81.2</td>\n",
       "      <td>74.4</td>\n",
       "      <td>55.0</td>\n",
       "      <td>24.2</td>\n",
       "      <td>65.1</td>\n",
       "    </tr>\n",
       "    <tr>\n",
       "      <th>2</th>\n",
       "      <td>20140106</td>\n",
       "      <td>99.5</td>\n",
       "      <td>89.6</td>\n",
       "      <td>179.9</td>\n",
       "      <td>99.2</td>\n",
       "      <td>84.2</td>\n",
       "      <td>56.3</td>\n",
       "      <td>28.1</td>\n",
       "      <td>93.2</td>\n",
       "    </tr>\n",
       "    <tr>\n",
       "      <th>3</th>\n",
       "      <td>2013</td>\n",
       "      <td>98.6</td>\n",
       "      <td>85.5</td>\n",
       "      <td>171.4</td>\n",
       "      <td>85.9</td>\n",
       "      <td>76.4</td>\n",
       "      <td>54.5</td>\n",
       "      <td>27.4</td>\n",
       "      <td>71.6</td>\n",
       "    </tr>\n",
       "    <tr>\n",
       "      <th>4</th>\n",
       "      <td>20140106</td>\n",
       "      <td>94.7</td>\n",
       "      <td>88.1</td>\n",
       "      <td>176.9</td>\n",
       "      <td>78.3</td>\n",
       "      <td>79.7</td>\n",
       "      <td>58.5</td>\n",
       "      <td>26.5</td>\n",
       "      <td>67.1</td>\n",
       "    </tr>\n",
       "  </tbody>\n",
       "</table>\n",
       "</div>"
      ],
      "text/plain": [
       "       splt  chest   arm  height waist   sat  head  feet  weight\n",
       "0  20140106   96.3  92.6   185.5  82.5  83.8  57.1  28.5    73.2\n",
       "1      2013  101.9  83.8   167.2  81.2  74.4  55.0  24.2    65.1\n",
       "2  20140106   99.5  89.6   179.9  99.2  84.2  56.3  28.1    93.2\n",
       "3      2013   98.6  85.5   171.4  85.9  76.4  54.5  27.4    71.6\n",
       "4  20140106   94.7  88.1   176.9  78.3  79.7  58.5  26.5    67.1"
      ]
     },
     "execution_count": 8,
     "metadata": {},
     "output_type": "execute_result"
    }
   ],
   "source": [
    "X1.head()"
   ]
  },
  {
   "cell_type": "code",
   "execution_count": 9,
   "id": "2d89bf84",
   "metadata": {},
   "outputs": [
    {
     "data": {
      "text/html": [
       "<div>\n",
       "<style scoped>\n",
       "    .dataframe tbody tr th:only-of-type {\n",
       "        vertical-align: middle;\n",
       "    }\n",
       "\n",
       "    .dataframe tbody tr th {\n",
       "        vertical-align: top;\n",
       "    }\n",
       "\n",
       "    .dataframe thead th {\n",
       "        text-align: right;\n",
       "    }\n",
       "</style>\n",
       "<table border=\"1\" class=\"dataframe\">\n",
       "  <thead>\n",
       "    <tr style=\"text-align: right;\">\n",
       "      <th></th>\n",
       "      <th>chest</th>\n",
       "      <th>arm</th>\n",
       "      <th>height</th>\n",
       "    </tr>\n",
       "  </thead>\n",
       "  <tbody>\n",
       "    <tr>\n",
       "      <th>0</th>\n",
       "      <td>96.3</td>\n",
       "      <td>92.6</td>\n",
       "      <td>185.5</td>\n",
       "    </tr>\n",
       "    <tr>\n",
       "      <th>1</th>\n",
       "      <td>101.9</td>\n",
       "      <td>83.8</td>\n",
       "      <td>167.2</td>\n",
       "    </tr>\n",
       "    <tr>\n",
       "      <th>2</th>\n",
       "      <td>99.5</td>\n",
       "      <td>89.6</td>\n",
       "      <td>179.9</td>\n",
       "    </tr>\n",
       "    <tr>\n",
       "      <th>3</th>\n",
       "      <td>98.6</td>\n",
       "      <td>85.5</td>\n",
       "      <td>171.4</td>\n",
       "    </tr>\n",
       "    <tr>\n",
       "      <th>4</th>\n",
       "      <td>94.7</td>\n",
       "      <td>88.1</td>\n",
       "      <td>176.9</td>\n",
       "    </tr>\n",
       "    <tr>\n",
       "      <th>...</th>\n",
       "      <td>...</td>\n",
       "      <td>...</td>\n",
       "      <td>...</td>\n",
       "    </tr>\n",
       "    <tr>\n",
       "      <th>167975</th>\n",
       "      <td>100.6</td>\n",
       "      <td>86.4</td>\n",
       "      <td>173.2</td>\n",
       "    </tr>\n",
       "    <tr>\n",
       "      <th>167976</th>\n",
       "      <td>97.9</td>\n",
       "      <td>82.7</td>\n",
       "      <td>166.3</td>\n",
       "    </tr>\n",
       "    <tr>\n",
       "      <th>167977</th>\n",
       "      <td>97.9</td>\n",
       "      <td>87.2</td>\n",
       "      <td>175.2</td>\n",
       "    </tr>\n",
       "    <tr>\n",
       "      <th>167978</th>\n",
       "      <td>85.3</td>\n",
       "      <td>86.8</td>\n",
       "      <td>173.6</td>\n",
       "    </tr>\n",
       "    <tr>\n",
       "      <th>167979</th>\n",
       "      <td>86.6</td>\n",
       "      <td>88.3</td>\n",
       "      <td>175.8</td>\n",
       "    </tr>\n",
       "  </tbody>\n",
       "</table>\n",
       "<p>167980 rows × 3 columns</p>\n",
       "</div>"
      ],
      "text/plain": [
       "        chest   arm  height\n",
       "0        96.3  92.6   185.5\n",
       "1       101.9  83.8   167.2\n",
       "2        99.5  89.6   179.9\n",
       "3        98.6  85.5   171.4\n",
       "4        94.7  88.1   176.9\n",
       "...       ...   ...     ...\n",
       "167975  100.6  86.4   173.2\n",
       "167976   97.9  82.7   166.3\n",
       "167977   97.9  87.2   175.2\n",
       "167978   85.3  86.8   173.6\n",
       "167979   86.6  88.3   175.8\n",
       "\n",
       "[167980 rows x 3 columns]"
      ]
     },
     "execution_count": 9,
     "metadata": {},
     "output_type": "execute_result"
    }
   ],
   "source": [
    "X1[['chest', 'arm','height']]"
   ]
  },
  {
   "cell_type": "code",
   "execution_count": 10,
   "id": "083089a9",
   "metadata": {},
   "outputs": [
    {
     "data": {
      "text/plain": [
       "array([[ 96.3,  92.6, 185.5],\n",
       "       [101.9,  83.8, 167.2],\n",
       "       [ 99.5,  89.6, 179.9],\n",
       "       ...,\n",
       "       [ 97.9,  87.2, 175.2],\n",
       "       [ 85.3,  86.8, 173.6],\n",
       "       [ 86.6,  88.3, 175.8]])"
      ]
     },
     "execution_count": 10,
     "metadata": {},
     "output_type": "execute_result"
    }
   ],
   "source": [
    "np.array(X1[['chest', 'arm','height']])"
   ]
  },
  {
   "cell_type": "code",
   "execution_count": 11,
   "id": "a51e89c7",
   "metadata": {},
   "outputs": [],
   "source": [
    "X = X1[['chest', 'arm','height']]"
   ]
  },
  {
   "cell_type": "code",
   "execution_count": 12,
   "id": "fa84ba2c",
   "metadata": {},
   "outputs": [
    {
     "data": {
      "text/html": [
       "<div>\n",
       "<style scoped>\n",
       "    .dataframe tbody tr th:only-of-type {\n",
       "        vertical-align: middle;\n",
       "    }\n",
       "\n",
       "    .dataframe tbody tr th {\n",
       "        vertical-align: top;\n",
       "    }\n",
       "\n",
       "    .dataframe thead th {\n",
       "        text-align: right;\n",
       "    }\n",
       "</style>\n",
       "<table border=\"1\" class=\"dataframe\">\n",
       "  <thead>\n",
       "    <tr style=\"text-align: right;\">\n",
       "      <th></th>\n",
       "      <th>chest</th>\n",
       "      <th>arm</th>\n",
       "      <th>height</th>\n",
       "    </tr>\n",
       "  </thead>\n",
       "  <tbody>\n",
       "    <tr>\n",
       "      <th>0</th>\n",
       "      <td>96.3</td>\n",
       "      <td>92.6</td>\n",
       "      <td>185.5</td>\n",
       "    </tr>\n",
       "    <tr>\n",
       "      <th>1</th>\n",
       "      <td>101.9</td>\n",
       "      <td>83.8</td>\n",
       "      <td>167.2</td>\n",
       "    </tr>\n",
       "    <tr>\n",
       "      <th>2</th>\n",
       "      <td>99.5</td>\n",
       "      <td>89.6</td>\n",
       "      <td>179.9</td>\n",
       "    </tr>\n",
       "    <tr>\n",
       "      <th>3</th>\n",
       "      <td>98.6</td>\n",
       "      <td>85.5</td>\n",
       "      <td>171.4</td>\n",
       "    </tr>\n",
       "    <tr>\n",
       "      <th>4</th>\n",
       "      <td>94.7</td>\n",
       "      <td>88.1</td>\n",
       "      <td>176.9</td>\n",
       "    </tr>\n",
       "    <tr>\n",
       "      <th>...</th>\n",
       "      <td>...</td>\n",
       "      <td>...</td>\n",
       "      <td>...</td>\n",
       "    </tr>\n",
       "    <tr>\n",
       "      <th>167975</th>\n",
       "      <td>100.6</td>\n",
       "      <td>86.4</td>\n",
       "      <td>173.2</td>\n",
       "    </tr>\n",
       "    <tr>\n",
       "      <th>167976</th>\n",
       "      <td>97.9</td>\n",
       "      <td>82.7</td>\n",
       "      <td>166.3</td>\n",
       "    </tr>\n",
       "    <tr>\n",
       "      <th>167977</th>\n",
       "      <td>97.9</td>\n",
       "      <td>87.2</td>\n",
       "      <td>175.2</td>\n",
       "    </tr>\n",
       "    <tr>\n",
       "      <th>167978</th>\n",
       "      <td>85.3</td>\n",
       "      <td>86.8</td>\n",
       "      <td>173.6</td>\n",
       "    </tr>\n",
       "    <tr>\n",
       "      <th>167979</th>\n",
       "      <td>86.6</td>\n",
       "      <td>88.3</td>\n",
       "      <td>175.8</td>\n",
       "    </tr>\n",
       "  </tbody>\n",
       "</table>\n",
       "<p>167980 rows × 3 columns</p>\n",
       "</div>"
      ],
      "text/plain": [
       "        chest   arm  height\n",
       "0        96.3  92.6   185.5\n",
       "1       101.9  83.8   167.2\n",
       "2        99.5  89.6   179.9\n",
       "3        98.6  85.5   171.4\n",
       "4        94.7  88.1   176.9\n",
       "...       ...   ...     ...\n",
       "167975  100.6  86.4   173.2\n",
       "167976   97.9  82.7   166.3\n",
       "167977   97.9  87.2   175.2\n",
       "167978   85.3  86.8   173.6\n",
       "167979   86.6  88.3   175.8\n",
       "\n",
       "[167980 rows x 3 columns]"
      ]
     },
     "execution_count": 12,
     "metadata": {},
     "output_type": "execute_result"
    }
   ],
   "source": [
    "X"
   ]
  },
  {
   "cell_type": "code",
   "execution_count": 13,
   "id": "f0904f4a",
   "metadata": {},
   "outputs": [],
   "source": [
    "y = X1[['weight']]\n"
   ]
  },
  {
   "cell_type": "code",
   "execution_count": 14,
   "id": "bfc93b53",
   "metadata": {},
   "outputs": [
    {
     "data": {
      "text/html": [
       "<div>\n",
       "<style scoped>\n",
       "    .dataframe tbody tr th:only-of-type {\n",
       "        vertical-align: middle;\n",
       "    }\n",
       "\n",
       "    .dataframe tbody tr th {\n",
       "        vertical-align: top;\n",
       "    }\n",
       "\n",
       "    .dataframe thead th {\n",
       "        text-align: right;\n",
       "    }\n",
       "</style>\n",
       "<table border=\"1\" class=\"dataframe\">\n",
       "  <thead>\n",
       "    <tr style=\"text-align: right;\">\n",
       "      <th></th>\n",
       "      <th>weight</th>\n",
       "    </tr>\n",
       "  </thead>\n",
       "  <tbody>\n",
       "    <tr>\n",
       "      <th>0</th>\n",
       "      <td>73.2</td>\n",
       "    </tr>\n",
       "    <tr>\n",
       "      <th>1</th>\n",
       "      <td>65.1</td>\n",
       "    </tr>\n",
       "    <tr>\n",
       "      <th>2</th>\n",
       "      <td>93.2</td>\n",
       "    </tr>\n",
       "    <tr>\n",
       "      <th>3</th>\n",
       "      <td>71.6</td>\n",
       "    </tr>\n",
       "    <tr>\n",
       "      <th>4</th>\n",
       "      <td>67.1</td>\n",
       "    </tr>\n",
       "    <tr>\n",
       "      <th>...</th>\n",
       "      <td>...</td>\n",
       "    </tr>\n",
       "    <tr>\n",
       "      <th>167975</th>\n",
       "      <td>73.7</td>\n",
       "    </tr>\n",
       "    <tr>\n",
       "      <th>167976</th>\n",
       "      <td>70.7</td>\n",
       "    </tr>\n",
       "    <tr>\n",
       "      <th>167977</th>\n",
       "      <td>78.7</td>\n",
       "    </tr>\n",
       "    <tr>\n",
       "      <th>167978</th>\n",
       "      <td>57.4</td>\n",
       "    </tr>\n",
       "    <tr>\n",
       "      <th>167979</th>\n",
       "      <td>51.7</td>\n",
       "    </tr>\n",
       "  </tbody>\n",
       "</table>\n",
       "<p>167980 rows × 1 columns</p>\n",
       "</div>"
      ],
      "text/plain": [
       "        weight\n",
       "0         73.2\n",
       "1         65.1\n",
       "2         93.2\n",
       "3         71.6\n",
       "4         67.1\n",
       "...        ...\n",
       "167975    73.7\n",
       "167976    70.7\n",
       "167977    78.7\n",
       "167978    57.4\n",
       "167979    51.7\n",
       "\n",
       "[167980 rows x 1 columns]"
      ]
     },
     "execution_count": 14,
     "metadata": {},
     "output_type": "execute_result"
    }
   ],
   "source": [
    "y"
   ]
  },
  {
   "cell_type": "code",
   "execution_count": 29,
   "id": "fb0bd822",
   "metadata": {
    "scrolled": true
   },
   "outputs": [
    {
     "data": {
      "text/plain": [
       "array([1., 1., 1.])"
      ]
     },
     "execution_count": 29,
     "metadata": {},
     "output_type": "execute_result"
    }
   ],
   "source": [
    "np.max(X,axis= 0)"
   ]
  },
  {
   "cell_type": "code",
   "execution_count": 55,
   "id": "f501087a",
   "metadata": {},
   "outputs": [],
   "source": [
    "X = np.asarray(X)\n",
    "\n",
    "X = X / np.max(X, axis=0)\n",
    "X\n",
    "y = y/np.max(y, axis = 0)"
   ]
  },
  {
   "cell_type": "code",
   "execution_count": 56,
   "id": "e4b70b97",
   "metadata": {},
   "outputs": [
    {
     "data": {
      "text/plain": [
       "array([[0.54222222],\n",
       "       [0.48222222],\n",
       "       [0.69037037],\n",
       "       ...,\n",
       "       [0.58296296],\n",
       "       [0.42518519],\n",
       "       [0.38296296]])"
      ]
     },
     "execution_count": 56,
     "metadata": {},
     "output_type": "execute_result"
    }
   ],
   "source": [
    "Y = np.asarray(y)\n",
    "Y"
   ]
  },
  {
   "cell_type": "code",
   "execution_count": 57,
   "id": "1a4685b9",
   "metadata": {},
   "outputs": [],
   "source": [
    "from tensorflow import keras"
   ]
  },
  {
   "cell_type": "code",
   "execution_count": 58,
   "id": "c82f52c0",
   "metadata": {},
   "outputs": [],
   "source": [
    "# 훈련/검증용 데이터 분할\n",
    "X_train, X_Test,y_train,y_test = \\\n",
    "    train_test_split(X,Y,test_size = 0.2)"
   ]
  },
  {
   "cell_type": "code",
   "execution_count": 59,
   "id": "c860c07e",
   "metadata": {},
   "outputs": [
    {
     "data": {
      "text/plain": [
       "(134384, 3)"
      ]
     },
     "execution_count": 59,
     "metadata": {},
     "output_type": "execute_result"
    }
   ],
   "source": [
    "X_train.shape"
   ]
  },
  {
   "cell_type": "code",
   "execution_count": 60,
   "id": "64883dea",
   "metadata": {},
   "outputs": [],
   "source": [
    "model = keras.Sequential([\n",
    "    keras.layers.Dense(3),\n",
    "    keras.layers.Dense(256,activation = \"relu\"),\n",
    "    keras.layers.Dense(1,activation = 'sigmoid')\n",
    "])"
   ]
  },
  {
   "cell_type": "code",
   "execution_count": 61,
   "id": "b1ec708f",
   "metadata": {},
   "outputs": [],
   "source": [
    "model.compile(optimizer = \"adam\", loss = \"mse\", metrics = ['accuracy'])"
   ]
  },
  {
   "cell_type": "code",
   "execution_count": 62,
   "id": "1857d343",
   "metadata": {},
   "outputs": [],
   "source": [
    "EPOCHS = 20  # 예제 기본값은 50입니다.\n",
    "from tensorflow import keras\n"
   ]
  },
  {
   "cell_type": "code",
   "execution_count": 63,
   "id": "0a19b4e7",
   "metadata": {
    "scrolled": true
   },
   "outputs": [
    {
     "name": "stdout",
     "output_type": "stream",
     "text": [
      "\n",
      "\n",
      "************ TRAINING START ************ \n",
      "Train on 134384 samples\n",
      "Epoch 1/20\n",
      "134384/134384 [==============================] - 4s 32us/sample - loss: 0.0025 - accuracy: 8.1855e-05\n",
      "Epoch 2/20\n",
      "134384/134384 [==============================] - 4s 30us/sample - loss: 0.0018 - accuracy: 8.9296e-05\n",
      "Epoch 3/20\n",
      "134384/134384 [==============================] - 4s 30us/sample - loss: 0.0018 - accuracy: 8.1855e-05s - loss: 0.001\n",
      "Epoch 4/20\n",
      "134384/134384 [==============================] - 4s 29us/sample - loss: 0.0018 - accuracy: 8.9296e-05\n",
      "Epoch 5/20\n",
      "134384/134384 [==============================] - 4s 29us/sample - loss: 0.0018 - accuracy: 9.6738e-05\n",
      "Epoch 6/20\n",
      "134384/134384 [==============================] - 4s 29us/sample - loss: 0.0018 - accuracy: 8.9296e-05s - loss: 0.0018 - accuracy: 6.61 - ETA: 0s - loss: 0.0018 - accuracy: \n",
      "Epoch 7/20\n",
      "134384/134384 [==============================] - 4s 29us/sample - loss: 0.0018 - accuracy: 9.6738e-05s - loss: 0.0018 - accura\n",
      "Epoch 8/20\n",
      "134384/134384 [==============================] - 4s 29us/sample - loss: 0.0018 - accuracy: 9.6738e-05s - loss: 0.0018 - accuracy: 8.3407e- - ETA: 1s - loss: 0.0018 \n",
      "Epoch 9/20\n",
      "134384/134384 [==============================] - 4s 29us/sample - loss: 0.0018 - accuracy: 8.9296e-05\n",
      "Epoch 10/20\n",
      "134384/134384 [==============================] - 4s 29us/sample - loss: 0.0018 - accuracy: 9.6738e-05\n",
      "Epoch 11/20\n",
      "134384/134384 [==============================] - 4s 29us/sample - loss: 0.0018 - accuracy: 9.6738e-05s - loss: 0.0018 \n",
      "Epoch 12/20\n",
      "134384/134384 [==============================] - 4s 29us/sample - loss: 0.0018 - accuracy: 8.9296e-05\n",
      "Epoch 13/20\n",
      "134384/134384 [==============================] - 4s 29us/sample - loss: 0.0018 - accuracy: 8.1855e-05\n",
      "Epoch 14/20\n",
      "134384/134384 [==============================] - 4s 29us/sample - loss: 0.0018 - accuracy: 9.6738e-05\n",
      "Epoch 15/20\n",
      "134384/134384 [==============================] - 4s 29us/sample - loss: 0.0018 - accuracy: 8.1855e-05\n",
      "Epoch 16/20\n",
      "134384/134384 [==============================] - 4s 29us/sample - loss: 0.0018 - accuracy: 9.6738e-05\n",
      "Epoch 17/20\n",
      "134384/134384 [==============================] - 4s 29us/sample - loss: 0.0018 - accuracy: 8.9296e-05\n",
      "Epoch 18/20\n",
      "134384/134384 [==============================] - 4s 29us/sample - loss: 0.0018 - accuracy: 8.9296e-05\n",
      "Epoch 19/20\n",
      "134384/134384 [==============================] - 4s 29us/sample - loss: 0.0018 - accuracy: 8.9296e-05\n",
      "Epoch 20/20\n",
      "134384/134384 [==============================] - 4s 29us/sample - loss: 0.0018 - accuracy: 8.9296e-05s - los - E\n"
     ]
    }
   ],
   "source": [
    "# 인공신경망을 학습시킵니다.\n",
    "print(\"\\n\\n************ TRAINING START ************ \")\n",
    "early_stop = keras.callbacks.EarlyStopping(monitor='val_loss', patience=10)\n",
    "history = model.fit(X_train, y_train, epochs=EPOCHS)"
   ]
  },
  {
   "cell_type": "code",
   "execution_count": 64,
   "id": "cdb3925a",
   "metadata": {},
   "outputs": [
    {
     "data": {
      "text/plain": [
       "array([[0.53420186],\n",
       "       [0.4097014 ],\n",
       "       [0.4927729 ],\n",
       "       [0.6097225 ],\n",
       "       [0.45379   ]], dtype=float32)"
      ]
     },
     "execution_count": 64,
     "metadata": {},
     "output_type": "execute_result"
    }
   ],
   "source": [
    "pred = model.predict(X_train[:5])\n",
    "pred"
   ]
  },
  {
   "cell_type": "code",
   "execution_count": 65,
   "id": "fd56e42f",
   "metadata": {},
   "outputs": [
    {
     "data": {
      "text/plain": [
       "array([[0.48518519],\n",
       "       [0.44592593],\n",
       "       [0.51185185],\n",
       "       [0.56592593],\n",
       "       [0.46592593]])"
      ]
     },
     "execution_count": 65,
     "metadata": {},
     "output_type": "execute_result"
    }
   ],
   "source": [
    "y_train[:5]"
   ]
  },
  {
   "cell_type": "code",
   "execution_count": 66,
   "id": "bf73fcba",
   "metadata": {},
   "outputs": [
    {
     "data": {
      "text/plain": [
       "[0.002531258989490745,\n",
       " 0.0018289837841415125,\n",
       " 0.0018161379607085635,\n",
       " 0.0018068231962814596,\n",
       " 0.001803970447191903,\n",
       " 0.0018095241349124164,\n",
       " 0.00179765416422451,\n",
       " 0.0017985840912844889,\n",
       " 0.0017942033736454374,\n",
       " 0.0017936113963075157,\n",
       " 0.0017861366262935535,\n",
       " 0.001792298946193091,\n",
       " 0.0017852851999534936,\n",
       " 0.0017854456775875526,\n",
       " 0.0017864881402302052,\n",
       " 0.0017827624248820636,\n",
       " 0.0017818078937438988,\n",
       " 0.00178253178873445,\n",
       " 0.0017791380193474793,\n",
       " 0.0017792908872048252]"
      ]
     },
     "execution_count": 66,
     "metadata": {},
     "output_type": "execute_result"
    }
   ],
   "source": [
    "history.history[\"loss\"]"
   ]
  },
  {
   "cell_type": "code",
   "execution_count": 67,
   "id": "2b7b7d7d",
   "metadata": {},
   "outputs": [
    {
     "data": {
      "image/png": "[encoded data removed]",
      "text/plain": [
       "<Figure size 576x576 with 1 Axes>"
      ]
     },
     "metadata": {
      "needs_background": "light"
     },
     "output_type": "display_data"
    }
   ],
   "source": [
    "train_history = history.history[\"loss\"]\n",
    "\n",
    "fig = plt.figure(figsize=(8, 8))\n",
    "plt.title(\"Loss History\")\n",
    "plt.xlabel(\"EPOCH\")\n",
    "plt.ylabel(\"LOSS Function\")\n",
    "plt.plot(train_history, \"red\")\n",
    "\n",
    "fig.savefig(\"train_history.png\")"
   ]
  },
  {
   "cell_type": "code",
   "execution_count": 49,
   "id": "88c43e08",
   "metadata": {},
   "outputs": [
    {
     "data": {
      "image/png": "[encoded data removed]",
      "text/plain": [
       "<Figure size 576x576 with 1 Axes>"
      ]
     },
     "metadata": {
      "needs_background": "light"
     },
     "output_type": "display_data"
    }
   ],
   "source": [
    "train_history = history.history[\"accuracy\"]\n",
    "\n",
    "fig = plt.figure(figsize=(8, 8))\n",
    "plt.title(\"accuray History\")\n",
    "plt.xlabel(\"EPOCH\")\n",
    "plt.ylabel(\"accuray Function\")\n",
    "plt.plot(train_history, \"red\")\n",
    "\n",
    "fig.savefig(\"accuray.png\")"
   ]
  },
  {
   "cell_type": "code",
   "execution_count": null,
   "id": "ac6634c5",
   "metadata": {},
   "outputs": [],
   "source": []
  }
 ],
 "metadata": {
  "kernelspec": {
   "display_name": "Python 3 (ipykernel)",
   "language": "python",
   "name": "python3"
  },
  "language_info": {
   "codemirror_mode": {
    "name": "ipython",
    "version": 3
   },
   "file_extension": ".py",
   "mimetype": "text/x-python",
   "name": "python",
   "nbconvert_exporter": "python",
   "pygments_lexer": "ipython3",
   "version": "3.7.7"
  },
  "toc": {
   "base_numbering": 1,
   "nav_menu": {},
   "number_sections": true,
   "sideBar": true,
   "skip_h1_title": false,
   "title_cell": "Table of Contents",
   "title_sidebar": "Contents",
   "toc_cell": false,
   "toc_position": {},
   "toc_section_display": true,
   "toc_window_display": false
  }
 },
 "nbformat": 4,
 "nbformat_minor": 5
}
