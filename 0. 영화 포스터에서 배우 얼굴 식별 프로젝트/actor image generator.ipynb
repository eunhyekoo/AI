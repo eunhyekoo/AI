{
 "cells": [
  {
   "cell_type": "code",
   "execution_count": 10,
   "id": "3b98e915",
   "metadata": {},
   "outputs": [],
   "source": [
    "import os\n",
    "import numpy as np\n",
    "from PIL import Image\n",
    "import random\n",
    "from matplotlib import pyplot as plt\n",
    "from numpy import expand_dims\n",
    "from tensorflow.keras.preprocessing.image import load_img\n",
    "from tensorflow.keras.preprocessing.image import img_to_array\n",
    "from tensorflow.keras.preprocessing.image import ImageDataGenerator\n",
    "from matplotlib import pyplot as plt"
   ]
  },
  {
   "cell_type": "code",
   "execution_count": 11,
   "id": "57c372b2",
   "metadata": {},
   "outputs": [],
   "source": [
    "import cv2"
   ]
  },
  {
   "cell_type": "code",
   "execution_count": 14,
   "id": "c1e0a28d",
   "metadata": {},
   "outputs": [],
   "source": [
    "def generator(i,img):\n",
    "\n",
    "    data = img_to_array(img)\n",
    "\n",
    "    samples = expand_dims(data,0)\n",
    "\n",
    "    datagen = ImageDataGenerator(zoom_range = [0.5,1.0])\n",
    "    it = datagen.flow(samples, batch_size = 1)\n",
    "    fig = plt.figure(figsize = (30,30))\n",
    "    path = './data1/'+str(i)\n",
    "    for i in range(9):\n",
    "    \n",
    "        plt.subplot(330+1+i)\n",
    "        batch = it.next()\n",
    "        image = batch[0].astype('uint8')\n",
    "        image= cv2.cvtColor(image,cv2.COLOR_BGR2RGB)\n",
    "        plt.imshow(image)\n",
    "        cv2.imwrite(path+str(i)+'.jpeg',image)\n",
    "    #plt.savefig('0'+str(i)+'.jpeg')\n",
    "#plt.show()"
   ]
  },
  {
   "cell_type": "code",
   "execution_count": 15,
   "id": "a7fe32bd",
   "metadata": {},
   "outputs": [
    {
     "name": "stdout",
     "output_type": "stream",
     "text": [
      "reading Data..\n"
     ]
    }
   ],
   "source": [
    "data = []\n",
    "print(\"reading Data..\")\n",
    "classes = os.listdir(\"test\")\n",
    "for i, cls in enumerate(classes):\n",
    "    #for e1 in os.listdir(\"유해진\"):\n",
    "        if(cls != '.DS_Store'):\n",
    "            img = Image.open(\"test/\"+cls).convert('RGB')\n",
    "            img = img.resize((128,128))\n",
    "            generator(i,img)\n",
    "            data.append((np.asarray(img),0))\n",
    "            img.close()"
   ]
  },
  {
   "cell_type": "code",
   "execution_count": 33,
   "id": "0790385b",
   "metadata": {},
   "outputs": [],
   "source": [
    "def generator(i,img):\n",
    "\n",
    "    data = img_to_array(img)\n",
    "\n",
    "    samples = expand_dims(data,0)\n",
    "\n",
    "    datagen = ImageDataGenerator(zoom_range = [0.5,1.0])\n",
    "    it = datagen.flow(samples, batch_size = 1)\n",
    "    fig = plt.figure(figsize = (30,30))\n",
    "    path = './data1/'+str(i)\n",
    "    for i in range(9):\n",
    "    \n",
    "        plt.subplot(330+1+i)\n",
    "        batch = it.next()\n",
    "        image = batch[0].astype('uint8')\n",
    "        image= cv2.cvtColor(image,cv2.COLOR_BGR2RGB)\n",
    "        plt.imshow(image)\n",
    "        cv2.imwrite(path+str(i)+'.jpeg',image)\n",
    "    #plt.savefig('0'+str(i)+'.jpeg')\n",
    "#plt.show()"
   ]
  },
  {
   "cell_type": "code",
   "execution_count": null,
   "id": "86085eb5",
   "metadata": {},
   "outputs": [],
   "source": [
    "from numpy import expand_dims\n",
    "from tensorflow.keras.preprocessing.image import load_img\n",
    "from tensorflow.keras.preprocessing.image import img_to_array\n",
    "from tensorflow.keras.preprocessing.image import ImageDataGenerator\n",
    "from matplotlib import pyplot as plt\n",
    "\n",
    "img = load_img('./유해진/1.jpeg')\n",
    "data = img_to_array(img)\n",
    "\n",
    "samples = expand_dims(data,0)\n",
    "\n",
    "datagen = ImageDataGenerator(zoom_range = [0.5,1.0])\n",
    "it = datagen.flow(samples, batch_size = 1)\n",
    "fig = plt.figure(figsize = (30,30))\n",
    "path = './data1/'\n",
    "for i in range(9):\n",
    "    \n",
    "    plt.subplot(330+1+i)\n",
    "    batch = it.next()\n",
    "    image = batch[0].astype('uint8')\n",
    "    plt.imshow(image)\n",
    "    cv2.imwrite(path+str(i)+'.jpeg',image)\n",
    "    #plt.savefig('0'+str(i)+'.jpeg')\n",
    "plt.show()"
   ]
  },
  {
   "cell_type": "code",
   "execution_count": null,
   "id": "79e4eac9",
   "metadata": {},
   "outputs": [],
   "source": []
  }
 ],
 "metadata": {
  "kernelspec": {
   "display_name": "Python 3 (ipykernel)",
   "language": "python",
   "name": "python3"
  },
  "language_info": {
   "codemirror_mode": {
    "name": "ipython",
    "version": 3
   },
   "file_extension": ".py",
   "mimetype": "text/x-python",
   "name": "python",
   "nbconvert_exporter": "python",
   "pygments_lexer": "ipython3",
   "version": "3.7.11"
  },
  "toc": {
   "base_numbering": 1,
   "nav_menu": {},
   "number_sections": true,
   "sideBar": true,
   "skip_h1_title": false,
   "title_cell": "Table of Contents",
   "title_sidebar": "Contents",
   "toc_cell": false,
   "toc_position": {},
   "toc_section_display": true,
   "toc_window_display": false
  }
 },
 "nbformat": 4,
 "nbformat_minor": 5
}
