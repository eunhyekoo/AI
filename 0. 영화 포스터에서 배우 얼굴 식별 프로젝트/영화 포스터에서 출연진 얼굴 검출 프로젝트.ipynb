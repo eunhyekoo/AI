{
 "cells": [
  {
   "cell_type": "code",
   "execution_count": 1,
   "id": "b3ebe0cf",
   "metadata": {
    "ExecuteTime": {
     "end_time": "2022-01-06T08:25:19.698467Z",
     "start_time": "2022-01-06T08:25:17.753853Z"
    }
   },
   "outputs": [],
   "source": [
    "import os\n",
    "import numpy as np\n",
    "from PIL import Image\n",
    "import random\n",
    "from matplotlib import pyplot as plt\n",
    "from tensorflow import keras"
   ]
  },
  {
   "cell_type": "code",
   "execution_count": 2,
   "id": "c29637c0",
   "metadata": {
    "ExecuteTime": {
     "end_time": "2022-01-06T08:25:19.966794Z",
     "start_time": "2022-01-06T08:25:19.936591Z"
    }
   },
   "outputs": [],
   "source": [
    "import cv2\n",
    "import numpy as np\n",
    "import os\n",
    "os.environ[\"CUDA_VISIBLE_DEVICES\"]=\"0\""
   ]
  },
  {
   "cell_type": "code",
   "execution_count": 3,
   "id": "b2a448b2",
   "metadata": {
    "ExecuteTime": {
     "end_time": "2022-01-06T00:57:44.989053Z",
     "start_time": "2022-01-06T00:57:44.893332Z"
    },
    "collapsed": true
   },
   "outputs": [
    {
     "ename": "FileNotFoundError",
     "evalue": "[Errno 2] No such file or directory: 'data/Ryu/'",
     "output_type": "error",
     "traceback": [
      "\u001b[0;31m---------------------------------------------------------------------------\u001b[0m",
      "\u001b[0;31mFileNotFoundError\u001b[0m                         Traceback (most recent call last)",
      "\u001b[0;32m/var/folders/fx/xwm3xmr10474257ckhl47glw0000gn/T/ipykernel_24603/2103616301.py\u001b[0m in \u001b[0;36m<module>\u001b[0;34m\u001b[0m\n\u001b[1;32m      1\u001b[0m \u001b[0;31m# 이미지 불러오기(한번만)\u001b[0m\u001b[0;34m\u001b[0m\u001b[0;34m\u001b[0m\u001b[0;34m\u001b[0m\u001b[0m\n\u001b[1;32m      2\u001b[0m \u001b[0mpath\u001b[0m \u001b[0;34m=\u001b[0m \u001b[0;34m'data/Ryu/'\u001b[0m\u001b[0;34m\u001b[0m\u001b[0;34m\u001b[0m\u001b[0m\n\u001b[0;32m----> 3\u001b[0;31m \u001b[0mfile_list\u001b[0m \u001b[0;34m=\u001b[0m \u001b[0mos\u001b[0m\u001b[0;34m.\u001b[0m\u001b[0mlistdir\u001b[0m\u001b[0;34m(\u001b[0m\u001b[0mpath\u001b[0m\u001b[0;34m)\u001b[0m\u001b[0;34m\u001b[0m\u001b[0;34m\u001b[0m\u001b[0m\n\u001b[0m\u001b[1;32m      4\u001b[0m \u001b[0;34m\u001b[0m\u001b[0m\n\u001b[1;32m      5\u001b[0m \u001b[0;32mfor\u001b[0m \u001b[0mA\u001b[0m \u001b[0;32min\u001b[0m \u001b[0mfile_list\u001b[0m\u001b[0;34m:\u001b[0m\u001b[0;34m\u001b[0m\u001b[0;34m\u001b[0m\u001b[0m\n",
      "\u001b[0;31mFileNotFoundError\u001b[0m: [Errno 2] No such file or directory: 'data/Ryu/'"
     ]
    }
   ],
   "source": [
    "# 이미지 불러오기(한번만)\n",
    "path = 'data/Ryu/'\n",
    "file_list = os.listdir(path)\n",
    "\n",
    "for A in file_list:\n",
    "    if A == \".DS_Store\":\n",
    "        continue\n",
    "    img = cv2.imread(path + A)\n",
    "    res = cv2.resize(img, dsize=(60, 90), interpolation=cv2.INTER_CUBIC)\n",
    "    cv2.imwrite('data/Ryu/'+ A, res)"
   ]
  },
  {
   "cell_type": "code",
   "execution_count": null,
   "id": "b78cacba",
   "metadata": {
    "ExecuteTime": {
     "end_time": "2022-01-06T00:57:46.368801Z",
     "start_time": "2022-01-06T00:57:46.260797Z"
    }
   },
   "outputs": [],
   "source": [
    "# 이미지 불러오기2(한번만)\n",
    "path = 'data/Oh/'\n",
    "file_list = os.listdir(path)\n",
    "\n",
    "for A in file_list:\n",
    "    if A == \".DS_Store\":\n",
    "        continue\n",
    "    img = cv2.imread(path + A)\n",
    "    res2 = cv2.resize(img, dsize=(60, 90), interpolation=cv2.INTER_CUBIC)\n",
    "    cv2.imwrite('data/Oh/'+ A, res)"
   ]
  },
  {
   "cell_type": "code",
   "execution_count": null,
   "id": "853149ca",
   "metadata": {
    "ExecuteTime": {
     "end_time": "2022-01-06T00:57:47.040481Z",
     "start_time": "2022-01-06T00:57:46.923358Z"
    }
   },
   "outputs": [],
   "source": [
    "# 이미지 불러오기3(한번만)\n",
    "path = 'data/Lee/'\n",
    "file_list = os.listdir(path)\n",
    "\n",
    "for A in file_list:\n",
    "    if A == \".DS_Store\":\n",
    "        continue\n",
    "    img = cv2.imread(path + A)\n",
    "    res3 = cv2.resize(img, dsize=(60, 90), interpolation=cv2.INTER_CUBIC)\n",
    "    cv2.imwrite('data/Lee/'+ A, res3)"
   ]
  },
  {
   "cell_type": "code",
   "execution_count": 3,
   "id": "6130b86d",
   "metadata": {
    "ExecuteTime": {
     "end_time": "2022-01-06T08:26:35.725014Z",
     "start_time": "2022-01-06T08:26:35.585554Z"
    }
   },
   "outputs": [],
   "source": [
    "# 이미지 불러오기3(한번만_포스터)\n",
    "path = './poster/'\n",
    "file_list = os.listdir(path)\n",
    "\n",
    "for A in file_list:\n",
    "    if A == \".DS_Store\":\n",
    "        continue\n",
    "    img = cv2.imread(path + A)\n",
    "    res3 = cv2.resize(img, dsize=(60, 60), interpolation=cv2.INTER_CUBIC)\n",
    "    cv2.imwrite('./poster/'+ A, res3)"
   ]
  },
  {
   "cell_type": "code",
   "execution_count": 4,
   "id": "709b127f",
   "metadata": {
    "ExecuteTime": {
     "end_time": "2022-01-06T08:26:48.034912Z",
     "start_time": "2022-01-06T08:26:36.762026Z"
    }
   },
   "outputs": [],
   "source": [
    "## 이미지 불러와서 이미지 크기를 60*90 으로 이미지 조절\n",
    "# 위 함수들 자동화함\n",
    "# data_after 전체파일들을 그대로 data에 잘라 붙여넣기\n",
    "all_files = os.listdir(\"data/\")\n",
    "\n",
    "#people = [\"오달수\",\"류승룡\",\"송강호\",\"정진영\",\"유해진\",\"하정우\",\"설경구\",\"이정재\",\"전지현\",\"황정민\",\"김향기\",\"마동석\"]\n",
    "\n",
    "for x in all_files:\n",
    "    path = 'data/'+x+'/'\n",
    "    file_list = os.listdir(path)\n",
    "\n",
    "    for A in file_list:\n",
    "        if A == \".DS_Store\":\n",
    "            continue\n",
    "        img = cv2.imread(path + A)\n",
    "        res = cv2.resize(img, dsize=(60, 60), interpolation=cv2.INTER_CUBIC)\n",
    "        cv2.imwrite(path + A, res)"
   ]
  },
  {
   "cell_type": "code",
   "execution_count": 5,
   "id": "8107cab2",
   "metadata": {
    "ExecuteTime": {
     "end_time": "2022-01-06T08:26:49.557042Z",
     "start_time": "2022-01-06T08:26:49.545581Z"
    }
   },
   "outputs": [
    {
     "name": "stdout",
     "output_type": "stream",
     "text": [
      "['ha', 'hwang', 'hyang', 'jeon', 'jung', 'lee', 'ma', 'oh', 'ryu', 'seol', 'song', 'you']\n"
     ]
    }
   ],
   "source": [
    "## classes 순서를 잘 봐야 한다 \n",
    "c = os.listdir(\"data\")\n",
    "#c.remove(\".DS_Store\") #['.DS_Store', '류승룡', '오달수']\n",
    "#c.remove(\"poster\") #포스터는 실제 예측데이터로 쓸거야!\n",
    "print(c)"
   ]
  },
  {
   "cell_type": "code",
   "execution_count": 6,
   "id": "7bd260be",
   "metadata": {
    "ExecuteTime": {
     "end_time": "2022-01-06T08:26:50.486038Z",
     "start_time": "2022-01-06T08:26:50.467208Z"
    }
   },
   "outputs": [],
   "source": [
    "# 데이터를 떠먹여 줄 클래스를 제작합니다.\n",
    "class DataReader():\n",
    "    def __init__(self):\n",
    "        self.label = ['이정재', '정진영', '마동석', '유해진', '황정민', '류승룡', '설경구', '오달수', '김향기', '하정우', '송강호', '전지현']\n",
    "        \n",
    "        self.train_X = []\n",
    "        self.train_Y = []\n",
    "        self.test_X = []\n",
    "        self.test_Y = []\n",
    "        \n",
    "        self.read_images()\n",
    "\n",
    "    def read_images(self):\n",
    "        data = []\n",
    "        print(\"Reading Data...\")\n",
    "        classes = os.listdir(\"data\") # 순서에 따라 0~ 부여해야하므로 중요\n",
    "        #classes.remove(\".DS_Store\") #['.DS_Store', '류승룡', '오달수']\n",
    "        #classes.remove(\"poster\") #포스터는 실제 예측데이터로 쓸거야!\n",
    "        for i, cls in enumerate(classes):\n",
    "            print(\"Opening \" + cls + \"/\")\n",
    "            Path = os.listdir(\"data/\" + cls)\n",
    "            if \".DS_Store\" in Path:\n",
    "                Path.remove(\".DS_Store\")\n",
    "            for el in Path:\n",
    "                img = Image.open(\"data/\" + cls + \"/\" + el)\n",
    "                data.append((np.asarray(img), i))\n",
    "                img.close()\n",
    "\n",
    "        random.shuffle(data)\n",
    "\n",
    "        for i in range(len(data)):\n",
    "            if i < 0.8*len(data):\n",
    "                self.train_X.append(data[i][0])\n",
    "                self.train_Y.append(data[i][1])\n",
    "            else:\n",
    "                self.test_X.append(data[i][0])\n",
    "                self.test_Y.append(data[i][1])\n",
    "\n",
    "        self.train_X = np.asarray(self.train_X) / 255.0\n",
    "        self.train_Y = np.asarray(self.train_Y)\n",
    "        self.test_X = np.asarray(self.test_X) / 255.0\n",
    "        self.test_Y = np.asarray(self.test_Y)\n",
    "\n",
    "        # 데이터 읽기가 완료되었습니다.\n",
    "        # 읽어온 데이터의 정보를 출력합니다.\n",
    "        print(\"\\n\\nData Read Done!\")\n",
    "        print(\"Training X Size : \" + str(self.train_X.shape))\n",
    "        print(\"Training Y Size : \" + str(self.train_Y.shape))\n",
    "        print(\"Test X Size : \" + str(self.test_X.shape))\n",
    "        print(\"Test Y Size : \" + str(self.test_Y.shape) + '\\n\\n')\n",
    "\n",
    "    def show_processed_images(self):\n",
    "        plt.figure(figsize=(10, 10))\n",
    "        for i in range(25):\n",
    "            plt.subplot(5, 5, i + 1)\n",
    "            plt.xticks([])\n",
    "            plt.yticks([])\n",
    "            plt.grid(False)\n",
    "            plt.imshow(self.train_X[i], cmap=plt.cm.binary)\n",
    "            plt.xlabel(self.label[int(self.train_Y[i])])\n",
    "        plt.show()"
   ]
  },
  {
   "cell_type": "code",
   "execution_count": 7,
   "id": "a209a30b",
   "metadata": {
    "ExecuteTime": {
     "end_time": "2022-01-06T08:26:51.412340Z",
     "start_time": "2022-01-06T08:26:51.395834Z"
    }
   },
   "outputs": [],
   "source": [
    "def draw_graph(history):\n",
    "    train_history = history.history[\"loss\"]\n",
    "    validation_history = history.history[\"val_loss\"]\n",
    "    fig = plt.figure(figsize=(8, 8))\n",
    "    plt.title(\"Loss History\")\n",
    "    plt.xlabel(\"EPOCH\")\n",
    "    plt.ylabel(\"LOSS Function\")\n",
    "    plt.plot(train_history, \"red\")\n",
    "    plt.plot(validation_history, 'blue')\n",
    "    fig.savefig(\"train_history.png\")\n",
    "\n",
    "    train_history = history.history[\"accuracy\"]\n",
    "    validation_history = history.history[\"val_accuracy\"]\n",
    "    fig = plt.figure(figsize=(8, 8))\n",
    "    plt.title(\"Accuracy History\")\n",
    "    plt.xlabel(\"EPOCH\")\n",
    "    plt.ylabel(\"Accuracy\")\n",
    "    plt.plot(train_history, \"red\")\n",
    "    plt.plot(validation_history, 'blue')\n",
    "    fig.savefig(\"accuracy_history.png\")"
   ]
  },
  {
   "cell_type": "code",
   "execution_count": 8,
   "id": "b2b2ba24",
   "metadata": {
    "ExecuteTime": {
     "end_time": "2022-01-06T08:26:57.757290Z",
     "start_time": "2022-01-06T08:26:52.089261Z"
    },
    "scrolled": true
   },
   "outputs": [
    {
     "name": "stdout",
     "output_type": "stream",
     "text": [
      "Reading Data...\n",
      "Opening ha/\n",
      "Opening hwang/\n",
      "Opening hyang/\n",
      "Opening jeon/\n",
      "Opening jung/\n",
      "Opening lee/\n",
      "Opening ma/\n",
      "Opening oh/\n",
      "Opening ryu/\n",
      "Opening seol/\n",
      "Opening song/\n",
      "Opening you/\n",
      "\n",
      "\n",
      "Data Read Done!\n",
      "Training X Size : (13866, 60, 60, 3)\n",
      "Training Y Size : (13866,)\n",
      "Test X Size : (3466, 60, 60, 3)\n",
      "Test Y Size : (3466,)\n",
      "\n",
      "\n"
     ]
    }
   ],
   "source": [
    "# 데이터를 읽어옵니다.\n",
    "dr = DataReader()"
   ]
  },
  {
   "cell_type": "code",
   "execution_count": 126,
   "id": "078b50c8",
   "metadata": {
    "ExecuteTime": {
     "end_time": "2022-01-06T08:01:10.667074Z",
     "start_time": "2022-01-06T08:01:10.647073Z"
    }
   },
   "outputs": [
    {
     "data": {
      "text/plain": [
       "\" keras.layers.Conv2D(64, (3, 3), activation='relu'),\\n    keras.layers.MaxPooling2D((2, 2)),\\n    keras.layers.Conv2D(64, (3, 3), activation='relu'),\\n    keras.layers.MaxPooling2D((2, 2)),\""
      ]
     },
     "execution_count": 126,
     "metadata": {},
     "output_type": "execute_result"
    }
   ],
   "source": [
    "# 인공신경망을 제작합니다.\n",
    "model = keras.Sequential([\n",
    "    keras.layers.Conv2D(16, (3, 3), activation=\"relu\"),\n",
    "    keras.layers.MaxPooling2D((2, 2)),\n",
    "    keras.layers.Dropout(0.2),\n",
    "    keras.layers.Conv2D(32, (3, 3), activation='relu'),\n",
    "    keras.layers.MaxPooling2D((2, 2)),\n",
    "    keras.layers.Dropout(0.2),\n",
    "    keras.layers.Conv2D(64, (3, 3), activation='relu'),\n",
    "    keras.layers.MaxPooling2D((2, 2)),\n",
    "    keras.layers.Dropout(0.2),\n",
    "    keras.layers.Conv2D(128, (3, 3), activation='relu'),\n",
    "    keras.layers.MaxPooling2D((2, 2)),\n",
    "    keras.layers.Dropout(0.2),\n",
    "    keras.layers.Dense(256, activation='relu'),\n",
    "    keras.layers.Flatten(),\n",
    "    keras.layers.Dense(128, activation='relu'),\n",
    "    keras.layers.Dropout(0.2),\n",
    "    keras.layers.Dense(12, activation=\"softmax\")\n",
    "])\n",
    "\n",
    "''' keras.layers.Conv2D(64, (3, 3), activation='relu'),\n",
    "    keras.layers.MaxPooling2D((2, 2)),\n",
    "    keras.layers.Conv2D(64, (3, 3), activation='relu'),\n",
    "    keras.layers.MaxPooling2D((2, 2)),'''"
   ]
  },
  {
   "cell_type": "code",
   "execution_count": 127,
   "id": "7b49d4cc",
   "metadata": {
    "ExecuteTime": {
     "end_time": "2022-01-06T08:01:11.383447Z",
     "start_time": "2022-01-06T08:01:11.369669Z"
    }
   },
   "outputs": [],
   "source": [
    "# 인공신경망을 컴파일합니다.\n",
    "model.compile(optimizer='adamax', metrics=['accuracy'],\n",
    "              loss='sparse_categorical_crossentropy')"
   ]
  },
  {
   "cell_type": "code",
   "execution_count": 128,
   "id": "393b835d",
   "metadata": {
    "ExecuteTime": {
     "end_time": "2022-01-06T08:01:11.908794Z",
     "start_time": "2022-01-06T08:01:11.905789Z"
    }
   },
   "outputs": [],
   "source": [
    "# 몇 에포크 만큼 학습을 시킬 것인지 결정합니다.\n",
    "EPOCHS = 40  # 예제 기본값은 30입니다."
   ]
  },
  {
   "cell_type": "code",
   "execution_count": 129,
   "id": "93275dbc",
   "metadata": {
    "ExecuteTime": {
     "end_time": "2022-01-06T08:02:51.944312Z",
     "start_time": "2022-01-06T08:01:12.352034Z"
    },
    "scrolled": true
   },
   "outputs": [
    {
     "name": "stdout",
     "output_type": "stream",
     "text": [
      "\n",
      "\n",
      "************ TRAINING START ************ \n",
      "Epoch 1/40\n",
      "434/434 [==============================] - 3s 6ms/step - loss: 2.3381 - accuracy: 0.1915 - val_loss: 2.1948 - val_accuracy: 0.2651\n",
      "Epoch 2/40\n",
      "434/434 [==============================] - 2s 6ms/step - loss: 2.0826 - accuracy: 0.2958 - val_loss: 1.9988 - val_accuracy: 0.3748\n",
      "Epoch 3/40\n",
      "434/434 [==============================] - 2s 6ms/step - loss: 1.8656 - accuracy: 0.3788 - val_loss: 1.7253 - val_accuracy: 0.4455\n",
      "Epoch 4/40\n",
      "434/434 [==============================] - 2s 6ms/step - loss: 1.6649 - accuracy: 0.4495 - val_loss: 1.4657 - val_accuracy: 0.5300\n",
      "Epoch 5/40\n",
      "434/434 [==============================] - 2s 6ms/step - loss: 1.4726 - accuracy: 0.5130 - val_loss: 1.3082 - val_accuracy: 0.5773\n",
      "Epoch 6/40\n",
      "434/434 [==============================] - 2s 6ms/step - loss: 1.3155 - accuracy: 0.5540 - val_loss: 1.0515 - val_accuracy: 0.6630\n",
      "Epoch 7/40\n",
      "434/434 [==============================] - 2s 6ms/step - loss: 1.1825 - accuracy: 0.6028 - val_loss: 0.9289 - val_accuracy: 0.7020\n",
      "Epoch 8/40\n",
      "434/434 [==============================] - 2s 6ms/step - loss: 1.0576 - accuracy: 0.6410 - val_loss: 0.8045 - val_accuracy: 0.7432\n",
      "Epoch 9/40\n",
      "434/434 [==============================] - 2s 6ms/step - loss: 0.9530 - accuracy: 0.6776 - val_loss: 0.6988 - val_accuracy: 0.7738\n",
      "Epoch 10/40\n",
      "434/434 [==============================] - 2s 6ms/step - loss: 0.8657 - accuracy: 0.7055 - val_loss: 0.6378 - val_accuracy: 0.7989\n",
      "Epoch 11/40\n",
      "434/434 [==============================] - 2s 6ms/step - loss: 0.8005 - accuracy: 0.7265 - val_loss: 0.5467 - val_accuracy: 0.8263\n",
      "Epoch 12/40\n",
      "434/434 [==============================] - 2s 6ms/step - loss: 0.7457 - accuracy: 0.7474 - val_loss: 0.4998 - val_accuracy: 0.8422\n",
      "Epoch 13/40\n",
      "434/434 [==============================] - 2s 6ms/step - loss: 0.6919 - accuracy: 0.7705 - val_loss: 0.4792 - val_accuracy: 0.8436\n",
      "Epoch 14/40\n",
      "434/434 [==============================] - 2s 6ms/step - loss: 0.6438 - accuracy: 0.7841 - val_loss: 0.4036 - val_accuracy: 0.8748\n",
      "Epoch 15/40\n",
      "434/434 [==============================] - 2s 6ms/step - loss: 0.6041 - accuracy: 0.7976 - val_loss: 0.3886 - val_accuracy: 0.8754\n",
      "Epoch 16/40\n",
      "434/434 [==============================] - 2s 6ms/step - loss: 0.5677 - accuracy: 0.8086 - val_loss: 0.3420 - val_accuracy: 0.8993\n",
      "Epoch 17/40\n",
      "434/434 [==============================] - 2s 6ms/step - loss: 0.5413 - accuracy: 0.8140 - val_loss: 0.3135 - val_accuracy: 0.9031\n",
      "Epoch 18/40\n",
      "434/434 [==============================] - 2s 6ms/step - loss: 0.4986 - accuracy: 0.8331 - val_loss: 0.2969 - val_accuracy: 0.9057\n",
      "Epoch 19/40\n",
      "434/434 [==============================] - 2s 6ms/step - loss: 0.4723 - accuracy: 0.8423 - val_loss: 0.2710 - val_accuracy: 0.9149\n",
      "Epoch 20/40\n",
      "434/434 [==============================] - 2s 6ms/step - loss: 0.4504 - accuracy: 0.8477 - val_loss: 0.2453 - val_accuracy: 0.9273\n",
      "Epoch 21/40\n",
      "434/434 [==============================] - 2s 6ms/step - loss: 0.4253 - accuracy: 0.8570 - val_loss: 0.2272 - val_accuracy: 0.9342\n",
      "Epoch 22/40\n",
      "434/434 [==============================] - 2s 6ms/step - loss: 0.4022 - accuracy: 0.8638 - val_loss: 0.2251 - val_accuracy: 0.9290\n",
      "Epoch 23/40\n",
      "434/434 [==============================] - 2s 6ms/step - loss: 0.3877 - accuracy: 0.8692 - val_loss: 0.1979 - val_accuracy: 0.9409\n",
      "Epoch 24/40\n",
      "434/434 [==============================] - 2s 6ms/step - loss: 0.3702 - accuracy: 0.8743 - val_loss: 0.1888 - val_accuracy: 0.9481\n",
      "Epoch 25/40\n",
      "434/434 [==============================] - 2s 6ms/step - loss: 0.3547 - accuracy: 0.8811 - val_loss: 0.1810 - val_accuracy: 0.9406\n",
      "Epoch 26/40\n",
      "434/434 [==============================] - 2s 6ms/step - loss: 0.3405 - accuracy: 0.8835 - val_loss: 0.1752 - val_accuracy: 0.9524\n",
      "Epoch 27/40\n",
      "434/434 [==============================] - 2s 6ms/step - loss: 0.3393 - accuracy: 0.8856 - val_loss: 0.1543 - val_accuracy: 0.9544\n",
      "Epoch 28/40\n",
      "434/434 [==============================] - 2s 6ms/step - loss: 0.3210 - accuracy: 0.8927 - val_loss: 0.1470 - val_accuracy: 0.9579\n",
      "Epoch 29/40\n",
      "434/434 [==============================] - 2s 6ms/step - loss: 0.3090 - accuracy: 0.8985 - val_loss: 0.1417 - val_accuracy: 0.9587\n",
      "Epoch 30/40\n",
      "434/434 [==============================] - 2s 6ms/step - loss: 0.2906 - accuracy: 0.9018 - val_loss: 0.1358 - val_accuracy: 0.9616\n",
      "Epoch 31/40\n",
      "434/434 [==============================] - 2s 6ms/step - loss: 0.2864 - accuracy: 0.9057 - val_loss: 0.1253 - val_accuracy: 0.9636\n",
      "Epoch 32/40\n",
      "434/434 [==============================] - 2s 6ms/step - loss: 0.2788 - accuracy: 0.9070 - val_loss: 0.1157 - val_accuracy: 0.9628\n",
      "Epoch 33/40\n",
      "434/434 [==============================] - 2s 6ms/step - loss: 0.2517 - accuracy: 0.9146 - val_loss: 0.1311 - val_accuracy: 0.9619\n",
      "Epoch 34/40\n",
      "434/434 [==============================] - 2s 6ms/step - loss: 0.2552 - accuracy: 0.9132 - val_loss: 0.1221 - val_accuracy: 0.9616\n",
      "Epoch 35/40\n",
      "434/434 [==============================] - 2s 6ms/step - loss: 0.2500 - accuracy: 0.9140 - val_loss: 0.1014 - val_accuracy: 0.9729\n",
      "Epoch 36/40\n",
      "434/434 [==============================] - 2s 6ms/step - loss: 0.2325 - accuracy: 0.9225 - val_loss: 0.0945 - val_accuracy: 0.9714\n",
      "Epoch 37/40\n",
      "434/434 [==============================] - 2s 6ms/step - loss: 0.2353 - accuracy: 0.9212 - val_loss: 0.0932 - val_accuracy: 0.9737\n",
      "Epoch 38/40\n",
      "434/434 [==============================] - 2s 6ms/step - loss: 0.2216 - accuracy: 0.9266 - val_loss: 0.0791 - val_accuracy: 0.9763\n",
      "Epoch 39/40\n",
      "434/434 [==============================] - 2s 6ms/step - loss: 0.2175 - accuracy: 0.9308 - val_loss: 0.0883 - val_accuracy: 0.9746\n",
      "Epoch 40/40\n",
      "434/434 [==============================] - 2s 6ms/step - loss: 0.1971 - accuracy: 0.9352 - val_loss: 0.0862 - val_accuracy: 0.9746\n"
     ]
    }
   ],
   "source": [
    "# 인공신경망을 학습시킵니다.\n",
    "print(\"\\n\\n************ TRAINING START ************ \")\n",
    "history = model.fit(dr.train_X, dr.train_Y, epochs=EPOCHS,\n",
    "                    validation_data=(dr.test_X, dr.test_Y))"
   ]
  },
  {
   "cell_type": "code",
   "execution_count": 130,
   "id": "c78ab46f",
   "metadata": {
    "ExecuteTime": {
     "end_time": "2022-01-06T08:02:52.192600Z",
     "start_time": "2022-01-06T08:02:51.978311Z"
    }
   },
   "outputs": [
    {
     "data": {
      "image/png": "[encoded data removed]",
      "text/plain": [
       "<Figure size 576x576 with 1 Axes>"
      ]
     },
     "metadata": {
      "needs_background": "light"
     },
     "output_type": "display_data"
    },
    {
     "data": {
      "image/png": "[encoded data removed]",
      "text/plain": [
       "<Figure size 576x576 with 1 Axes>"
      ]
     },
     "metadata": {
      "needs_background": "light"
     },
     "output_type": "display_data"
    }
   ],
   "source": [
    "# 학습 결과를 그래프로 출력합니다.\n",
    "draw_graph(history)"
   ]
  },
  {
   "cell_type": "code",
   "execution_count": 131,
   "id": "dddf1332",
   "metadata": {
    "ExecuteTime": {
     "end_time": "2022-01-06T08:02:52.254282Z",
     "start_time": "2022-01-06T08:02:52.209693Z"
    }
   },
   "outputs": [],
   "source": [
    "model.save('poster.h5')"
   ]
  },
  {
   "cell_type": "code",
   "execution_count": 15,
   "id": "8a737301",
   "metadata": {
    "ExecuteTime": {
     "end_time": "2022-01-06T08:28:05.329350Z",
     "start_time": "2022-01-06T08:28:05.191587Z"
    }
   },
   "outputs": [],
   "source": [
    "#import tensorflow as tf\n",
    "\n",
    "#model = tf.keras.models.load_model('poster.h5')"
   ]
  },
  {
   "cell_type": "code",
   "execution_count": 16,
   "id": "e086786a",
   "metadata": {
    "ExecuteTime": {
     "end_time": "2022-01-06T08:28:05.640797Z",
     "start_time": "2022-01-06T08:28:05.613803Z"
    }
   },
   "outputs": [],
   "source": [
    "## 예측용 데이터 불러오기\n",
    "path2 = './poster/'\n",
    "file_list = os.listdir(path2)\n",
    "data2 = []\n",
    "count = 1\n",
    "for A in file_list:\n",
    "    if A == \".DS_Store\":\n",
    "        continue\n",
    "    poster = Image.open(path2+A)\n",
    "    data2.append((np.asarray(poster)))\n",
    "    poster.close()"
   ]
  },
  {
   "cell_type": "code",
   "execution_count": 17,
   "id": "c605aafa",
   "metadata": {
    "ExecuteTime": {
     "end_time": "2022-01-06T08:28:05.987180Z",
     "start_time": "2022-01-06T08:28:05.976664Z"
    }
   },
   "outputs": [],
   "source": [
    "data2 = np.asarray(data2)/255.0"
   ]
  },
  {
   "cell_type": "code",
   "execution_count": 18,
   "id": "32df54e5",
   "metadata": {
    "ExecuteTime": {
     "end_time": "2022-01-06T08:28:06.314013Z",
     "start_time": "2022-01-06T08:28:06.300013Z"
    }
   },
   "outputs": [
    {
     "data": {
      "text/plain": [
       "(38, 60, 60, 3)"
      ]
     },
     "execution_count": 18,
     "metadata": {},
     "output_type": "execute_result"
    }
   ],
   "source": [
    "data2.shape"
   ]
  },
  {
   "cell_type": "code",
   "execution_count": 19,
   "id": "025587fe",
   "metadata": {
    "ExecuteTime": {
     "end_time": "2022-01-06T08:28:14.398340Z",
     "start_time": "2022-01-06T08:28:06.688655Z"
    }
   },
   "outputs": [],
   "source": [
    "predictions2 = model.predict(data2)"
   ]
  },
  {
   "cell_type": "code",
   "execution_count": 20,
   "id": "f5998f7c",
   "metadata": {
    "ExecuteTime": {
     "end_time": "2022-01-06T08:28:14.429334Z",
     "start_time": "2022-01-06T08:28:14.414334Z"
    }
   },
   "outputs": [
    {
     "name": "stdout",
     "output_type": "stream",
     "text": [
      "['BUSAN2.jpg', 'BUSAN3.jpg', 'BUSAN_1.jpg', 'G.jpg', 'G2.jpg', 'G3.jpg', 'GOD1.jpg', 'GOD2.jpg', 'GOD3.jpg', 'GOD4.jpg', 'GOD5.jpg', 'GOD6.jpg', 'GOD7.jpg', 'GOD8.jpg', 'GOD9.jpg', 'HARD_1.jpg', 'HARD_2.jpg', 'HARD_3.jpg', 'HARD_4.jpg', 'HARD_5.jpg', 'HUMAN_1.jpg', 'HUMAN_2.jpg', 'KILL1.jpg', 'KILL2.jpg', 'KILL3.jpg', 'KILL4.jpg', 'KILL5.jpg', 'NO7_1.jpg', 'NO7_2.jpg', 'NO7_3.jpg', 'NO7_4.jpg', 'NO7_5.jpg', 'People.jpg', 'TAXI1.jpg', 'test.png', 'test1.png', 'test2.png', 'test3.png']\n",
      "5번째 사진: G3.jpg 이정재\n",
      "7번째 사진: GOD2.jpg 마동석\n",
      "9번째 사진: GOD4.jpg 하정우\n",
      "10번째 사진: GOD5.jpg 김향기\n",
      "12번째 사진: GOD7.jpg 김향기\n",
      "19번째 사진: HARD_5.jpg 마동석\n",
      "23번째 사진: KILL2.jpg 송강호\n",
      "24번째 사진: KILL3.jpg 설경구\n",
      "25번째 사진: KILL4.jpg 마동석\n",
      "26번째 사진: KILL5.jpg 전지현\n",
      "27번째 사진: NO7_1.jpg 오달수\n",
      "29번째 사진: NO7_3.jpg 하정우\n",
      "30번째 사진: NO7_4.jpg 김향기\n",
      "32번째 사진: People.jpg 송강호\n",
      "35번째 사진: test1.png 정진영\n",
      "37번째 사진: test3.png 마동석\n"
     ]
    }
   ],
   "source": [
    "# 리스트 순서\n",
    "print(file_list)\n",
    "actor = {0:\"하정우\",1:\"황정민\",2:\"김향기\",3:\"전지현\",4:\"정진영\",5:\"이정재\",6:\"마동석\",7:\"오달수\",8:\"류승룡\",\n",
    "        9:\"설경구\",10:\"송강호\",11:\"유해진\"}\n",
    "for i, x in enumerate(predictions2):\n",
    "    count = 0\n",
    "    for y in x:\n",
    "        if y > 0.8:\n",
    "            count += 1\n",
    "    if count > 0:\n",
    "        print(str(i)+\"번째 사진: \"+file_list[i], actor[np.argmax(x)])"
   ]
  },
  {
   "cell_type": "code",
   "execution_count": 137,
   "id": "66f22482",
   "metadata": {
    "ExecuteTime": {
     "end_time": "2022-01-06T08:03:00.088290Z",
     "start_time": "2022-01-06T08:03:00.071500Z"
    }
   },
   "outputs": [
    {
     "name": "stdout",
     "output_type": "stream",
     "text": [
      "ha 0\n",
      "hwang 1\n",
      "hyang 2\n",
      "jeon 3\n",
      "jung 4\n",
      "lee 5\n",
      "ma 6\n",
      "oh 7\n",
      "ryu 8\n",
      "seol 9\n",
      "song 10\n",
      "you 11\n"
     ]
    }
   ],
   "source": [
    "classes2 = os.listdir(\"data\") # 순서에 따라 0~ 부여해야하므로 중요\n",
    "#classes2.remove(\".DS_Store\") #['.DS_Store', '류승룡', '오달수']\n",
    "#classes2.remove(\"poster\") #포스터는 실제 예측데이터로 쓸거야!\n",
    "for i, cls in enumerate(classes2):\n",
    "    print(cls,i)"
   ]
  },
  {
   "cell_type": "code",
   "execution_count": 60,
   "id": "85766fa2",
   "metadata": {
    "ExecuteTime": {
     "end_time": "2022-01-06T07:26:37.882648Z",
     "start_time": "2022-01-06T07:26:37.877649Z"
    }
   },
   "outputs": [
    {
     "data": {
      "text/plain": [
       "array([[3.00753862e-04, 3.98204866e-05, 1.60058687e-06, 5.74486636e-09,\n",
       "        2.10061862e-05, 2.41861835e-05, 1.21123679e-02, 5.88283874e-04,\n",
       "        9.79033411e-01, 7.86637142e-03, 6.85397981e-06, 5.22864866e-06],\n",
       "       [3.13685909e-02, 2.49046590e-02, 4.88480506e-03, 2.92236335e-03,\n",
       "        2.73874477e-02, 4.93675679e-01, 2.72104726e-03, 8.94571189e-03,\n",
       "        4.14230907e-03, 3.89269918e-01, 4.65554697e-03, 5.12203481e-03],\n",
       "       [1.58791661e-01, 3.51063535e-02, 3.02305788e-01, 8.43343213e-02,\n",
       "        2.10963134e-02, 5.54935597e-02, 8.96216631e-02, 1.44318044e-01,\n",
       "        4.38737310e-02, 5.12562729e-02, 1.14219198e-02, 2.38039973e-03],\n",
       "       [1.13459360e-02, 3.20577651e-01, 4.26355191e-03, 4.77836141e-03,\n",
       "        1.65797710e-01, 4.72872466e-01, 4.30751359e-03, 2.00121594e-03,\n",
       "        1.34210836e-03, 1.18086049e-02, 1.71872438e-04, 7.33032532e-04],\n",
       "       [1.28178611e-01, 1.67783443e-02, 2.32306193e-03, 6.37510139e-03,\n",
       "        6.74368024e-01, 1.54300183e-01, 1.55181205e-03, 1.02609992e-02,\n",
       "        7.25990103e-04, 3.49709229e-03, 1.43173628e-03, 2.09026723e-04],\n",
       "       [2.79634861e-07, 8.04759566e-06, 5.72650414e-03, 2.53726654e-07,\n",
       "        4.94760970e-05, 6.43147587e-07, 2.36750316e-06, 8.44925978e-07,\n",
       "        3.79839275e-06, 1.95068959e-03, 9.92228925e-01, 2.81412613e-05],\n",
       "       [4.00728174e-02, 8.64183239e-04, 7.46583692e-06, 2.63767265e-06,\n",
       "        9.37852740e-01, 2.09408570e-02, 2.68124722e-06, 8.84479232e-05,\n",
       "        5.95179563e-06, 1.06575688e-04, 5.40593537e-05, 1.58171122e-06],\n",
       "       [7.06815854e-06, 2.72180914e-05, 7.75522858e-05, 1.27123867e-09,\n",
       "        2.19544920e-04, 1.05278295e-05, 1.63563783e-03, 5.03914955e-04,\n",
       "        9.85563993e-01, 6.83306763e-03, 4.98676067e-03, 1.34624803e-04],\n",
       "       [6.54692485e-06, 9.85414133e-08, 3.10263658e-06, 6.48195586e-09,\n",
       "        3.94183701e-07, 1.93313397e-07, 5.61918341e-06, 9.99981642e-01,\n",
       "        1.25426607e-06, 4.62273846e-08, 1.13513818e-06, 2.60427235e-09],\n",
       "       [1.09848185e-02, 3.59155051e-02, 4.60047461e-03, 1.62446522e-03,\n",
       "        5.23637459e-02, 2.35686406e-01, 1.47323400e-01, 4.26291768e-03,\n",
       "        8.83208588e-03, 5.02451696e-02, 8.24086927e-03, 4.39920217e-01]],\n",
       "      dtype=float32)"
      ]
     },
     "execution_count": 60,
     "metadata": {},
     "output_type": "execute_result"
    }
   ],
   "source": [
    "predictions2"
   ]
  },
  {
   "cell_type": "code",
   "execution_count": null,
   "id": "832abd19",
   "metadata": {},
   "outputs": [],
   "source": []
  }
 ],
 "metadata": {
  "kernelspec": {
   "display_name": "Python 3 (ipykernel)",
   "language": "python",
   "name": "python3"
  },
  "language_info": {
   "codemirror_mode": {
    "name": "ipython",
    "version": 3
   },
   "file_extension": ".py",
   "mimetype": "text/x-python",
   "name": "python",
   "nbconvert_exporter": "python",
   "pygments_lexer": "ipython3",
   "version": "3.7.11"
  },
  "nbTranslate": {
   "displayLangs": [
    "*"
   ],
   "hotkey": "alt-t",
   "langInMainMenu": true,
   "sourceLang": "en",
   "targetLang": "fr",
   "useGoogleTranslate": true
  },
  "toc": {
   "base_numbering": 1,
   "nav_menu": {},
   "number_sections": true,
   "sideBar": true,
   "skip_h1_title": false,
   "title_cell": "Table of Contents",
   "title_sidebar": "Contents",
   "toc_cell": false,
   "toc_position": {},
   "toc_section_display": true,
   "toc_window_display": false
  },
  "varInspector": {
   "cols": {
    "lenName": 16,
    "lenType": 16,
    "lenVar": 40
   },
   "kernels_config": {
    "python": {
     "delete_cmd_postfix": "",
     "delete_cmd_prefix": "del ",
     "library": "var_list.py",
     "varRefreshCmd": "print(var_dic_list())"
    },
    "r": {
     "delete_cmd_postfix": ") ",
     "delete_cmd_prefix": "rm(",
     "library": "var_list.r",
     "varRefreshCmd": "cat(var_dic_list()) "
    }
   },
   "types_to_exclude": [
    "module",
    "function",
    "builtin_function_or_method",
    "instance",
    "_Feature"
   ],
   "window_display": false
  }
 },
 "nbformat": 4,
 "nbformat_minor": 5
}
