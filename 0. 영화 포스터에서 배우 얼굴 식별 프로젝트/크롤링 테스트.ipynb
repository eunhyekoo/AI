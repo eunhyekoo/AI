{
 "cells": [
  {
   "cell_type": "code",
   "execution_count": 18,
   "id": "308de303",
   "metadata": {},
   "outputs": [],
   "source": [
    "from selenium import webdriver\n",
    "\n",
    "from selenium.webdriver.common.keys import Keys\n",
    "\n",
    "import urllib.request"
   ]
  },
  {
   "cell_type": "code",
   "execution_count": 19,
   "id": "92fd3847",
   "metadata": {},
   "outputs": [
    {
     "name": "stderr",
     "output_type": "stream",
     "text": [
      "/Users/gueunhye/opt/anaconda3/envs/tf115/lib/python3.7/site-packages/ipykernel_launcher.py:10: DeprecationWarning: executable_path has been deprecated, please pass in a Service object\n",
      "  # Remove the CWD from sys.path while we load stuff.\n",
      "/Users/gueunhye/opt/anaconda3/envs/tf115/lib/python3.7/site-packages/ipykernel_launcher.py:13: DeprecationWarning: find_element_by_* commands are deprecated. Please use find_element() instead\n",
      "  del sys.path[0]\n"
     ]
    }
   ],
   "source": [
    "from selenium import webdriver\n",
    "from urllib.request import urlopen\n",
    "from selenium.webdriver.common.keys import Keys\n",
    "import time\n",
    "import urllib.request\n",
    "import os\n",
    "\n",
    "if not os.path.isdir(\"actor/\"):\n",
    "    os.makedirs(\"actor/\")\n",
    "driver = webdriver.Chrome('/usr/local/bin/chromedriver')\n",
    "driver.get(\"https://www.google.co.kr/imghp?hl=ko&tab=wi&authuser=0&ogbl\") # 구글 이미지 검색 url\n",
    "\n",
    "elem = driver.find_element_by_name(\"q\") #구글 검색창 선택\n",
    "elem.send_keys(\"하정우\") # 검색창에 검색할 내용(name)넣기\n",
    "\n",
    "elem.send_keys(Keys.RETURN) # 검색할 내용을 넣고 enter를 치는것!"
   ]
  },
  {
   "cell_type": "code",
   "execution_count": 16,
   "id": "cd3f384b",
   "metadata": {},
   "outputs": [
    {
     "name": "stderr",
     "output_type": "stream",
     "text": [
      "/Users/gueunhye/opt/anaconda3/envs/tf115/lib/python3.7/site-packages/ipykernel_launcher.py:1: DeprecationWarning: find_elements_by_* commands are deprecated. Please use find_elements() instead\n",
      "  \"\"\"Entry point for launching an IPython kernel.\n",
      "/Users/gueunhye/opt/anaconda3/envs/tf115/lib/python3.7/site-packages/ipykernel_launcher.py:10: DeprecationWarning: find_element_by_* commands are deprecated. Please use find_element() instead\n",
      "  # Remove the CWD from sys.path while we load stuff.\n"
     ]
    }
   ],
   "source": [
    "'''imgs = driver.find_elements_by_css_selector(\".rg_i.Q4LuWd\") #작게 뜬 이미지들 모두 선택(elements)\n",
    "\n",
    "count = 1\n",
    "    #저장할 경로/Users/yu/tf39_test/실습/영화포스터 배우얼굴인식/actor\n",
    "for img in imgs:\n",
    "    try:\n",
    "        img.click()\n",
    "        time.sleep(2)\n",
    "        imgUrl = driver.find_element_by_xpath(\n",
    "                '//*[@id=\"Sva75c\"]/div/div/div[3]/div[2]/c-wiz/div/div[1]/div[1]/div[2]/div[1]/a/img').get_attribute(\n",
    "                \"src\") # 크게 뜬 이미지 선택하여 \"src\" 속성을 받아옴\n",
    "        path = \"/Users/gueunhye/0.Python_ehkoo/개인 프로젝트/Poster Detective actor/actor/\"\n",
    "        urllib.request.urlretrieve(imgUrl, path + \"하정우\" + str(count) + \".jpg\")\n",
    "        count = count + 1\n",
    "        if count > 10: #다운 받을 이미지 갯수 조정\n",
    "            break\n",
    "    except:\n",
    "        pass\n",
    "driver.close()'''"
   ]
  },
  {
   "cell_type": "code",
   "execution_count": 20,
   "id": "e432ddbe",
   "metadata": {},
   "outputs": [
    {
     "name": "stderr",
     "output_type": "stream",
     "text": [
      "/Users/gueunhye/opt/anaconda3/envs/tf115/lib/python3.7/site-packages/ipykernel_launcher.py:12: DeprecationWarning: find_element_by_* commands are deprecated. Please use find_element() instead\n",
      "  if sys.path[0] == '':\n",
      "/Users/gueunhye/opt/anaconda3/envs/tf115/lib/python3.7/site-packages/ipykernel_launcher.py:17: DeprecationWarning: find_elements_by_* commands are deprecated. Please use find_elements() instead\n",
      "/Users/gueunhye/opt/anaconda3/envs/tf115/lib/python3.7/site-packages/ipykernel_launcher.py:24: DeprecationWarning: find_element_by_* commands are deprecated. Please use find_element() instead\n"
     ]
    },
    {
     "name": "stdout",
     "output_type": "stream",
     "text": [
      "Image saved: 하정우_1.jpg\n",
      "Image saved: 하정우_2.jpg\n",
      "Image saved: 하정우_3.jpg\n",
      "Image saved: 하정우_4.jpg\n",
      "Image saved: 하정우_5.jpg\n",
      "Image saved: 하정우_6.jpg\n",
      "Image saved: 하정우_7.jpg\n",
      "Image saved: 하정우_8.jpg\n",
      "Image saved: 하정우_9.jpg\n",
      "Image saved: 하정우_10.jpg\n",
      "Image saved: 하정우_11.jpg\n",
      "Image saved: 하정우_12.jpg\n",
      "Image saved: 하정우_13.jpg\n",
      "Image saved: 하정우_14.jpg\n",
      "Image saved: 하정우_15.jpg\n",
      "Image saved: 하정우_16.jpg\n",
      "Image saved: 하정우_17.jpg\n",
      "Image saved: 하정우_18.jpg\n",
      "Image saved: 하정우_19.jpg\n",
      "Image saved: 하정우_20.jpg\n",
      "Image saved: 하정우_21.jpg\n",
      "Image saved: 하정우_22.jpg\n",
      "Image saved: 하정우_23.jpg\n",
      "Image saved: 하정우_24.jpg\n",
      "Image saved: 하정우_25.jpg\n",
      "Image saved: 하정우_26.jpg\n",
      "Image saved: 하정우_27.jpg\n",
      "Image saved: 하정우_28.jpg\n",
      "Image saved: 하정우_29.jpg\n",
      "Image saved: 하정우_30.jpg\n",
      "Image saved: 하정우_31.jpg\n",
      "Image saved: 하정우_32.jpg\n",
      "Image saved: 하정우_33.jpg\n",
      "Image saved: 하정우_34.jpg\n",
      "Image saved: 하정우_35.jpg\n",
      "Image saved: 하정우_36.jpg\n",
      "Image saved: 하정우_37.jpg\n",
      "Image saved: 하정우_38.jpg\n",
      "Image saved: 하정우_39.jpg\n",
      "Image saved: 하정우_40.jpg\n"
     ]
    }
   ],
   "source": [
    "\n",
    "SCROLL_PAUSE_TIME = 1\n",
    "\n",
    "last_height = driver.execute_script(\"return document.body.scrollHeight\")\n",
    "\n",
    "while True:\n",
    "    driver.execute_script(\"window.scrollTo(0, document.body.scrollHeight);\")\n",
    "    time.sleep(SCROLL_PAUSE_TIME)\n",
    "    new_height = driver.execute_script(\"return document.body.scrollHeight\")\n",
    "\n",
    "    if new_height == last_height:\n",
    "        try:\n",
    "            driver.find_element_by_css_selector(\".mye4qd\").click()\n",
    "        except:\n",
    "            break\n",
    "    last_height = new_height\n",
    "\n",
    "images = driver.find_elements_by_css_selector(\".rg_i.Q4LuWd\")\n",
    "count = 1\n",
    "path = \"/Users/gueunhye/0.Python_ehkoo/개인 프로젝트/Poster Detective actor/actor/\"\n",
    "for image in images:\n",
    "    try:\n",
    "        image.click()\n",
    "        time.sleep(2)\n",
    "        imgUrl = driver.find_element_by_xpath(\"//*[@id='Sva75c']/div/div/div[3]/div[2]/c-wiz/div/div[1]/div[1]/div[2]/div/a/img\").get_attribute('src')\n",
    "        # urllib.request.urlretrieve(imgUrl, path + \"하정우\" + str(count) + \".jpg\")\n",
    "        urllib.request.urlretrieve(imgUrl, path + \"하정우\" + str(count) + \".jpg\")\n",
    "        print(\"Image saved: 하정우_{}.jpg\".format(count))\n",
    "        count += 1\n",
    "    except:\n",
    "        pass\n",
    "\n",
    "driver.close()"
   ]
  },
  {
   "cell_type": "code",
   "execution_count": null,
   "id": "883d3b69",
   "metadata": {},
   "outputs": [],
   "source": []
  }
 ],
 "metadata": {
  "kernelspec": {
   "display_name": "Python 3 (ipykernel)",
   "language": "python",
   "name": "python3"
  },
  "language_info": {
   "codemirror_mode": {
    "name": "ipython",
    "version": 3
   },
   "file_extension": ".py",
   "mimetype": "text/x-python",
   "name": "python",
   "nbconvert_exporter": "python",
   "pygments_lexer": "ipython3",
   "version": "3.7.11"
  },
  "toc": {
   "base_numbering": 1,
   "nav_menu": {},
   "number_sections": true,
   "sideBar": true,
   "skip_h1_title": false,
   "title_cell": "Table of Contents",
   "title_sidebar": "Contents",
   "toc_cell": false,
   "toc_position": {},
   "toc_section_display": true,
   "toc_window_display": false
  }
 },
 "nbformat": 4,
 "nbformat_minor": 5
}
