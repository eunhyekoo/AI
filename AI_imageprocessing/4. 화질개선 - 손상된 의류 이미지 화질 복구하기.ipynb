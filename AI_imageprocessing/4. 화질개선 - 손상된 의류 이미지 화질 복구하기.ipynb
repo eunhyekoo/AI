{
 "cells": [
  {
   "cell_type": "markdown",
   "id": "9c50be34",
   "metadata": {},
   "source": [
    "# 화질 개선 - 손상된 의류 이미지 화질 복구하기"
   ]
  },
  {
   "cell_type": "code",
   "execution_count": 1,
   "id": "db4811c6",
   "metadata": {},
   "outputs": [],
   "source": [
    "import tensorflow as tf\n",
    "from tensorflow import keras\n",
    "from tensorflow.keras.layers import Dense\n",
    "from tensorflow.keras.models import Sequential"
   ]
  },
  {
   "cell_type": "code",
   "execution_count": 2,
   "id": "feb8d56b",
   "metadata": {},
   "outputs": [],
   "source": [
    "import pandas as pd\n",
    "import numpy as np\n",
    "import matplotlib.pyplot as plt\n",
    "import seaborn as sns\n",
    "import warnings\n",
    "from IPython.display import Image"
   ]
  },
  {
   "cell_type": "code",
   "execution_count": 3,
   "id": "44607abe",
   "metadata": {},
   "outputs": [],
   "source": [
    "SEED = 34"
   ]
  },
  {
   "cell_type": "code",
   "execution_count": 4,
   "id": "1134b834",
   "metadata": {},
   "outputs": [],
   "source": [
    "fashion_mnist = keras.datasets.fashion_mnist\n",
    "(train_images, train_labels),(test_images,test_labels) = fashion_mnist.load_data()"
   ]
  },
  {
   "cell_type": "code",
   "execution_count": 5,
   "id": "c523f761",
   "metadata": {},
   "outputs": [
    {
     "data": {
      "image/png": "[encoded data removed]",
      "text/plain": [
       "<Figure size 432x288 with 1 Axes>"
      ]
     },
     "metadata": {
      "needs_background": "light"
     },
     "output_type": "display_data"
    }
   ],
   "source": [
    "# 28,28 형태의 이미지 출력해보기\n",
    "\n",
    "plt.imshow(train_images[0],cmap = 'gray')\n",
    "plt.show()"
   ]
  },
  {
   "cell_type": "code",
   "execution_count": 6,
   "id": "a899fb56",
   "metadata": {},
   "outputs": [
    {
     "name": "stdout",
     "output_type": "stream",
     "text": [
      "[  1  13  73   1   4   1   1   3  36 136]\n"
     ]
    }
   ],
   "source": [
    "print(train_images[train_images != 0][:10])"
   ]
  },
  {
   "cell_type": "code",
   "execution_count": 7,
   "id": "2b4d19c2",
   "metadata": {},
   "outputs": [
    {
     "data": {
      "text/plain": [
       "dtype('uint8')"
      ]
     },
     "execution_count": 7,
     "metadata": {},
     "output_type": "execute_result"
    }
   ],
   "source": [
    "train_images[:10].dtype"
   ]
  },
  {
   "cell_type": "code",
   "execution_count": 8,
   "id": "e63cb67e",
   "metadata": {},
   "outputs": [
    {
     "name": "stdout",
     "output_type": "stream",
     "text": [
      "(60000, 28, 28) uint8\n",
      "[  1  13  73   1   4   1   1   3  36 136]\n",
      "------------------------------------\n",
      "(10000, 28, 28) uint8\n",
      "[  3   1   7  37   1   2  27  84  11 119]\n"
     ]
    }
   ],
   "source": [
    "# 전처리\n",
    "print(train_images.shape, train_images.dtype)\n",
    "print(train_images[train_images != 0][:10])\n",
    "print('------------------------------------')\n",
    "print(test_images.shape, test_images.dtype)\n",
    "print(test_images[test_images != 0][:10])"
   ]
  },
  {
   "cell_type": "code",
   "execution_count": 9,
   "id": "2355ea8e",
   "metadata": {},
   "outputs": [
    {
     "name": "stdout",
     "output_type": "stream",
     "text": [
      "0 255\n"
     ]
    }
   ],
   "source": [
    "print(train_images.min(), train_images.max())"
   ]
  },
  {
   "cell_type": "code",
   "execution_count": 10,
   "id": "bea3d8d3",
   "metadata": {},
   "outputs": [],
   "source": [
    "# 실수형으로 변경"
   ]
  },
  {
   "cell_type": "code",
   "execution_count": 11,
   "id": "d113efcc",
   "metadata": {},
   "outputs": [],
   "source": [
    "train_images = train_images.astype(np.float64)\n",
    "test_images = test_images.astype(np.float64)"
   ]
  },
  {
   "cell_type": "code",
   "execution_count": 12,
   "id": "24ba3ee0",
   "metadata": {},
   "outputs": [
    {
     "data": {
      "text/plain": [
       "(dtype('float64'), dtype('float64'))"
      ]
     },
     "execution_count": 12,
     "metadata": {},
     "output_type": "execute_result"
    }
   ],
   "source": [
    "train_images.dtype, test_images.dtype"
   ]
  },
  {
   "cell_type": "code",
   "execution_count": 13,
   "id": "2e39b1ba",
   "metadata": {},
   "outputs": [],
   "source": [
    "# 데이터 노멀라이즈 수행\n",
    "# 최소값이 0이기때문에 아래와 같이 진행해도 됨.\n",
    "train_images = train_images / 255\n",
    "test_images = test_images/ 255"
   ]
  },
  {
   "cell_type": "code",
   "execution_count": 14,
   "id": "499b2054",
   "metadata": {},
   "outputs": [
    {
     "name": "stdout",
     "output_type": "stream",
     "text": [
      "0.0 1.0\n",
      "(60000, 28, 28) float64\n"
     ]
    }
   ],
   "source": [
    "print(train_images.min(), train_images.max())\n",
    "print(train_images.shape, train_images.dtype)"
   ]
  },
  {
   "cell_type": "code",
   "execution_count": 15,
   "id": "b07c7bd2",
   "metadata": {},
   "outputs": [
    {
     "data": {
      "text/plain": [
       "(10000, 28, 28, 3)"
      ]
     },
     "execution_count": 15,
     "metadata": {},
     "output_type": "execute_result"
    }
   ],
   "source": [
    "# 흑백 이미지를 칼라 이미지로 변경하기\n",
    "\n",
    "from skimage import color\n",
    "train_images = color.gray2rgb(train_images)\n",
    "train_images.shape   # (60000,28,28) -> (60000,28,28,3)\n",
    "test_images = color.gray2rgb(test_images)\n",
    "test_images.shape"
   ]
  },
  {
   "cell_type": "code",
   "execution_count": 16,
   "id": "ec902bd8",
   "metadata": {},
   "outputs": [
    {
     "data": {
      "text/plain": [
       "(5, 28, 28, 3)"
      ]
     },
     "execution_count": 16,
     "metadata": {},
     "output_type": "execute_result"
    }
   ],
   "source": [
    "# 시각화 해보기\n",
    "five = train_images[:5]\n",
    "five.shape"
   ]
  },
  {
   "cell_type": "code",
   "execution_count": 18,
   "id": "ac0eb07b",
   "metadata": {},
   "outputs": [
    {
     "data": {
      "text/plain": [
       "(28, 140, 3)"
      ]
     },
     "execution_count": 18,
     "metadata": {},
     "output_type": "execute_result"
    }
   ],
   "source": [
    "# transpose 함수를 사용해서 shape 변경해보기\n",
    "five.transpose((1,0,2,3)).reshape((28,-1,3)).shape"
   ]
  },
  {
   "cell_type": "code",
   "execution_count": 19,
   "id": "9f3c0bb3",
   "metadata": {},
   "outputs": [
    {
     "data": {
      "image/png": "[encoded data removed]",
      "text/plain": [
       "<Figure size 432x288 with 1 Axes>"
      ]
     },
     "metadata": {
      "needs_background": "light"
     },
     "output_type": "display_data"
    }
   ],
   "source": [
    "plt.imshow(five.transpose((1,0,2,3)).reshape((28,-1,3)))\n",
    "plt.show()"
   ]
  },
  {
   "cell_type": "code",
   "execution_count": 20,
   "id": "0be1d380",
   "metadata": {},
   "outputs": [
    {
     "name": "stdout",
     "output_type": "stream",
     "text": [
      "[0.13600006349616556, 0.5361253556742441, 0.517537540153691]\n"
     ]
    }
   ],
   "source": [
    "# 노이즈 추가해보기\n",
    "print( [np.random.random() for _ in range(3)] )\n"
   ]
  },
  {
   "cell_type": "code",
   "execution_count": 21,
   "id": "c9cff66c",
   "metadata": {},
   "outputs": [
    {
     "data": {
      "text/plain": [
       "(28, 28, 3)"
      ]
     },
     "execution_count": 21,
     "metadata": {},
     "output_type": "execute_result"
    }
   ],
   "source": [
    "np.random.random((28,28,3)).shape"
   ]
  },
  {
   "cell_type": "code",
   "execution_count": 22,
   "id": "f3b5b163",
   "metadata": {},
   "outputs": [
    {
     "data": {
      "image/png": "[encoded data removed]",
      "text/plain": [
       "<Figure size 432x288 with 1 Axes>"
      ]
     },
     "metadata": {
      "needs_background": "light"
     },
     "output_type": "display_data"
    }
   ],
   "source": [
    "plt.imshow(np.random.random((28,28,3)))\n",
    "plt.show()"
   ]
  },
  {
   "cell_type": "code",
   "execution_count": 23,
   "id": "04628cc4",
   "metadata": {},
   "outputs": [
    {
     "name": "stdout",
     "output_type": "stream",
     "text": [
      "[ 0.09302212 -0.00523835  0.54799641]\n",
      "[ 0.27647472  1.21628702 -0.13934136]\n",
      "[-0.44657108  1.34764489  1.97158951]\n"
     ]
    }
   ],
   "source": [
    "# 가우시안 노이즈 함수 사용 (평균, 표준편차, 사이즈))\n",
    "for _ in range(3):\n",
    "    print(np.random.normal((0,0.1,1)))"
   ]
  },
  {
   "cell_type": "code",
   "execution_count": 29,
   "id": "d0cb67be",
   "metadata": {},
   "outputs": [
    {
     "data": {
      "image/png": "[encoded data removed]",
      "text/plain": [
       "<Figure size 432x288 with 2 Axes>"
      ]
     },
     "metadata": {
      "needs_background": "light"
     },
     "output_type": "display_data"
    }
   ],
   "source": [
    "noisy = np.random.normal(0.5,0.1,(28,28,3))\n",
    "noisy[noisy>1.0] = 1.0\n",
    "plt.imshow(noisy)\n",
    "plt.colorbar()\n",
    "plt.show()"
   ]
  },
  {
   "cell_type": "code",
   "execution_count": 30,
   "id": "5ac994cb",
   "metadata": {},
   "outputs": [],
   "source": [
    "noisy_image = train_images[5]+noisy\n",
    "noisy_image[noisy_image>1] = 1.0"
   ]
  },
  {
   "cell_type": "code",
   "execution_count": 31,
   "id": "6acfc83e",
   "metadata": {},
   "outputs": [
    {
     "data": {
      "image/png": "[encoded data removed]",
      "text/plain": [
       "<Figure size 432x288 with 2 Axes>"
      ]
     },
     "metadata": {
      "needs_background": "light"
     },
     "output_type": "display_data"
    }
   ],
   "source": [
    "plt.imshow(noisy_image)\n",
    "plt.colorbar()\n",
    "plt.show()"
   ]
  },
  {
   "cell_type": "code",
   "execution_count": 32,
   "id": "390aa3a0",
   "metadata": {},
   "outputs": [
    {
     "data": {
      "text/plain": [
       "(60000, 28, 28, 3)"
      ]
     },
     "execution_count": 32,
     "metadata": {},
     "output_type": "execute_result"
    }
   ],
   "source": [
    "train_images.shape"
   ]
  },
  {
   "cell_type": "markdown",
   "id": "b42d4295",
   "metadata": {},
   "source": [
    "# 이미지에 노이즈 추가"
   ]
  },
  {
   "cell_type": "code",
   "execution_count": 33,
   "id": "3a645ca9",
   "metadata": {},
   "outputs": [],
   "source": [
    "train_noisy_images = train_images + np.random.normal(0.5,0.05,(train_images.shape))"
   ]
  },
  {
   "cell_type": "code",
   "execution_count": 35,
   "id": "3f89d863",
   "metadata": {},
   "outputs": [],
   "source": [
    "train_noisy_images[train_noisy_images>1.0] = 1.0"
   ]
  },
  {
   "cell_type": "code",
   "execution_count": 36,
   "id": "a8cf0636",
   "metadata": {},
   "outputs": [],
   "source": [
    "test_noisy_images = test_images+np.random.normal(0.5, 0.05,test_images.shape)"
   ]
  },
  {
   "cell_type": "code",
   "execution_count": 38,
   "id": "1b9b08c0",
   "metadata": {},
   "outputs": [],
   "source": [
    "test_noisy_images[test_noisy_images > 1.0] = 1.0"
   ]
  },
  {
   "cell_type": "code",
   "execution_count": 39,
   "id": "5a71c510",
   "metadata": {},
   "outputs": [
    {
     "data": {
      "image/png": "[encoded data removed]",
      "text/plain": [
       "<Figure size 432x288 with 1 Axes>"
      ]
     },
     "metadata": {
      "needs_background": "light"
     },
     "output_type": "display_data"
    }
   ],
   "source": [
    "plt.imshow(train_noisy_images[:5].transpose((1,0,2,3)).reshape((28,-1,3)))\n",
    "plt.show()"
   ]
  },
  {
   "cell_type": "markdown",
   "id": "73874b73",
   "metadata": {},
   "source": [
    "# 모델링"
   ]
  },
  {
   "cell_type": "code",
   "execution_count": 43,
   "id": "e55391f5",
   "metadata": {},
   "outputs": [],
   "source": [
    "from tensorflow.keras.layers import Dense, Input,Conv2D, Conv2DTranspose,Flatten, Reshape\n",
    "from tensorflow.keras.models import Model\n",
    "\n",
    "def model():\n",
    "    inputs = Input((28,28,3))\n",
    "    x = Conv2D(32,3,2,activation = 'relu', padding = 'same')(inputs)\n",
    "    x = Conv2D(64,3,2,activation = 'relu', padding = 'same')(x)\n",
    "    x = Flatten()(x)\n",
    "    latent = Dense(10)(x)\n",
    "    \n",
    "    x = Dense(7*7*64)(latent)\n",
    "    x = Reshape((7,7,64))(x)\n",
    "    x = Conv2DTranspose(64,3,2, activation='relu', padding='same')(x)\n",
    "    x = Conv2DTranspose(32,3,2, activation='relu', padding='same')(x)\n",
    "    x = Conv2DTranspose(3,3, activation='sigmoid', padding='same')(x)\n",
    "    model = Model(inputs, x)\n",
    "    return model"
   ]
  },
  {
   "cell_type": "code",
   "execution_count": 44,
   "id": "822c00bd",
   "metadata": {},
   "outputs": [
    {
     "name": "stdout",
     "output_type": "stream",
     "text": [
      "Model: \"model\"\n",
      "_________________________________________________________________\n",
      "Layer (type)                 Output Shape              Param #   \n",
      "=================================================================\n",
      "input_1 (InputLayer)         [(None, 28, 28, 3)]       0         \n",
      "_________________________________________________________________\n",
      "conv2d (Conv2D)              (None, 14, 14, 32)        896       \n",
      "_________________________________________________________________\n",
      "conv2d_1 (Conv2D)            (None, 7, 7, 64)          18496     \n",
      "_________________________________________________________________\n",
      "flatten (Flatten)            (None, 3136)              0         \n",
      "_________________________________________________________________\n",
      "dense (Dense)                (None, 10)                31370     \n",
      "_________________________________________________________________\n",
      "dense_1 (Dense)              (None, 3136)              34496     \n",
      "_________________________________________________________________\n",
      "reshape (Reshape)            (None, 7, 7, 64)          0         \n",
      "_________________________________________________________________\n",
      "conv2d_transpose (Conv2DTran (None, 14, 14, 64)        36928     \n",
      "_________________________________________________________________\n",
      "conv2d_transpose_1 (Conv2DTr (None, 28, 28, 32)        18464     \n",
      "_________________________________________________________________\n",
      "conv2d_transpose_2 (Conv2DTr (None, 28, 28, 3)         867       \n",
      "=================================================================\n",
      "Total params: 141,517\n",
      "Trainable params: 141,517\n",
      "Non-trainable params: 0\n",
      "_________________________________________________________________\n"
     ]
    },
    {
     "name": "stderr",
     "output_type": "stream",
     "text": [
      "2021-12-29 17:42:30.430661: I tensorflow/core/platform/cpu_feature_guard.cc:145] This TensorFlow binary is optimized with Intel(R) MKL-DNN to use the following CPU instructions in performance critical operations:  SSE4.1 SSE4.2\n",
      "To enable them in non-MKL-DNN operations, rebuild TensorFlow with the appropriate compiler flags.\n",
      "2021-12-29 17:42:30.432521: I tensorflow/core/common_runtime/process_util.cc:115] Creating new thread pool with default inter op setting: 8. Tune using inter_op_parallelism_threads for best performance.\n"
     ]
    }
   ],
   "source": [
    "# 모델의 요약정보 출력\n",
    "model = model()\n",
    "model.summary()"
   ]
  },
  {
   "cell_type": "code",
   "execution_count": 45,
   "id": "269e8efc",
   "metadata": {},
   "outputs": [],
   "source": [
    "model.compile(loss = 'mse', optimizer = 'adam', metrics = ['acc'])"
   ]
  },
  {
   "cell_type": "code",
   "execution_count": null,
   "id": "eb2ee295",
   "metadata": {},
   "outputs": [],
   "source": [
    "# 테스트\n",
    "plt.imshow(train_images)"
   ]
  },
  {
   "cell_type": "code",
   "execution_count": 47,
   "id": "b901f2a0",
   "metadata": {},
   "outputs": [
    {
     "name": "stdout",
     "output_type": "stream",
     "text": [
      "(60000, 28, 28, 3) (60000, 28, 28, 3)\n",
      "(10000, 28, 28, 3) (10000, 28, 28, 3)\n"
     ]
    }
   ],
   "source": [
    "print(train_images.shape, train_noisy_images.shape)\n",
    "print(test_images.shape, test_noisy_images.shape)"
   ]
  },
  {
   "cell_type": "code",
   "execution_count": 48,
   "id": "620e0890",
   "metadata": {},
   "outputs": [
    {
     "name": "stdout",
     "output_type": "stream",
     "text": [
      "Train on 60000 samples, validate on 10000 samples\n",
      "Epoch 1/5\n",
      "60000/60000 [==============================] - 479s 8ms/sample - loss: 0.0294 - acc: 0.3553 - val_loss: 0.0195 - val_acc: 0.4109\n",
      "Epoch 2/5\n",
      "60000/60000 [==============================] - 745s 12ms/sample - loss: 0.0184 - acc: 0.4562 - val_loss: 0.0174 - val_acc: 0.4773\n",
      "Epoch 3/5\n",
      "60000/60000 [==============================] - 1667s 28ms/sample - loss: 0.0168 - acc: 0.4818 - val_loss: 0.0161 - val_acc: 0.4846\n",
      "Epoch 4/5\n",
      "60000/60000 [==============================] - 691s 12ms/sample - loss: 0.0159 - acc: 0.4751 - val_loss: 0.0158 - val_acc: 0.4614\n",
      "Epoch 5/5\n",
      "60000/60000 [==============================] - 7740s 129ms/sample - loss: 0.0154 - acc: 0.4553 - val_loss: 0.0152 - val_acc: 0.4632\n"
     ]
    }
   ],
   "source": [
    "hist = model.fit(train_noisy_images,\n",
    "                train_images,\n",
    "                validation_data=(test_noisy_images, test_images),\n",
    "                epochs = 5,\n",
    "                verbose = 1\n",
    "                )"
   ]
  },
  {
   "cell_type": "code",
   "execution_count": 51,
   "id": "7dddb254",
   "metadata": {},
   "outputs": [
    {
     "data": {
      "image/png": "[encoded data removed]",
      "text/plain": [
       "<Figure size 432x288 with 1 Axes>"
      ]
     },
     "metadata": {
      "needs_background": "light"
     },
     "output_type": "display_data"
    }
   ],
   "source": [
    "plt.plot(hist.history['acc'],label = 'acc')\n",
    "plt.plot(hist.history['val_acc'], label = 'val_acc')\n",
    "plt.plot(hist.history['loss'],label = 'loss')\n",
    "plt.plot(hist.history['val_loss'], label = 'val_loss')\n",
    "plt.legend(loc = 'upper right')\n",
    "plt.show()"
   ]
  },
  {
   "cell_type": "code",
   "execution_count": 66,
   "id": "49a39d47",
   "metadata": {},
   "outputs": [
    {
     "name": "stdout",
     "output_type": "stream",
     "text": [
      "(2, 28, 28, 3)\n",
      "(28, 28, 3)\n"
     ]
    }
   ],
   "source": [
    "print(test_noisy_images[0:2].shape)\n",
    "print(test_noisy_images[0].shape)"
   ]
  },
  {
   "cell_type": "code",
   "execution_count": 53,
   "id": "c1d3e885",
   "metadata": {},
   "outputs": [],
   "source": [
    "res = model.predict(test_noisy_images[0:1])"
   ]
  },
  {
   "cell_type": "code",
   "execution_count": 76,
   "id": "f8d36615",
   "metadata": {},
   "outputs": [
    {
     "data": {
      "text/plain": [
       "array([[[[4.2283535e-04, 4.1714311e-04, 4.6068430e-04],\n",
       "         [4.0531158e-06, 3.7848949e-06, 4.1425228e-06],\n",
       "         [1.6093254e-06, 1.5199184e-06, 1.6987324e-06],\n",
       "         ...,\n",
       "         [0.0000000e+00, 0.0000000e+00, 0.0000000e+00],\n",
       "         [1.4901161e-07, 1.4901161e-07, 8.9406967e-08],\n",
       "         [8.9287758e-05, 6.6667795e-05, 7.5191259e-05]],\n",
       "\n",
       "        [[2.3573637e-05, 2.2977591e-05, 2.3931265e-05],\n",
       "         [0.0000000e+00, 8.9406967e-08, 0.0000000e+00],\n",
       "         [0.0000000e+00, 0.0000000e+00, 0.0000000e+00],\n",
       "         ...,\n",
       "         [0.0000000e+00, 0.0000000e+00, 0.0000000e+00],\n",
       "         [2.0861626e-07, 2.0861626e-07, 2.3841858e-07],\n",
       "         [1.2871623e-04, 1.4537573e-04, 1.3336539e-04]],\n",
       "\n",
       "        [[9.9539757e-06, 7.5697899e-06, 1.0728836e-05],\n",
       "         [0.0000000e+00, 0.0000000e+00, 0.0000000e+00],\n",
       "         [0.0000000e+00, 0.0000000e+00, 0.0000000e+00],\n",
       "         ...,\n",
       "         [0.0000000e+00, 0.0000000e+00, 0.0000000e+00],\n",
       "         [3.5166740e-06, 3.1292439e-06, 3.6656857e-06],\n",
       "         [4.1180849e-04, 3.8349628e-04, 4.1642785e-04]],\n",
       "\n",
       "        ...,\n",
       "\n",
       "        [[0.0000000e+00, 0.0000000e+00, 0.0000000e+00],\n",
       "         [0.0000000e+00, 0.0000000e+00, 0.0000000e+00],\n",
       "         [0.0000000e+00, 0.0000000e+00, 0.0000000e+00],\n",
       "         ...,\n",
       "         [0.0000000e+00, 0.0000000e+00, 0.0000000e+00],\n",
       "         [0.0000000e+00, 0.0000000e+00, 0.0000000e+00],\n",
       "         [2.9802322e-08, 2.9802322e-08, 2.9802322e-08]],\n",
       "\n",
       "        [[1.1920929e-07, 2.9802322e-08, 2.9802322e-08],\n",
       "         [0.0000000e+00, 0.0000000e+00, 0.0000000e+00],\n",
       "         [0.0000000e+00, 0.0000000e+00, 0.0000000e+00],\n",
       "         ...,\n",
       "         [0.0000000e+00, 0.0000000e+00, 0.0000000e+00],\n",
       "         [0.0000000e+00, 0.0000000e+00, 0.0000000e+00],\n",
       "         [0.0000000e+00, 0.0000000e+00, 0.0000000e+00]],\n",
       "\n",
       "        [[7.0333481e-06, 1.0251999e-05, 9.2685223e-06],\n",
       "         [0.0000000e+00, 0.0000000e+00, 0.0000000e+00],\n",
       "         [0.0000000e+00, 0.0000000e+00, 0.0000000e+00],\n",
       "         ...,\n",
       "         [0.0000000e+00, 0.0000000e+00, 0.0000000e+00],\n",
       "         [0.0000000e+00, 0.0000000e+00, 0.0000000e+00],\n",
       "         [4.7683716e-07, 4.1723251e-07, 4.1723251e-07]]]], dtype=float32)"
      ]
     },
     "execution_count": 76,
     "metadata": {},
     "output_type": "execute_result"
    }
   ],
   "source": [
    "res\n"
   ]
  },
  {
   "cell_type": "code",
   "execution_count": 77,
   "id": "15f4cbe0",
   "metadata": {},
   "outputs": [
    {
     "data": {
      "image/png": "[encoded data removed]",
      "text/plain": [
       "<Figure size 432x288 with 1 Axes>"
      ]
     },
     "metadata": {
      "needs_background": "light"
     },
     "output_type": "display_data"
    }
   ],
   "source": [
    "# res와 test_noisy_images[0], test_images[0]를 width 방향으로 결합하여 (28, 28 * 3, 3) 의 이미지를 만들어 plt로 출력하는 코드를 작성하세요.\n",
    "plt.imshow(np.concatenate([res[0], test_noisy_images[0], test_images[0]], axis=1))\n",
    "plt.show()"
   ]
  },
  {
   "cell_type": "code",
   "execution_count": 78,
   "id": "0d2b596f",
   "metadata": {},
   "outputs": [],
   "source": [
    "five = model.predict(test_noisy_images[0:5])"
   ]
  },
  {
   "cell_type": "code",
   "execution_count": 80,
   "id": "26da3cef",
   "metadata": {},
   "outputs": [
    {
     "data": {
      "image/png": "[encoded data removed]",
      "text/plain": [
       "<Figure size 432x288 with 1 Axes>"
      ]
     },
     "metadata": {
      "needs_background": "light"
     },
     "output_type": "display_data"
    }
   ],
   "source": [
    "# 5장의 이미지를 모델에 넣고 결과를 31번과 같은 방식으로 비교하는 코드를 작성하세요\n",
    "five = model.predict(test_noisy_images[0:5])\n",
    "imgs = np.concatenate([five, test_noisy_images[0:5], test_images[0:5]], axis=2).transpose((1,0,2,3)).reshape((28, -1, 3))\n",
    "plt.imshow(imgs)\n",
    "plt.show()"
   ]
  },
  {
   "cell_type": "code",
   "execution_count": 81,
   "id": "546c9b94",
   "metadata": {},
   "outputs": [],
   "source": [
    "model.save('./image_.h5')   # 모델을 저장"
   ]
  },
  {
   "cell_type": "code",
   "execution_count": null,
   "id": "d049ac6a",
   "metadata": {},
   "outputs": [],
   "source": []
  }
 ],
 "metadata": {
  "kernelspec": {
   "display_name": "Python 3 (ipykernel)",
   "language": "python",
   "name": "python3"
  },
  "language_info": {
   "codemirror_mode": {
    "name": "ipython",
    "version": 3
   },
   "file_extension": ".py",
   "mimetype": "text/x-python",
   "name": "python",
   "nbconvert_exporter": "python",
   "pygments_lexer": "ipython3",
   "version": "3.7.7"
  },
  "toc": {
   "base_numbering": 1,
   "nav_menu": {},
   "number_sections": true,
   "sideBar": true,
   "skip_h1_title": false,
   "title_cell": "Table of Contents",
   "title_sidebar": "Contents",
   "toc_cell": false,
   "toc_position": {},
   "toc_section_display": true,
   "toc_window_display": false
  }
 },
 "nbformat": 4,
 "nbformat_minor": 5
}
