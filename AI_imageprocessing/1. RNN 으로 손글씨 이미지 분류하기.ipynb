{
 "cells": [
  {
   "cell_type": "markdown",
   "id": "44069c5f",
   "metadata": {},
   "source": [
    "# 이미지 분류 - RNN 으로 손글씨 이미지 분류하기"
   ]
  },
  {
   "cell_type": "code",
   "execution_count": 14,
   "id": "bf494961",
   "metadata": {},
   "outputs": [],
   "source": [
    "import tensorflow as tf\n",
    "from tensorflow import keras\n",
    "\n",
    "import pandas as pd\n",
    "import numpy as np\n",
    "import matplotlib.pyplot as plt\n",
    "import seaborn as sns\n",
    "import warnings \n",
    "from IPython.display import Image"
   ]
  },
  {
   "cell_type": "code",
   "execution_count": 15,
   "id": "ad052696",
   "metadata": {},
   "outputs": [],
   "source": [
    "SEED = 34"
   ]
  },
  {
   "cell_type": "markdown",
   "id": "e7f8470d",
   "metadata": {},
   "source": [
    "## 도입전 기본처리"
   ]
  },
  {
   "cell_type": "code",
   "execution_count": 16,
   "id": "68704715",
   "metadata": {},
   "outputs": [
    {
     "data": {
      "text/plain": [
       "<module 'tensorflow_core.keras.datasets.mnist' from '/Users/gueunhye/opt/anaconda3/envs/tf/lib/python3.7/site-packages/tensorflow_core/python/keras/api/_v2/keras/datasets/mnist/__init__.py'>"
      ]
     },
     "execution_count": 16,
     "metadata": {},
     "output_type": "execute_result"
    }
   ],
   "source": [
    "# minist 데이터 살펴보기\n",
    "\n",
    "minist = keras.datasets.mnist\n",
    "minist"
   ]
  },
  {
   "cell_type": "code",
   "execution_count": 17,
   "id": "ddf421dc",
   "metadata": {},
   "outputs": [],
   "source": [
    "((train_images, train_labels),(test_images,test_labels)) = minist.load_data()"
   ]
  },
  {
   "cell_type": "code",
   "execution_count": 18,
   "id": "918c226f",
   "metadata": {},
   "outputs": [
    {
     "name": "stdout",
     "output_type": "stream",
     "text": [
      "train_images: (60000, 28, 28), train_labels :(60000,)\n",
      "test_images : (10000, 28, 28), test_labels:(10000,)\n"
     ]
    }
   ],
   "source": [
    "# 데이터 shape 출력해보기\n",
    "\n",
    "print(f\"train_images: {train_images.shape}, train_labels :{train_labels.shape}\")\n",
    "print(f\"test_images : {test_images.shape}, test_labels:{test_labels.shape}\")"
   ]
  },
  {
   "cell_type": "code",
   "execution_count": 19,
   "id": "41314d09",
   "metadata": {},
   "outputs": [
    {
     "data": {
      "image/png": "[encoded data removed]",
      "text/plain": [
       "<Figure size 432x288 with 2 Axes>"
      ]
     },
     "metadata": {
      "needs_background": "light"
     },
     "output_type": "display_data"
    },
    {
     "name": "stdout",
     "output_type": "stream",
     "text": [
      "0\n"
     ]
    }
   ],
   "source": [
    "# 28,28 형태의 이미지 출력\n",
    "plt.figure()\n",
    "plt.imshow(train_images[3])\n",
    "plt.colorbar()\n",
    "plt.grid(True)\n",
    "plt.show()\n",
    "print(train_labels[1])"
   ]
  },
  {
   "cell_type": "code",
   "execution_count": 20,
   "id": "056432d2",
   "metadata": {},
   "outputs": [
    {
     "data": {
      "text/plain": [
       "[3, 18, 18, 18, 126, 136, 175, 26, 166, 255]"
      ]
     },
     "execution_count": 20,
     "metadata": {},
     "output_type": "execute_result"
    }
   ],
   "source": [
    "# train_images에서 0이 아닌 값 출력해보기\n",
    "list(filter(lambda x: x!= 0, train_images[0].reshape(-1)))[:10]"
   ]
  },
  {
   "cell_type": "code",
   "execution_count": 21,
   "id": "643fef7a",
   "metadata": {},
   "outputs": [
    {
     "name": "stdout",
     "output_type": "stream",
     "text": [
      "uint8\n"
     ]
    }
   ],
   "source": [
    "print(train_images.dtype)"
   ]
  },
  {
   "cell_type": "markdown",
   "id": "78a3ddac",
   "metadata": {},
   "source": [
    "## 전처리"
   ]
  },
  {
   "cell_type": "code",
   "execution_count": 22,
   "id": "a7c42277",
   "metadata": {},
   "outputs": [
    {
     "name": "stdout",
     "output_type": "stream",
     "text": [
      "[3, 18, 18, 18, 126, 136, 175, 26, 166, 255]\n",
      "[5, 4, 1, 9, 2, 1, 3, 1, 4, 3]\n",
      "[84, 185, 159, 151, 60, 36, 222, 254, 254, 254]\n",
      "[7, 2, 1, 4, 1, 4, 9, 5, 9, 6]\n"
     ]
    }
   ],
   "source": [
    "# train/test 이미지 데이터의 범위 확인\n",
    "print(list(filter(lambda x: x != 0, train_images[0].reshape(-1)))[:10])\n",
    "print(list(filter(lambda x: x != 0, train_labels.reshape(-1)))[:10])\n",
    "print(list(filter(lambda x: x != 0, test_images[0].reshape(-1)))[:10])\n",
    "print(list(filter(lambda x: x != 0, test_labels.reshape(-1)))[:10])"
   ]
  },
  {
   "cell_type": "code",
   "execution_count": 23,
   "id": "01a33f95",
   "metadata": {},
   "outputs": [
    {
     "name": "stdout",
     "output_type": "stream",
     "text": [
      "255 0\n",
      "255 0\n"
     ]
    }
   ],
   "source": [
    "# train/test 전체 데이터에서 각 images, labels의 min, max를 출력하는 코드를 작성하세요.\n",
    "print(max(train_images.reshape(-1)), min(train_images.reshape(-1)) )\n",
    "print(max(test_images.reshape(-1)), min(test_images.reshape(-1)) )"
   ]
  },
  {
   "cell_type": "code",
   "execution_count": 24,
   "id": "3bd65a43",
   "metadata": {},
   "outputs": [
    {
     "name": "stdout",
     "output_type": "stream",
     "text": [
      "[[[0. 0. 0. ... 0. 0. 0.]\n",
      "  [0. 0. 0. ... 0. 0. 0.]\n",
      "  [0. 0. 0. ... 0. 0. 0.]\n",
      "  ...\n",
      "  [0. 0. 0. ... 0. 0. 0.]\n",
      "  [0. 0. 0. ... 0. 0. 0.]\n",
      "  [0. 0. 0. ... 0. 0. 0.]]\n",
      "\n",
      " [[0. 0. 0. ... 0. 0. 0.]\n",
      "  [0. 0. 0. ... 0. 0. 0.]\n",
      "  [0. 0. 0. ... 0. 0. 0.]\n",
      "  ...\n",
      "  [0. 0. 0. ... 0. 0. 0.]\n",
      "  [0. 0. 0. ... 0. 0. 0.]\n",
      "  [0. 0. 0. ... 0. 0. 0.]]\n",
      "\n",
      " [[0. 0. 0. ... 0. 0. 0.]\n",
      "  [0. 0. 0. ... 0. 0. 0.]\n",
      "  [0. 0. 0. ... 0. 0. 0.]\n",
      "  ...\n",
      "  [0. 0. 0. ... 0. 0. 0.]\n",
      "  [0. 0. 0. ... 0. 0. 0.]\n",
      "  [0. 0. 0. ... 0. 0. 0.]]\n",
      "\n",
      " ...\n",
      "\n",
      " [[0. 0. 0. ... 0. 0. 0.]\n",
      "  [0. 0. 0. ... 0. 0. 0.]\n",
      "  [0. 0. 0. ... 0. 0. 0.]\n",
      "  ...\n",
      "  [0. 0. 0. ... 0. 0. 0.]\n",
      "  [0. 0. 0. ... 0. 0. 0.]\n",
      "  [0. 0. 0. ... 0. 0. 0.]]\n",
      "\n",
      " [[0. 0. 0. ... 0. 0. 0.]\n",
      "  [0. 0. 0. ... 0. 0. 0.]\n",
      "  [0. 0. 0. ... 0. 0. 0.]\n",
      "  ...\n",
      "  [0. 0. 0. ... 0. 0. 0.]\n",
      "  [0. 0. 0. ... 0. 0. 0.]\n",
      "  [0. 0. 0. ... 0. 0. 0.]]\n",
      "\n",
      " [[0. 0. 0. ... 0. 0. 0.]\n",
      "  [0. 0. 0. ... 0. 0. 0.]\n",
      "  [0. 0. 0. ... 0. 0. 0.]\n",
      "  ...\n",
      "  [0. 0. 0. ... 0. 0. 0.]\n",
      "  [0. 0. 0. ... 0. 0. 0.]\n",
      "  [0. 0. 0. ... 0. 0. 0.]]]\n",
      "float64\n"
     ]
    }
   ],
   "source": [
    "# 데이터 타입을 실수형으로 전화하기\n",
    "\n",
    "test_images.dtype\n",
    "test_images = test_images.astype(np.float64)\n",
    "train_images = train_images.astype(np.float64)\n",
    "print(test_images)\n",
    "print(train_images.dtype)"
   ]
  },
  {
   "cell_type": "code",
   "execution_count": 25,
   "id": "9ed317ee",
   "metadata": {},
   "outputs": [],
   "source": [
    "# 데이터 노멀라이즈  0-1 사이의 값을 갖도록 코드 작성\n",
    "train_images = train_images/255\n",
    "test_images = test_images/255\n"
   ]
  },
  {
   "cell_type": "code",
   "execution_count": 26,
   "id": "54c8fce1",
   "metadata": {},
   "outputs": [
    {
     "name": "stdout",
     "output_type": "stream",
     "text": [
      "[0.011764705882352941, 0.07058823529411765, 0.07058823529411765, 0.07058823529411765, 0.49411764705882355, 0.5333333333333333, 0.6862745098039216, 0.10196078431372549, 0.6509803921568628, 1.0]\n",
      "[5, 4, 1, 9, 2, 1, 3, 1, 4, 3]\n",
      "[0.32941176470588235, 0.7254901960784313, 0.6235294117647059, 0.592156862745098, 0.23529411764705882, 0.1411764705882353, 0.8705882352941177, 0.996078431372549, 0.996078431372549, 0.996078431372549]\n",
      "[7, 2, 1, 4, 1, 4, 9, 5, 9, 6]\n"
     ]
    }
   ],
   "source": [
    "# 노멀라이즈 후 데이터 값이 변경되었는지 확인\n",
    "\n",
    "# 노말라이즈 후 min/max, shape, 0이 아닌 값, dtype 등을 확인하는 코드를 작성해보세요. \n",
    "print(list(filter(lambda x: x != 0, train_images[0].reshape(-1)))[:10])\n",
    "print(list(filter(lambda x: x != 0, train_labels.reshape(-1)))[:10])\n",
    "print(list(filter(lambda x: x != 0, test_images[0].reshape(-1)))[:10])\n",
    "print(list(filter(lambda x: x != 0, test_labels.reshape(-1)))[:10])"
   ]
  },
  {
   "cell_type": "markdown",
   "id": "a3a8d2bd",
   "metadata": {},
   "source": [
    "## 시각화 방법"
   ]
  },
  {
   "cell_type": "code",
   "execution_count": 27,
   "id": "c925ca95",
   "metadata": {},
   "outputs": [
    {
     "data": {
      "text/plain": [
       "(6, 28, 28)"
      ]
     },
     "execution_count": 27,
     "metadata": {},
     "output_type": "execute_result"
    }
   ],
   "source": [
    "train_images[:6].shape"
   ]
  },
  {
   "cell_type": "code",
   "execution_count": 28,
   "id": "48bb6c1a",
   "metadata": {},
   "outputs": [
    {
     "data": {
      "text/plain": [
       "array([[0.        , 0.        , 0.        , 0.        , 0.        ,\n",
       "        0.        , 0.        , 0.        , 0.        , 0.        ,\n",
       "        0.        , 0.        , 0.        , 0.        , 0.        ,\n",
       "        0.        , 0.        , 0.        , 0.        , 0.        ,\n",
       "        0.        , 0.        , 0.        , 0.        , 0.        ,\n",
       "        0.        , 0.        , 0.        ],\n",
       "       [0.        , 0.        , 0.        , 0.        , 0.        ,\n",
       "        0.        , 0.        , 0.        , 0.        , 0.        ,\n",
       "        0.        , 0.        , 0.        , 0.        , 0.        ,\n",
       "        0.        , 0.        , 0.        , 0.        , 0.        ,\n",
       "        0.        , 0.        , 0.        , 0.        , 0.        ,\n",
       "        0.        , 0.        , 0.        ],\n",
       "       [0.        , 0.        , 0.        , 0.        , 0.        ,\n",
       "        0.        , 0.        , 0.        , 0.        , 0.        ,\n",
       "        0.        , 0.        , 0.        , 0.        , 0.        ,\n",
       "        0.        , 0.        , 0.        , 0.        , 0.        ,\n",
       "        0.        , 0.        , 0.        , 0.        , 0.        ,\n",
       "        0.        , 0.        , 0.        ],\n",
       "       [0.        , 0.        , 0.        , 0.        , 0.        ,\n",
       "        0.        , 0.        , 0.        , 0.        , 0.        ,\n",
       "        0.        , 0.        , 0.        , 0.        , 0.        ,\n",
       "        0.        , 0.        , 0.        , 0.        , 0.        ,\n",
       "        0.        , 0.        , 0.        , 0.        , 0.        ,\n",
       "        0.        , 0.        , 0.        ],\n",
       "       [0.        , 0.        , 0.        , 0.        , 0.        ,\n",
       "        0.        , 0.        , 0.        , 0.        , 0.        ,\n",
       "        0.        , 0.        , 0.        , 0.        , 0.        ,\n",
       "        0.        , 0.        , 0.        , 0.        , 0.        ,\n",
       "        0.        , 0.        , 0.        , 0.        , 0.        ,\n",
       "        0.        , 0.        , 0.        ],\n",
       "       [0.        , 0.        , 0.        , 0.        , 0.        ,\n",
       "        0.        , 0.        , 0.        , 0.        , 0.        ,\n",
       "        0.        , 0.        , 0.        , 0.        , 0.        ,\n",
       "        0.05098039, 0.09803922, 0.39215686, 0.47843137, 0.02745098,\n",
       "        0.        , 0.        , 0.        , 0.        , 0.        ,\n",
       "        0.        , 0.        , 0.        ],\n",
       "       [0.        , 0.        , 0.        , 0.        , 0.        ,\n",
       "        0.        , 0.        , 0.        , 0.        , 0.        ,\n",
       "        0.        , 0.        , 0.        , 0.12941176, 0.59215686,\n",
       "        0.81568627, 0.98823529, 0.98823529, 0.98823529, 0.57254902,\n",
       "        0.        , 0.        , 0.        , 0.        , 0.        ,\n",
       "        0.        , 0.        , 0.        ],\n",
       "       [0.        , 0.        , 0.        , 0.        , 0.        ,\n",
       "        0.        , 0.        , 0.        , 0.        , 0.        ,\n",
       "        0.        , 0.15686275, 0.59607843, 0.95686275, 0.98823529,\n",
       "        0.99215686, 0.87843137, 0.82745098, 0.98823529, 0.90980392,\n",
       "        0.15686275, 0.        , 0.        , 0.        , 0.        ,\n",
       "        0.        , 0.        , 0.        ],\n",
       "       [0.        , 0.        , 0.        , 0.        , 0.        ,\n",
       "        0.        , 0.        , 0.        , 0.        , 0.05882353,\n",
       "        0.59607843, 0.9372549 , 0.98823529, 0.98823529, 0.98823529,\n",
       "        0.84705882, 0.12156863, 0.14509804, 0.98823529, 0.98823529,\n",
       "        0.23529412, 0.        , 0.        , 0.        , 0.        ,\n",
       "        0.        , 0.        , 0.        ],\n",
       "       [0.        , 0.        , 0.        , 0.        , 0.        ,\n",
       "        0.        , 0.        , 0.        , 0.        , 0.37647059,\n",
       "        0.98823529, 0.98823529, 0.98823529, 0.98823529, 0.85098039,\n",
       "        0.11372549, 0.        , 0.14509804, 0.98823529, 0.98823529,\n",
       "        0.23529412, 0.        , 0.        , 0.        , 0.        ,\n",
       "        0.        , 0.        , 0.        ],\n",
       "       [0.        , 0.        , 0.        , 0.        , 0.        ,\n",
       "        0.        , 0.        , 0.        , 0.        , 0.70980392,\n",
       "        0.98823529, 0.98823529, 0.8627451 , 0.65490196, 0.11764706,\n",
       "        0.        , 0.        , 0.30196078, 0.98823529, 0.98823529,\n",
       "        0.23529412, 0.        , 0.        , 0.        , 0.        ,\n",
       "        0.        , 0.        , 0.        ],\n",
       "       [0.        , 0.        , 0.        , 0.        , 0.        ,\n",
       "        0.        , 0.        , 0.        , 0.        , 0.10196078,\n",
       "        0.50196078, 0.22745098, 0.08627451, 0.        , 0.        ,\n",
       "        0.        , 0.        , 0.39215686, 0.98823529, 0.98823529,\n",
       "        0.23529412, 0.        , 0.        , 0.        , 0.        ,\n",
       "        0.        , 0.        , 0.        ],\n",
       "       [0.        , 0.        , 0.        , 0.        , 0.        ,\n",
       "        0.        , 0.        , 0.        , 0.        , 0.        ,\n",
       "        0.        , 0.        , 0.        , 0.        , 0.        ,\n",
       "        0.        , 0.        , 0.61568627, 0.98823529, 0.98823529,\n",
       "        0.23529412, 0.        , 0.        , 0.        , 0.        ,\n",
       "        0.        , 0.        , 0.        ],\n",
       "       [0.        , 0.        , 0.        , 0.        , 0.        ,\n",
       "        0.        , 0.        , 0.        , 0.        , 0.        ,\n",
       "        0.        , 0.        , 0.        , 0.43137255, 0.4745098 ,\n",
       "        0.47843137, 0.4745098 , 0.79215686, 0.98823529, 0.76078431,\n",
       "        0.01176471, 0.        , 0.        , 0.        , 0.        ,\n",
       "        0.        , 0.        , 0.        ],\n",
       "       [0.        , 0.        , 0.        , 0.        , 0.        ,\n",
       "        0.        , 0.        , 0.        , 0.        , 0.        ,\n",
       "        0.03921569, 0.20784314, 0.70196078, 0.99215686, 0.99215686,\n",
       "        1.        , 0.99215686, 0.99215686, 0.89411765, 0.1372549 ,\n",
       "        0.        , 0.        , 0.        , 0.        , 0.        ,\n",
       "        0.        , 0.        , 0.        ],\n",
       "       [0.        , 0.        , 0.        , 0.        , 0.        ,\n",
       "        0.        , 0.        , 0.        , 0.01960784, 0.21176471,\n",
       "        0.89019608, 0.98823529, 0.95294118, 0.89411765, 0.66666667,\n",
       "        0.94901961, 0.98823529, 0.98823529, 0.90588235, 0.45882353,\n",
       "        0.02352941, 0.        , 0.        , 0.        , 0.        ,\n",
       "        0.        , 0.        , 0.        ],\n",
       "       [0.        , 0.        , 0.        , 0.        , 0.        ,\n",
       "        0.        , 0.        , 0.02352941, 0.30588235, 0.98823529,\n",
       "        0.98823529, 0.49019608, 0.23137255, 0.        , 0.07058824,\n",
       "        0.81568627, 0.98823529, 0.98823529, 0.98823529, 0.98823529,\n",
       "        0.34117647, 0.02745098, 0.        , 0.        , 0.        ,\n",
       "        0.        , 0.        , 0.        ],\n",
       "       [0.        , 0.        , 0.        , 0.        , 0.        ,\n",
       "        0.        , 0.01960784, 0.52941176, 0.98823529, 0.98823529,\n",
       "        0.70588235, 0.0627451 , 0.        , 0.08235294, 0.79607843,\n",
       "        0.99215686, 0.96862745, 0.50588235, 0.67843137, 0.98823529,\n",
       "        0.98823529, 0.72156863, 0.25882353, 0.19215686, 0.19215686,\n",
       "        0.        , 0.        , 0.        ],\n",
       "       [0.        , 0.        , 0.        , 0.        , 0.        ,\n",
       "        0.01176471, 0.53333333, 0.98823529, 0.94509804, 0.41568627,\n",
       "        0.06666667, 0.        , 0.20784314, 0.78431373, 0.98823529,\n",
       "        0.84705882, 0.25490196, 0.        , 0.05490196, 0.28235294,\n",
       "        0.63921569, 0.94509804, 0.98823529, 0.98823529, 0.8745098 ,\n",
       "        0.        , 0.        , 0.        ],\n",
       "       [0.        , 0.        , 0.        , 0.        , 0.        ,\n",
       "        0.41176471, 0.98823529, 0.94901961, 0.34509804, 0.07058824,\n",
       "        0.28627451, 0.66666667, 0.95686275, 0.98823529, 0.49411765,\n",
       "        0.11372549, 0.        , 0.        , 0.        , 0.        ,\n",
       "        0.        , 0.34901961, 0.70588235, 0.70588235, 0.14509804,\n",
       "        0.        , 0.        , 0.        ],\n",
       "       [0.        , 0.        , 0.        , 0.        , 0.        ,\n",
       "        0.90588235, 0.98823529, 0.96078431, 0.80392157, 0.84705882,\n",
       "        0.98823529, 0.98823529, 0.98823529, 0.48627451, 0.01176471,\n",
       "        0.        , 0.        , 0.        , 0.        , 0.        ,\n",
       "        0.        , 0.        , 0.        , 0.        , 0.        ,\n",
       "        0.        , 0.        , 0.        ],\n",
       "       [0.        , 0.        , 0.        , 0.        , 0.        ,\n",
       "        0.81176471, 0.98823529, 0.98823529, 0.98823529, 0.98823529,\n",
       "        0.69803922, 0.45490196, 0.14117647, 0.01568627, 0.        ,\n",
       "        0.        , 0.        , 0.        , 0.        , 0.        ,\n",
       "        0.        , 0.        , 0.        , 0.        , 0.        ,\n",
       "        0.        , 0.        , 0.        ],\n",
       "       [0.        , 0.        , 0.        , 0.        , 0.        ,\n",
       "        0.05098039, 0.36470588, 0.56078431, 0.4745098 , 0.09019608,\n",
       "        0.02352941, 0.        , 0.        , 0.        , 0.        ,\n",
       "        0.        , 0.        , 0.        , 0.        , 0.        ,\n",
       "        0.        , 0.        , 0.        , 0.        , 0.        ,\n",
       "        0.        , 0.        , 0.        ],\n",
       "       [0.        , 0.        , 0.        , 0.        , 0.        ,\n",
       "        0.        , 0.        , 0.        , 0.        , 0.        ,\n",
       "        0.        , 0.        , 0.        , 0.        , 0.        ,\n",
       "        0.        , 0.        , 0.        , 0.        , 0.        ,\n",
       "        0.        , 0.        , 0.        , 0.        , 0.        ,\n",
       "        0.        , 0.        , 0.        ],\n",
       "       [0.        , 0.        , 0.        , 0.        , 0.        ,\n",
       "        0.        , 0.        , 0.        , 0.        , 0.        ,\n",
       "        0.        , 0.        , 0.        , 0.        , 0.        ,\n",
       "        0.        , 0.        , 0.        , 0.        , 0.        ,\n",
       "        0.        , 0.        , 0.        , 0.        , 0.        ,\n",
       "        0.        , 0.        , 0.        ],\n",
       "       [0.        , 0.        , 0.        , 0.        , 0.        ,\n",
       "        0.        , 0.        , 0.        , 0.        , 0.        ,\n",
       "        0.        , 0.        , 0.        , 0.        , 0.        ,\n",
       "        0.        , 0.        , 0.        , 0.        , 0.        ,\n",
       "        0.        , 0.        , 0.        , 0.        , 0.        ,\n",
       "        0.        , 0.        , 0.        ],\n",
       "       [0.        , 0.        , 0.        , 0.        , 0.        ,\n",
       "        0.        , 0.        , 0.        , 0.        , 0.        ,\n",
       "        0.        , 0.        , 0.        , 0.        , 0.        ,\n",
       "        0.        , 0.        , 0.        , 0.        , 0.        ,\n",
       "        0.        , 0.        , 0.        , 0.        , 0.        ,\n",
       "        0.        , 0.        , 0.        ],\n",
       "       [0.        , 0.        , 0.        , 0.        , 0.        ,\n",
       "        0.        , 0.        , 0.        , 0.        , 0.        ,\n",
       "        0.        , 0.        , 0.        , 0.        , 0.        ,\n",
       "        0.        , 0.        , 0.        , 0.        , 0.        ,\n",
       "        0.        , 0.        , 0.        , 0.        , 0.        ,\n",
       "        0.        , 0.        , 0.        ]])"
      ]
     },
     "execution_count": 28,
     "metadata": {},
     "output_type": "execute_result"
    }
   ],
   "source": [
    "train_images[5]"
   ]
  },
  {
   "cell_type": "code",
   "execution_count": 29,
   "id": "73a59cc4",
   "metadata": {
    "scrolled": true
   },
   "outputs": [
    {
     "data": {
      "text/plain": [
       "(28, 5, 28)"
      ]
     },
     "execution_count": 29,
     "metadata": {},
     "output_type": "execute_result"
    }
   ],
   "source": [
    "train_images[:5].transpose((1,0,2)).shape\n",
    "#width, height, layer로 바꾸겠다는 의미\n"
   ]
  },
  {
   "cell_type": "code",
   "execution_count": 30,
   "id": "9c0cfe7d",
   "metadata": {},
   "outputs": [
    {
     "data": {
      "text/plain": [
       "array([[0., 0., 0., ..., 0., 0., 0.],\n",
       "       [0., 0., 0., ..., 0., 0., 0.],\n",
       "       [0., 0., 0., ..., 0., 0., 0.],\n",
       "       ...,\n",
       "       [0., 0., 0., ..., 0., 0., 0.],\n",
       "       [0., 0., 0., ..., 0., 0., 0.],\n",
       "       [0., 0., 0., ..., 0., 0., 0.]])"
      ]
     },
     "execution_count": 30,
     "metadata": {},
     "output_type": "execute_result"
    }
   ],
   "source": [
    "train_images[:5].transpose((1,0,2)).reshape(28,-1)\n"
   ]
  },
  {
   "cell_type": "code",
   "execution_count": 31,
   "id": "77793d3d",
   "metadata": {},
   "outputs": [
    {
     "data": {
      "image/png": "[encoded data removed]",
      "text/plain": [
       "<Figure size 432x288 with 1 Axes>"
      ]
     },
     "metadata": {
      "needs_background": "light"
     },
     "output_type": "display_data"
    }
   ],
   "source": [
    "plt.imshow(train_images[:5].transpose((1,0,2)).reshape(28,-1),cmap = 'gray')\n",
    "plt.show()"
   ]
  },
  {
   "cell_type": "code",
   "execution_count": 32,
   "id": "5fb98325",
   "metadata": {},
   "outputs": [
    {
     "name": "stdout",
     "output_type": "stream",
     "text": [
      "[5 0 4 1 9]\n"
     ]
    }
   ],
   "source": [
    "print(train_labels[:5])"
   ]
  },
  {
   "cell_type": "markdown",
   "id": "83c3abcf",
   "metadata": {},
   "source": [
    "## Noise 추가 방법"
   ]
  },
  {
   "cell_type": "code",
   "execution_count": 33,
   "id": "2b8afea4",
   "metadata": {},
   "outputs": [
    {
     "name": "stdout",
     "output_type": "stream",
     "text": [
      "0.8408487766691802\n",
      "0.4802131172836934\n",
      "0.8104076114838897\n"
     ]
    }
   ],
   "source": [
    "print(np.random.random())\n",
    "print(np.random.random())\n",
    "print(np.random.random())"
   ]
  },
  {
   "cell_type": "code",
   "execution_count": 34,
   "id": "d4d5acd8",
   "metadata": {},
   "outputs": [
    {
     "name": "stdout",
     "output_type": "stream",
     "text": [
      "(28, 28)\n"
     ]
    }
   ],
   "source": [
    "# shape 파라미터 (28,28)로 랜덤 노이즈 생성\n",
    "random = np.random.random((28,28))  # 랜덤으로 노이즈를 만드는건가\n",
    "print(np.random.random((28,28)).shape)\n"
   ]
  },
  {
   "cell_type": "code",
   "execution_count": 35,
   "id": "5892b366",
   "metadata": {},
   "outputs": [
    {
     "data": {
      "image/png": "[encoded data removed]",
      "text/plain": [
       "<Figure size 432x288 with 2 Axes>"
      ]
     },
     "metadata": {
      "needs_background": "light"
     },
     "output_type": "display_data"
    }
   ],
   "source": [
    "plt.imshow(random, cmap = \"gray\")\n",
    "plt.colorbar()\n",
    "plt.show()"
   ]
  },
  {
   "cell_type": "code",
   "execution_count": 36,
   "id": "8a9f9070",
   "metadata": {},
   "outputs": [
    {
     "name": "stdout",
     "output_type": "stream",
     "text": [
      "[-0.04514056]\n",
      "[-0.03335066]\n",
      "[ 0.34821784 -0.07603251  0.1793766 ]\n"
     ]
    }
   ],
   "source": [
    "# 가우시안 노이즈를 사용해서 평균 0, 표준편차 0.1, 사이즈 1로 랜덤값을 3번 출력\n",
    "\n",
    "print(np.random.normal(0.0,0.1,1))\n",
    "print(np.random.normal(0.0,0.1,1))\n",
    "print(np.random.normal(0.0,0.1,3))  # 크기가 뭘말하는거지"
   ]
  },
  {
   "cell_type": "code",
   "execution_count": 37,
   "id": "2828a8dc",
   "metadata": {},
   "outputs": [
    {
     "name": "stdout",
     "output_type": "stream",
     "text": [
      "[3.00070347]\n"
     ]
    }
   ],
   "source": [
    "# 평균 3, 표준편차 0.01, 사이즈 1인 노이즈\n",
    "print(np.random.normal(3.0,0.01,1))"
   ]
  },
  {
   "cell_type": "code",
   "execution_count": 38,
   "id": "8d376582",
   "metadata": {},
   "outputs": [
    {
     "data": {
      "image/png": "[encoded data removed]",
      "text/plain": [
       "<Figure size 432x288 with 2 Axes>"
      ]
     },
     "metadata": {
      "needs_background": "light"
     },
     "output_type": "display_data"
    }
   ],
   "source": [
    "# 가우시안 노이즈 함수를 size(28,28)로 생성해서 plt로 출력해보기\n",
    "\n",
    "plt.imshow(np.random.normal(0.0, 0.01,(28,28)),cmap = \"gray\")\n",
    "plt.colorbar()\n",
    "plt.show()"
   ]
  },
  {
   "cell_type": "code",
   "execution_count": 39,
   "id": "9cc0f8c6",
   "metadata": {},
   "outputs": [
    {
     "data": {
      "text/plain": [
       "array([[0.        , 0.        , 0.        , 0.        , 0.        ,\n",
       "        0.        , 0.        , 0.        , 0.        , 0.        ,\n",
       "        0.        , 0.        , 0.        , 0.        , 0.        ,\n",
       "        0.        , 0.        , 0.        , 0.        , 0.        ,\n",
       "        0.        , 0.        , 0.        , 0.        , 0.        ,\n",
       "        0.        , 0.        , 0.        ],\n",
       "       [0.        , 0.        , 0.        , 0.        , 0.        ,\n",
       "        0.        , 0.        , 0.        , 0.        , 0.        ,\n",
       "        0.        , 0.        , 0.        , 0.        , 0.        ,\n",
       "        0.        , 0.        , 0.        , 0.        , 0.        ,\n",
       "        0.        , 0.        , 0.        , 0.        , 0.        ,\n",
       "        0.        , 0.        , 0.        ],\n",
       "       [0.        , 0.        , 0.        , 0.        , 0.        ,\n",
       "        0.        , 0.        , 0.        , 0.        , 0.        ,\n",
       "        0.        , 0.        , 0.        , 0.        , 0.        ,\n",
       "        0.        , 0.        , 0.        , 0.        , 0.        ,\n",
       "        0.        , 0.        , 0.        , 0.        , 0.        ,\n",
       "        0.        , 0.        , 0.        ],\n",
       "       [0.        , 0.        , 0.        , 0.        , 0.        ,\n",
       "        0.        , 0.        , 0.        , 0.        , 0.        ,\n",
       "        0.        , 0.        , 0.        , 0.        , 0.        ,\n",
       "        0.        , 0.        , 0.        , 0.        , 0.        ,\n",
       "        0.        , 0.        , 0.        , 0.        , 0.        ,\n",
       "        0.        , 0.        , 0.        ],\n",
       "       [0.        , 0.        , 0.        , 0.        , 0.        ,\n",
       "        0.        , 0.        , 0.        , 0.        , 0.        ,\n",
       "        0.        , 0.        , 0.        , 0.        , 0.        ,\n",
       "        0.        , 0.        , 0.        , 0.        , 0.        ,\n",
       "        0.        , 0.        , 0.        , 0.        , 0.        ,\n",
       "        0.        , 0.        , 0.        ],\n",
       "       [0.        , 0.        , 0.        , 0.        , 0.        ,\n",
       "        0.        , 0.        , 0.        , 0.        , 0.        ,\n",
       "        0.        , 0.        , 0.        , 0.        , 0.        ,\n",
       "        0.05098039, 0.09803922, 0.39215686, 0.47843137, 0.02745098,\n",
       "        0.        , 0.        , 0.        , 0.        , 0.        ,\n",
       "        0.        , 0.        , 0.        ],\n",
       "       [0.        , 0.        , 0.        , 0.        , 0.        ,\n",
       "        0.        , 0.        , 0.        , 0.        , 0.        ,\n",
       "        0.        , 0.        , 0.        , 0.12941176, 0.59215686,\n",
       "        0.81568627, 0.98823529, 0.98823529, 0.98823529, 0.57254902,\n",
       "        0.        , 0.        , 0.        , 0.        , 0.        ,\n",
       "        0.        , 0.        , 0.        ],\n",
       "       [0.        , 0.        , 0.        , 0.        , 0.        ,\n",
       "        0.        , 0.        , 0.        , 0.        , 0.        ,\n",
       "        0.        , 0.15686275, 0.59607843, 0.95686275, 0.98823529,\n",
       "        0.99215686, 0.87843137, 0.82745098, 0.98823529, 0.90980392,\n",
       "        0.15686275, 0.        , 0.        , 0.        , 0.        ,\n",
       "        0.        , 0.        , 0.        ],\n",
       "       [0.        , 0.        , 0.        , 0.        , 0.        ,\n",
       "        0.        , 0.        , 0.        , 0.        , 0.05882353,\n",
       "        0.59607843, 0.9372549 , 0.98823529, 0.98823529, 0.98823529,\n",
       "        0.84705882, 0.12156863, 0.14509804, 0.98823529, 0.98823529,\n",
       "        0.23529412, 0.        , 0.        , 0.        , 0.        ,\n",
       "        0.        , 0.        , 0.        ],\n",
       "       [0.        , 0.        , 0.        , 0.        , 0.        ,\n",
       "        0.        , 0.        , 0.        , 0.        , 0.37647059,\n",
       "        0.98823529, 0.98823529, 0.98823529, 0.98823529, 0.85098039,\n",
       "        0.11372549, 0.        , 0.14509804, 0.98823529, 0.98823529,\n",
       "        0.23529412, 0.        , 0.        , 0.        , 0.        ,\n",
       "        0.        , 0.        , 0.        ],\n",
       "       [0.        , 0.        , 0.        , 0.        , 0.        ,\n",
       "        0.        , 0.        , 0.        , 0.        , 0.70980392,\n",
       "        0.98823529, 0.98823529, 0.8627451 , 0.65490196, 0.11764706,\n",
       "        0.        , 0.        , 0.30196078, 0.98823529, 0.98823529,\n",
       "        0.23529412, 0.        , 0.        , 0.        , 0.        ,\n",
       "        0.        , 0.        , 0.        ],\n",
       "       [0.        , 0.        , 0.        , 0.        , 0.        ,\n",
       "        0.        , 0.        , 0.        , 0.        , 0.10196078,\n",
       "        0.50196078, 0.22745098, 0.08627451, 0.        , 0.        ,\n",
       "        0.        , 0.        , 0.39215686, 0.98823529, 0.98823529,\n",
       "        0.23529412, 0.        , 0.        , 0.        , 0.        ,\n",
       "        0.        , 0.        , 0.        ],\n",
       "       [0.        , 0.        , 0.        , 0.        , 0.        ,\n",
       "        0.        , 0.        , 0.        , 0.        , 0.        ,\n",
       "        0.        , 0.        , 0.        , 0.        , 0.        ,\n",
       "        0.        , 0.        , 0.61568627, 0.98823529, 0.98823529,\n",
       "        0.23529412, 0.        , 0.        , 0.        , 0.        ,\n",
       "        0.        , 0.        , 0.        ],\n",
       "       [0.        , 0.        , 0.        , 0.        , 0.        ,\n",
       "        0.        , 0.        , 0.        , 0.        , 0.        ,\n",
       "        0.        , 0.        , 0.        , 0.43137255, 0.4745098 ,\n",
       "        0.47843137, 0.4745098 , 0.79215686, 0.98823529, 0.76078431,\n",
       "        0.01176471, 0.        , 0.        , 0.        , 0.        ,\n",
       "        0.        , 0.        , 0.        ],\n",
       "       [0.        , 0.        , 0.        , 0.        , 0.        ,\n",
       "        0.        , 0.        , 0.        , 0.        , 0.        ,\n",
       "        0.03921569, 0.20784314, 0.70196078, 0.99215686, 0.99215686,\n",
       "        1.        , 0.99215686, 0.99215686, 0.89411765, 0.1372549 ,\n",
       "        0.        , 0.        , 0.        , 0.        , 0.        ,\n",
       "        0.        , 0.        , 0.        ],\n",
       "       [0.        , 0.        , 0.        , 0.        , 0.        ,\n",
       "        0.        , 0.        , 0.        , 0.01960784, 0.21176471,\n",
       "        0.89019608, 0.98823529, 0.95294118, 0.89411765, 0.66666667,\n",
       "        0.94901961, 0.98823529, 0.98823529, 0.90588235, 0.45882353,\n",
       "        0.02352941, 0.        , 0.        , 0.        , 0.        ,\n",
       "        0.        , 0.        , 0.        ],\n",
       "       [0.        , 0.        , 0.        , 0.        , 0.        ,\n",
       "        0.        , 0.        , 0.02352941, 0.30588235, 0.98823529,\n",
       "        0.98823529, 0.49019608, 0.23137255, 0.        , 0.07058824,\n",
       "        0.81568627, 0.98823529, 0.98823529, 0.98823529, 0.98823529,\n",
       "        0.34117647, 0.02745098, 0.        , 0.        , 0.        ,\n",
       "        0.        , 0.        , 0.        ],\n",
       "       [0.        , 0.        , 0.        , 0.        , 0.        ,\n",
       "        0.        , 0.01960784, 0.52941176, 0.98823529, 0.98823529,\n",
       "        0.70588235, 0.0627451 , 0.        , 0.08235294, 0.79607843,\n",
       "        0.99215686, 0.96862745, 0.50588235, 0.67843137, 0.98823529,\n",
       "        0.98823529, 0.72156863, 0.25882353, 0.19215686, 0.19215686,\n",
       "        0.        , 0.        , 0.        ],\n",
       "       [0.        , 0.        , 0.        , 0.        , 0.        ,\n",
       "        0.01176471, 0.53333333, 0.98823529, 0.94509804, 0.41568627,\n",
       "        0.06666667, 0.        , 0.20784314, 0.78431373, 0.98823529,\n",
       "        0.84705882, 0.25490196, 0.        , 0.05490196, 0.28235294,\n",
       "        0.63921569, 0.94509804, 0.98823529, 0.98823529, 0.8745098 ,\n",
       "        0.        , 0.        , 0.        ],\n",
       "       [0.        , 0.        , 0.        , 0.        , 0.        ,\n",
       "        0.41176471, 0.98823529, 0.94901961, 0.34509804, 0.07058824,\n",
       "        0.28627451, 0.66666667, 0.95686275, 0.98823529, 0.49411765,\n",
       "        0.11372549, 0.        , 0.        , 0.        , 0.        ,\n",
       "        0.        , 0.34901961, 0.70588235, 0.70588235, 0.14509804,\n",
       "        0.        , 0.        , 0.        ],\n",
       "       [0.        , 0.        , 0.        , 0.        , 0.        ,\n",
       "        0.90588235, 0.98823529, 0.96078431, 0.80392157, 0.84705882,\n",
       "        0.98823529, 0.98823529, 0.98823529, 0.48627451, 0.01176471,\n",
       "        0.        , 0.        , 0.        , 0.        , 0.        ,\n",
       "        0.        , 0.        , 0.        , 0.        , 0.        ,\n",
       "        0.        , 0.        , 0.        ],\n",
       "       [0.        , 0.        , 0.        , 0.        , 0.        ,\n",
       "        0.81176471, 0.98823529, 0.98823529, 0.98823529, 0.98823529,\n",
       "        0.69803922, 0.45490196, 0.14117647, 0.01568627, 0.        ,\n",
       "        0.        , 0.        , 0.        , 0.        , 0.        ,\n",
       "        0.        , 0.        , 0.        , 0.        , 0.        ,\n",
       "        0.        , 0.        , 0.        ],\n",
       "       [0.        , 0.        , 0.        , 0.        , 0.        ,\n",
       "        0.05098039, 0.36470588, 0.56078431, 0.4745098 , 0.09019608,\n",
       "        0.02352941, 0.        , 0.        , 0.        , 0.        ,\n",
       "        0.        , 0.        , 0.        , 0.        , 0.        ,\n",
       "        0.        , 0.        , 0.        , 0.        , 0.        ,\n",
       "        0.        , 0.        , 0.        ],\n",
       "       [0.        , 0.        , 0.        , 0.        , 0.        ,\n",
       "        0.        , 0.        , 0.        , 0.        , 0.        ,\n",
       "        0.        , 0.        , 0.        , 0.        , 0.        ,\n",
       "        0.        , 0.        , 0.        , 0.        , 0.        ,\n",
       "        0.        , 0.        , 0.        , 0.        , 0.        ,\n",
       "        0.        , 0.        , 0.        ],\n",
       "       [0.        , 0.        , 0.        , 0.        , 0.        ,\n",
       "        0.        , 0.        , 0.        , 0.        , 0.        ,\n",
       "        0.        , 0.        , 0.        , 0.        , 0.        ,\n",
       "        0.        , 0.        , 0.        , 0.        , 0.        ,\n",
       "        0.        , 0.        , 0.        , 0.        , 0.        ,\n",
       "        0.        , 0.        , 0.        ],\n",
       "       [0.        , 0.        , 0.        , 0.        , 0.        ,\n",
       "        0.        , 0.        , 0.        , 0.        , 0.        ,\n",
       "        0.        , 0.        , 0.        , 0.        , 0.        ,\n",
       "        0.        , 0.        , 0.        , 0.        , 0.        ,\n",
       "        0.        , 0.        , 0.        , 0.        , 0.        ,\n",
       "        0.        , 0.        , 0.        ],\n",
       "       [0.        , 0.        , 0.        , 0.        , 0.        ,\n",
       "        0.        , 0.        , 0.        , 0.        , 0.        ,\n",
       "        0.        , 0.        , 0.        , 0.        , 0.        ,\n",
       "        0.        , 0.        , 0.        , 0.        , 0.        ,\n",
       "        0.        , 0.        , 0.        , 0.        , 0.        ,\n",
       "        0.        , 0.        , 0.        ],\n",
       "       [0.        , 0.        , 0.        , 0.        , 0.        ,\n",
       "        0.        , 0.        , 0.        , 0.        , 0.        ,\n",
       "        0.        , 0.        , 0.        , 0.        , 0.        ,\n",
       "        0.        , 0.        , 0.        , 0.        , 0.        ,\n",
       "        0.        , 0.        , 0.        , 0.        , 0.        ,\n",
       "        0.        , 0.        , 0.        ]])"
      ]
     },
     "execution_count": 39,
     "metadata": {},
     "output_type": "execute_result"
    }
   ],
   "source": [
    "train_images[5]"
   ]
  },
  {
   "cell_type": "code",
   "execution_count": 40,
   "id": "bb0d84fc",
   "metadata": {},
   "outputs": [],
   "source": [
    "# train_images[5]와 가우시안 노이즈 (28, 28)을 더한 뒤 noisy_image 변수에 할당하는 코드를 작성하세요. mu = 0.5, std = 0.1\n",
    "noisy_image = train_images[5] + np.random.normal(0.5, 0.1, (28, 28))"
   ]
  },
  {
   "cell_type": "code",
   "execution_count": 41,
   "id": "3d75e35f",
   "metadata": {},
   "outputs": [
    {
     "data": {
      "image/png": "[encoded data removed]",
      "text/plain": [
       "<Figure size 432x288 with 2 Axes>"
      ]
     },
     "metadata": {
      "needs_background": "light"
     },
     "output_type": "display_data"
    }
   ],
   "source": [
    "\n",
    "plt.imshow(noisy_image, cmap=\"gray\")\n",
    "plt.colorbar()\n",
    "plt.show()"
   ]
  },
  {
   "cell_type": "code",
   "execution_count": 42,
   "id": "3c1d828a",
   "metadata": {},
   "outputs": [
    {
     "data": {
      "image/png": "[encoded data removed]",
      "text/plain": [
       "<Figure size 432x288 with 2 Axes>"
      ]
     },
     "metadata": {
      "needs_background": "light"
     },
     "output_type": "display_data"
    }
   ],
   "source": [
    "# 노이지 이미지 max 1 안넘게 생성\n",
    "noisy_image[noisy_image>1.0] = 1.0\n",
    "plt.imshow(noisy_image,cmap = \"gray\")\n",
    "plt.colorbar()\n",
    "plt.show()"
   ]
  },
  {
   "cell_type": "code",
   "execution_count": 43,
   "id": "24200f7f",
   "metadata": {},
   "outputs": [],
   "source": [
    "# train_images, test_images에 데이터 노이즈 추가한 이미지 생성\n",
    "train_noisy_images = train_images+np.random.normal(0.5,0.1,train_images.shape)\n",
    "train_noisy_images[train_noisy_images>1.0] = 1.0\n",
    "\n",
    "\n",
    "test_noisy_images = test_images + np.random.normal(0.5, 0.1, test_images.shape)\n",
    "test_noisy_images[test_noisy_images > 1.0] = 1.0"
   ]
  },
  {
   "cell_type": "code",
   "execution_count": 44,
   "id": "4096eb72",
   "metadata": {},
   "outputs": [
    {
     "data": {
      "image/png": "[encoded data removed]",
      "text/plain": [
       "<Figure size 432x288 with 2 Axes>"
      ]
     },
     "metadata": {
      "needs_background": "light"
     },
     "output_type": "display_data"
    }
   ],
   "source": [
    "plt.imshow(train_noisy_images[:5].transpose((1,0,2)).reshape(28,-1),cmap = \"gray\")\n",
    "plt.colorbar()\n",
    "plt.show()"
   ]
  },
  {
   "cell_type": "code",
   "execution_count": 45,
   "id": "543145ae",
   "metadata": {},
   "outputs": [],
   "source": [
    "#labels에 onehot 인코딩을 적용해서 배치사이즈, 클래스의 개수 shape 변경해보기"
   ]
  },
  {
   "cell_type": "code",
   "execution_count": 46,
   "id": "c429ccb6",
   "metadata": {},
   "outputs": [
    {
     "name": "stdout",
     "output_type": "stream",
     "text": [
      "(60000,) (10000,)\n",
      "(60000, 10) (10000, 10)\n"
     ]
    }
   ],
   "source": [
    "from tensorflow.keras.utils import to_categorical\n",
    "print(train_labels.shape, test_labels.shape)\n",
    "\n",
    "train_labels = to_categorical(train_labels, 10)\n",
    "test_labels = to_categorical(test_labels, 10)\n",
    "print(train_labels.shape, test_labels.shape)"
   ]
  },
  {
   "cell_type": "markdown",
   "id": "138571b2",
   "metadata": {},
   "source": [
    "# 모델링"
   ]
  },
  {
   "cell_type": "code",
   "execution_count": 47,
   "id": "0719f527",
   "metadata": {},
   "outputs": [],
   "source": [
    "# 모델링\n",
    "from tensorflow.keras.layers import SimpleRNN\n",
    "from tensorflow.keras.layers import Dense, Input\n",
    "from tensorflow.keras.models import Model"
   ]
  },
  {
   "cell_type": "code",
   "execution_count": 48,
   "id": "3da4596a",
   "metadata": {},
   "outputs": [],
   "source": [
    "inputs = Input(shape = (28,28))\n",
    "x1 = SimpleRNN(64,activation = \"tanh\")(inputs)\n",
    "x2 = Dense(10,activation = \"softmax\")(x1)\n",
    "model = Model(inputs,x2)"
   ]
  },
  {
   "cell_type": "code",
   "execution_count": 49,
   "id": "4afc17b7",
   "metadata": {},
   "outputs": [
    {
     "name": "stdout",
     "output_type": "stream",
     "text": [
      "Model: \"model_1\"\n",
      "_________________________________________________________________\n",
      "Layer (type)                 Output Shape              Param #   \n",
      "=================================================================\n",
      "input_3 (InputLayer)         [(None, 28, 28)]          0         \n",
      "_________________________________________________________________\n",
      "simple_rnn_2 (SimpleRNN)     (None, 64)                5952      \n",
      "_________________________________________________________________\n",
      "dense_1 (Dense)              (None, 10)                650       \n",
      "=================================================================\n",
      "Total params: 6,602\n",
      "Trainable params: 6,602\n",
      "Non-trainable params: 0\n",
      "_________________________________________________________________\n"
     ]
    }
   ],
   "source": [
    "model.summary()"
   ]
  },
  {
   "cell_type": "code",
   "execution_count": 50,
   "id": "ad20c2df",
   "metadata": {},
   "outputs": [],
   "source": [
    "# 로스, 옵티마이저, 메트릭 설정\n",
    "model.compile(loss = 'categorical_crossentropy', optimizer = 'adam', metrics = [\"acc\"])"
   ]
  },
  {
   "cell_type": "code",
   "execution_count": 51,
   "id": "55169411",
   "metadata": {},
   "outputs": [
    {
     "name": "stdout",
     "output_type": "stream",
     "text": [
      "Train on 60000 samples, validate on 10000 samples\n",
      "Epoch 1/5\n",
      "60000/60000 - 62s - loss: 0.7339 - acc: 0.7559 - val_loss: 0.4295 - val_acc: 0.8646\n",
      "Epoch 2/5\n",
      "60000/60000 - 60s - loss: 0.3917 - acc: 0.8806 - val_loss: 0.4286 - val_acc: 0.8638\n",
      "Epoch 3/5\n",
      "60000/60000 - 62s - loss: 0.3117 - acc: 0.9061 - val_loss: 0.2715 - val_acc: 0.9173\n",
      "Epoch 4/5\n",
      "60000/60000 - 61s - loss: 0.2767 - acc: 0.9169 - val_loss: 0.2566 - val_acc: 0.9225\n",
      "Epoch 5/5\n",
      "60000/60000 - 60s - loss: 0.2532 - acc: 0.9259 - val_loss: 0.2356 - val_acc: 0.9315\n"
     ]
    }
   ],
   "source": [
    "# 모델 학습시켜보기\n",
    "\n",
    "hist = model.fit(train_noisy_images, train_labels, validation_data = (test_noisy_images,test_labels),epochs = 5, verbose = 2)"
   ]
  },
  {
   "cell_type": "code",
   "execution_count": 56,
   "id": "fa39b110",
   "metadata": {},
   "outputs": [
    {
     "name": "stdout",
     "output_type": "stream",
     "text": [
      "Train on 60000 samples, validate on 10000 samples\n",
      "Epoch 1/5\n",
      "60000/60000 - 59s - loss: 0.3425 - acc: 0.8958 - val_loss: 0.2628 - val_acc: 0.9198\n",
      "Epoch 2/5\n",
      "60000/60000 - 57s - loss: 0.2128 - acc: 0.9372 - val_loss: 0.1572 - val_acc: 0.9531\n",
      "Epoch 3/5\n",
      "60000/60000 - 57s - loss: 0.1835 - acc: 0.9461 - val_loss: 0.1946 - val_acc: 0.9396\n",
      "Epoch 4/5\n",
      "60000/60000 - 57s - loss: 0.1688 - acc: 0.9502 - val_loss: 0.1638 - val_acc: 0.9538\n",
      "Epoch 5/5\n",
      "60000/60000 - 58s - loss: 0.1514 - acc: 0.9563 - val_loss: 0.1640 - val_acc: 0.9502\n"
     ]
    }
   ],
   "source": [
    "hist1 = model.fit(train_images, train_labels, validation_data = (test_images, test_labels),epochs = 5, verbose = 2)"
   ]
  },
  {
   "cell_type": "code",
   "execution_count": 54,
   "id": "b4cc1142",
   "metadata": {},
   "outputs": [
    {
     "data": {
      "image/png": "[encoded data removed]",
      "text/plain": [
       "<Figure size 432x288 with 1 Axes>"
      ]
     },
     "metadata": {
      "needs_background": "light"
     },
     "output_type": "display_data"
    }
   ],
   "source": [
    "# 학습 진행 사항을 plt로 출력하기\n",
    "plt.plot(hist.history['acc'],label = 'accuracy')\n",
    "plt.plot(hist.history['loss'],label = 'loss')\n",
    "plt.plot(hist.history['val_acc'], label = 'val_accuracy')\n",
    "plt.plot(hist.history['val_loss'],label = 'val_loss')\n",
    "plt.legend(loc = 'upper left')\n",
    "plt.show()"
   ]
  },
  {
   "cell_type": "code",
   "execution_count": null,
   "id": "7d68f824",
   "metadata": {},
   "outputs": [],
   "source": []
  }
 ],
 "metadata": {
  "kernelspec": {
   "display_name": "Python 3 (ipykernel)",
   "language": "python",
   "name": "python3"
  },
  "language_info": {
   "codemirror_mode": {
    "name": "ipython",
    "version": 3
   },
   "file_extension": ".py",
   "mimetype": "text/x-python",
   "name": "python",
   "nbconvert_exporter": "python",
   "pygments_lexer": "ipython3",
   "version": "3.7.7"
  },
  "toc": {
   "base_numbering": 1,
   "nav_menu": {},
   "number_sections": true,
   "sideBar": true,
   "skip_h1_title": false,
   "title_cell": "Table of Contents",
   "title_sidebar": "Contents",
   "toc_cell": false,
   "toc_position": {},
   "toc_section_display": true,
   "toc_window_display": false
  }
 },
 "nbformat": 4,
 "nbformat_minor": 5
}
