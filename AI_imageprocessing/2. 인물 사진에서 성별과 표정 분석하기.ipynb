{
 "cells": [
  {
   "cell_type": "code",
   "execution_count": 1,
   "id": "58a74bb8",
   "metadata": {},
   "outputs": [],
   "source": [
    "# 캐글에서 데이터 받아오면 됨\n",
    "\n",
    "import tensorflow as tf\n",
    "from tensorflow import keras\n",
    "from tensorflow.keras.layers import Dense\n",
    "from tensorflow.keras.models import Sequential\n",
    "\n",
    "import pandas as pd\n",
    "import numpy as np\n",
    "import matplotlib.pyplot as plt\n",
    "import seaborn as sns\n",
    "import warnings\n",
    "from IPython.display import Image\n",
    "\n",
    "warnings.filterwarnings('ignore')\n",
    "\n",
    "SEED = 34"
   ]
  },
  {
   "cell_type": "code",
   "execution_count": 3,
   "id": "3ccaea99",
   "metadata": {},
   "outputs": [
    {
     "data": {
      "text/plain": [
       "['abstract_reasoning',\n",
       " 'accentdb',\n",
       " 'aeslc',\n",
       " 'aflw2k3d',\n",
       " 'ag_news_subset',\n",
       " 'ai2_arc',\n",
       " 'ai2_arc_with_ir',\n",
       " 'amazon_us_reviews',\n",
       " 'anli',\n",
       " 'arc',\n",
       " 'bair_robot_pushing_small',\n",
       " 'bccd',\n",
       " 'beans',\n",
       " 'big_patent',\n",
       " 'bigearthnet',\n",
       " 'billsum',\n",
       " 'binarized_mnist',\n",
       " 'binary_alpha_digits',\n",
       " 'blimp',\n",
       " 'bool_q',\n",
       " 'c4',\n",
       " 'caltech101',\n",
       " 'caltech_birds2010',\n",
       " 'caltech_birds2011',\n",
       " 'cars196',\n",
       " 'cassava',\n",
       " 'cats_vs_dogs',\n",
       " 'celeb_a',\n",
       " 'celeb_a_hq',\n",
       " 'cfq',\n",
       " 'cherry_blossoms',\n",
       " 'chexpert',\n",
       " 'cifar10',\n",
       " 'cifar100',\n",
       " 'cifar10_1',\n",
       " 'cifar10_corrupted',\n",
       " 'citrus_leaves',\n",
       " 'cityscapes',\n",
       " 'civil_comments',\n",
       " 'clevr',\n",
       " 'clic',\n",
       " 'clinc_oos',\n",
       " 'cmaterdb',\n",
       " 'cnn_dailymail',\n",
       " 'coco',\n",
       " 'coco_captions',\n",
       " 'coil100',\n",
       " 'colorectal_histology',\n",
       " 'colorectal_histology_large',\n",
       " 'common_voice',\n",
       " 'coqa',\n",
       " 'cos_e',\n",
       " 'cosmos_qa',\n",
       " 'covid19',\n",
       " 'covid19sum',\n",
       " 'crema_d',\n",
       " 'curated_breast_imaging_ddsm',\n",
       " 'cycle_gan',\n",
       " 'd4rl_adroit_door',\n",
       " 'd4rl_adroit_hammer',\n",
       " 'd4rl_adroit_pen',\n",
       " 'd4rl_adroit_relocate',\n",
       " 'd4rl_mujoco_ant',\n",
       " 'd4rl_mujoco_halfcheetah',\n",
       " 'd4rl_mujoco_hopper',\n",
       " 'd4rl_mujoco_walker2d',\n",
       " 'dart',\n",
       " 'davis',\n",
       " 'deep_weeds',\n",
       " 'definite_pronoun_resolution',\n",
       " 'dementiabank',\n",
       " 'diabetic_retinopathy_detection',\n",
       " 'div2k',\n",
       " 'dmlab',\n",
       " 'doc_nli',\n",
       " 'dolphin_number_word',\n",
       " 'downsampled_imagenet',\n",
       " 'drop',\n",
       " 'dsprites',\n",
       " 'dtd',\n",
       " 'duke_ultrasound',\n",
       " 'e2e_cleaned',\n",
       " 'efron_morris75',\n",
       " 'emnist',\n",
       " 'eraser_multi_rc',\n",
       " 'esnli',\n",
       " 'eurosat',\n",
       " 'fashion_mnist',\n",
       " 'flic',\n",
       " 'flores',\n",
       " 'food101',\n",
       " 'forest_fires',\n",
       " 'fuss',\n",
       " 'gap',\n",
       " 'geirhos_conflict_stimuli',\n",
       " 'gem',\n",
       " 'genomics_ood',\n",
       " 'german_credit_numeric',\n",
       " 'gigaword',\n",
       " 'glue',\n",
       " 'goemotions',\n",
       " 'gpt3',\n",
       " 'gref',\n",
       " 'groove',\n",
       " 'gtzan',\n",
       " 'gtzan_music_speech',\n",
       " 'hellaswag',\n",
       " 'higgs',\n",
       " 'horses_or_humans',\n",
       " 'howell',\n",
       " 'i_naturalist2017',\n",
       " 'imagenet2012',\n",
       " 'imagenet2012_corrupted',\n",
       " 'imagenet2012_multilabel',\n",
       " 'imagenet2012_real',\n",
       " 'imagenet2012_subset',\n",
       " 'imagenet_a',\n",
       " 'imagenet_r',\n",
       " 'imagenet_resized',\n",
       " 'imagenet_v2',\n",
       " 'imagenette',\n",
       " 'imagewang',\n",
       " 'imdb_reviews',\n",
       " 'irc_disentanglement',\n",
       " 'iris',\n",
       " 'kddcup99',\n",
       " 'kitti',\n",
       " 'kmnist',\n",
       " 'lambada',\n",
       " 'lfw',\n",
       " 'librispeech',\n",
       " 'librispeech_lm',\n",
       " 'libritts',\n",
       " 'ljspeech',\n",
       " 'lm1b',\n",
       " 'lost_and_found',\n",
       " 'lsun',\n",
       " 'lvis',\n",
       " 'malaria',\n",
       " 'math_dataset',\n",
       " 'mctaco',\n",
       " 'mlqa',\n",
       " 'mnist',\n",
       " 'mnist_corrupted',\n",
       " 'movie_lens',\n",
       " 'movie_rationales',\n",
       " 'movielens',\n",
       " 'moving_mnist',\n",
       " 'multi_news',\n",
       " 'multi_nli',\n",
       " 'multi_nli_mismatch',\n",
       " 'natural_questions',\n",
       " 'natural_questions_open',\n",
       " 'newsroom',\n",
       " 'nsynth',\n",
       " 'nyu_depth_v2',\n",
       " 'ogbg_molpcba',\n",
       " 'omniglot',\n",
       " 'open_images_challenge2019_detection',\n",
       " 'open_images_v4',\n",
       " 'openbookqa',\n",
       " 'opinion_abstracts',\n",
       " 'opinosis',\n",
       " 'opus',\n",
       " 'oxford_flowers102',\n",
       " 'oxford_iiit_pet',\n",
       " 'para_crawl',\n",
       " 'patch_camelyon',\n",
       " 'paws_wiki',\n",
       " 'paws_x_wiki',\n",
       " 'pet_finder',\n",
       " 'pg19',\n",
       " 'piqa',\n",
       " 'places365_small',\n",
       " 'plant_leaves',\n",
       " 'plant_village',\n",
       " 'plantae_k',\n",
       " 'protein_net',\n",
       " 'qa4mre',\n",
       " 'qasc',\n",
       " 'quac',\n",
       " 'quickdraw_bitmap',\n",
       " 'race',\n",
       " 'radon',\n",
       " 'reddit',\n",
       " 'reddit_disentanglement',\n",
       " 'reddit_tifu',\n",
       " 'ref_coco',\n",
       " 'resisc45',\n",
       " 'rlu_atari',\n",
       " 'rlu_dmlab_explore_object_rewards_few',\n",
       " 'rlu_dmlab_explore_object_rewards_many',\n",
       " 'rlu_dmlab_rooms_select_nonmatching_object',\n",
       " 'rlu_dmlab_rooms_watermaze',\n",
       " 'rlu_dmlab_seekavoid_arena01',\n",
       " 'robonet',\n",
       " 'rock_paper_scissors',\n",
       " 'rock_you',\n",
       " 's3o4d',\n",
       " 'salient_span_wikipedia',\n",
       " 'samsum',\n",
       " 'savee',\n",
       " 'scan',\n",
       " 'scene_parse150',\n",
       " 'schema_guided_dialogue',\n",
       " 'scicite',\n",
       " 'scientific_papers',\n",
       " 'sentiment140',\n",
       " 'shapes3d',\n",
       " 'siscore',\n",
       " 'smallnorb',\n",
       " 'snli',\n",
       " 'so2sat',\n",
       " 'speech_commands',\n",
       " 'spoken_digit',\n",
       " 'squad',\n",
       " 'stanford_dogs',\n",
       " 'stanford_online_products',\n",
       " 'star_cfq',\n",
       " 'starcraft_video',\n",
       " 'stl10',\n",
       " 'story_cloze',\n",
       " 'summscreen',\n",
       " 'sun397',\n",
       " 'super_glue',\n",
       " 'svhn_cropped',\n",
       " 'symmetric_solids',\n",
       " 'tao',\n",
       " 'ted_hrlr_translate',\n",
       " 'ted_multi_translate',\n",
       " 'tedlium',\n",
       " 'tf_flowers',\n",
       " 'the300w_lp',\n",
       " 'tiny_shakespeare',\n",
       " 'titanic',\n",
       " 'trec',\n",
       " 'trivia_qa',\n",
       " 'tydi_qa',\n",
       " 'uc_merced',\n",
       " 'ucf101',\n",
       " 'vctk',\n",
       " 'visual_domain_decathlon',\n",
       " 'voc',\n",
       " 'voxceleb',\n",
       " 'voxforge',\n",
       " 'waymo_open_dataset',\n",
       " 'web_nlg',\n",
       " 'web_questions',\n",
       " 'wider_face',\n",
       " 'wiki40b',\n",
       " 'wiki_bio',\n",
       " 'wiki_table_questions',\n",
       " 'wiki_table_text',\n",
       " 'wikiann',\n",
       " 'wikihow',\n",
       " 'wikipedia',\n",
       " 'wikipedia_toxicity_subtypes',\n",
       " 'wine_quality',\n",
       " 'winogrande',\n",
       " 'wmt13_translate',\n",
       " 'wmt14_translate',\n",
       " 'wmt15_translate',\n",
       " 'wmt16_translate',\n",
       " 'wmt17_translate',\n",
       " 'wmt18_translate',\n",
       " 'wmt19_translate',\n",
       " 'wmt_t2t_translate',\n",
       " 'wmt_translate',\n",
       " 'wordnet',\n",
       " 'wsc273',\n",
       " 'xnli',\n",
       " 'xquad',\n",
       " 'xsum',\n",
       " 'xtreme_pawsx',\n",
       " 'xtreme_xnli',\n",
       " 'yelp_polarity_reviews',\n",
       " 'yes_no',\n",
       " 'youtube_vis',\n",
       " 'huggingface:acronym_identification',\n",
       " 'huggingface:ade_corpus_v2',\n",
       " 'huggingface:adversarial_qa',\n",
       " 'huggingface:aeslc',\n",
       " 'huggingface:afrikaans_ner_corpus',\n",
       " 'huggingface:ag_news',\n",
       " 'huggingface:ai2_arc',\n",
       " 'huggingface:air_dialogue',\n",
       " 'huggingface:ajgt_twitter_ar',\n",
       " 'huggingface:allegro_reviews',\n",
       " 'huggingface:allocine',\n",
       " 'huggingface:alt',\n",
       " 'huggingface:amazon_polarity',\n",
       " 'huggingface:amazon_reviews_multi',\n",
       " 'huggingface:amazon_us_reviews',\n",
       " 'huggingface:ambig_qa',\n",
       " 'huggingface:americas_nli',\n",
       " 'huggingface:ami',\n",
       " 'huggingface:amttl',\n",
       " 'huggingface:anli',\n",
       " 'huggingface:app_reviews',\n",
       " 'huggingface:aqua_rat',\n",
       " 'huggingface:aquamuse',\n",
       " 'huggingface:ar_cov19',\n",
       " 'huggingface:ar_res_reviews',\n",
       " 'huggingface:ar_sarcasm',\n",
       " 'huggingface:arabic_billion_words',\n",
       " 'huggingface:arabic_pos_dialect',\n",
       " 'huggingface:arabic_speech_corpus',\n",
       " 'huggingface:arcd',\n",
       " 'huggingface:arsentd_lev',\n",
       " 'huggingface:art',\n",
       " 'huggingface:arxiv_dataset',\n",
       " 'huggingface:ascent_kb',\n",
       " 'huggingface:aslg_pc12',\n",
       " 'huggingface:asnq',\n",
       " 'huggingface:asset',\n",
       " 'huggingface:assin',\n",
       " 'huggingface:assin2',\n",
       " 'huggingface:atomic',\n",
       " 'huggingface:autshumato',\n",
       " 'huggingface:babi_qa',\n",
       " 'huggingface:banking77',\n",
       " 'huggingface:bbaw_egyptian',\n",
       " 'huggingface:bbc_hindi_nli',\n",
       " 'huggingface:bc2gm_corpus',\n",
       " 'huggingface:beans',\n",
       " 'huggingface:best2009',\n",
       " 'huggingface:bianet',\n",
       " 'huggingface:bible_para',\n",
       " 'huggingface:big_patent',\n",
       " 'huggingface:billsum',\n",
       " 'huggingface:bing_coronavirus_query_set',\n",
       " 'huggingface:biomrc',\n",
       " 'huggingface:biosses',\n",
       " 'huggingface:blbooksgenre',\n",
       " 'huggingface:blended_skill_talk',\n",
       " 'huggingface:blimp',\n",
       " 'huggingface:blog_authorship_corpus',\n",
       " 'huggingface:bn_hate_speech',\n",
       " 'huggingface:bookcorpus',\n",
       " 'huggingface:bookcorpusopen',\n",
       " 'huggingface:boolq',\n",
       " 'huggingface:bprec',\n",
       " 'huggingface:break_data',\n",
       " 'huggingface:brwac',\n",
       " 'huggingface:bsd_ja_en',\n",
       " 'huggingface:bswac',\n",
       " 'huggingface:c3',\n",
       " 'huggingface:c4',\n",
       " 'huggingface:cail2018',\n",
       " 'huggingface:caner',\n",
       " 'huggingface:capes',\n",
       " 'huggingface:casino',\n",
       " 'huggingface:catalonia_independence',\n",
       " 'huggingface:cats_vs_dogs',\n",
       " 'huggingface:cawac',\n",
       " 'huggingface:cbt',\n",
       " 'huggingface:cc100',\n",
       " 'huggingface:cc_news',\n",
       " 'huggingface:ccaligned_multilingual',\n",
       " 'huggingface:cdsc',\n",
       " 'huggingface:cdt',\n",
       " 'huggingface:cedr',\n",
       " 'huggingface:cfq',\n",
       " 'huggingface:chr_en',\n",
       " 'huggingface:cifar10',\n",
       " 'huggingface:cifar100',\n",
       " 'huggingface:circa',\n",
       " 'huggingface:civil_comments',\n",
       " 'huggingface:clickbait_news_bg',\n",
       " 'huggingface:climate_fever',\n",
       " 'huggingface:clinc_oos',\n",
       " 'huggingface:clue',\n",
       " 'huggingface:cmrc2018',\n",
       " 'huggingface:cmu_hinglish_dog',\n",
       " 'huggingface:cnn_dailymail',\n",
       " 'huggingface:coached_conv_pref',\n",
       " 'huggingface:coarse_discourse',\n",
       " 'huggingface:codah',\n",
       " 'huggingface:code_search_net',\n",
       " 'huggingface:code_x_glue_cc_clone_detection_big_clone_bench',\n",
       " 'huggingface:code_x_glue_cc_clone_detection_poj104',\n",
       " 'huggingface:code_x_glue_cc_cloze_testing_all',\n",
       " 'huggingface:code_x_glue_cc_cloze_testing_maxmin',\n",
       " 'huggingface:code_x_glue_cc_code_completion_line',\n",
       " 'huggingface:code_x_glue_cc_code_completion_token',\n",
       " 'huggingface:code_x_glue_cc_code_refinement',\n",
       " 'huggingface:code_x_glue_cc_code_to_code_trans',\n",
       " 'huggingface:code_x_glue_cc_defect_detection',\n",
       " 'huggingface:code_x_glue_ct_code_to_text',\n",
       " 'huggingface:code_x_glue_tc_nl_code_search_adv',\n",
       " 'huggingface:code_x_glue_tc_text_to_code',\n",
       " 'huggingface:code_x_glue_tt_text_to_text',\n",
       " 'huggingface:com_qa',\n",
       " 'huggingface:common_gen',\n",
       " 'huggingface:common_language',\n",
       " 'huggingface:common_voice',\n",
       " 'huggingface:commonsense_qa',\n",
       " 'huggingface:competition_math',\n",
       " 'huggingface:compguesswhat',\n",
       " 'huggingface:conceptnet5',\n",
       " 'huggingface:conll2000',\n",
       " 'huggingface:conll2002',\n",
       " 'huggingface:conll2003',\n",
       " 'huggingface:conllpp',\n",
       " 'huggingface:conv_ai',\n",
       " 'huggingface:conv_ai_2',\n",
       " 'huggingface:conv_ai_3',\n",
       " 'huggingface:conv_questions',\n",
       " 'huggingface:coqa',\n",
       " 'huggingface:cord19',\n",
       " 'huggingface:cornell_movie_dialog',\n",
       " 'huggingface:cos_e',\n",
       " 'huggingface:cosmos_qa',\n",
       " 'huggingface:counter',\n",
       " 'huggingface:covid_qa_castorini',\n",
       " 'huggingface:covid_qa_deepset',\n",
       " 'huggingface:covid_qa_ucsd',\n",
       " 'huggingface:covid_tweets_japanese',\n",
       " 'huggingface:covost2',\n",
       " 'huggingface:craigslist_bargains',\n",
       " 'huggingface:crawl_domain',\n",
       " 'huggingface:crd3',\n",
       " 'huggingface:crime_and_punish',\n",
       " 'huggingface:crows_pairs',\n",
       " 'huggingface:cryptonite',\n",
       " 'huggingface:cs_restaurants',\n",
       " 'huggingface:cuad',\n",
       " 'huggingface:curiosity_dialogs',\n",
       " 'huggingface:daily_dialog',\n",
       " 'huggingface:dane',\n",
       " 'huggingface:danish_political_comments',\n",
       " 'huggingface:dart',\n",
       " 'huggingface:datacommons_factcheck',\n",
       " 'huggingface:dbpedia_14',\n",
       " 'huggingface:dbrd',\n",
       " 'huggingface:deal_or_no_dialog',\n",
       " 'huggingface:definite_pronoun_resolution',\n",
       " 'huggingface:dengue_filipino',\n",
       " 'huggingface:dialog_re',\n",
       " 'huggingface:diplomacy_detection',\n",
       " 'huggingface:disaster_response_messages',\n",
       " 'huggingface:discofuse',\n",
       " 'huggingface:discovery',\n",
       " 'huggingface:disfl_qa',\n",
       " 'huggingface:doc2dial',\n",
       " 'huggingface:docred',\n",
       " 'huggingface:doqa',\n",
       " 'huggingface:dream',\n",
       " 'huggingface:drop',\n",
       " 'huggingface:duorc',\n",
       " 'huggingface:dutch_social',\n",
       " 'huggingface:dyk',\n",
       " 'huggingface:e2e_nlg',\n",
       " 'huggingface:e2e_nlg_cleaned',\n",
       " 'huggingface:ecb',\n",
       " 'huggingface:ecthr_cases',\n",
       " 'huggingface:eduge',\n",
       " 'huggingface:ehealth_kd',\n",
       " 'huggingface:eitb_parcc',\n",
       " 'huggingface:eli5',\n",
       " 'huggingface:eli5_category',\n",
       " 'huggingface:emea',\n",
       " 'huggingface:emo',\n",
       " 'huggingface:emotion',\n",
       " 'huggingface:emotone_ar',\n",
       " 'huggingface:empathetic_dialogues',\n",
       " 'huggingface:enriched_web_nlg',\n",
       " 'huggingface:eraser_multi_rc',\n",
       " 'huggingface:esnli',\n",
       " 'huggingface:eth_py150_open',\n",
       " 'huggingface:ethos',\n",
       " 'huggingface:eu_regulatory_ir',\n",
       " 'huggingface:eurlex',\n",
       " 'huggingface:euronews',\n",
       " 'huggingface:europa_eac_tm',\n",
       " 'huggingface:europa_ecdc_tm',\n",
       " 'huggingface:europarl_bilingual',\n",
       " 'huggingface:event2Mind',\n",
       " 'huggingface:evidence_infer_treatment',\n",
       " 'huggingface:exams',\n",
       " 'huggingface:factckbr',\n",
       " 'huggingface:fake_news_english',\n",
       " 'huggingface:fake_news_filipino',\n",
       " 'huggingface:farsi_news',\n",
       " 'huggingface:fashion_mnist',\n",
       " 'huggingface:fever',\n",
       " 'huggingface:few_rel',\n",
       " 'huggingface:financial_phrasebank',\n",
       " 'huggingface:finer',\n",
       " 'huggingface:flores',\n",
       " 'huggingface:flue',\n",
       " 'huggingface:food101',\n",
       " 'huggingface:fquad',\n",
       " 'huggingface:freebase_qa',\n",
       " 'huggingface:gap',\n",
       " 'huggingface:gem',\n",
       " 'huggingface:generated_reviews_enth',\n",
       " 'huggingface:generics_kb',\n",
       " 'huggingface:german_legal_entity_recognition',\n",
       " 'huggingface:germaner',\n",
       " 'huggingface:germeval_14',\n",
       " 'huggingface:giga_fren',\n",
       " 'huggingface:gigaword',\n",
       " 'huggingface:glucose',\n",
       " 'huggingface:glue',\n",
       " 'huggingface:gnad10',\n",
       " 'huggingface:go_emotions',\n",
       " 'huggingface:gooaq',\n",
       " 'huggingface:google_wellformed_query',\n",
       " 'huggingface:grail_qa',\n",
       " 'huggingface:great_code',\n",
       " 'huggingface:greek_legal_code',\n",
       " 'huggingface:guardian_authorship',\n",
       " 'huggingface:gutenberg_time',\n",
       " 'huggingface:hans',\n",
       " 'huggingface:hansards',\n",
       " 'huggingface:hard',\n",
       " 'huggingface:harem',\n",
       " 'huggingface:has_part',\n",
       " 'huggingface:hate_offensive',\n",
       " 'huggingface:hate_speech18',\n",
       " 'huggingface:hate_speech_filipino',\n",
       " 'huggingface:hate_speech_offensive',\n",
       " 'huggingface:hate_speech_pl',\n",
       " 'huggingface:hate_speech_portuguese',\n",
       " 'huggingface:hatexplain',\n",
       " 'huggingface:hausa_voa_ner',\n",
       " 'huggingface:hausa_voa_topics',\n",
       " 'huggingface:hda_nli_hindi',\n",
       " 'huggingface:head_qa',\n",
       " 'huggingface:health_fact',\n",
       " 'huggingface:hebrew_projectbenyehuda',\n",
       " 'huggingface:hebrew_sentiment',\n",
       " 'huggingface:hebrew_this_world',\n",
       " 'huggingface:hellaswag',\n",
       " 'huggingface:hendrycks_test',\n",
       " 'huggingface:hind_encorp',\n",
       " 'huggingface:hindi_discourse',\n",
       " 'huggingface:hippocorpus',\n",
       " 'huggingface:hkcancor',\n",
       " 'huggingface:hlgd',\n",
       " 'huggingface:hope_edi',\n",
       " 'huggingface:hotpot_qa',\n",
       " 'huggingface:hover',\n",
       " 'huggingface:hrenwac_para',\n",
       " 'huggingface:hrwac',\n",
       " 'huggingface:humicroedit',\n",
       " 'huggingface:hybrid_qa',\n",
       " 'huggingface:hyperpartisan_news_detection',\n",
       " 'huggingface:iapp_wiki_qa_squad',\n",
       " 'huggingface:id_clickbait',\n",
       " 'huggingface:id_liputan6',\n",
       " 'huggingface:id_nergrit_corpus',\n",
       " 'huggingface:id_newspapers_2018',\n",
       " 'huggingface:id_panl_bppt',\n",
       " 'huggingface:id_puisi',\n",
       " 'huggingface:igbo_english_machine_translation',\n",
       " 'huggingface:igbo_monolingual',\n",
       " 'huggingface:igbo_ner',\n",
       " 'huggingface:ilist',\n",
       " 'huggingface:imdb',\n",
       " 'huggingface:imdb_urdu_reviews',\n",
       " 'huggingface:imppres',\n",
       " 'huggingface:indic_glue',\n",
       " 'huggingface:indonli',\n",
       " 'huggingface:indonlu',\n",
       " 'huggingface:inquisitive_qg',\n",
       " 'huggingface:interpress_news_category_tr',\n",
       " 'huggingface:interpress_news_category_tr_lite',\n",
       " 'huggingface:irc_disentangle',\n",
       " 'huggingface:isixhosa_ner_corpus',\n",
       " 'huggingface:isizulu_ner_corpus',\n",
       " 'huggingface:iwslt2017',\n",
       " 'huggingface:jeopardy',\n",
       " 'huggingface:jfleg',\n",
       " 'huggingface:jigsaw_toxicity_pred',\n",
       " 'huggingface:jigsaw_unintended_bias',\n",
       " 'huggingface:jnlpba',\n",
       " 'huggingface:journalists_questions',\n",
       " 'huggingface:kan_hope',\n",
       " 'huggingface:kannada_news',\n",
       " 'huggingface:kd_conv',\n",
       " 'huggingface:kde4',\n",
       " 'huggingface:kelm',\n",
       " 'huggingface:kilt_tasks',\n",
       " 'huggingface:kilt_wikipedia',\n",
       " 'huggingface:kinnews_kirnews',\n",
       " 'huggingface:klue',\n",
       " 'huggingface:kor_3i4k',\n",
       " 'huggingface:kor_hate',\n",
       " 'huggingface:kor_ner',\n",
       " 'huggingface:kor_nli',\n",
       " 'huggingface:kor_nlu',\n",
       " 'huggingface:kor_qpair',\n",
       " 'huggingface:kor_sae',\n",
       " 'huggingface:kor_sarcasm',\n",
       " 'huggingface:labr',\n",
       " 'huggingface:lama',\n",
       " 'huggingface:lambada',\n",
       " 'huggingface:large_spanish_corpus',\n",
       " 'huggingface:laroseda',\n",
       " 'huggingface:lc_quad',\n",
       " 'huggingface:lener_br',\n",
       " 'huggingface:lex_glue',\n",
       " 'huggingface:liar',\n",
       " 'huggingface:librispeech_asr',\n",
       " 'huggingface:librispeech_lm',\n",
       " 'huggingface:limit',\n",
       " 'huggingface:lince',\n",
       " 'huggingface:linnaeus',\n",
       " 'huggingface:liveqa',\n",
       " 'huggingface:lj_speech',\n",
       " 'huggingface:lm1b',\n",
       " 'huggingface:lst20',\n",
       " 'huggingface:m_lama',\n",
       " 'huggingface:mac_morpho',\n",
       " 'huggingface:makhzan',\n",
       " 'huggingface:masakhaner',\n",
       " 'huggingface:math_dataset',\n",
       " 'huggingface:math_qa',\n",
       " 'huggingface:matinf',\n",
       " 'huggingface:mbpp',\n",
       " 'huggingface:mc4',\n",
       " 'huggingface:mc_taco',\n",
       " 'huggingface:md_gender_bias',\n",
       " 'huggingface:mdd',\n",
       " 'huggingface:med_hop',\n",
       " 'huggingface:medal',\n",
       " 'huggingface:medical_dialog',\n",
       " 'huggingface:medical_questions_pairs',\n",
       " 'huggingface:menyo20k_mt',\n",
       " 'huggingface:meta_woz',\n",
       " 'huggingface:metooma',\n",
       " 'huggingface:metrec',\n",
       " 'huggingface:miam',\n",
       " 'huggingface:mkb',\n",
       " 'huggingface:mkqa',\n",
       " 'huggingface:mlqa',\n",
       " 'huggingface:mlsum',\n",
       " 'huggingface:mnist',\n",
       " 'huggingface:mocha',\n",
       " 'huggingface:moroco',\n",
       " 'huggingface:movie_rationales',\n",
       " 'huggingface:mrqa',\n",
       " 'huggingface:ms_marco',\n",
       " 'huggingface:ms_terms',\n",
       " 'huggingface:msr_genomics_kbcomp',\n",
       " 'huggingface:msr_sqa',\n",
       " 'huggingface:msr_text_compression',\n",
       " 'huggingface:msr_zhen_translation_parity',\n",
       " 'huggingface:msra_ner',\n",
       " 'huggingface:mt_eng_vietnamese',\n",
       " 'huggingface:muchocine',\n",
       " 'huggingface:multi_booked',\n",
       " 'huggingface:multi_eurlex',\n",
       " 'huggingface:multi_news',\n",
       " 'huggingface:multi_nli',\n",
       " 'huggingface:multi_nli_mismatch',\n",
       " 'huggingface:multi_para_crawl',\n",
       " 'huggingface:multi_re_qa',\n",
       " 'huggingface:multi_woz_v22',\n",
       " 'huggingface:multi_x_science_sum',\n",
       " 'huggingface:multidoc2dial',\n",
       " 'huggingface:multilingual_librispeech',\n",
       " 'huggingface:mutual_friends',\n",
       " 'huggingface:mwsc',\n",
       " 'huggingface:myanmar_news',\n",
       " 'huggingface:narrativeqa',\n",
       " 'huggingface:narrativeqa_manual',\n",
       " 'huggingface:natural_questions',\n",
       " 'huggingface:ncbi_disease',\n",
       " 'huggingface:nchlt',\n",
       " 'huggingface:ncslgr',\n",
       " 'huggingface:nell',\n",
       " 'huggingface:neural_code_search',\n",
       " 'huggingface:news_commentary',\n",
       " 'huggingface:newsgroup',\n",
       " 'huggingface:newsph',\n",
       " 'huggingface:newsph_nli',\n",
       " 'huggingface:newspop',\n",
       " 'huggingface:newsqa',\n",
       " 'huggingface:newsroom',\n",
       " 'huggingface:nkjp-ner',\n",
       " 'huggingface:nli_tr',\n",
       " 'huggingface:nlu_evaluation_data',\n",
       " 'huggingface:norec',\n",
       " 'huggingface:norne',\n",
       " 'huggingface:norwegian_ner',\n",
       " 'huggingface:nq_open',\n",
       " 'huggingface:nsmc',\n",
       " 'huggingface:numer_sense',\n",
       " 'huggingface:numeric_fused_head',\n",
       " 'huggingface:oclar',\n",
       " 'huggingface:offcombr',\n",
       " 'huggingface:offenseval2020_tr',\n",
       " 'huggingface:offenseval_dravidian',\n",
       " 'huggingface:ofis_publik',\n",
       " 'huggingface:ohsumed',\n",
       " 'huggingface:ollie',\n",
       " 'huggingface:omp',\n",
       " 'huggingface:onestop_english',\n",
       " 'huggingface:open_subtitles',\n",
       " 'huggingface:openai_humaneval',\n",
       " 'huggingface:openbookqa',\n",
       " 'huggingface:openslr',\n",
       " 'huggingface:openwebtext',\n",
       " 'huggingface:opinosis',\n",
       " 'huggingface:opus100',\n",
       " 'huggingface:opus_books',\n",
       " 'huggingface:opus_dgt',\n",
       " 'huggingface:opus_dogc',\n",
       " 'huggingface:opus_elhuyar',\n",
       " 'huggingface:opus_euconst',\n",
       " 'huggingface:opus_finlex',\n",
       " 'huggingface:opus_fiskmo',\n",
       " 'huggingface:opus_gnome',\n",
       " 'huggingface:opus_infopankki',\n",
       " 'huggingface:opus_memat',\n",
       " 'huggingface:opus_montenegrinsubs',\n",
       " 'huggingface:opus_openoffice',\n",
       " 'huggingface:opus_paracrawl',\n",
       " 'huggingface:opus_rf',\n",
       " 'huggingface:opus_tedtalks',\n",
       " 'huggingface:opus_ubuntu',\n",
       " 'huggingface:opus_wikipedia',\n",
       " 'huggingface:opus_xhosanavy',\n",
       " 'huggingface:orange_sum',\n",
       " 'huggingface:oscar',\n",
       " 'huggingface:para_crawl',\n",
       " 'huggingface:para_pat',\n",
       " 'huggingface:parsinlu_reading_comprehension',\n",
       " 'huggingface:paws',\n",
       " 'huggingface:paws-x',\n",
       " 'huggingface:pec',\n",
       " 'huggingface:peer_read',\n",
       " 'huggingface:peoples_daily_ner',\n",
       " 'huggingface:per_sent',\n",
       " 'huggingface:persian_ner',\n",
       " 'huggingface:pg19',\n",
       " 'huggingface:php',\n",
       " 'huggingface:piaf',\n",
       " 'huggingface:pib',\n",
       " 'huggingface:piqa',\n",
       " 'huggingface:pn_summary',\n",
       " 'huggingface:poem_sentiment',\n",
       " 'huggingface:polemo2',\n",
       " 'huggingface:poleval2019_cyberbullying',\n",
       " 'huggingface:poleval2019_mt',\n",
       " 'huggingface:polsum',\n",
       " 'huggingface:polyglot_ner',\n",
       " 'huggingface:prachathai67k',\n",
       " 'huggingface:pragmeval',\n",
       " 'huggingface:proto_qa',\n",
       " 'huggingface:psc',\n",
       " 'huggingface:ptb_text_only',\n",
       " 'huggingface:pubmed',\n",
       " 'huggingface:pubmed_qa',\n",
       " 'huggingface:py_ast',\n",
       " 'huggingface:qa4mre',\n",
       " 'huggingface:qa_srl',\n",
       " 'huggingface:qa_zre',\n",
       " 'huggingface:qangaroo',\n",
       " 'huggingface:qanta',\n",
       " 'huggingface:qasc',\n",
       " 'huggingface:qasper',\n",
       " 'huggingface:qed',\n",
       " 'huggingface:qed_amara',\n",
       " 'huggingface:quac',\n",
       " 'huggingface:quail',\n",
       " 'huggingface:quarel',\n",
       " 'huggingface:quartz',\n",
       " 'huggingface:quora',\n",
       " 'huggingface:quoref',\n",
       " 'huggingface:race',\n",
       " 'huggingface:re_dial',\n",
       " 'huggingface:reasoning_bg',\n",
       " 'huggingface:recipe_nlg',\n",
       " 'huggingface:reclor',\n",
       " 'huggingface:reddit',\n",
       " 'huggingface:reddit_tifu',\n",
       " 'huggingface:refresd',\n",
       " 'huggingface:reuters21578',\n",
       " 'huggingface:riddle_sense',\n",
       " 'huggingface:ro_sent',\n",
       " 'huggingface:ro_sts',\n",
       " 'huggingface:ro_sts_parallel',\n",
       " 'huggingface:roman_urdu',\n",
       " 'huggingface:ronec',\n",
       " 'huggingface:ropes',\n",
       " 'huggingface:rotten_tomatoes',\n",
       " 'huggingface:russian_super_glue',\n",
       " 'huggingface:s2orc',\n",
       " 'huggingface:samsum',\n",
       " 'huggingface:sanskrit_classic',\n",
       " 'huggingface:saudinewsnet',\n",
       " 'huggingface:sberquad',\n",
       " 'huggingface:scan',\n",
       " 'huggingface:scb_mt_enth_2020',\n",
       " 'huggingface:schema_guided_dstc8',\n",
       " 'huggingface:scicite',\n",
       " 'huggingface:scielo',\n",
       " 'huggingface:scientific_papers',\n",
       " 'huggingface:scifact',\n",
       " 'huggingface:sciq',\n",
       " 'huggingface:scitail',\n",
       " 'huggingface:scitldr',\n",
       " 'huggingface:search_qa',\n",
       " 'huggingface:sede',\n",
       " 'huggingface:selqa',\n",
       " 'huggingface:sem_eval_2010_task_8',\n",
       " 'huggingface:sem_eval_2014_task_1',\n",
       " 'huggingface:sem_eval_2018_task_1',\n",
       " 'huggingface:sem_eval_2020_task_11',\n",
       " 'huggingface:sent_comp',\n",
       " 'huggingface:senti_lex',\n",
       " 'huggingface:senti_ws',\n",
       " 'huggingface:sentiment140',\n",
       " 'huggingface:sepedi_ner',\n",
       " 'huggingface:sesotho_ner_corpus',\n",
       " 'huggingface:setimes',\n",
       " 'huggingface:setswana_ner_corpus',\n",
       " 'huggingface:sharc',\n",
       " 'huggingface:sharc_modified',\n",
       " 'huggingface:sick',\n",
       " 'huggingface:silicone',\n",
       " 'huggingface:simple_questions_v2',\n",
       " 'huggingface:siswati_ner_corpus',\n",
       " 'huggingface:smartdata',\n",
       " 'huggingface:sms_spam',\n",
       " 'huggingface:snips_built_in_intents',\n",
       " 'huggingface:snli',\n",
       " 'huggingface:snow_simplified_japanese_corpus',\n",
       " 'huggingface:so_stacksample',\n",
       " 'huggingface:social_bias_frames',\n",
       " 'huggingface:social_i_qa',\n",
       " 'huggingface:sofc_materials_articles',\n",
       " 'huggingface:sogou_news',\n",
       " 'huggingface:spanish_billion_words',\n",
       " 'huggingface:spc',\n",
       " 'huggingface:species_800',\n",
       " 'huggingface:speech_commands',\n",
       " 'huggingface:spider',\n",
       " 'huggingface:squad',\n",
       " 'huggingface:squad_adversarial',\n",
       " 'huggingface:squad_es',\n",
       " 'huggingface:squad_it',\n",
       " 'huggingface:squad_kor_v1',\n",
       " 'huggingface:squad_kor_v2',\n",
       " 'huggingface:squad_v1_pt',\n",
       " 'huggingface:squad_v2',\n",
       " 'huggingface:squadshifts',\n",
       " 'huggingface:srwac',\n",
       " 'huggingface:sst',\n",
       " 'huggingface:stereoset',\n",
       " 'huggingface:story_cloze',\n",
       " 'huggingface:stsb_mt_sv',\n",
       " 'huggingface:stsb_multi_mt',\n",
       " 'huggingface:style_change_detection',\n",
       " 'huggingface:subjqa',\n",
       " 'huggingface:super_glue',\n",
       " 'huggingface:superb',\n",
       " 'huggingface:swag',\n",
       " 'huggingface:swahili',\n",
       " 'huggingface:swahili_news',\n",
       " 'huggingface:swda',\n",
       " 'huggingface:swedish_medical_ner',\n",
       " 'huggingface:swedish_ner_corpus',\n",
       " 'huggingface:swedish_reviews',\n",
       " 'huggingface:swiss_judgment_prediction',\n",
       " 'huggingface:tab_fact',\n",
       " 'huggingface:tamilmixsentiment',\n",
       " 'huggingface:tanzil',\n",
       " 'huggingface:tapaco',\n",
       " 'huggingface:tashkeela',\n",
       " 'huggingface:taskmaster1',\n",
       " 'huggingface:taskmaster2',\n",
       " 'huggingface:taskmaster3',\n",
       " 'huggingface:tatoeba',\n",
       " 'huggingface:ted_hrlr',\n",
       " 'huggingface:ted_iwlst2013',\n",
       " 'huggingface:ted_multi',\n",
       " 'huggingface:ted_talks_iwslt',\n",
       " 'huggingface:telugu_books',\n",
       " 'huggingface:telugu_news',\n",
       " 'huggingface:tep_en_fa_para',\n",
       " 'huggingface:thai_toxicity_tweet',\n",
       " 'huggingface:thainer',\n",
       " 'huggingface:thaiqa_squad',\n",
       " 'huggingface:thaisum',\n",
       " 'huggingface:the_pile',\n",
       " 'huggingface:the_pile_books3',\n",
       " 'huggingface:the_pile_openwebtext2',\n",
       " 'huggingface:the_pile_stack_exchange',\n",
       " 'huggingface:tilde_model',\n",
       " 'huggingface:time_dial',\n",
       " 'huggingface:times_of_india_news_headlines',\n",
       " 'huggingface:timit_asr',\n",
       " 'huggingface:tiny_shakespeare',\n",
       " 'huggingface:tlc',\n",
       " 'huggingface:tmu_gfm_dataset',\n",
       " 'huggingface:totto',\n",
       " 'huggingface:trec',\n",
       " 'huggingface:trivia_qa',\n",
       " 'huggingface:tsac',\n",
       " 'huggingface:ttc4900',\n",
       " 'huggingface:tunizi',\n",
       " 'huggingface:tuple_ie',\n",
       " 'huggingface:turk',\n",
       " 'huggingface:turkish_movie_sentiment',\n",
       " 'huggingface:turkish_ner',\n",
       " 'huggingface:turkish_product_reviews',\n",
       " 'huggingface:turkish_shrinked_ner',\n",
       " 'huggingface:turku_ner_corpus',\n",
       " 'huggingface:tweet_eval',\n",
       " 'huggingface:tweet_qa',\n",
       " 'huggingface:tweets_ar_en_parallel',\n",
       " 'huggingface:tweets_hate_speech_detection',\n",
       " 'huggingface:twi_text_c3',\n",
       " 'huggingface:twi_wordsim353',\n",
       " 'huggingface:tydiqa',\n",
       " 'huggingface:ubuntu_dialogs_corpus',\n",
       " 'huggingface:udhr',\n",
       " 'huggingface:um005',\n",
       " 'huggingface:un_ga',\n",
       " 'huggingface:un_multi',\n",
       " 'huggingface:un_pc',\n",
       " 'huggingface:universal_dependencies',\n",
       " 'huggingface:universal_morphologies',\n",
       " 'huggingface:urdu_fake_news',\n",
       " 'huggingface:urdu_sentiment_corpus',\n",
       " 'huggingface:vivos',\n",
       " 'huggingface:web_nlg',\n",
       " 'huggingface:web_of_science',\n",
       " 'huggingface:web_questions',\n",
       " 'huggingface:weibo_ner',\n",
       " 'huggingface:wi_locness',\n",
       " 'huggingface:wiki40b',\n",
       " 'huggingface:wiki_asp',\n",
       " 'huggingface:wiki_atomic_edits',\n",
       " 'huggingface:wiki_auto',\n",
       " 'huggingface:wiki_bio',\n",
       " 'huggingface:wiki_dpr',\n",
       " 'huggingface:wiki_hop',\n",
       " 'huggingface:wiki_lingua',\n",
       " 'huggingface:wiki_movies',\n",
       " 'huggingface:wiki_qa',\n",
       " 'huggingface:wiki_qa_ar',\n",
       " 'huggingface:wiki_snippets',\n",
       " 'huggingface:wiki_source',\n",
       " 'huggingface:wiki_split',\n",
       " 'huggingface:wiki_summary',\n",
       " 'huggingface:wikiann',\n",
       " 'huggingface:wikicorpus',\n",
       " 'huggingface:wikihow',\n",
       " 'huggingface:wikipedia',\n",
       " 'huggingface:wikisql',\n",
       " 'huggingface:wikitext',\n",
       " 'huggingface:wikitext_tl39',\n",
       " 'huggingface:wili_2018',\n",
       " 'huggingface:wino_bias',\n",
       " 'huggingface:winograd_wsc',\n",
       " 'huggingface:winogrande',\n",
       " 'huggingface:wiqa',\n",
       " 'huggingface:wisesight1000',\n",
       " 'huggingface:wisesight_sentiment',\n",
       " 'huggingface:wmt14',\n",
       " 'huggingface:wmt15',\n",
       " 'huggingface:wmt16',\n",
       " 'huggingface:wmt17',\n",
       " 'huggingface:wmt18',\n",
       " 'huggingface:wmt19',\n",
       " 'huggingface:wmt20_mlqe_task1',\n",
       " 'huggingface:wmt20_mlqe_task2',\n",
       " 'huggingface:wmt20_mlqe_task3',\n",
       " 'huggingface:wmt_t2t',\n",
       " 'huggingface:wnut_17',\n",
       " 'huggingface:wongnai_reviews',\n",
       " 'huggingface:woz_dialogue',\n",
       " 'huggingface:wrbsc',\n",
       " 'huggingface:x_stance',\n",
       " 'huggingface:xcopa',\n",
       " 'huggingface:xcsr',\n",
       " 'huggingface:xed_en_fi',\n",
       " 'huggingface:xglue',\n",
       " 'huggingface:xnli',\n",
       " 'huggingface:xor_tydi_qa',\n",
       " 'huggingface:xquad',\n",
       " 'huggingface:xquad_r',\n",
       " 'huggingface:xsum',\n",
       " 'huggingface:xsum_factuality',\n",
       " 'huggingface:xtreme',\n",
       " 'huggingface:yahoo_answers_qa',\n",
       " 'huggingface:yahoo_answers_topics',\n",
       " 'huggingface:yelp_polarity',\n",
       " 'huggingface:yelp_review_full',\n",
       " 'huggingface:yoruba_bbc_topics',\n",
       " 'huggingface:yoruba_gv_ner',\n",
       " 'huggingface:yoruba_text_c3',\n",
       " 'huggingface:yoruba_wordsim353',\n",
       " 'huggingface:youtube_caption_corrections',\n",
       " ...]"
      ]
     },
     "execution_count": 3,
     "metadata": {},
     "output_type": "execute_result"
    }
   ],
   "source": [
    "import tensorflow_datasets as tfds\n",
    "tfds.list_builders()"
   ]
  },
  {
   "cell_type": "code",
   "execution_count": 43,
   "id": "4bd81d94",
   "metadata": {},
   "outputs": [],
   "source": [
    "# celeba_small 데이터 살펴보기\n",
    "celeba_small = np.load('./celeba_small.npz')\n",
    "x = celeba_small['train_images'][1]\n",
    "y = celeba_small['train_labels'][1]\n"
   ]
  },
  {
   "cell_type": "code",
   "execution_count": 44,
   "id": "b2e03a3b",
   "metadata": {},
   "outputs": [
    {
     "data": {
      "text/plain": [
       "((72, 59, 3), (2,))"
      ]
     },
     "execution_count": 44,
     "metadata": {},
     "output_type": "execute_result"
    }
   ],
   "source": [
    "x.shape, y.shape"
   ]
  },
  {
   "cell_type": "code",
   "execution_count": 45,
   "id": "c98b3cb7",
   "metadata": {},
   "outputs": [
    {
     "name": "stdout",
     "output_type": "stream",
     "text": [
      "[1 1]\n"
     ]
    },
    {
     "data": {
      "image/png": "[encoded data removed]",
      "text/plain": [
       "<Figure size 432x288 with 1 Axes>"
      ]
     },
     "metadata": {
      "needs_background": "light"
     },
     "output_type": "display_data"
    }
   ],
   "source": [
    "plt.imshow(x)\n",
    "print(y)"
   ]
  },
  {
   "cell_type": "code",
   "execution_count": 46,
   "id": "c74a91b6",
   "metadata": {},
   "outputs": [],
   "source": [
    "# 학습데이터 훈련 데이터 만들기\n",
    "\n",
    "train_images = celeba_small['train_images']\n",
    "train_labels = celeba_small['train_labels']\n",
    "test_images = celeba_small['test_images']\n",
    "test_labels = celeba_small['test_labels']"
   ]
  },
  {
   "cell_type": "code",
   "execution_count": 47,
   "id": "de8412b9",
   "metadata": {},
   "outputs": [
    {
     "name": "stdout",
     "output_type": "stream",
     "text": [
      "(2000, 72, 59, 3) (200, 72, 59, 3)\n"
     ]
    }
   ],
   "source": [
    "print(train_images.shape, test_images.shape)"
   ]
  },
  {
   "cell_type": "code",
   "execution_count": 48,
   "id": "5b79e688",
   "metadata": {},
   "outputs": [
    {
     "data": {
      "text/plain": [
       "array([0.02352941, 0.04313725, 0.05490196, 0.01960784, 0.03921569,\n",
       "       0.05490196, 0.01977401, 0.03921569, 0.05114656, 0.02352941])"
      ]
     },
     "execution_count": 48,
     "metadata": {},
     "output_type": "execute_result"
    }
   ],
   "source": [
    "# 이미지에서 0이 아닌 값을 출력\n",
    "\n",
    "train_images[train_images != 0][:10]"
   ]
  },
  {
   "cell_type": "code",
   "execution_count": 49,
   "id": "708a7902",
   "metadata": {},
   "outputs": [
    {
     "data": {
      "text/plain": [
       "dtype('float64')"
      ]
     },
     "execution_count": 49,
     "metadata": {},
     "output_type": "execute_result"
    }
   ],
   "source": [
    "train_images.dtype"
   ]
  },
  {
   "cell_type": "code",
   "execution_count": 50,
   "id": "b84152f7",
   "metadata": {},
   "outputs": [
    {
     "name": "stdout",
     "output_type": "stream",
     "text": [
      "(2000, 72, 59, 3) (200, 72, 59, 3)\n",
      "float64 float64\n",
      "[0.02352941 0.04313725 0.05490196 0.01960784 0.03921569 0.05490196\n",
      " 0.01977401 0.03921569 0.05114656 0.02352941]\n",
      "[1 1 1 1 1 1 1 1 1 1]\n"
     ]
    }
   ],
   "source": [
    "# 이미지 데이터 범위 확인\n",
    "print(train_images.shape, test_images.shape)\n",
    "print(train_images.dtype, test_images.dtype)\n",
    "\n",
    "print(train_images[train_images != 0][:10])\n",
    "print(train_labels[train_labels != 0][:10])"
   ]
  },
  {
   "cell_type": "code",
   "execution_count": 51,
   "id": "1af448f9",
   "metadata": {},
   "outputs": [
    {
     "name": "stdout",
     "output_type": "stream",
     "text": [
      "0 1\n"
     ]
    }
   ],
   "source": [
    "print(train_labels.min(), train_labels.max())"
   ]
  },
  {
   "cell_type": "code",
   "execution_count": 52,
   "id": "70dd592e",
   "metadata": {},
   "outputs": [
    {
     "name": "stdout",
     "output_type": "stream",
     "text": [
      "0.0 1.0\n"
     ]
    }
   ],
   "source": [
    "print(train_images.min(), train_images.max())"
   ]
  },
  {
   "cell_type": "code",
   "execution_count": 53,
   "id": "71a43f4a",
   "metadata": {},
   "outputs": [
    {
     "name": "stdout",
     "output_type": "stream",
     "text": [
      "(2000, 2)\n"
     ]
    }
   ],
   "source": [
    "print(train_labels.shape)"
   ]
  },
  {
   "cell_type": "code",
   "execution_count": 54,
   "id": "b95cfc9a",
   "metadata": {},
   "outputs": [
    {
     "data": {
      "text/plain": [
       "array([[0, 0],\n",
       "       [1, 1],\n",
       "       [1, 0],\n",
       "       ...,\n",
       "       [0, 1],\n",
       "       [0, 1],\n",
       "       [0, 1]], dtype=int8)"
      ]
     },
     "execution_count": 54,
     "metadata": {},
     "output_type": "execute_result"
    }
   ],
   "source": [
    "train_labels  # ska"
   ]
  },
  {
   "cell_type": "code",
   "execution_count": 55,
   "id": "4605f32d",
   "metadata": {},
   "outputs": [],
   "source": [
    "#성별 (남,여), 웃(웃음, 안웃음)\n",
    "\n",
    "from tensorflow.keras.utils import to_categorical\n",
    "train_male_labels , train_smile_labels = np.split(train_labels,2,axis = 1)\n",
    "test_male_labels,test_smile_labels = np.split(test_labels, 2, axis = 1)"
   ]
  },
  {
   "cell_type": "code",
   "execution_count": 56,
   "id": "1c48a7bc",
   "metadata": {},
   "outputs": [
    {
     "name": "stdout",
     "output_type": "stream",
     "text": [
      "(2000, 1)\n"
     ]
    },
    {
     "data": {
      "text/plain": [
       "<function print>"
      ]
     },
     "execution_count": 56,
     "metadata": {},
     "output_type": "execute_result"
    }
   ],
   "source": [
    "print(train_male_labels.shape)\n",
    "print"
   ]
  },
  {
   "cell_type": "code",
   "execution_count": 57,
   "id": "84e642dd",
   "metadata": {},
   "outputs": [],
   "source": [
    "train_male_labels = to_categorical(train_male_labels)\n",
    "train_smile_labels = to_categorical(train_smile_labels)\n",
    "\n",
    "test_male_labels = to_categorical(test_male_labels)\n",
    "test_smile_labels = to_categorical(test_smile_labels)"
   ]
  },
  {
   "cell_type": "code",
   "execution_count": 59,
   "id": "53d0a8eb",
   "metadata": {},
   "outputs": [
    {
     "data": {
      "text/plain": [
       "array([[1., 0.],\n",
       "       [0., 1.],\n",
       "       [0., 1.],\n",
       "       ...,\n",
       "       [1., 0.],\n",
       "       [1., 0.],\n",
       "       [1., 0.]], dtype=float32)"
      ]
     },
     "execution_count": 59,
     "metadata": {},
     "output_type": "execute_result"
    }
   ],
   "source": [
    "train_male_labels"
   ]
  },
  {
   "cell_type": "code",
   "execution_count": 58,
   "id": "5a53aba2",
   "metadata": {},
   "outputs": [
    {
     "name": "stdout",
     "output_type": "stream",
     "text": [
      "(2000, 2)\n",
      "(2000, 2)\n",
      "(200, 2)\n",
      "(200, 2)\n"
     ]
    }
   ],
   "source": [
    "print(train_male_labels.shape)\n",
    "print(train_smile_labels.shape)\n",
    "print(test_male_labels.shape)\n",
    "print(test_smile_labels.shape)"
   ]
  },
  {
   "cell_type": "code",
   "execution_count": 60,
   "id": "6e990fd2",
   "metadata": {},
   "outputs": [],
   "source": [
    "train_labels2 = np.concatenate([train_male_labels, train_smile_labels], axis = 1)"
   ]
  },
  {
   "cell_type": "code",
   "execution_count": 61,
   "id": "96b57086",
   "metadata": {},
   "outputs": [
    {
     "data": {
      "text/plain": [
       "array([[1., 0., 1., 0.],\n",
       "       [0., 1., 0., 1.],\n",
       "       [0., 1., 1., 0.],\n",
       "       ...,\n",
       "       [1., 0., 0., 1.],\n",
       "       [1., 0., 0., 1.],\n",
       "       [1., 0., 0., 1.]], dtype=float32)"
      ]
     },
     "execution_count": 61,
     "metadata": {},
     "output_type": "execute_result"
    }
   ],
   "source": [
    "train_labels2   # 남성여부, 웃음여부"
   ]
  },
  {
   "cell_type": "code",
   "execution_count": 63,
   "id": "f72e9a2d",
   "metadata": {},
   "outputs": [],
   "source": [
    "test_labels2 = np.concatenate([test_male_labels, test_smile_labels], axis = 1)"
   ]
  },
  {
   "cell_type": "code",
   "execution_count": 64,
   "id": "3d811759",
   "metadata": {},
   "outputs": [
    {
     "name": "stdout",
     "output_type": "stream",
     "text": [
      "(2000, 4) (200, 4)\n"
     ]
    }
   ],
   "source": [
    "print(train_labels2.shape, test_labels2.shape)"
   ]
  },
  {
   "cell_type": "markdown",
   "id": "46bd42f6",
   "metadata": {},
   "source": [
    "# 시각화\n"
   ]
  },
  {
   "cell_type": "code",
   "execution_count": 71,
   "id": "f00a29b6",
   "metadata": {},
   "outputs": [
    {
     "data": {
      "text/plain": [
       "(5, 72, 59, 3)"
      ]
     },
     "execution_count": 71,
     "metadata": {},
     "output_type": "execute_result"
    }
   ],
   "source": [
    "train_images[:5].shape"
   ]
  },
  {
   "cell_type": "code",
   "execution_count": 73,
   "id": "23e1774f",
   "metadata": {},
   "outputs": [
    {
     "data": {
      "text/plain": [
       "(72, 295, 3)"
      ]
     },
     "execution_count": 73,
     "metadata": {},
     "output_type": "execute_result"
    }
   ],
   "source": [
    "np.hstack(train_images[:5]).shape\n"
   ]
  },
  {
   "cell_type": "code",
   "execution_count": 69,
   "id": "794c7939",
   "metadata": {},
   "outputs": [
    {
     "name": "stdout",
     "output_type": "stream",
     "text": [
      "[[1. 0. 1. 0.]\n",
      " [0. 1. 0. 1.]\n",
      " [0. 1. 1. 0.]\n",
      " [0. 1. 0. 1.]\n",
      " [0. 1. 0. 1.]]\n"
     ]
    },
    {
     "data": {
      "image/png": "[encoded data removed]",
      "text/plain": [
       "<Figure size 432x288 with 1 Axes>"
      ]
     },
     "metadata": {
      "needs_background": "light"
     },
     "output_type": "display_data"
    }
   ],
   "source": [
    "plt.imshow(np.hstack(train_images[:5]))\n",
    "plt.show\n",
    "print(train_labels2[:5])"
   ]
  },
  {
   "cell_type": "code",
   "execution_count": 82,
   "id": "bd3e46d7",
   "metadata": {},
   "outputs": [
    {
     "data": {
      "text/plain": [
       "<matplotlib.image.AxesImage at 0x7fb6e1917ed0>"
      ]
     },
     "execution_count": 82,
     "metadata": {},
     "output_type": "execute_result"
    },
    {
     "data": {
      "image/png": "[encoded data removed]",
      "text/plain": [
       "<Figure size 432x288 with 1 Axes>"
      ]
     },
     "metadata": {
      "needs_background": "light"
     },
     "output_type": "display_data"
    }
   ],
   "source": [
    "# transpose 사용해서 출력하기\n",
    "\n",
    "plt.imshow(train_images[:5].transpose((0,1,2,3)).reshape((72,-1,3)))"
   ]
  },
  {
   "cell_type": "code",
   "execution_count": 74,
   "id": "21282482",
   "metadata": {},
   "outputs": [
    {
     "data": {
      "text/plain": [
       "<matplotlib.image.AxesImage at 0x7fb6c77e8cd0>"
      ]
     },
     "execution_count": 74,
     "metadata": {},
     "output_type": "execute_result"
    },
    {
     "data": {
      "image/png": "[encoded data removed]",
      "text/plain": [
       "<Figure size 432x288 with 1 Axes>"
      ]
     },
     "metadata": {
      "needs_background": "light"
     },
     "output_type": "display_data"
    }
   ],
   "source": [
    "# transpose 사용해서 출력하기\n",
    "\n",
    "plt.imshow(train_images[:5].transpose((1,0,2,3)).reshape((72,-1,3)))"
   ]
  },
  {
   "cell_type": "code",
   "execution_count": 84,
   "id": "76984c47",
   "metadata": {},
   "outputs": [
    {
     "name": "stdout",
     "output_type": "stream",
     "text": [
      "(array([1., 0.], dtype=float32), array([1., 0.], dtype=float32))\n",
      "(array([0., 1.], dtype=float32), array([0., 1.], dtype=float32))\n",
      "(array([0., 1.], dtype=float32), array([1., 0.], dtype=float32))\n",
      "(array([0., 1.], dtype=float32), array([0., 1.], dtype=float32))\n",
      "(array([0., 1.], dtype=float32), array([0., 1.], dtype=float32))\n"
     ]
    }
   ],
   "source": [
    "for i, label in enumerate(zip(train_male_labels, train_smile_labels)):\n",
    "    if i == 5:\n",
    "        break\n",
    "    print(label)"
   ]
  },
  {
   "cell_type": "code",
   "execution_count": 85,
   "id": "d2ddf623",
   "metadata": {},
   "outputs": [
    {
     "name": "stdout",
     "output_type": "stream",
     "text": [
      "gender  smile\n",
      "0       0        499\n",
      "        1        507\n",
      "1       0        504\n",
      "        1        490\n",
      "dtype: int64\n",
      "AxesSubplot(0.125,0.125;0.775x0.755)\n"
     ]
    },
    {
     "data": {
      "image/png": "[encoded data removed]",
      "text/plain": [
       "<Figure size 432x288 with 1 Axes>"
      ]
     },
     "metadata": {
      "needs_background": "light"
     },
     "output_type": "display_data"
    }
   ],
   "source": [
    "# smile male 각각 몇개 있는지\n",
    "df = pd.DataFrame(train_labels, columns = ['gender','smile'])\n",
    "print(df.groupby(['gender','smile']).size())\n",
    "print(df.groupby(['gender','smile']).size().unstack().plot(kind ='bar', stacked = True))"
   ]
  },
  {
   "cell_type": "markdown",
   "id": "4015132b",
   "metadata": {},
   "source": [
    "# 모델링"
   ]
  },
  {
   "cell_type": "code",
   "execution_count": 88,
   "id": "59f0b4a4",
   "metadata": {},
   "outputs": [],
   "source": [
    "from tensorflow.keras.models import Model\n",
    "from tensorflow.keras.layers import Conv2D, MaxPool2D, Input, Flatten, Dense"
   ]
  },
  {
   "cell_type": "code",
   "execution_count": 91,
   "id": "db0a7ccf",
   "metadata": {},
   "outputs": [],
   "source": [
    "def simple_model():\n",
    "    inputs = Input((72,59,3))\n",
    "    \n",
    "    x = Conv2D(64,3,activation = 'relu')(inputs)\n",
    "    x = MaxPool2D(2)(x)\n",
    "    x = Conv2D(32,3,activation = 'relu')(x)\n",
    "    x = MaxPool2D(2)(x)\n",
    "    x = Conv2D(32,3,activation = 'relu')(x)\n",
    "    x = MaxPool2D(2)(x)\n",
    "    \n",
    "    x = Flatten()(x)\n",
    "    x = Dense(32,activation = 'relu')(x)\n",
    "    \n",
    "    outputs = Dense(2,activation = 'softmax')(x)\n",
    "    model = Model(inputs,outputs)\n",
    "    \n",
    "    return model"
   ]
  },
  {
   "cell_type": "code",
   "execution_count": 92,
   "id": "9860ccc8",
   "metadata": {},
   "outputs": [
    {
     "name": "stdout",
     "output_type": "stream",
     "text": [
      "Model: \"model\"\n",
      "_________________________________________________________________\n",
      "Layer (type)                 Output Shape              Param #   \n",
      "=================================================================\n",
      "input_2 (InputLayer)         [(None, 72, 59, 3)]       0         \n",
      "_________________________________________________________________\n",
      "conv2d_2 (Conv2D)            (None, 70, 57, 64)        1792      \n",
      "_________________________________________________________________\n",
      "max_pooling2d_2 (MaxPooling2 (None, 35, 28, 64)        0         \n",
      "_________________________________________________________________\n",
      "conv2d_3 (Conv2D)            (None, 33, 26, 32)        18464     \n",
      "_________________________________________________________________\n",
      "max_pooling2d_3 (MaxPooling2 (None, 16, 13, 32)        0         \n",
      "_________________________________________________________________\n",
      "conv2d_4 (Conv2D)            (None, 14, 11, 32)        9248      \n",
      "_________________________________________________________________\n",
      "max_pooling2d_4 (MaxPooling2 (None, 7, 5, 32)          0         \n",
      "_________________________________________________________________\n",
      "flatten (Flatten)            (None, 1120)              0         \n",
      "_________________________________________________________________\n",
      "dense (Dense)                (None, 32)                35872     \n",
      "_________________________________________________________________\n",
      "dense_1 (Dense)              (None, 2)                 66        \n",
      "=================================================================\n",
      "Total params: 65,442\n",
      "Trainable params: 65,442\n",
      "Non-trainable params: 0\n",
      "_________________________________________________________________\n"
     ]
    }
   ],
   "source": [
    "# 2개의 모델을 할당받고 summary 해보기\n",
    "gender_model = simple_model()\n",
    "smile_model = simple_model()\n",
    "\n",
    "gender_model.summary()"
   ]
  },
  {
   "cell_type": "code",
   "execution_count": 93,
   "id": "edd6224b",
   "metadata": {},
   "outputs": [],
   "source": [
    "# 모델 설정\n",
    "gender_model.compile(loss= 'categorical_crossentropy', optimizer = 'adam', metrics = ['acc'])"
   ]
  },
  {
   "cell_type": "code",
   "execution_count": 94,
   "id": "c32db1f6",
   "metadata": {},
   "outputs": [],
   "source": [
    "smile_model.compile(loss = 'categorical_crossentropy', optimizer = 'adam', metrics = ['acc'])"
   ]
  },
  {
   "cell_type": "code",
   "execution_count": 97,
   "id": "3a340de3",
   "metadata": {},
   "outputs": [
    {
     "name": "stdout",
     "output_type": "stream",
     "text": [
      "Train on 2000 samples, validate on 200 samples\n",
      "Epoch 1/15\n",
      "2000/2000 [==============================] - 28s 14ms/sample - loss: 0.6191 - acc: 0.6795 - val_loss: 0.5750 - val_acc: 0.7400\n",
      "Epoch 2/15\n",
      "2000/2000 [==============================] - 27s 14ms/sample - loss: 0.5056 - acc: 0.7555 - val_loss: 0.5495 - val_acc: 0.7550\n",
      "Epoch 3/15\n",
      "2000/2000 [==============================] - 27s 14ms/sample - loss: 0.4383 - acc: 0.8020 - val_loss: 0.4664 - val_acc: 0.8150\n",
      "Epoch 4/15\n",
      "2000/2000 [==============================] - 27s 14ms/sample - loss: 0.3830 - acc: 0.8255 - val_loss: 0.3954 - val_acc: 0.8500\n",
      "Epoch 5/15\n",
      "2000/2000 [==============================] - 28s 14ms/sample - loss: 0.2758 - acc: 0.8810 - val_loss: 0.3154 - val_acc: 0.9000\n",
      "Epoch 6/15\n",
      "2000/2000 [==============================] - 29s 14ms/sample - loss: 0.2224 - acc: 0.9025 - val_loss: 0.2721 - val_acc: 0.9200\n",
      "Epoch 7/15\n",
      "2000/2000 [==============================] - 29s 14ms/sample - loss: 0.1810 - acc: 0.9285 - val_loss: 0.2695 - val_acc: 0.9150\n",
      "Epoch 8/15\n",
      "2000/2000 [==============================] - 29s 15ms/sample - loss: 0.1497 - acc: 0.9455 - val_loss: 0.2391 - val_acc: 0.9150\n",
      "Epoch 9/15\n",
      "2000/2000 [==============================] - 29s 15ms/sample - loss: 0.1396 - acc: 0.9470 - val_loss: 0.2346 - val_acc: 0.9000\n",
      "Epoch 10/15\n",
      "2000/2000 [==============================] - 29s 15ms/sample - loss: 0.0996 - acc: 0.9675 - val_loss: 0.2159 - val_acc: 0.9150\n",
      "Epoch 11/15\n",
      "2000/2000 [==============================] - 30s 15ms/sample - loss: 0.0752 - acc: 0.9740 - val_loss: 0.2283 - val_acc: 0.9200\n",
      "Epoch 12/15\n",
      "2000/2000 [==============================] - 30s 15ms/sample - loss: 0.0727 - acc: 0.9750 - val_loss: 0.2490 - val_acc: 0.9200\n",
      "Epoch 13/15\n",
      "2000/2000 [==============================] - 30s 15ms/sample - loss: 0.0586 - acc: 0.9815 - val_loss: 0.2731 - val_acc: 0.9300\n",
      "Epoch 14/15\n",
      "2000/2000 [==============================] - 30s 15ms/sample - loss: 0.0437 - acc: 0.9860 - val_loss: 0.2602 - val_acc: 0.9100\n",
      "Epoch 15/15\n",
      "2000/2000 [==============================] - 30s 15ms/sample - loss: 0.0350 - acc: 0.9900 - val_loss: 0.2656 - val_acc: 0.9300\n"
     ]
    }
   ],
   "source": [
    "# 만든 모델에 train_images 학습\n",
    "\n",
    "gender_hist = gender_model.fit(train_images, train_male_labels,\n",
    "               validation_data = (test_images,test_male_labels), epochs = 15, verbose\n",
    "                               = 1)"
   ]
  },
  {
   "cell_type": "code",
   "execution_count": 98,
   "id": "da267174",
   "metadata": {
    "scrolled": true
   },
   "outputs": [
    {
     "name": "stdout",
     "output_type": "stream",
     "text": [
      "Train on 2000 samples, validate on 200 samples\n",
      "Epoch 1/15\n",
      "2000/2000 [==============================] - 31s 15ms/sample - loss: 0.6927 - acc: 0.5395 - val_loss: 0.6892 - val_acc: 0.5900\n",
      "Epoch 2/15\n",
      "2000/2000 [==============================] - 30s 15ms/sample - loss: 0.6853 - acc: 0.5470 - val_loss: 0.6759 - val_acc: 0.5800\n",
      "Epoch 3/15\n",
      "2000/2000 [==============================] - 30s 15ms/sample - loss: 0.6384 - acc: 0.6445 - val_loss: 0.6085 - val_acc: 0.6750\n",
      "Epoch 4/15\n",
      "2000/2000 [==============================] - 30s 15ms/sample - loss: 0.5275 - acc: 0.7435 - val_loss: 0.4461 - val_acc: 0.7850\n",
      "Epoch 5/15\n",
      "2000/2000 [==============================] - 30s 15ms/sample - loss: 0.3893 - acc: 0.8355 - val_loss: 0.3247 - val_acc: 0.8600\n",
      "Epoch 6/15\n",
      "2000/2000 [==============================] - 31s 15ms/sample - loss: 0.3309 - acc: 0.8620 - val_loss: 0.2984 - val_acc: 0.8850\n",
      "Epoch 7/15\n",
      "2000/2000 [==============================] - 31s 15ms/sample - loss: 0.2936 - acc: 0.8775 - val_loss: 0.2976 - val_acc: 0.8950\n",
      "Epoch 8/15\n",
      "2000/2000 [==============================] - 31s 15ms/sample - loss: 0.2558 - acc: 0.8975 - val_loss: 0.2765 - val_acc: 0.9000\n",
      "Epoch 9/15\n",
      "2000/2000 [==============================] - 30s 15ms/sample - loss: 0.2681 - acc: 0.8915 - val_loss: 0.2715 - val_acc: 0.8700\n",
      "Epoch 10/15\n",
      "2000/2000 [==============================] - 30s 15ms/sample - loss: 0.2238 - acc: 0.9075 - val_loss: 0.2690 - val_acc: 0.8950\n",
      "Epoch 11/15\n",
      "2000/2000 [==============================] - 31s 15ms/sample - loss: 0.1956 - acc: 0.9180 - val_loss: 0.2632 - val_acc: 0.8900\n",
      "Epoch 12/15\n",
      "2000/2000 [==============================] - 31s 15ms/sample - loss: 0.1868 - acc: 0.9225 - val_loss: 0.3225 - val_acc: 0.8600\n",
      "Epoch 13/15\n",
      "2000/2000 [==============================] - 30s 15ms/sample - loss: 0.1817 - acc: 0.9260 - val_loss: 0.2577 - val_acc: 0.9050\n",
      "Epoch 14/15\n",
      "2000/2000 [==============================] - 31s 15ms/sample - loss: 0.1471 - acc: 0.9440 - val_loss: 0.2546 - val_acc: 0.8950\n",
      "Epoch 15/15\n",
      "2000/2000 [==============================] - 31s 15ms/sample - loss: 0.1261 - acc: 0.9530 - val_loss: 0.2927 - val_acc: 0.9100\n"
     ]
    }
   ],
   "source": [
    "smile_hist = smile_model.fit(train_images,train_smile_labels,\n",
    "                            validation_data = (test_images,test_smile_labels),epochs = 15, verbose = 1)"
   ]
  },
  {
   "cell_type": "code",
   "execution_count": 101,
   "id": "031ca7fc",
   "metadata": {},
   "outputs": [
    {
     "data": {
      "image/png": "[encoded data removed]",
      "text/plain": [
       "<Figure size 432x288 with 1 Axes>"
      ]
     },
     "metadata": {
      "needs_background": "light"
     },
     "output_type": "display_data"
    }
   ],
   "source": [
    "# 학습 진행 사항을 plt 로 출력하기\n",
    "\n",
    "plt.plot(gender_hist.history['acc'], label = 'gender_acc')\n",
    "plt.plot(gender_hist.history['loss'], label = 'gender_loss')\n",
    "plt.plot(gender_hist.history['val_acc'], label = 'gender_val_acc')\n",
    "plt.plot(gender_hist.history['val_loss'],label = 'gender_val_loss')\n",
    "\n",
    "plt.legend(loc = 'upper right')\n",
    "plt.show()"
   ]
  },
  {
   "cell_type": "code",
   "execution_count": 110,
   "id": "4bf26f93",
   "metadata": {},
   "outputs": [
    {
     "name": "stdout",
     "output_type": "stream",
     "text": [
      "성별 예측 : [[9.9995506e-01 4.4885768e-05]]\n",
      "정답: [[1. 0.]]\n",
      "[[0.97661793 0.02338202]]\n",
      "[[1. 0.]]\n"
     ]
    }
   ],
   "source": [
    "# 완성된 모델 테스트\n",
    "gender_res = gender_model.predict(test_images[1:2])\n",
    "smile_res = smile_model.predict(test_images[1:2])\n",
    "\n",
    "print(\"성별 예측 :\",gender_res)\n",
    "print(\"정답:\",test_male_labels[1:2])\n",
    "print(smile_res)\n",
    "print(test_smile_labels[1:2])"
   ]
  },
  {
   "cell_type": "markdown",
   "id": "2bed950a",
   "metadata": {},
   "source": [
    "# 멀티 아웃풋 모델링"
   ]
  },
  {
   "cell_type": "code",
   "execution_count": 111,
   "id": "63aa8aa2",
   "metadata": {},
   "outputs": [],
   "source": [
    "from tensorflow.keras.layers import Concatenate\n"
   ]
  },
  {
   "cell_type": "code",
   "execution_count": 114,
   "id": "94466614",
   "metadata": {},
   "outputs": [],
   "source": [
    "def multi_model1():\n",
    "    inputs = Input((72,59,3))\n",
    "    x = Conv2D(64,3,activation = 'relu')(inputs)\n",
    "    x = MaxPool2D(2)(x)\n",
    "    x = Conv2D(32,3,activation = 'relu')(x)\n",
    "    x = MaxPool2D(2)(x)\n",
    "    x = Conv2D(32,3,activation = 'relu')(x)\n",
    "    x = MaxPool2D(2)(x)\n",
    "    \n",
    "    x = Flatten()(x)\n",
    "    x = Dense(32,activation = 'relu')(x)\n",
    "    \n",
    "    gender_outputs = Dense(2,activation = 'softmax')(x)\n",
    "    smile_outputs = Dense(2,activation = 'softmax')(x)\n",
    "    \n",
    "    outputs = Concatenate(axis = 1)([smile_outputs, gender_outputs])\n",
    "    model = Model(inputs, outputs)\n",
    "    #Model(inputs, [gender_outputs, smile_outputs])\n",
    "    return model"
   ]
  },
  {
   "cell_type": "code",
   "execution_count": 115,
   "id": "3a9a8654",
   "metadata": {},
   "outputs": [
    {
     "name": "stdout",
     "output_type": "stream",
     "text": [
      "Model: \"model_2\"\n",
      "__________________________________________________________________________________________________\n",
      "Layer (type)                    Output Shape         Param #     Connected to                     \n",
      "==================================================================================================\n",
      "input_5 (InputLayer)            [(None, 72, 59, 3)]  0                                            \n",
      "__________________________________________________________________________________________________\n",
      "conv2d_10 (Conv2D)              (None, 70, 57, 64)   1792        input_5[0][0]                    \n",
      "__________________________________________________________________________________________________\n",
      "max_pooling2d_10 (MaxPooling2D) (None, 35, 28, 64)   0           conv2d_10[0][0]                  \n",
      "__________________________________________________________________________________________________\n",
      "conv2d_11 (Conv2D)              (None, 33, 26, 32)   18464       max_pooling2d_10[0][0]           \n",
      "__________________________________________________________________________________________________\n",
      "max_pooling2d_11 (MaxPooling2D) (None, 16, 13, 32)   0           conv2d_11[0][0]                  \n",
      "__________________________________________________________________________________________________\n",
      "conv2d_12 (Conv2D)              (None, 14, 11, 32)   9248        max_pooling2d_11[0][0]           \n",
      "__________________________________________________________________________________________________\n",
      "max_pooling2d_12 (MaxPooling2D) (None, 7, 5, 32)     0           conv2d_12[0][0]                  \n",
      "__________________________________________________________________________________________________\n",
      "flatten_2 (Flatten)             (None, 1120)         0           max_pooling2d_12[0][0]           \n",
      "__________________________________________________________________________________________________\n",
      "dense_4 (Dense)                 (None, 32)           35872       flatten_2[0][0]                  \n",
      "__________________________________________________________________________________________________\n",
      "dense_6 (Dense)                 (None, 2)            66          dense_4[0][0]                    \n",
      "__________________________________________________________________________________________________\n",
      "dense_5 (Dense)                 (None, 2)            66          dense_4[0][0]                    \n",
      "__________________________________________________________________________________________________\n",
      "concatenate (Concatenate)       (None, 4)            0           dense_6[0][0]                    \n",
      "                                                                 dense_5[0][0]                    \n",
      "==================================================================================================\n",
      "Total params: 65,508\n",
      "Trainable params: 65,508\n",
      "Non-trainable params: 0\n",
      "__________________________________________________________________________________________________\n"
     ]
    }
   ],
   "source": [
    "model = multi_model1()\n",
    "model.summary()"
   ]
  },
  {
   "cell_type": "code",
   "execution_count": 116,
   "id": "946c9356",
   "metadata": {},
   "outputs": [],
   "source": [
    "model.compile(loss = 'categorical_crossentropy', optimizer = 'adam', metrics =['acc'])"
   ]
  },
  {
   "cell_type": "code",
   "execution_count": 117,
   "id": "a53bbd55",
   "metadata": {
    "collapsed": true
   },
   "outputs": [
    {
     "name": "stdout",
     "output_type": "stream",
     "text": [
      "Train on 2000 samples, validate on 200 samples\n",
      "Epoch 1/15\n",
      "2000/2000 [==============================] - 28s 14ms/sample - loss: 2.7138 - acc: 0.4840 - val_loss: 2.6352 - val_acc: 0.6100\n",
      "Epoch 2/15\n",
      "2000/2000 [==============================] - 27s 14ms/sample - loss: 2.5701 - acc: 0.6620 - val_loss: 2.5795 - val_acc: 0.6950\n",
      "Epoch 3/15\n",
      "2000/2000 [==============================] - 28s 14ms/sample - loss: 2.4480 - acc: 0.6760 - val_loss: 2.4037 - val_acc: 0.6400\n",
      "Epoch 4/15\n",
      "2000/2000 [==============================] - 29s 14ms/sample - loss: 2.3037 - acc: 0.6880 - val_loss: 2.2361 - val_acc: 0.6600\n",
      "Epoch 5/15\n",
      "2000/2000 [==============================] - 30s 15ms/sample - loss: 2.0603 - acc: 0.6760 - val_loss: 2.1661 - val_acc: 0.6200\n",
      "Epoch 6/15\n",
      "2000/2000 [==============================] - 30s 15ms/sample - loss: 1.9414 - acc: 0.6590 - val_loss: 2.0839 - val_acc: 0.5950\n",
      "Epoch 7/15\n",
      "2000/2000 [==============================] - 30s 15ms/sample - loss: 1.8573 - acc: 0.6325 - val_loss: 2.0389 - val_acc: 0.5500\n",
      "Epoch 8/15\n",
      "2000/2000 [==============================] - 30s 15ms/sample - loss: 1.7896 - acc: 0.6515 - val_loss: 2.0393 - val_acc: 0.5850\n",
      "Epoch 9/15\n",
      "2000/2000 [==============================] - 31s 15ms/sample - loss: 1.7806 - acc: 0.6595 - val_loss: 2.0407 - val_acc: 0.5950\n",
      "Epoch 10/15\n",
      "2000/2000 [==============================] - 30s 15ms/sample - loss: 1.7161 - acc: 0.6540 - val_loss: 1.9818 - val_acc: 0.5750\n",
      "Epoch 11/15\n",
      "2000/2000 [==============================] - 31s 15ms/sample - loss: 1.6885 - acc: 0.6685 - val_loss: 2.2367 - val_acc: 0.6000\n",
      "Epoch 12/15\n",
      "2000/2000 [==============================] - 31s 15ms/sample - loss: 1.6883 - acc: 0.6570 - val_loss: 2.0730 - val_acc: 0.5900\n",
      "Epoch 13/15\n",
      "2000/2000 [==============================] - 31s 15ms/sample - loss: 1.6336 - acc: 0.6900 - val_loss: 2.0738 - val_acc: 0.6150\n",
      "Epoch 14/15\n",
      "2000/2000 [==============================] - 31s 15ms/sample - loss: 1.6120 - acc: 0.6740 - val_loss: 2.0744 - val_acc: 0.6250\n",
      "Epoch 15/15\n",
      "2000/2000 [==============================] - 31s 15ms/sample - loss: 1.5496 - acc: 0.6960 - val_loss: 2.0958 - val_acc: 0.5750\n"
     ]
    }
   ],
   "source": [
    "# 학습\n",
    "hist = model.fit(train_images, train_labels2, validation_data = (test_images, test_labels2),epochs = 15, verbose = 1)"
   ]
  },
  {
   "cell_type": "code",
   "execution_count": 120,
   "id": "96db0476",
   "metadata": {},
   "outputs": [
    {
     "data": {
      "image/png": "[encoded data removed]",
      "text/plain": [
       "<Figure size 432x288 with 1 Axes>"
      ]
     },
     "metadata": {
      "needs_background": "light"
     },
     "output_type": "display_data"
    }
   ],
   "source": [
    "# 학습 결과 그래프로 나타내기\n",
    "plt.plot(hist.history['acc'],label = 'acc')\n",
    "plt.plot(hist.history['loss'], label = 'loss')\n",
    "plt.plot(hist.history['val_acc'],label = 'val_acc')\n",
    "plt.plot(hist.history['val_loss'],label = 'val_loss')\n",
    "plt.legend(loc = 'upper right')\n",
    "plt.show()"
   ]
  },
  {
   "cell_type": "code",
   "execution_count": 121,
   "id": "65227a3f",
   "metadata": {},
   "outputs": [
    {
     "data": {
      "text/plain": [
       "<matplotlib.image.AxesImage at 0x7fb688611850>"
      ]
     },
     "execution_count": 121,
     "metadata": {},
     "output_type": "execute_result"
    },
    {
     "data": {
      "image/png": "[encoded data removed]",
      "text/plain": [
       "<Figure size 432x288 with 1 Axes>"
      ]
     },
     "metadata": {
      "needs_background": "light"
     },
     "output_type": "display_data"
    }
   ],
   "source": [
    "plt.imshow(test_images[1])"
   ]
  },
  {
   "cell_type": "code",
   "execution_count": 123,
   "id": "9777f527",
   "metadata": {},
   "outputs": [
    {
     "data": {
      "text/plain": [
       "array([0., 1., 0., 1.], dtype=float32)"
      ]
     },
     "execution_count": 123,
     "metadata": {},
     "output_type": "execute_result"
    }
   ],
   "source": [
    "train_labels2[1]  # 남, 여 , 웃, 안웃"
   ]
  },
  {
   "cell_type": "code",
   "execution_count": 132,
   "id": "9bad6c72",
   "metadata": {},
   "outputs": [
    {
     "name": "stdout",
     "output_type": "stream",
     "text": [
      "0.9995714\n"
     ]
    }
   ],
   "source": [
    "res =model.predict(test_images[1:2])\n",
    "\n",
    "print(res[0][0])"
   ]
  },
  {
   "cell_type": "code",
   "execution_count": 136,
   "id": "6e93588c",
   "metadata": {},
   "outputs": [
    {
     "data": {
      "image/png": "[encoded data removed]",
      "text/plain": [
       "<Figure size 432x288 with 1 Axes>"
      ]
     },
     "metadata": {
      "needs_background": "light"
     },
     "output_type": "display_data"
    }
   ],
   "source": [
    "plt.bar(np.array(range(2)),res[0][0])\n",
    "plt.bar(np.array(range(2)), test_male_labels[1])\n",
    "plt.show()"
   ]
  },
  {
   "cell_type": "code",
   "execution_count": null,
   "id": "57473f3e",
   "metadata": {},
   "outputs": [],
   "source": []
  }
 ],
 "metadata": {
  "kernelspec": {
   "display_name": "Python 3 (ipykernel)",
   "language": "python",
   "name": "python3"
  },
  "language_info": {
   "codemirror_mode": {
    "name": "ipython",
    "version": 3
   },
   "file_extension": ".py",
   "mimetype": "text/x-python",
   "name": "python",
   "nbconvert_exporter": "python",
   "pygments_lexer": "ipython3",
   "version": "3.7.7"
  },
  "toc": {
   "base_numbering": 1,
   "nav_menu": {},
   "number_sections": true,
   "sideBar": true,
   "skip_h1_title": false,
   "title_cell": "Table of Contents",
   "title_sidebar": "Contents",
   "toc_cell": false,
   "toc_position": {},
   "toc_section_display": true,
   "toc_window_display": false
  }
 },
 "nbformat": 4,
 "nbformat_minor": 5
}
