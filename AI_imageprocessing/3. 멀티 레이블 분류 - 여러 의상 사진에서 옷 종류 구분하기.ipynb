{
 "cells": [
  {
   "cell_type": "code",
   "execution_count": 3,
   "id": "0d236d2b",
   "metadata": {},
   "outputs": [],
   "source": [
    "import tensorflow as tf\n",
    "from tensorflow import keras\n",
    "from tensorflow.keras.layers import Dense\n",
    "from tensorflow.keras.models import Sequential\n",
    "\n",
    "import pandas as pd\n",
    "import numpy as np\n",
    "import matplotlib.pyplot as plt\n",
    "import seaborn as sns\n",
    "import warnings\n",
    "from IPython.display import Image"
   ]
  },
  {
   "cell_type": "code",
   "execution_count": 5,
   "id": "fed44784",
   "metadata": {},
   "outputs": [],
   "source": [
    "SEED = 34"
   ]
  },
  {
   "cell_type": "markdown",
   "id": "135f472d",
   "metadata": {},
   "source": [
    "# 데이터 가져오기"
   ]
  },
  {
   "cell_type": "code",
   "execution_count": 26,
   "id": "dcd9f84d",
   "metadata": {},
   "outputs": [],
   "source": [
    "fashion_mnist = keras.datasets.fashion_mnist"
   ]
  },
  {
   "cell_type": "code",
   "execution_count": 27,
   "id": "64e73c05",
   "metadata": {},
   "outputs": [],
   "source": [
    "((train_images,train_labels),(test_images, test_labels)) = fashion_mnist.load_data()"
   ]
  },
  {
   "cell_type": "code",
   "execution_count": 28,
   "id": "435efd48",
   "metadata": {},
   "outputs": [
    {
     "name": "stdout",
     "output_type": "stream",
     "text": [
      "(60000, 28, 28) (60000,)\n",
      "(10000, 28, 28) (10000,)\n"
     ]
    }
   ],
   "source": [
    "print(train_images.shape, train_labels.shape)\n",
    "print(test_images.shape, test_labels.shape)"
   ]
  },
  {
   "cell_type": "code",
   "execution_count": 29,
   "id": "e25a40b9",
   "metadata": {},
   "outputs": [],
   "source": [
    "# 레이블을 설정\n",
    "labels = [\n",
    "          'T-shirt/top',    # index 0\n",
    "          'Trouser',        # index 1\n",
    "          'Pullover',       # index 2\n",
    "          'Dress',          # index 3\n",
    "          'Coat',           # index 4\n",
    "          'Sandal',         # index 5\n",
    "          'Shirt',          # index 6\n",
    "          \"Sneaker\",        # index 7\n",
    "          \"Bag\",            # index 8\n",
    "          \"Ankle boot\"      # index 9\n",
    "]\n",
    "\n",
    "def idx2label(idx):\n",
    "    return labels[idx]"
   ]
  },
  {
   "cell_type": "code",
   "execution_count": 30,
   "id": "71fc71e9",
   "metadata": {},
   "outputs": [
    {
     "data": {
      "image/png": "[encoded data removed]",
      "text/plain": [
       "<Figure size 432x288 with 1 Axes>"
      ]
     },
     "metadata": {
      "needs_background": "light"
     },
     "output_type": "display_data"
    },
    {
     "name": "stdout",
     "output_type": "stream",
     "text": [
      "Ankle boot\n"
     ]
    }
   ],
   "source": [
    "# 이미지 출력해보기\n",
    "plt.imshow(train_images[0], cmap = 'gray')\n",
    "plt.show()\n",
    "print(idx2label(test_labels[0]))"
   ]
  },
  {
   "cell_type": "code",
   "execution_count": 31,
   "id": "a9b7176d",
   "metadata": {},
   "outputs": [
    {
     "data": {
      "image/png": "[encoded data removed]",
      "text/plain": [
       "<Figure size 432x288 with 1 Axes>"
      ]
     },
     "metadata": {
      "needs_background": "light"
     },
     "output_type": "display_data"
    }
   ],
   "source": [
    "def show(idx):\n",
    "    plt.imshow(train_images[idx], cmap = 'gray')\n",
    "    plt.title(idx2label(train_labels[idx]))\n",
    "    plt.show()\n",
    "    \n",
    "show(12)"
   ]
  },
  {
   "cell_type": "code",
   "execution_count": 32,
   "id": "2f1f6243",
   "metadata": {},
   "outputs": [
    {
     "data": {
      "text/plain": [
       "1"
      ]
     },
     "execution_count": 32,
     "metadata": {},
     "output_type": "execute_result"
    }
   ],
   "source": [
    "train_images[train_images !=0][0]"
   ]
  },
  {
   "cell_type": "code",
   "execution_count": 33,
   "id": "0b63940d",
   "metadata": {},
   "outputs": [
    {
     "data": {
      "text/plain": [
       "dtype('uint8')"
      ]
     },
     "execution_count": 33,
     "metadata": {},
     "output_type": "execute_result"
    }
   ],
   "source": [
    "train_images.dtype"
   ]
  },
  {
   "cell_type": "markdown",
   "id": "25f9f039",
   "metadata": {},
   "source": [
    "# 전처리"
   ]
  },
  {
   "cell_type": "code",
   "execution_count": 34,
   "id": "934d7dd8",
   "metadata": {},
   "outputs": [
    {
     "name": "stdout",
     "output_type": "stream",
     "text": [
      "test_images.shape:(10000, 28, 28)\n",
      "test_images.dytpe:uint8\n",
      "[ 3  1  7 37  1]\n"
     ]
    }
   ],
   "source": [
    "print(f'test_images.shape:{test_images.shape}')\n",
    "print(f'test_images.dytpe:{test_images.dtype}')\n",
    "print(test_images[test_images!= 0][:5])"
   ]
  },
  {
   "cell_type": "code",
   "execution_count": 35,
   "id": "e5b07968",
   "metadata": {},
   "outputs": [
    {
     "name": "stdout",
     "output_type": "stream",
     "text": [
      "0 255\n",
      "0 9\n"
     ]
    }
   ],
   "source": [
    "# 이미지 데이터의 최소/최대값을 출력\n",
    "print(train_images.min(), train_images.max())\n",
    "print(train_labels.min(), train_labels.max())\n"
   ]
  },
  {
   "cell_type": "code",
   "execution_count": 36,
   "id": "43f1f99c",
   "metadata": {},
   "outputs": [
    {
     "name": "stdout",
     "output_type": "stream",
     "text": [
      "0.0 255.0\n"
     ]
    }
   ],
   "source": [
    "train_images = train_images.astype(np.float64)\n",
    "test_images = test_images.astype(np.float64)\n",
    "print(train_images.min(), train_images.max())"
   ]
  },
  {
   "cell_type": "markdown",
   "id": "9040ce37",
   "metadata": {},
   "source": [
    "## 데이터 노멀라이즈"
   ]
  },
  {
   "cell_type": "code",
   "execution_count": 37,
   "id": "4a78a6bb",
   "metadata": {},
   "outputs": [
    {
     "name": "stdout",
     "output_type": "stream",
     "text": [
      "0.0 1.0\n"
     ]
    }
   ],
   "source": [
    "train_images = train_images/255\n",
    "print(train_images.min(), train_images.max())"
   ]
  },
  {
   "cell_type": "code",
   "execution_count": 39,
   "id": "1618c78a",
   "metadata": {},
   "outputs": [],
   "source": [
    "def norm(data):\n",
    "    min_v = data.min()\n",
    "    max_v = data.max()\n",
    "    return (data-min_v) / (max_v - min_v)\n",
    "#train_images = norm(train_images)\n",
    "test_images = norm(test_images)"
   ]
  },
  {
   "cell_type": "code",
   "execution_count": 40,
   "id": "876708bb",
   "metadata": {},
   "outputs": [
    {
     "name": "stdout",
     "output_type": "stream",
     "text": [
      "0.0 1.0\n"
     ]
    }
   ],
   "source": [
    "print(test_images.min(), test_images.max())"
   ]
  },
  {
   "cell_type": "markdown",
   "id": "f439e8ee",
   "metadata": {},
   "source": [
    "# 시각화 하기"
   ]
  },
  {
   "cell_type": "code",
   "execution_count": 41,
   "id": "f7a17026",
   "metadata": {},
   "outputs": [
    {
     "name": "stdout",
     "output_type": "stream",
     "text": [
      "(5, 28, 28)\n"
     ]
    }
   ],
   "source": [
    "ex_train_image = train_images[:5]\n",
    "print(ex_train_image.shape)"
   ]
  },
  {
   "cell_type": "code",
   "execution_count": null,
   "id": "c1761ae6",
   "metadata": {},
   "outputs": [],
   "source": [
    "ex_train_image = ex_train_image.transpose((1,0,2)).reshape((28,-1))"
   ]
  },
  {
   "cell_type": "code",
   "execution_count": 47,
   "id": "690c472e",
   "metadata": {},
   "outputs": [
    {
     "data": {
      "text/plain": [
       "(28, 140)"
      ]
     },
     "execution_count": 47,
     "metadata": {},
     "output_type": "execute_result"
    }
   ],
   "source": [
    "ex_train_image.shape"
   ]
  },
  {
   "cell_type": "code",
   "execution_count": 48,
   "id": "375c70d8",
   "metadata": {},
   "outputs": [
    {
     "data": {
      "image/png": "[encoded data removed]",
      "text/plain": [
       "<Figure size 432x288 with 1 Axes>"
      ]
     },
     "metadata": {
      "needs_background": "light"
     },
     "output_type": "display_data"
    }
   ],
   "source": [
    "plt.imshow(ex_train_image,cmap = 'gray')\n",
    "plt.show()"
   ]
  },
  {
   "cell_type": "code",
   "execution_count": null,
   "id": "dc8a9c5f",
   "metadata": {},
   "outputs": [],
   "source": [
    "## 잘 모르겠는 부분"
   ]
  },
  {
   "cell_type": "code",
   "execution_count": null,
   "id": "b850e76d",
   "metadata": {},
   "outputs": [],
   "source": [
    "# 레이블에 따라 5개를 출력하는 함수를 만들어보세요.\n",
    "def filter(label, count = 5):\n",
    "    plt.imshow(train_images[ np.argwhere( train_labels == label ) [:count, ... , 0 ]].transpose((1, 0 , 2)).reshape((28, -1)))\n",
    "    plt.show()\n",
    "filter(0, 10)\n",
    "filter(1)"
   ]
  },
  {
   "cell_type": "code",
   "execution_count": 61,
   "id": "0529a3f5",
   "metadata": {},
   "outputs": [
    {
     "data": {
      "text/plain": [
       "(28, 28)"
      ]
     },
     "execution_count": 61,
     "metadata": {},
     "output_type": "execute_result"
    }
   ],
   "source": [
    "train_images[0].shape"
   ]
  },
  {
   "cell_type": "code",
   "execution_count": 75,
   "id": "a33e7e83",
   "metadata": {},
   "outputs": [
    {
     "data": {
      "image/png": "[encoded data removed]",
      "text/plain": [
       "<Figure size 432x288 with 1 Axes>"
      ]
     },
     "metadata": {
      "needs_background": "light"
     },
     "output_type": "display_data"
    }
   ],
   "source": [
    "# 이미지 한장의 크기를 4배로 확대하고 객체는 4분면 영역중 랜덤으로 1공간에 넣는 함수\n",
    "\n",
    "def expand_4times(img):\n",
    "    bg = np.zeros(img.shape) #이미지 하나의 사이즈만큼의 배열을 생성\n",
    "    idx = np.random.randint(0,4)  #인덱스값 하나 랜덤으로 설정\n",
    "    \n",
    "    slots = [bg,bg,bg,bg] # 이미지 크기를 배열로 다시 저장하고\n",
    "    slots[idx] = img  # 배열 중에 하나는 이미지를 넣어준다\n",
    "    \n",
    "    expanded = np.vstack([\n",
    "        np.hstack(slots[:2]), # 배열을 왼쪽에서 오른쪽으로 붙이기\n",
    "        np.hstack(slots[2:])   # vstack -> 위아래\n",
    "    ])\n",
    "    return expanded\n",
    "\n",
    "plt.imshow(expand_4times(train_images[0]))\n",
    "plt.show()"
   ]
  },
  {
   "cell_type": "code",
   "execution_count": 76,
   "id": "e032c633",
   "metadata": {},
   "outputs": [],
   "source": [
    "# 4배 이미지 변환 전체를 train/test 데이터에 실행\n",
    "\n",
    "train_expand_images = np.array([expand_4times(img) for img in train_images])\n",
    "test_expand_images = np.array([expand_4times(img) for img in test_images])"
   ]
  },
  {
   "cell_type": "code",
   "execution_count": 77,
   "id": "f5a68266",
   "metadata": {},
   "outputs": [
    {
     "data": {
      "text/plain": [
       "(60000, 56, 56)"
      ]
     },
     "execution_count": 77,
     "metadata": {},
     "output_type": "execute_result"
    }
   ],
   "source": [
    "train_expand_images.shape  # 이미지가 커진것을 확인할 수 있음"
   ]
  },
  {
   "cell_type": "code",
   "execution_count": 81,
   "id": "60b31443",
   "metadata": {},
   "outputs": [],
   "source": [
    "# 모델링\n",
    "from tensorflow.keras.layers import Input,Conv2D, MaxPool2D, Dense, Flatten, GlobalAvgPool2D, Dropout\n",
    "from tensorflow.keras.models import Model"
   ]
  },
  {
   "cell_type": "code",
   "execution_count": 82,
   "id": "1082289f",
   "metadata": {},
   "outputs": [],
   "source": [
    "def single_fashion_mnist_model():\n",
    "    inputs = Input((56,56,1))\n",
    "    x = Conv2D(16, 2, padding='same', activation='relu')(inputs)\n",
    "    x = MaxPool2D(2)(x)\n",
    "    x = Dropout(0.3)(x)\n",
    "\n",
    "    x = Conv2D(32, 2, padding='same', activation='relu')(x)\n",
    "    x = MaxPool2D(2)(x)\n",
    "    x = Dropout(0.3)(x)\n",
    "\n",
    "    x = Conv2D(64, 2, padding='same', activation='relu')(x)\n",
    "    x = MaxPool2D(2)(x)\n",
    "\n",
    "    x = Flatten()(x)\n",
    "    x = Dense(10, activation='softmax')(x)\n",
    "\n",
    "    return Model(inputs, x)"
   ]
  },
  {
   "cell_type": "code",
   "execution_count": 83,
   "id": "7c335169",
   "metadata": {},
   "outputs": [
    {
     "name": "stderr",
     "output_type": "stream",
     "text": [
      "2021-12-30 11:09:09.379009: I tensorflow/core/platform/cpu_feature_guard.cc:145] This TensorFlow binary is optimized with Intel(R) MKL-DNN to use the following CPU instructions in performance critical operations:  SSE4.1 SSE4.2\n",
      "To enable them in non-MKL-DNN operations, rebuild TensorFlow with the appropriate compiler flags.\n",
      "2021-12-30 11:09:09.381627: I tensorflow/core/common_runtime/process_util.cc:115] Creating new thread pool with default inter op setting: 8. Tune using inter_op_parallelism_threads for best performance.\n"
     ]
    },
    {
     "name": "stdout",
     "output_type": "stream",
     "text": [
      "Model: \"model\"\n",
      "_________________________________________________________________\n",
      "Layer (type)                 Output Shape              Param #   \n",
      "=================================================================\n",
      "input_1 (InputLayer)         [(None, 56, 56, 1)]       0         \n",
      "_________________________________________________________________\n",
      "conv2d (Conv2D)              (None, 56, 56, 16)        80        \n",
      "_________________________________________________________________\n",
      "max_pooling2d (MaxPooling2D) (None, 28, 28, 16)        0         \n",
      "_________________________________________________________________\n",
      "dropout (Dropout)            (None, 28, 28, 16)        0         \n",
      "_________________________________________________________________\n",
      "conv2d_1 (Conv2D)            (None, 28, 28, 32)        2080      \n",
      "_________________________________________________________________\n",
      "max_pooling2d_1 (MaxPooling2 (None, 14, 14, 32)        0         \n",
      "_________________________________________________________________\n",
      "dropout_1 (Dropout)          (None, 14, 14, 32)        0         \n",
      "_________________________________________________________________\n",
      "conv2d_2 (Conv2D)            (None, 14, 14, 64)        8256      \n",
      "_________________________________________________________________\n",
      "max_pooling2d_2 (MaxPooling2 (None, 7, 7, 64)          0         \n",
      "_________________________________________________________________\n",
      "flatten (Flatten)            (None, 3136)              0         \n",
      "_________________________________________________________________\n",
      "dense (Dense)                (None, 10)                31370     \n",
      "=================================================================\n",
      "Total params: 41,786\n",
      "Trainable params: 41,786\n",
      "Non-trainable params: 0\n",
      "_________________________________________________________________\n"
     ]
    }
   ],
   "source": [
    "single_model = single_fashion_mnist_model()\n",
    "single_model.summary()"
   ]
  },
  {
   "cell_type": "code",
   "execution_count": 85,
   "id": "e2f1b49b",
   "metadata": {},
   "outputs": [],
   "source": [
    "# 만든 모델에 loss는 categorical_crossentropy, optimizer는 adam 매트릭은 accuracy으로 설정하는 코드를 작성하세요.\n",
    "single_model.compile(loss='categorical_crossentropy', optimizer = 'adam', metrics=['acc'])"
   ]
  },
  {
   "cell_type": "code",
   "execution_count": 86,
   "id": "769b3ae6",
   "metadata": {},
   "outputs": [
    {
     "data": {
      "text/plain": [
       "(60000, 56, 56, 1)"
      ]
     },
     "execution_count": 86,
     "metadata": {},
     "output_type": "execute_result"
    }
   ],
   "source": [
    "# train_expand_images.shape # (60000, 56, 56)\n",
    "train_expand_images = train_expand_images.reshape((60000, 56, 56, 1))\n",
    "train_expand_images.shape \n"
   ]
  },
  {
   "cell_type": "code",
   "execution_count": 87,
   "id": "bb6ebc64",
   "metadata": {},
   "outputs": [
    {
     "name": "stdout",
     "output_type": "stream",
     "text": [
      "Train on 60000 samples, validate on 10000 samples\n",
      "Epoch 1/15\n",
      "60000/60000 [==============================] - 253s 4ms/sample - loss: 0.7309 - acc: 0.7281 - val_loss: 0.5388 - val_acc: 0.8065\n",
      "Epoch 2/15\n",
      "60000/60000 [==============================] - 264s 4ms/sample - loss: 0.5009 - acc: 0.8156 - val_loss: 0.4554 - val_acc: 0.8367\n",
      "Epoch 3/15\n",
      "60000/60000 [==============================] - 264s 4ms/sample - loss: 0.4453 - acc: 0.8364 - val_loss: 0.4106 - val_acc: 0.8536\n",
      "Epoch 4/15\n",
      "60000/60000 [==============================] - 268s 4ms/sample - loss: 0.4071 - acc: 0.8532 - val_loss: 0.3788 - val_acc: 0.8686\n",
      "Epoch 5/15\n",
      "60000/60000 [==============================] - 308s 5ms/sample - loss: 0.3801 - acc: 0.8626 - val_loss: 0.3620 - val_acc: 0.8726\n",
      "Epoch 6/15\n",
      "60000/60000 [==============================] - 331s 6ms/sample - loss: 0.3629 - acc: 0.8678 - val_loss: 0.3529 - val_acc: 0.8750\n",
      "Epoch 7/15\n",
      "60000/60000 [==============================] - 336s 6ms/sample - loss: 0.3491 - acc: 0.8734 - val_loss: 0.3446 - val_acc: 0.8753\n",
      "Epoch 8/15\n",
      "60000/60000 [==============================] - 337s 6ms/sample - loss: 0.3386 - acc: 0.8775 - val_loss: 0.3469 - val_acc: 0.8747\n",
      "Epoch 9/15\n",
      "60000/60000 [==============================] - 337s 6ms/sample - loss: 0.3286 - acc: 0.8791 - val_loss: 0.3248 - val_acc: 0.8854\n",
      "Epoch 10/15\n",
      "60000/60000 [==============================] - 334s 6ms/sample - loss: 0.3234 - acc: 0.8804 - val_loss: 0.3268 - val_acc: 0.8843\n",
      "Epoch 11/15\n",
      "60000/60000 [==============================] - 338s 6ms/sample - loss: 0.3152 - acc: 0.8849 - val_loss: 0.3231 - val_acc: 0.8832\n",
      "Epoch 12/15\n",
      "60000/60000 [==============================] - 338s 6ms/sample - loss: 0.3085 - acc: 0.8858 - val_loss: 0.3260 - val_acc: 0.8773\n",
      "Epoch 13/15\n",
      "60000/60000 [==============================] - 338s 6ms/sample - loss: 0.3041 - acc: 0.8882 - val_loss: 0.3254 - val_acc: 0.8837\n",
      "Epoch 14/15\n",
      "60000/60000 [==============================] - 345s 6ms/sample - loss: 0.2996 - acc: 0.8904 - val_loss: 0.3275 - val_acc: 0.8806\n",
      "Epoch 15/15\n",
      "60000/60000 [==============================] - 346s 6ms/sample - loss: 0.2948 - acc: 0.8921 - val_loss: 0.3062 - val_acc: 0.8901\n"
     ]
    }
   ],
   "source": [
    "# train_expand_images, train_labels을 학습시키고 15 epochs을 돌리고 그 진행 사항을 hist에 저장하는 코드를 작성하세요.\n",
    "hist = single_model.fit(train_expand_images, \n",
    "                         tf.keras.utils.to_categorical(train_labels, 10), \n",
    "                         validation_data = (\n",
    "                                test_expand_images.reshape((-1,56,56,1)), \n",
    "                                tf.keras.utils.to_categorical(test_labels, 10)),\n",
    "                         epochs = 15,\n",
    "                         verbose = 1\n",
    "                         )"
   ]
  },
  {
   "cell_type": "code",
   "execution_count": 88,
   "id": "32687a25",
   "metadata": {},
   "outputs": [
    {
     "data": {
      "image/png": "[encoded data removed]",
      "text/plain": [
       "<Figure size 432x288 with 1 Axes>"
      ]
     },
     "metadata": {
      "needs_background": "light"
     },
     "output_type": "display_data"
    }
   ],
   "source": [
    "# hist의 accuracy plt의 plot을 이용하여 출력하는 코드를 작성하세요.\n",
    "plt.plot(hist.history['acc'], label='acc')\n",
    "plt.plot(hist.history['loss'], label='loss')\n",
    "plt.plot(hist.history['val_acc'], label='val_acc')\n",
    "plt.plot(hist.history['val_loss'], label='val_loss')\n",
    "\n",
    "plt.legend(loc='upper right')\n",
    "plt.show()"
   ]
  },
  {
   "cell_type": "code",
   "execution_count": null,
   "id": "9d2ede62",
   "metadata": {},
   "outputs": [],
   "source": []
  }
 ],
 "metadata": {
  "kernelspec": {
   "display_name": "Python 3 (ipykernel)",
   "language": "python",
   "name": "python3"
  },
  "language_info": {
   "codemirror_mode": {
    "name": "ipython",
    "version": 3
   },
   "file_extension": ".py",
   "mimetype": "text/x-python",
   "name": "python",
   "nbconvert_exporter": "python",
   "pygments_lexer": "ipython3",
   "version": "3.7.7"
  },
  "toc": {
   "base_numbering": 1,
   "nav_menu": {},
   "number_sections": true,
   "sideBar": true,
   "skip_h1_title": false,
   "title_cell": "Table of Contents",
   "title_sidebar": "Contents",
   "toc_cell": false,
   "toc_position": {},
   "toc_section_display": true,
   "toc_window_display": false
  }
 },
 "nbformat": 4,
 "nbformat_minor": 5
}
